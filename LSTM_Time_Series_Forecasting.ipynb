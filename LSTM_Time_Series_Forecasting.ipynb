{
  "nbformat": 4,
  "nbformat_minor": 0,
  "metadata": {
    "colab": {
      "provenance": [],
      "include_colab_link": true
    },
    "kernelspec": {
      "name": "python3",
      "display_name": "Python 3"
    },
    "language_info": {
      "name": "python"
    }
  },
  "cells": [
    {
      "cell_type": "markdown",
      "metadata": {
        "id": "view-in-github",
        "colab_type": "text"
      },
      "source": [
        "<a href=\"https://colab.research.google.com/github/LittleStone650/Attention-based-Time-Series-Generation/blob/main/LSTM_Time_Series_Forecasting.ipynb\" target=\"_parent\"><img src=\"https://colab.research.google.com/assets/colab-badge.svg\" alt=\"Open In Colab\"/></a>"
      ]
    },
    {
      "cell_type": "code",
      "metadata": {
        "id": "EbrFD1vMR_qS"
      },
      "source": [
        "import tensorflow as tf\n",
        "import os\n",
        "import pandas as pd\n",
        "import numpy as np"
      ],
      "execution_count": 1,
      "outputs": []
    },
    {
      "cell_type": "code",
      "metadata": {
        "id": "1q73lN27SDPC",
        "colab": {
          "base_uri": "https://localhost:8080/"
        },
        "outputId": "16179422-47d1-4e3d-a583-e681550ecb83"
      },
      "source": [
        "zip_path = tf.keras.utils.get_file(\n",
        "    origin='https://storage.googleapis.com/tensorflow/tf-keras-datasets/jena_climate_2009_2016.csv.zip',\n",
        "    fname='jena_climate_2009_2016.csv.zip',\n",
        "    extract=True)\n",
        "csv_path, _ = os.path.splitext(zip_path)"
      ],
      "execution_count": 2,
      "outputs": [
        {
          "output_type": "stream",
          "name": "stdout",
          "text": [
            "Downloading data from https://storage.googleapis.com/tensorflow/tf-keras-datasets/jena_climate_2009_2016.csv.zip\n",
            "13568290/13568290 [==============================] - 0s 0us/step\n"
          ]
        }
      ]
    },
    {
      "cell_type": "code",
      "metadata": {
        "colab": {
          "base_uri": "https://localhost:8080/"
        },
        "id": "RRVN-4QOSKAx",
        "outputId": "a18fec77-46b8-4d89-bb87-df43cfb401b1"
      },
      "source": [
        "alldf = pd.read_csv(csv_path)\n"
      ],
      "execution_count": 4,
      "outputs": [
        {
          "output_type": "execute_result",
          "data": {
            "text/plain": [
              "<function all(iterable, /)>"
            ]
          },
          "metadata": {},
          "execution_count": 4
        }
      ]
    },
    {
      "cell_type": "code",
      "metadata": {
        "colab": {
          "base_uri": "https://localhost:8080/",
          "height": 643
        },
        "id": "FDJTiftYSPGj",
        "outputId": "2312c1eb-bcd8-44f2-a81c-e1e71478c9a1"
      },
      "source": [
        "df = alldf[5::6]\n",
        "df"
      ],
      "execution_count": 5,
      "outputs": [
        {
          "output_type": "execute_result",
          "data": {
            "text/plain": [
              "                  Date Time  p (mbar)  T (degC)  Tpot (K)  Tdew (degC)  \\\n",
              "5       01.01.2009 01:00:00    996.50     -8.05    265.38        -8.78   \n",
              "11      01.01.2009 02:00:00    996.62     -8.88    264.54        -9.77   \n",
              "17      01.01.2009 03:00:00    996.84     -8.81    264.59        -9.66   \n",
              "23      01.01.2009 04:00:00    996.99     -9.05    264.34       -10.02   \n",
              "29      01.01.2009 05:00:00    997.46     -9.63    263.72       -10.65   \n",
              "...                     ...       ...       ...       ...          ...   \n",
              "420521  31.12.2016 19:10:00   1002.18     -0.98    272.01        -5.36   \n",
              "420527  31.12.2016 20:10:00   1001.40     -1.40    271.66        -6.84   \n",
              "420533  31.12.2016 21:10:00   1001.19     -2.75    270.32        -6.90   \n",
              "420539  31.12.2016 22:10:00   1000.65     -2.89    270.22        -7.15   \n",
              "420545  31.12.2016 23:10:00   1000.11     -3.93    269.23        -8.09   \n",
              "\n",
              "        rh (%)  VPmax (mbar)  VPact (mbar)  VPdef (mbar)  sh (g/kg)  \\\n",
              "5        94.40          3.33          3.14          0.19       1.96   \n",
              "11       93.20          3.12          2.90          0.21       1.81   \n",
              "17       93.50          3.13          2.93          0.20       1.83   \n",
              "23       92.60          3.07          2.85          0.23       1.78   \n",
              "29       92.20          2.94          2.71          0.23       1.69   \n",
              "...        ...           ...           ...           ...        ...   \n",
              "420521   72.00          5.69          4.09          1.59       2.54   \n",
              "420527   66.29          5.51          3.65          1.86       2.27   \n",
              "420533   72.90          4.99          3.64          1.35       2.26   \n",
              "420539   72.30          4.93          3.57          1.37       2.22   \n",
              "420545   72.60          4.56          3.31          1.25       2.06   \n",
              "\n",
              "        H2OC (mmol/mol)  rho (g/m**3)  wv (m/s)  max. wv (m/s)  wd (deg)  \n",
              "5                  3.15       1307.86      0.21           0.63     192.7  \n",
              "11                 2.91       1312.25      0.25           0.63     190.3  \n",
              "17                 2.94       1312.18      0.18           0.63     167.2  \n",
              "23                 2.85       1313.61      0.10           0.38     240.0  \n",
              "29                 2.71       1317.19      0.40           0.88     157.0  \n",
              "...                 ...           ...       ...            ...       ...  \n",
              "420521             4.08       1280.70      0.87           1.36     190.6  \n",
              "420527             3.65       1281.87      1.02           1.92     225.4  \n",
              "420533             3.63       1288.02      0.71           1.56     158.7  \n",
              "420539             3.57       1288.03      0.35           0.68     216.7  \n",
              "420545             3.31       1292.41      0.56           1.00     202.6  \n",
              "\n",
              "[70091 rows x 15 columns]"
            ],
            "text/html": [
              "\n",
              "  <div id=\"df-55a03c2d-f62a-42b7-94a9-1e34f6f42cfe\" class=\"colab-df-container\">\n",
              "    <div>\n",
              "<style scoped>\n",
              "    .dataframe tbody tr th:only-of-type {\n",
              "        vertical-align: middle;\n",
              "    }\n",
              "\n",
              "    .dataframe tbody tr th {\n",
              "        vertical-align: top;\n",
              "    }\n",
              "\n",
              "    .dataframe thead th {\n",
              "        text-align: right;\n",
              "    }\n",
              "</style>\n",
              "<table border=\"1\" class=\"dataframe\">\n",
              "  <thead>\n",
              "    <tr style=\"text-align: right;\">\n",
              "      <th></th>\n",
              "      <th>Date Time</th>\n",
              "      <th>p (mbar)</th>\n",
              "      <th>T (degC)</th>\n",
              "      <th>Tpot (K)</th>\n",
              "      <th>Tdew (degC)</th>\n",
              "      <th>rh (%)</th>\n",
              "      <th>VPmax (mbar)</th>\n",
              "      <th>VPact (mbar)</th>\n",
              "      <th>VPdef (mbar)</th>\n",
              "      <th>sh (g/kg)</th>\n",
              "      <th>H2OC (mmol/mol)</th>\n",
              "      <th>rho (g/m**3)</th>\n",
              "      <th>wv (m/s)</th>\n",
              "      <th>max. wv (m/s)</th>\n",
              "      <th>wd (deg)</th>\n",
              "    </tr>\n",
              "  </thead>\n",
              "  <tbody>\n",
              "    <tr>\n",
              "      <th>5</th>\n",
              "      <td>01.01.2009 01:00:00</td>\n",
              "      <td>996.50</td>\n",
              "      <td>-8.05</td>\n",
              "      <td>265.38</td>\n",
              "      <td>-8.78</td>\n",
              "      <td>94.40</td>\n",
              "      <td>3.33</td>\n",
              "      <td>3.14</td>\n",
              "      <td>0.19</td>\n",
              "      <td>1.96</td>\n",
              "      <td>3.15</td>\n",
              "      <td>1307.86</td>\n",
              "      <td>0.21</td>\n",
              "      <td>0.63</td>\n",
              "      <td>192.7</td>\n",
              "    </tr>\n",
              "    <tr>\n",
              "      <th>11</th>\n",
              "      <td>01.01.2009 02:00:00</td>\n",
              "      <td>996.62</td>\n",
              "      <td>-8.88</td>\n",
              "      <td>264.54</td>\n",
              "      <td>-9.77</td>\n",
              "      <td>93.20</td>\n",
              "      <td>3.12</td>\n",
              "      <td>2.90</td>\n",
              "      <td>0.21</td>\n",
              "      <td>1.81</td>\n",
              "      <td>2.91</td>\n",
              "      <td>1312.25</td>\n",
              "      <td>0.25</td>\n",
              "      <td>0.63</td>\n",
              "      <td>190.3</td>\n",
              "    </tr>\n",
              "    <tr>\n",
              "      <th>17</th>\n",
              "      <td>01.01.2009 03:00:00</td>\n",
              "      <td>996.84</td>\n",
              "      <td>-8.81</td>\n",
              "      <td>264.59</td>\n",
              "      <td>-9.66</td>\n",
              "      <td>93.50</td>\n",
              "      <td>3.13</td>\n",
              "      <td>2.93</td>\n",
              "      <td>0.20</td>\n",
              "      <td>1.83</td>\n",
              "      <td>2.94</td>\n",
              "      <td>1312.18</td>\n",
              "      <td>0.18</td>\n",
              "      <td>0.63</td>\n",
              "      <td>167.2</td>\n",
              "    </tr>\n",
              "    <tr>\n",
              "      <th>23</th>\n",
              "      <td>01.01.2009 04:00:00</td>\n",
              "      <td>996.99</td>\n",
              "      <td>-9.05</td>\n",
              "      <td>264.34</td>\n",
              "      <td>-10.02</td>\n",
              "      <td>92.60</td>\n",
              "      <td>3.07</td>\n",
              "      <td>2.85</td>\n",
              "      <td>0.23</td>\n",
              "      <td>1.78</td>\n",
              "      <td>2.85</td>\n",
              "      <td>1313.61</td>\n",
              "      <td>0.10</td>\n",
              "      <td>0.38</td>\n",
              "      <td>240.0</td>\n",
              "    </tr>\n",
              "    <tr>\n",
              "      <th>29</th>\n",
              "      <td>01.01.2009 05:00:00</td>\n",
              "      <td>997.46</td>\n",
              "      <td>-9.63</td>\n",
              "      <td>263.72</td>\n",
              "      <td>-10.65</td>\n",
              "      <td>92.20</td>\n",
              "      <td>2.94</td>\n",
              "      <td>2.71</td>\n",
              "      <td>0.23</td>\n",
              "      <td>1.69</td>\n",
              "      <td>2.71</td>\n",
              "      <td>1317.19</td>\n",
              "      <td>0.40</td>\n",
              "      <td>0.88</td>\n",
              "      <td>157.0</td>\n",
              "    </tr>\n",
              "    <tr>\n",
              "      <th>...</th>\n",
              "      <td>...</td>\n",
              "      <td>...</td>\n",
              "      <td>...</td>\n",
              "      <td>...</td>\n",
              "      <td>...</td>\n",
              "      <td>...</td>\n",
              "      <td>...</td>\n",
              "      <td>...</td>\n",
              "      <td>...</td>\n",
              "      <td>...</td>\n",
              "      <td>...</td>\n",
              "      <td>...</td>\n",
              "      <td>...</td>\n",
              "      <td>...</td>\n",
              "      <td>...</td>\n",
              "    </tr>\n",
              "    <tr>\n",
              "      <th>420521</th>\n",
              "      <td>31.12.2016 19:10:00</td>\n",
              "      <td>1002.18</td>\n",
              "      <td>-0.98</td>\n",
              "      <td>272.01</td>\n",
              "      <td>-5.36</td>\n",
              "      <td>72.00</td>\n",
              "      <td>5.69</td>\n",
              "      <td>4.09</td>\n",
              "      <td>1.59</td>\n",
              "      <td>2.54</td>\n",
              "      <td>4.08</td>\n",
              "      <td>1280.70</td>\n",
              "      <td>0.87</td>\n",
              "      <td>1.36</td>\n",
              "      <td>190.6</td>\n",
              "    </tr>\n",
              "    <tr>\n",
              "      <th>420527</th>\n",
              "      <td>31.12.2016 20:10:00</td>\n",
              "      <td>1001.40</td>\n",
              "      <td>-1.40</td>\n",
              "      <td>271.66</td>\n",
              "      <td>-6.84</td>\n",
              "      <td>66.29</td>\n",
              "      <td>5.51</td>\n",
              "      <td>3.65</td>\n",
              "      <td>1.86</td>\n",
              "      <td>2.27</td>\n",
              "      <td>3.65</td>\n",
              "      <td>1281.87</td>\n",
              "      <td>1.02</td>\n",
              "      <td>1.92</td>\n",
              "      <td>225.4</td>\n",
              "    </tr>\n",
              "    <tr>\n",
              "      <th>420533</th>\n",
              "      <td>31.12.2016 21:10:00</td>\n",
              "      <td>1001.19</td>\n",
              "      <td>-2.75</td>\n",
              "      <td>270.32</td>\n",
              "      <td>-6.90</td>\n",
              "      <td>72.90</td>\n",
              "      <td>4.99</td>\n",
              "      <td>3.64</td>\n",
              "      <td>1.35</td>\n",
              "      <td>2.26</td>\n",
              "      <td>3.63</td>\n",
              "      <td>1288.02</td>\n",
              "      <td>0.71</td>\n",
              "      <td>1.56</td>\n",
              "      <td>158.7</td>\n",
              "    </tr>\n",
              "    <tr>\n",
              "      <th>420539</th>\n",
              "      <td>31.12.2016 22:10:00</td>\n",
              "      <td>1000.65</td>\n",
              "      <td>-2.89</td>\n",
              "      <td>270.22</td>\n",
              "      <td>-7.15</td>\n",
              "      <td>72.30</td>\n",
              "      <td>4.93</td>\n",
              "      <td>3.57</td>\n",
              "      <td>1.37</td>\n",
              "      <td>2.22</td>\n",
              "      <td>3.57</td>\n",
              "      <td>1288.03</td>\n",
              "      <td>0.35</td>\n",
              "      <td>0.68</td>\n",
              "      <td>216.7</td>\n",
              "    </tr>\n",
              "    <tr>\n",
              "      <th>420545</th>\n",
              "      <td>31.12.2016 23:10:00</td>\n",
              "      <td>1000.11</td>\n",
              "      <td>-3.93</td>\n",
              "      <td>269.23</td>\n",
              "      <td>-8.09</td>\n",
              "      <td>72.60</td>\n",
              "      <td>4.56</td>\n",
              "      <td>3.31</td>\n",
              "      <td>1.25</td>\n",
              "      <td>2.06</td>\n",
              "      <td>3.31</td>\n",
              "      <td>1292.41</td>\n",
              "      <td>0.56</td>\n",
              "      <td>1.00</td>\n",
              "      <td>202.6</td>\n",
              "    </tr>\n",
              "  </tbody>\n",
              "</table>\n",
              "<p>70091 rows × 15 columns</p>\n",
              "</div>\n",
              "    <div class=\"colab-df-buttons\">\n",
              "\n",
              "  <div class=\"colab-df-container\">\n",
              "    <button class=\"colab-df-convert\" onclick=\"convertToInteractive('df-55a03c2d-f62a-42b7-94a9-1e34f6f42cfe')\"\n",
              "            title=\"Convert this dataframe to an interactive table.\"\n",
              "            style=\"display:none;\">\n",
              "\n",
              "  <svg xmlns=\"http://www.w3.org/2000/svg\" height=\"24px\" viewBox=\"0 -960 960 960\">\n",
              "    <path d=\"M120-120v-720h720v720H120Zm60-500h600v-160H180v160Zm220 220h160v-160H400v160Zm0 220h160v-160H400v160ZM180-400h160v-160H180v160Zm440 0h160v-160H620v160ZM180-180h160v-160H180v160Zm440 0h160v-160H620v160Z\"/>\n",
              "  </svg>\n",
              "    </button>\n",
              "\n",
              "  <style>\n",
              "    .colab-df-container {\n",
              "      display:flex;\n",
              "      gap: 12px;\n",
              "    }\n",
              "\n",
              "    .colab-df-convert {\n",
              "      background-color: #E8F0FE;\n",
              "      border: none;\n",
              "      border-radius: 50%;\n",
              "      cursor: pointer;\n",
              "      display: none;\n",
              "      fill: #1967D2;\n",
              "      height: 32px;\n",
              "      padding: 0 0 0 0;\n",
              "      width: 32px;\n",
              "    }\n",
              "\n",
              "    .colab-df-convert:hover {\n",
              "      background-color: #E2EBFA;\n",
              "      box-shadow: 0px 1px 2px rgba(60, 64, 67, 0.3), 0px 1px 3px 1px rgba(60, 64, 67, 0.15);\n",
              "      fill: #174EA6;\n",
              "    }\n",
              "\n",
              "    .colab-df-buttons div {\n",
              "      margin-bottom: 4px;\n",
              "    }\n",
              "\n",
              "    [theme=dark] .colab-df-convert {\n",
              "      background-color: #3B4455;\n",
              "      fill: #D2E3FC;\n",
              "    }\n",
              "\n",
              "    [theme=dark] .colab-df-convert:hover {\n",
              "      background-color: #434B5C;\n",
              "      box-shadow: 0px 1px 3px 1px rgba(0, 0, 0, 0.15);\n",
              "      filter: drop-shadow(0px 1px 2px rgba(0, 0, 0, 0.3));\n",
              "      fill: #FFFFFF;\n",
              "    }\n",
              "  </style>\n",
              "\n",
              "    <script>\n",
              "      const buttonEl =\n",
              "        document.querySelector('#df-55a03c2d-f62a-42b7-94a9-1e34f6f42cfe button.colab-df-convert');\n",
              "      buttonEl.style.display =\n",
              "        google.colab.kernel.accessAllowed ? 'block' : 'none';\n",
              "\n",
              "      async function convertToInteractive(key) {\n",
              "        const element = document.querySelector('#df-55a03c2d-f62a-42b7-94a9-1e34f6f42cfe');\n",
              "        const dataTable =\n",
              "          await google.colab.kernel.invokeFunction('convertToInteractive',\n",
              "                                                    [key], {});\n",
              "        if (!dataTable) return;\n",
              "\n",
              "        const docLinkHtml = 'Like what you see? Visit the ' +\n",
              "          '<a target=\"_blank\" href=https://colab.research.google.com/notebooks/data_table.ipynb>data table notebook</a>'\n",
              "          + ' to learn more about interactive tables.';\n",
              "        element.innerHTML = '';\n",
              "        dataTable['output_type'] = 'display_data';\n",
              "        await google.colab.output.renderOutput(dataTable, element);\n",
              "        const docLink = document.createElement('div');\n",
              "        docLink.innerHTML = docLinkHtml;\n",
              "        element.appendChild(docLink);\n",
              "      }\n",
              "    </script>\n",
              "  </div>\n",
              "\n",
              "\n",
              "<div id=\"df-c33644b9-cb95-4330-ad3b-6004f49ab834\">\n",
              "  <button class=\"colab-df-quickchart\" onclick=\"quickchart('df-c33644b9-cb95-4330-ad3b-6004f49ab834')\"\n",
              "            title=\"Suggest charts.\"\n",
              "            style=\"display:none;\">\n",
              "\n",
              "<svg xmlns=\"http://www.w3.org/2000/svg\" height=\"24px\"viewBox=\"0 0 24 24\"\n",
              "     width=\"24px\">\n",
              "    <g>\n",
              "        <path d=\"M19 3H5c-1.1 0-2 .9-2 2v14c0 1.1.9 2 2 2h14c1.1 0 2-.9 2-2V5c0-1.1-.9-2-2-2zM9 17H7v-7h2v7zm4 0h-2V7h2v10zm4 0h-2v-4h2v4z\"/>\n",
              "    </g>\n",
              "</svg>\n",
              "  </button>\n",
              "\n",
              "<style>\n",
              "  .colab-df-quickchart {\n",
              "      --bg-color: #E8F0FE;\n",
              "      --fill-color: #1967D2;\n",
              "      --hover-bg-color: #E2EBFA;\n",
              "      --hover-fill-color: #174EA6;\n",
              "      --disabled-fill-color: #AAA;\n",
              "      --disabled-bg-color: #DDD;\n",
              "  }\n",
              "\n",
              "  [theme=dark] .colab-df-quickchart {\n",
              "      --bg-color: #3B4455;\n",
              "      --fill-color: #D2E3FC;\n",
              "      --hover-bg-color: #434B5C;\n",
              "      --hover-fill-color: #FFFFFF;\n",
              "      --disabled-bg-color: #3B4455;\n",
              "      --disabled-fill-color: #666;\n",
              "  }\n",
              "\n",
              "  .colab-df-quickchart {\n",
              "    background-color: var(--bg-color);\n",
              "    border: none;\n",
              "    border-radius: 50%;\n",
              "    cursor: pointer;\n",
              "    display: none;\n",
              "    fill: var(--fill-color);\n",
              "    height: 32px;\n",
              "    padding: 0;\n",
              "    width: 32px;\n",
              "  }\n",
              "\n",
              "  .colab-df-quickchart:hover {\n",
              "    background-color: var(--hover-bg-color);\n",
              "    box-shadow: 0 1px 2px rgba(60, 64, 67, 0.3), 0 1px 3px 1px rgba(60, 64, 67, 0.15);\n",
              "    fill: var(--button-hover-fill-color);\n",
              "  }\n",
              "\n",
              "  .colab-df-quickchart-complete:disabled,\n",
              "  .colab-df-quickchart-complete:disabled:hover {\n",
              "    background-color: var(--disabled-bg-color);\n",
              "    fill: var(--disabled-fill-color);\n",
              "    box-shadow: none;\n",
              "  }\n",
              "\n",
              "  .colab-df-spinner {\n",
              "    border: 2px solid var(--fill-color);\n",
              "    border-color: transparent;\n",
              "    border-bottom-color: var(--fill-color);\n",
              "    animation:\n",
              "      spin 1s steps(1) infinite;\n",
              "  }\n",
              "\n",
              "  @keyframes spin {\n",
              "    0% {\n",
              "      border-color: transparent;\n",
              "      border-bottom-color: var(--fill-color);\n",
              "      border-left-color: var(--fill-color);\n",
              "    }\n",
              "    20% {\n",
              "      border-color: transparent;\n",
              "      border-left-color: var(--fill-color);\n",
              "      border-top-color: var(--fill-color);\n",
              "    }\n",
              "    30% {\n",
              "      border-color: transparent;\n",
              "      border-left-color: var(--fill-color);\n",
              "      border-top-color: var(--fill-color);\n",
              "      border-right-color: var(--fill-color);\n",
              "    }\n",
              "    40% {\n",
              "      border-color: transparent;\n",
              "      border-right-color: var(--fill-color);\n",
              "      border-top-color: var(--fill-color);\n",
              "    }\n",
              "    60% {\n",
              "      border-color: transparent;\n",
              "      border-right-color: var(--fill-color);\n",
              "    }\n",
              "    80% {\n",
              "      border-color: transparent;\n",
              "      border-right-color: var(--fill-color);\n",
              "      border-bottom-color: var(--fill-color);\n",
              "    }\n",
              "    90% {\n",
              "      border-color: transparent;\n",
              "      border-bottom-color: var(--fill-color);\n",
              "    }\n",
              "  }\n",
              "</style>\n",
              "\n",
              "  <script>\n",
              "    async function quickchart(key) {\n",
              "      const quickchartButtonEl =\n",
              "        document.querySelector('#' + key + ' button');\n",
              "      quickchartButtonEl.disabled = true;  // To prevent multiple clicks.\n",
              "      quickchartButtonEl.classList.add('colab-df-spinner');\n",
              "      try {\n",
              "        const charts = await google.colab.kernel.invokeFunction(\n",
              "            'suggestCharts', [key], {});\n",
              "      } catch (error) {\n",
              "        console.error('Error during call to suggestCharts:', error);\n",
              "      }\n",
              "      quickchartButtonEl.classList.remove('colab-df-spinner');\n",
              "      quickchartButtonEl.classList.add('colab-df-quickchart-complete');\n",
              "    }\n",
              "    (() => {\n",
              "      let quickchartButtonEl =\n",
              "        document.querySelector('#df-c33644b9-cb95-4330-ad3b-6004f49ab834 button');\n",
              "      quickchartButtonEl.style.display =\n",
              "        google.colab.kernel.accessAllowed ? 'block' : 'none';\n",
              "    })();\n",
              "  </script>\n",
              "</div>\n",
              "    </div>\n",
              "  </div>\n"
            ]
          },
          "metadata": {},
          "execution_count": 5
        }
      ]
    },
    {
      "cell_type": "code",
      "metadata": {
        "colab": {
          "base_uri": "https://localhost:8080/",
          "height": 1000
        },
        "id": "C1MZOKB3Sg0X",
        "outputId": "de86a133-c73a-405a-cf0b-c9195798c977"
      },
      "source": [
        "df.index = pd.to_datetime(df['Date Time'], format='%d.%m.%Y %H:%M:%S')\n",
        "df[:26]"
      ],
      "execution_count": 6,
      "outputs": [
        {
          "output_type": "execute_result",
          "data": {
            "text/plain": [
              "                               Date Time  p (mbar)  T (degC)  Tpot (K)  \\\n",
              "Date Time                                                                \n",
              "2009-01-01 01:00:00  01.01.2009 01:00:00    996.50     -8.05    265.38   \n",
              "2009-01-01 02:00:00  01.01.2009 02:00:00    996.62     -8.88    264.54   \n",
              "2009-01-01 03:00:00  01.01.2009 03:00:00    996.84     -8.81    264.59   \n",
              "2009-01-01 04:00:00  01.01.2009 04:00:00    996.99     -9.05    264.34   \n",
              "2009-01-01 05:00:00  01.01.2009 05:00:00    997.46     -9.63    263.72   \n",
              "2009-01-01 06:00:00  01.01.2009 06:00:00    997.71     -9.67    263.66   \n",
              "2009-01-01 07:00:00  01.01.2009 07:00:00    998.33     -9.17    264.12   \n",
              "2009-01-01 08:00:00  01.01.2009 08:00:00    999.17     -8.10    265.12   \n",
              "2009-01-01 09:00:00  01.01.2009 09:00:00    999.69     -7.66    265.52   \n",
              "2009-01-01 10:00:00  01.01.2009 10:00:00   1000.27     -7.04    266.10   \n",
              "2009-01-01 11:00:00  01.01.2009 11:00:00   1000.87     -7.41    265.68   \n",
              "2009-01-01 12:00:00  01.01.2009 12:00:00   1000.30     -6.87    266.27   \n",
              "2009-01-01 13:00:00  01.01.2009 13:00:00   1000.03     -5.89    267.27   \n",
              "2009-01-01 14:00:00  01.01.2009 14:00:00    999.81     -5.94    267.24   \n",
              "2009-01-01 15:00:00  01.01.2009 15:00:00    999.88     -5.69    267.48   \n",
              "2009-01-01 16:00:00  01.01.2009 16:00:00    999.94     -5.40    267.76   \n",
              "2009-01-01 17:00:00  01.01.2009 17:00:00   1000.17     -5.37    267.78   \n",
              "2009-01-01 18:00:00  01.01.2009 18:00:00   1000.16     -5.25    267.90   \n",
              "2009-01-01 19:00:00  01.01.2009 19:00:00   1000.22     -5.11    268.03   \n",
              "2009-01-01 20:00:00  01.01.2009 20:00:00   1000.22     -4.90    268.24   \n",
              "2009-01-01 21:00:00  01.01.2009 21:00:00   1000.19     -4.80    268.35   \n",
              "2009-01-01 22:00:00  01.01.2009 22:00:00   1000.00     -4.50    268.66   \n",
              "2009-01-01 23:00:00  01.01.2009 23:00:00    999.77     -4.47    268.71   \n",
              "2009-01-02 00:00:00  02.01.2009 00:00:00    999.59     -4.54    268.65   \n",
              "2009-01-02 01:00:00  02.01.2009 01:00:00    999.34     -4.44    268.77   \n",
              "2009-01-02 02:00:00  02.01.2009 02:00:00    998.93     -4.29    268.95   \n",
              "\n",
              "                     Tdew (degC)  rh (%)  VPmax (mbar)  VPact (mbar)  \\\n",
              "Date Time                                                              \n",
              "2009-01-01 01:00:00        -8.78    94.4          3.33          3.14   \n",
              "2009-01-01 02:00:00        -9.77    93.2          3.12          2.90   \n",
              "2009-01-01 03:00:00        -9.66    93.5          3.13          2.93   \n",
              "2009-01-01 04:00:00       -10.02    92.6          3.07          2.85   \n",
              "2009-01-01 05:00:00       -10.65    92.2          2.94          2.71   \n",
              "2009-01-01 06:00:00       -10.62    92.7          2.93          2.71   \n",
              "2009-01-01 07:00:00       -10.10    92.9          3.04          2.83   \n",
              "2009-01-01 08:00:00        -9.05    92.8          3.31          3.07   \n",
              "2009-01-01 09:00:00        -8.84    91.2          3.43          3.13   \n",
              "2009-01-01 10:00:00        -8.17    91.6          3.60          3.30   \n",
              "2009-01-01 11:00:00        -8.66    90.7          3.50          3.17   \n",
              "2009-01-01 12:00:00        -8.28    89.6          3.64          3.27   \n",
              "2009-01-01 13:00:00        -7.46    88.6          3.93          3.48   \n",
              "2009-01-01 14:00:00        -7.43    89.1          3.92          3.49   \n",
              "2009-01-01 15:00:00        -7.00    90.4          3.99          3.61   \n",
              "2009-01-01 16:00:00        -6.86    89.4          4.08          3.65   \n",
              "2009-01-01 17:00:00        -6.82    89.4          4.09          3.66   \n",
              "2009-01-01 18:00:00        -6.75    89.1          4.13          3.68   \n",
              "2009-01-01 19:00:00        -6.57    89.4          4.17          3.73   \n",
              "2009-01-01 20:00:00        -6.38    89.3          4.24          3.79   \n",
              "2009-01-01 21:00:00        -6.14    90.2          4.27          3.85   \n",
              "2009-01-01 22:00:00        -5.82    90.4          4.37          3.95   \n",
              "2009-01-01 23:00:00        -5.84    90.1          4.38          3.95   \n",
              "2009-01-02 00:00:00        -5.46    93.2          4.36          4.06   \n",
              "2009-01-02 01:00:00        -5.19    94.4          4.39          4.15   \n",
              "2009-01-02 02:00:00        -5.04    94.5          4.44          4.20   \n",
              "\n",
              "                     VPdef (mbar)  sh (g/kg)  H2OC (mmol/mol)  rho (g/m**3)  \\\n",
              "Date Time                                                                     \n",
              "2009-01-01 01:00:00          0.19       1.96             3.15       1307.86   \n",
              "2009-01-01 02:00:00          0.21       1.81             2.91       1312.25   \n",
              "2009-01-01 03:00:00          0.20       1.83             2.94       1312.18   \n",
              "2009-01-01 04:00:00          0.23       1.78             2.85       1313.61   \n",
              "2009-01-01 05:00:00          0.23       1.69             2.71       1317.19   \n",
              "2009-01-01 06:00:00          0.21       1.69             2.72       1317.71   \n",
              "2009-01-01 07:00:00          0.22       1.76             2.83       1315.98   \n",
              "2009-01-01 08:00:00          0.24       1.92             3.08       1311.65   \n",
              "2009-01-01 09:00:00          0.30       1.95             3.13       1310.14   \n",
              "2009-01-01 10:00:00          0.30       2.05             3.29       1307.76   \n",
              "2009-01-01 11:00:00          0.33       1.97             3.17       1310.43   \n",
              "2009-01-01 12:00:00          0.38       2.03             3.26       1306.98   \n",
              "2009-01-01 13:00:00          0.45       2.17             3.48       1301.73   \n",
              "2009-01-01 14:00:00          0.43       2.17             3.49       1301.67   \n",
              "2009-01-01 15:00:00          0.38       2.25             3.61       1300.51   \n",
              "2009-01-01 16:00:00          0.43       2.27             3.65       1299.17   \n",
              "2009-01-01 17:00:00          0.43       2.28             3.66       1299.27   \n",
              "2009-01-01 18:00:00          0.45       2.29             3.68       1298.68   \n",
              "2009-01-01 19:00:00          0.44       2.32             3.73       1298.07   \n",
              "2009-01-01 20:00:00          0.45       2.36             3.78       1297.05   \n",
              "2009-01-01 21:00:00          0.42       2.40             3.85       1296.45   \n",
              "2009-01-01 22:00:00          0.42       2.46             3.95       1294.72   \n",
              "2009-01-01 23:00:00          0.43       2.46             3.95       1294.29   \n",
              "2009-01-02 00:00:00          0.30       2.53             4.06       1294.33   \n",
              "2009-01-02 01:00:00          0.25       2.58             4.15       1293.47   \n",
              "2009-01-02 02:00:00          0.24       2.62             4.20       1292.22   \n",
              "\n",
              "                     wv (m/s)  max. wv (m/s)  wd (deg)  \n",
              "Date Time                                               \n",
              "2009-01-01 01:00:00      0.21           0.63     192.7  \n",
              "2009-01-01 02:00:00      0.25           0.63     190.3  \n",
              "2009-01-01 03:00:00      0.18           0.63     167.2  \n",
              "2009-01-01 04:00:00      0.10           0.38     240.0  \n",
              "2009-01-01 05:00:00      0.40           0.88     157.0  \n",
              "2009-01-01 06:00:00      0.05           0.50     146.0  \n",
              "2009-01-01 07:00:00      2.08           2.88     348.8  \n",
              "2009-01-01 08:00:00      0.72           1.25     213.9  \n",
              "2009-01-01 09:00:00      0.34           0.63     202.2  \n",
              "2009-01-01 10:00:00      1.45           3.00     292.6  \n",
              "2009-01-01 11:00:00      1.91           3.38     269.6  \n",
              "2009-01-01 12:00:00      1.84           2.63     184.4  \n",
              "2009-01-01 13:00:00      0.57           1.25     187.3  \n",
              "2009-01-01 14:00:00      1.25           2.00     144.0  \n",
              "2009-01-01 15:00:00      1.17           1.88     134.9  \n",
              "2009-01-01 16:00:00      1.40           2.13     145.5  \n",
              "2009-01-01 17:00:00      0.85           1.63     142.2  \n",
              "2009-01-01 18:00:00      0.55           1.00     183.7  \n",
              "2009-01-01 19:00:00      0.41           0.75     176.7  \n",
              "2009-01-01 20:00:00      0.68           1.13     195.2  \n",
              "2009-01-01 21:00:00      0.44           0.75     206.3  \n",
              "2009-01-01 22:00:00      0.33           0.63     175.7  \n",
              "2009-01-01 23:00:00      0.65           1.00     219.3  \n",
              "2009-01-02 00:00:00      0.41           0.88     155.0  \n",
              "2009-01-02 01:00:00      0.28           1.00     148.1  \n",
              "2009-01-02 02:00:00      0.49           0.88     209.8  "
            ],
            "text/html": [
              "\n",
              "  <div id=\"df-e5bf09a3-acb5-4581-9765-0aa0fec695ca\" class=\"colab-df-container\">\n",
              "    <div>\n",
              "<style scoped>\n",
              "    .dataframe tbody tr th:only-of-type {\n",
              "        vertical-align: middle;\n",
              "    }\n",
              "\n",
              "    .dataframe tbody tr th {\n",
              "        vertical-align: top;\n",
              "    }\n",
              "\n",
              "    .dataframe thead th {\n",
              "        text-align: right;\n",
              "    }\n",
              "</style>\n",
              "<table border=\"1\" class=\"dataframe\">\n",
              "  <thead>\n",
              "    <tr style=\"text-align: right;\">\n",
              "      <th></th>\n",
              "      <th>Date Time</th>\n",
              "      <th>p (mbar)</th>\n",
              "      <th>T (degC)</th>\n",
              "      <th>Tpot (K)</th>\n",
              "      <th>Tdew (degC)</th>\n",
              "      <th>rh (%)</th>\n",
              "      <th>VPmax (mbar)</th>\n",
              "      <th>VPact (mbar)</th>\n",
              "      <th>VPdef (mbar)</th>\n",
              "      <th>sh (g/kg)</th>\n",
              "      <th>H2OC (mmol/mol)</th>\n",
              "      <th>rho (g/m**3)</th>\n",
              "      <th>wv (m/s)</th>\n",
              "      <th>max. wv (m/s)</th>\n",
              "      <th>wd (deg)</th>\n",
              "    </tr>\n",
              "    <tr>\n",
              "      <th>Date Time</th>\n",
              "      <th></th>\n",
              "      <th></th>\n",
              "      <th></th>\n",
              "      <th></th>\n",
              "      <th></th>\n",
              "      <th></th>\n",
              "      <th></th>\n",
              "      <th></th>\n",
              "      <th></th>\n",
              "      <th></th>\n",
              "      <th></th>\n",
              "      <th></th>\n",
              "      <th></th>\n",
              "      <th></th>\n",
              "      <th></th>\n",
              "    </tr>\n",
              "  </thead>\n",
              "  <tbody>\n",
              "    <tr>\n",
              "      <th>2009-01-01 01:00:00</th>\n",
              "      <td>01.01.2009 01:00:00</td>\n",
              "      <td>996.50</td>\n",
              "      <td>-8.05</td>\n",
              "      <td>265.38</td>\n",
              "      <td>-8.78</td>\n",
              "      <td>94.4</td>\n",
              "      <td>3.33</td>\n",
              "      <td>3.14</td>\n",
              "      <td>0.19</td>\n",
              "      <td>1.96</td>\n",
              "      <td>3.15</td>\n",
              "      <td>1307.86</td>\n",
              "      <td>0.21</td>\n",
              "      <td>0.63</td>\n",
              "      <td>192.7</td>\n",
              "    </tr>\n",
              "    <tr>\n",
              "      <th>2009-01-01 02:00:00</th>\n",
              "      <td>01.01.2009 02:00:00</td>\n",
              "      <td>996.62</td>\n",
              "      <td>-8.88</td>\n",
              "      <td>264.54</td>\n",
              "      <td>-9.77</td>\n",
              "      <td>93.2</td>\n",
              "      <td>3.12</td>\n",
              "      <td>2.90</td>\n",
              "      <td>0.21</td>\n",
              "      <td>1.81</td>\n",
              "      <td>2.91</td>\n",
              "      <td>1312.25</td>\n",
              "      <td>0.25</td>\n",
              "      <td>0.63</td>\n",
              "      <td>190.3</td>\n",
              "    </tr>\n",
              "    <tr>\n",
              "      <th>2009-01-01 03:00:00</th>\n",
              "      <td>01.01.2009 03:00:00</td>\n",
              "      <td>996.84</td>\n",
              "      <td>-8.81</td>\n",
              "      <td>264.59</td>\n",
              "      <td>-9.66</td>\n",
              "      <td>93.5</td>\n",
              "      <td>3.13</td>\n",
              "      <td>2.93</td>\n",
              "      <td>0.20</td>\n",
              "      <td>1.83</td>\n",
              "      <td>2.94</td>\n",
              "      <td>1312.18</td>\n",
              "      <td>0.18</td>\n",
              "      <td>0.63</td>\n",
              "      <td>167.2</td>\n",
              "    </tr>\n",
              "    <tr>\n",
              "      <th>2009-01-01 04:00:00</th>\n",
              "      <td>01.01.2009 04:00:00</td>\n",
              "      <td>996.99</td>\n",
              "      <td>-9.05</td>\n",
              "      <td>264.34</td>\n",
              "      <td>-10.02</td>\n",
              "      <td>92.6</td>\n",
              "      <td>3.07</td>\n",
              "      <td>2.85</td>\n",
              "      <td>0.23</td>\n",
              "      <td>1.78</td>\n",
              "      <td>2.85</td>\n",
              "      <td>1313.61</td>\n",
              "      <td>0.10</td>\n",
              "      <td>0.38</td>\n",
              "      <td>240.0</td>\n",
              "    </tr>\n",
              "    <tr>\n",
              "      <th>2009-01-01 05:00:00</th>\n",
              "      <td>01.01.2009 05:00:00</td>\n",
              "      <td>997.46</td>\n",
              "      <td>-9.63</td>\n",
              "      <td>263.72</td>\n",
              "      <td>-10.65</td>\n",
              "      <td>92.2</td>\n",
              "      <td>2.94</td>\n",
              "      <td>2.71</td>\n",
              "      <td>0.23</td>\n",
              "      <td>1.69</td>\n",
              "      <td>2.71</td>\n",
              "      <td>1317.19</td>\n",
              "      <td>0.40</td>\n",
              "      <td>0.88</td>\n",
              "      <td>157.0</td>\n",
              "    </tr>\n",
              "    <tr>\n",
              "      <th>2009-01-01 06:00:00</th>\n",
              "      <td>01.01.2009 06:00:00</td>\n",
              "      <td>997.71</td>\n",
              "      <td>-9.67</td>\n",
              "      <td>263.66</td>\n",
              "      <td>-10.62</td>\n",
              "      <td>92.7</td>\n",
              "      <td>2.93</td>\n",
              "      <td>2.71</td>\n",
              "      <td>0.21</td>\n",
              "      <td>1.69</td>\n",
              "      <td>2.72</td>\n",
              "      <td>1317.71</td>\n",
              "      <td>0.05</td>\n",
              "      <td>0.50</td>\n",
              "      <td>146.0</td>\n",
              "    </tr>\n",
              "    <tr>\n",
              "      <th>2009-01-01 07:00:00</th>\n",
              "      <td>01.01.2009 07:00:00</td>\n",
              "      <td>998.33</td>\n",
              "      <td>-9.17</td>\n",
              "      <td>264.12</td>\n",
              "      <td>-10.10</td>\n",
              "      <td>92.9</td>\n",
              "      <td>3.04</td>\n",
              "      <td>2.83</td>\n",
              "      <td>0.22</td>\n",
              "      <td>1.76</td>\n",
              "      <td>2.83</td>\n",
              "      <td>1315.98</td>\n",
              "      <td>2.08</td>\n",
              "      <td>2.88</td>\n",
              "      <td>348.8</td>\n",
              "    </tr>\n",
              "    <tr>\n",
              "      <th>2009-01-01 08:00:00</th>\n",
              "      <td>01.01.2009 08:00:00</td>\n",
              "      <td>999.17</td>\n",
              "      <td>-8.10</td>\n",
              "      <td>265.12</td>\n",
              "      <td>-9.05</td>\n",
              "      <td>92.8</td>\n",
              "      <td>3.31</td>\n",
              "      <td>3.07</td>\n",
              "      <td>0.24</td>\n",
              "      <td>1.92</td>\n",
              "      <td>3.08</td>\n",
              "      <td>1311.65</td>\n",
              "      <td>0.72</td>\n",
              "      <td>1.25</td>\n",
              "      <td>213.9</td>\n",
              "    </tr>\n",
              "    <tr>\n",
              "      <th>2009-01-01 09:00:00</th>\n",
              "      <td>01.01.2009 09:00:00</td>\n",
              "      <td>999.69</td>\n",
              "      <td>-7.66</td>\n",
              "      <td>265.52</td>\n",
              "      <td>-8.84</td>\n",
              "      <td>91.2</td>\n",
              "      <td>3.43</td>\n",
              "      <td>3.13</td>\n",
              "      <td>0.30</td>\n",
              "      <td>1.95</td>\n",
              "      <td>3.13</td>\n",
              "      <td>1310.14</td>\n",
              "      <td>0.34</td>\n",
              "      <td>0.63</td>\n",
              "      <td>202.2</td>\n",
              "    </tr>\n",
              "    <tr>\n",
              "      <th>2009-01-01 10:00:00</th>\n",
              "      <td>01.01.2009 10:00:00</td>\n",
              "      <td>1000.27</td>\n",
              "      <td>-7.04</td>\n",
              "      <td>266.10</td>\n",
              "      <td>-8.17</td>\n",
              "      <td>91.6</td>\n",
              "      <td>3.60</td>\n",
              "      <td>3.30</td>\n",
              "      <td>0.30</td>\n",
              "      <td>2.05</td>\n",
              "      <td>3.29</td>\n",
              "      <td>1307.76</td>\n",
              "      <td>1.45</td>\n",
              "      <td>3.00</td>\n",
              "      <td>292.6</td>\n",
              "    </tr>\n",
              "    <tr>\n",
              "      <th>2009-01-01 11:00:00</th>\n",
              "      <td>01.01.2009 11:00:00</td>\n",
              "      <td>1000.87</td>\n",
              "      <td>-7.41</td>\n",
              "      <td>265.68</td>\n",
              "      <td>-8.66</td>\n",
              "      <td>90.7</td>\n",
              "      <td>3.50</td>\n",
              "      <td>3.17</td>\n",
              "      <td>0.33</td>\n",
              "      <td>1.97</td>\n",
              "      <td>3.17</td>\n",
              "      <td>1310.43</td>\n",
              "      <td>1.91</td>\n",
              "      <td>3.38</td>\n",
              "      <td>269.6</td>\n",
              "    </tr>\n",
              "    <tr>\n",
              "      <th>2009-01-01 12:00:00</th>\n",
              "      <td>01.01.2009 12:00:00</td>\n",
              "      <td>1000.30</td>\n",
              "      <td>-6.87</td>\n",
              "      <td>266.27</td>\n",
              "      <td>-8.28</td>\n",
              "      <td>89.6</td>\n",
              "      <td>3.64</td>\n",
              "      <td>3.27</td>\n",
              "      <td>0.38</td>\n",
              "      <td>2.03</td>\n",
              "      <td>3.26</td>\n",
              "      <td>1306.98</td>\n",
              "      <td>1.84</td>\n",
              "      <td>2.63</td>\n",
              "      <td>184.4</td>\n",
              "    </tr>\n",
              "    <tr>\n",
              "      <th>2009-01-01 13:00:00</th>\n",
              "      <td>01.01.2009 13:00:00</td>\n",
              "      <td>1000.03</td>\n",
              "      <td>-5.89</td>\n",
              "      <td>267.27</td>\n",
              "      <td>-7.46</td>\n",
              "      <td>88.6</td>\n",
              "      <td>3.93</td>\n",
              "      <td>3.48</td>\n",
              "      <td>0.45</td>\n",
              "      <td>2.17</td>\n",
              "      <td>3.48</td>\n",
              "      <td>1301.73</td>\n",
              "      <td>0.57</td>\n",
              "      <td>1.25</td>\n",
              "      <td>187.3</td>\n",
              "    </tr>\n",
              "    <tr>\n",
              "      <th>2009-01-01 14:00:00</th>\n",
              "      <td>01.01.2009 14:00:00</td>\n",
              "      <td>999.81</td>\n",
              "      <td>-5.94</td>\n",
              "      <td>267.24</td>\n",
              "      <td>-7.43</td>\n",
              "      <td>89.1</td>\n",
              "      <td>3.92</td>\n",
              "      <td>3.49</td>\n",
              "      <td>0.43</td>\n",
              "      <td>2.17</td>\n",
              "      <td>3.49</td>\n",
              "      <td>1301.67</td>\n",
              "      <td>1.25</td>\n",
              "      <td>2.00</td>\n",
              "      <td>144.0</td>\n",
              "    </tr>\n",
              "    <tr>\n",
              "      <th>2009-01-01 15:00:00</th>\n",
              "      <td>01.01.2009 15:00:00</td>\n",
              "      <td>999.88</td>\n",
              "      <td>-5.69</td>\n",
              "      <td>267.48</td>\n",
              "      <td>-7.00</td>\n",
              "      <td>90.4</td>\n",
              "      <td>3.99</td>\n",
              "      <td>3.61</td>\n",
              "      <td>0.38</td>\n",
              "      <td>2.25</td>\n",
              "      <td>3.61</td>\n",
              "      <td>1300.51</td>\n",
              "      <td>1.17</td>\n",
              "      <td>1.88</td>\n",
              "      <td>134.9</td>\n",
              "    </tr>\n",
              "    <tr>\n",
              "      <th>2009-01-01 16:00:00</th>\n",
              "      <td>01.01.2009 16:00:00</td>\n",
              "      <td>999.94</td>\n",
              "      <td>-5.40</td>\n",
              "      <td>267.76</td>\n",
              "      <td>-6.86</td>\n",
              "      <td>89.4</td>\n",
              "      <td>4.08</td>\n",
              "      <td>3.65</td>\n",
              "      <td>0.43</td>\n",
              "      <td>2.27</td>\n",
              "      <td>3.65</td>\n",
              "      <td>1299.17</td>\n",
              "      <td>1.40</td>\n",
              "      <td>2.13</td>\n",
              "      <td>145.5</td>\n",
              "    </tr>\n",
              "    <tr>\n",
              "      <th>2009-01-01 17:00:00</th>\n",
              "      <td>01.01.2009 17:00:00</td>\n",
              "      <td>1000.17</td>\n",
              "      <td>-5.37</td>\n",
              "      <td>267.78</td>\n",
              "      <td>-6.82</td>\n",
              "      <td>89.4</td>\n",
              "      <td>4.09</td>\n",
              "      <td>3.66</td>\n",
              "      <td>0.43</td>\n",
              "      <td>2.28</td>\n",
              "      <td>3.66</td>\n",
              "      <td>1299.27</td>\n",
              "      <td>0.85</td>\n",
              "      <td>1.63</td>\n",
              "      <td>142.2</td>\n",
              "    </tr>\n",
              "    <tr>\n",
              "      <th>2009-01-01 18:00:00</th>\n",
              "      <td>01.01.2009 18:00:00</td>\n",
              "      <td>1000.16</td>\n",
              "      <td>-5.25</td>\n",
              "      <td>267.90</td>\n",
              "      <td>-6.75</td>\n",
              "      <td>89.1</td>\n",
              "      <td>4.13</td>\n",
              "      <td>3.68</td>\n",
              "      <td>0.45</td>\n",
              "      <td>2.29</td>\n",
              "      <td>3.68</td>\n",
              "      <td>1298.68</td>\n",
              "      <td>0.55</td>\n",
              "      <td>1.00</td>\n",
              "      <td>183.7</td>\n",
              "    </tr>\n",
              "    <tr>\n",
              "      <th>2009-01-01 19:00:00</th>\n",
              "      <td>01.01.2009 19:00:00</td>\n",
              "      <td>1000.22</td>\n",
              "      <td>-5.11</td>\n",
              "      <td>268.03</td>\n",
              "      <td>-6.57</td>\n",
              "      <td>89.4</td>\n",
              "      <td>4.17</td>\n",
              "      <td>3.73</td>\n",
              "      <td>0.44</td>\n",
              "      <td>2.32</td>\n",
              "      <td>3.73</td>\n",
              "      <td>1298.07</td>\n",
              "      <td>0.41</td>\n",
              "      <td>0.75</td>\n",
              "      <td>176.7</td>\n",
              "    </tr>\n",
              "    <tr>\n",
              "      <th>2009-01-01 20:00:00</th>\n",
              "      <td>01.01.2009 20:00:00</td>\n",
              "      <td>1000.22</td>\n",
              "      <td>-4.90</td>\n",
              "      <td>268.24</td>\n",
              "      <td>-6.38</td>\n",
              "      <td>89.3</td>\n",
              "      <td>4.24</td>\n",
              "      <td>3.79</td>\n",
              "      <td>0.45</td>\n",
              "      <td>2.36</td>\n",
              "      <td>3.78</td>\n",
              "      <td>1297.05</td>\n",
              "      <td>0.68</td>\n",
              "      <td>1.13</td>\n",
              "      <td>195.2</td>\n",
              "    </tr>\n",
              "    <tr>\n",
              "      <th>2009-01-01 21:00:00</th>\n",
              "      <td>01.01.2009 21:00:00</td>\n",
              "      <td>1000.19</td>\n",
              "      <td>-4.80</td>\n",
              "      <td>268.35</td>\n",
              "      <td>-6.14</td>\n",
              "      <td>90.2</td>\n",
              "      <td>4.27</td>\n",
              "      <td>3.85</td>\n",
              "      <td>0.42</td>\n",
              "      <td>2.40</td>\n",
              "      <td>3.85</td>\n",
              "      <td>1296.45</td>\n",
              "      <td>0.44</td>\n",
              "      <td>0.75</td>\n",
              "      <td>206.3</td>\n",
              "    </tr>\n",
              "    <tr>\n",
              "      <th>2009-01-01 22:00:00</th>\n",
              "      <td>01.01.2009 22:00:00</td>\n",
              "      <td>1000.00</td>\n",
              "      <td>-4.50</td>\n",
              "      <td>268.66</td>\n",
              "      <td>-5.82</td>\n",
              "      <td>90.4</td>\n",
              "      <td>4.37</td>\n",
              "      <td>3.95</td>\n",
              "      <td>0.42</td>\n",
              "      <td>2.46</td>\n",
              "      <td>3.95</td>\n",
              "      <td>1294.72</td>\n",
              "      <td>0.33</td>\n",
              "      <td>0.63</td>\n",
              "      <td>175.7</td>\n",
              "    </tr>\n",
              "    <tr>\n",
              "      <th>2009-01-01 23:00:00</th>\n",
              "      <td>01.01.2009 23:00:00</td>\n",
              "      <td>999.77</td>\n",
              "      <td>-4.47</td>\n",
              "      <td>268.71</td>\n",
              "      <td>-5.84</td>\n",
              "      <td>90.1</td>\n",
              "      <td>4.38</td>\n",
              "      <td>3.95</td>\n",
              "      <td>0.43</td>\n",
              "      <td>2.46</td>\n",
              "      <td>3.95</td>\n",
              "      <td>1294.29</td>\n",
              "      <td>0.65</td>\n",
              "      <td>1.00</td>\n",
              "      <td>219.3</td>\n",
              "    </tr>\n",
              "    <tr>\n",
              "      <th>2009-01-02 00:00:00</th>\n",
              "      <td>02.01.2009 00:00:00</td>\n",
              "      <td>999.59</td>\n",
              "      <td>-4.54</td>\n",
              "      <td>268.65</td>\n",
              "      <td>-5.46</td>\n",
              "      <td>93.2</td>\n",
              "      <td>4.36</td>\n",
              "      <td>4.06</td>\n",
              "      <td>0.30</td>\n",
              "      <td>2.53</td>\n",
              "      <td>4.06</td>\n",
              "      <td>1294.33</td>\n",
              "      <td>0.41</td>\n",
              "      <td>0.88</td>\n",
              "      <td>155.0</td>\n",
              "    </tr>\n",
              "    <tr>\n",
              "      <th>2009-01-02 01:00:00</th>\n",
              "      <td>02.01.2009 01:00:00</td>\n",
              "      <td>999.34</td>\n",
              "      <td>-4.44</td>\n",
              "      <td>268.77</td>\n",
              "      <td>-5.19</td>\n",
              "      <td>94.4</td>\n",
              "      <td>4.39</td>\n",
              "      <td>4.15</td>\n",
              "      <td>0.25</td>\n",
              "      <td>2.58</td>\n",
              "      <td>4.15</td>\n",
              "      <td>1293.47</td>\n",
              "      <td>0.28</td>\n",
              "      <td>1.00</td>\n",
              "      <td>148.1</td>\n",
              "    </tr>\n",
              "    <tr>\n",
              "      <th>2009-01-02 02:00:00</th>\n",
              "      <td>02.01.2009 02:00:00</td>\n",
              "      <td>998.93</td>\n",
              "      <td>-4.29</td>\n",
              "      <td>268.95</td>\n",
              "      <td>-5.04</td>\n",
              "      <td>94.5</td>\n",
              "      <td>4.44</td>\n",
              "      <td>4.20</td>\n",
              "      <td>0.24</td>\n",
              "      <td>2.62</td>\n",
              "      <td>4.20</td>\n",
              "      <td>1292.22</td>\n",
              "      <td>0.49</td>\n",
              "      <td>0.88</td>\n",
              "      <td>209.8</td>\n",
              "    </tr>\n",
              "  </tbody>\n",
              "</table>\n",
              "</div>\n",
              "    <div class=\"colab-df-buttons\">\n",
              "\n",
              "  <div class=\"colab-df-container\">\n",
              "    <button class=\"colab-df-convert\" onclick=\"convertToInteractive('df-e5bf09a3-acb5-4581-9765-0aa0fec695ca')\"\n",
              "            title=\"Convert this dataframe to an interactive table.\"\n",
              "            style=\"display:none;\">\n",
              "\n",
              "  <svg xmlns=\"http://www.w3.org/2000/svg\" height=\"24px\" viewBox=\"0 -960 960 960\">\n",
              "    <path d=\"M120-120v-720h720v720H120Zm60-500h600v-160H180v160Zm220 220h160v-160H400v160Zm0 220h160v-160H400v160ZM180-400h160v-160H180v160Zm440 0h160v-160H620v160ZM180-180h160v-160H180v160Zm440 0h160v-160H620v160Z\"/>\n",
              "  </svg>\n",
              "    </button>\n",
              "\n",
              "  <style>\n",
              "    .colab-df-container {\n",
              "      display:flex;\n",
              "      gap: 12px;\n",
              "    }\n",
              "\n",
              "    .colab-df-convert {\n",
              "      background-color: #E8F0FE;\n",
              "      border: none;\n",
              "      border-radius: 50%;\n",
              "      cursor: pointer;\n",
              "      display: none;\n",
              "      fill: #1967D2;\n",
              "      height: 32px;\n",
              "      padding: 0 0 0 0;\n",
              "      width: 32px;\n",
              "    }\n",
              "\n",
              "    .colab-df-convert:hover {\n",
              "      background-color: #E2EBFA;\n",
              "      box-shadow: 0px 1px 2px rgba(60, 64, 67, 0.3), 0px 1px 3px 1px rgba(60, 64, 67, 0.15);\n",
              "      fill: #174EA6;\n",
              "    }\n",
              "\n",
              "    .colab-df-buttons div {\n",
              "      margin-bottom: 4px;\n",
              "    }\n",
              "\n",
              "    [theme=dark] .colab-df-convert {\n",
              "      background-color: #3B4455;\n",
              "      fill: #D2E3FC;\n",
              "    }\n",
              "\n",
              "    [theme=dark] .colab-df-convert:hover {\n",
              "      background-color: #434B5C;\n",
              "      box-shadow: 0px 1px 3px 1px rgba(0, 0, 0, 0.15);\n",
              "      filter: drop-shadow(0px 1px 2px rgba(0, 0, 0, 0.3));\n",
              "      fill: #FFFFFF;\n",
              "    }\n",
              "  </style>\n",
              "\n",
              "    <script>\n",
              "      const buttonEl =\n",
              "        document.querySelector('#df-e5bf09a3-acb5-4581-9765-0aa0fec695ca button.colab-df-convert');\n",
              "      buttonEl.style.display =\n",
              "        google.colab.kernel.accessAllowed ? 'block' : 'none';\n",
              "\n",
              "      async function convertToInteractive(key) {\n",
              "        const element = document.querySelector('#df-e5bf09a3-acb5-4581-9765-0aa0fec695ca');\n",
              "        const dataTable =\n",
              "          await google.colab.kernel.invokeFunction('convertToInteractive',\n",
              "                                                    [key], {});\n",
              "        if (!dataTable) return;\n",
              "\n",
              "        const docLinkHtml = 'Like what you see? Visit the ' +\n",
              "          '<a target=\"_blank\" href=https://colab.research.google.com/notebooks/data_table.ipynb>data table notebook</a>'\n",
              "          + ' to learn more about interactive tables.';\n",
              "        element.innerHTML = '';\n",
              "        dataTable['output_type'] = 'display_data';\n",
              "        await google.colab.output.renderOutput(dataTable, element);\n",
              "        const docLink = document.createElement('div');\n",
              "        docLink.innerHTML = docLinkHtml;\n",
              "        element.appendChild(docLink);\n",
              "      }\n",
              "    </script>\n",
              "  </div>\n",
              "\n",
              "\n",
              "<div id=\"df-b8bbb284-296b-40d8-a87d-d23bb384dc23\">\n",
              "  <button class=\"colab-df-quickchart\" onclick=\"quickchart('df-b8bbb284-296b-40d8-a87d-d23bb384dc23')\"\n",
              "            title=\"Suggest charts.\"\n",
              "            style=\"display:none;\">\n",
              "\n",
              "<svg xmlns=\"http://www.w3.org/2000/svg\" height=\"24px\"viewBox=\"0 0 24 24\"\n",
              "     width=\"24px\">\n",
              "    <g>\n",
              "        <path d=\"M19 3H5c-1.1 0-2 .9-2 2v14c0 1.1.9 2 2 2h14c1.1 0 2-.9 2-2V5c0-1.1-.9-2-2-2zM9 17H7v-7h2v7zm4 0h-2V7h2v10zm4 0h-2v-4h2v4z\"/>\n",
              "    </g>\n",
              "</svg>\n",
              "  </button>\n",
              "\n",
              "<style>\n",
              "  .colab-df-quickchart {\n",
              "      --bg-color: #E8F0FE;\n",
              "      --fill-color: #1967D2;\n",
              "      --hover-bg-color: #E2EBFA;\n",
              "      --hover-fill-color: #174EA6;\n",
              "      --disabled-fill-color: #AAA;\n",
              "      --disabled-bg-color: #DDD;\n",
              "  }\n",
              "\n",
              "  [theme=dark] .colab-df-quickchart {\n",
              "      --bg-color: #3B4455;\n",
              "      --fill-color: #D2E3FC;\n",
              "      --hover-bg-color: #434B5C;\n",
              "      --hover-fill-color: #FFFFFF;\n",
              "      --disabled-bg-color: #3B4455;\n",
              "      --disabled-fill-color: #666;\n",
              "  }\n",
              "\n",
              "  .colab-df-quickchart {\n",
              "    background-color: var(--bg-color);\n",
              "    border: none;\n",
              "    border-radius: 50%;\n",
              "    cursor: pointer;\n",
              "    display: none;\n",
              "    fill: var(--fill-color);\n",
              "    height: 32px;\n",
              "    padding: 0;\n",
              "    width: 32px;\n",
              "  }\n",
              "\n",
              "  .colab-df-quickchart:hover {\n",
              "    background-color: var(--hover-bg-color);\n",
              "    box-shadow: 0 1px 2px rgba(60, 64, 67, 0.3), 0 1px 3px 1px rgba(60, 64, 67, 0.15);\n",
              "    fill: var(--button-hover-fill-color);\n",
              "  }\n",
              "\n",
              "  .colab-df-quickchart-complete:disabled,\n",
              "  .colab-df-quickchart-complete:disabled:hover {\n",
              "    background-color: var(--disabled-bg-color);\n",
              "    fill: var(--disabled-fill-color);\n",
              "    box-shadow: none;\n",
              "  }\n",
              "\n",
              "  .colab-df-spinner {\n",
              "    border: 2px solid var(--fill-color);\n",
              "    border-color: transparent;\n",
              "    border-bottom-color: var(--fill-color);\n",
              "    animation:\n",
              "      spin 1s steps(1) infinite;\n",
              "  }\n",
              "\n",
              "  @keyframes spin {\n",
              "    0% {\n",
              "      border-color: transparent;\n",
              "      border-bottom-color: var(--fill-color);\n",
              "      border-left-color: var(--fill-color);\n",
              "    }\n",
              "    20% {\n",
              "      border-color: transparent;\n",
              "      border-left-color: var(--fill-color);\n",
              "      border-top-color: var(--fill-color);\n",
              "    }\n",
              "    30% {\n",
              "      border-color: transparent;\n",
              "      border-left-color: var(--fill-color);\n",
              "      border-top-color: var(--fill-color);\n",
              "      border-right-color: var(--fill-color);\n",
              "    }\n",
              "    40% {\n",
              "      border-color: transparent;\n",
              "      border-right-color: var(--fill-color);\n",
              "      border-top-color: var(--fill-color);\n",
              "    }\n",
              "    60% {\n",
              "      border-color: transparent;\n",
              "      border-right-color: var(--fill-color);\n",
              "    }\n",
              "    80% {\n",
              "      border-color: transparent;\n",
              "      border-right-color: var(--fill-color);\n",
              "      border-bottom-color: var(--fill-color);\n",
              "    }\n",
              "    90% {\n",
              "      border-color: transparent;\n",
              "      border-bottom-color: var(--fill-color);\n",
              "    }\n",
              "  }\n",
              "</style>\n",
              "\n",
              "  <script>\n",
              "    async function quickchart(key) {\n",
              "      const quickchartButtonEl =\n",
              "        document.querySelector('#' + key + ' button');\n",
              "      quickchartButtonEl.disabled = true;  // To prevent multiple clicks.\n",
              "      quickchartButtonEl.classList.add('colab-df-spinner');\n",
              "      try {\n",
              "        const charts = await google.colab.kernel.invokeFunction(\n",
              "            'suggestCharts', [key], {});\n",
              "      } catch (error) {\n",
              "        console.error('Error during call to suggestCharts:', error);\n",
              "      }\n",
              "      quickchartButtonEl.classList.remove('colab-df-spinner');\n",
              "      quickchartButtonEl.classList.add('colab-df-quickchart-complete');\n",
              "    }\n",
              "    (() => {\n",
              "      let quickchartButtonEl =\n",
              "        document.querySelector('#df-b8bbb284-296b-40d8-a87d-d23bb384dc23 button');\n",
              "      quickchartButtonEl.style.display =\n",
              "        google.colab.kernel.accessAllowed ? 'block' : 'none';\n",
              "    })();\n",
              "  </script>\n",
              "</div>\n",
              "    </div>\n",
              "  </div>\n"
            ]
          },
          "metadata": {},
          "execution_count": 6
        }
      ]
    },
    {
      "cell_type": "code",
      "metadata": {
        "colab": {
          "base_uri": "https://localhost:8080/",
          "height": 443
        },
        "id": "3fWZ3nYxS3oe",
        "outputId": "4eb09000-5f05-4690-81d3-be81be2e2c33"
      },
      "source": [
        "temp = df['T (degC)']\n",
        "temp.plot()"
      ],
      "execution_count": 7,
      "outputs": [
        {
          "output_type": "execute_result",
          "data": {
            "text/plain": [
              "<Axes: xlabel='Date Time'>"
            ]
          },
          "metadata": {},
          "execution_count": 7
        },
        {
          "output_type": "display_data",
          "data": {
            "text/plain": [
              "<Figure size 640x480 with 1 Axes>"
            ],
            "image/png": "[encoded data removed]"
          },
          "metadata": {}
        }
      ]
    },
    {
      "cell_type": "code",
      "metadata": {
        "id": "bY2yEu2QTBXP"
      },
      "source": [
        "# [[[1], [2], [3], [4], [5]]] [6]\n",
        "# [[[2], [3], [4], [5], [6]]] [7]\n",
        "# [[[3], [4], [5], [6], [7]]] [8]\n",
        "# -----------x---------------  -y-\n",
        "\n",
        "def df_to_X_y(df, window_size=5):\n",
        "  df_as_np = df.to_numpy()\n",
        "  X = []\n",
        "  y = []\n",
        "  for i in range(len(df_as_np)-window_size):\n",
        "    row = [[a] for a in df_as_np[i:i+window_size]]\n",
        "    X.append(row)\n",
        "    label = df_as_np[i+window_size]\n",
        "    y.append(label)\n",
        "  return np.array(X), np.array(y)"
      ],
      "execution_count": 8,
      "outputs": []
    },
    {
      "cell_type": "code",
      "metadata": {
        "colab": {
          "base_uri": "https://localhost:8080/"
        },
        "id": "qhGUH0NoV9Zq",
        "outputId": "14e226c0-e9df-4535-e0c7-60ef19d3be6b"
      },
      "source": [
        "WINDOW_SIZE = 5\n",
        "X1, y1 = df_to_X_y(temp, WINDOW_SIZE)\n",
        "X1.shape, y1.shape"
      ],
      "execution_count": 9,
      "outputs": [
        {
          "output_type": "execute_result",
          "data": {
            "text/plain": [
              "((70086, 5, 1), (70086,))"
            ]
          },
          "metadata": {},
          "execution_count": 9
        }
      ]
    },
    {
      "cell_type": "code",
      "metadata": {
        "colab": {
          "base_uri": "https://localhost:8080/"
        },
        "id": "Vsy2-BjnWMhB",
        "outputId": "cb9f992e-b48b-40eb-a076-1b127f6474e1"
      },
      "source": [
        "X_train1, y_train1 = X1[:60000], y1[:60000] # training set\n",
        "X_val1, y_val1 = X1[60000:65000], y1[60000:65000]  # validation\n",
        "X_test1, y_test1 = X1[65000:], y1[65000:] # test\n",
        "X_train1.shape, y_train1.shape, X_val1.shape, y_val1.shape, X_test1.shape, y_test1.shape"
      ],
      "execution_count": 10,
      "outputs": [
        {
          "output_type": "execute_result",
          "data": {
            "text/plain": [
              "((60000, 5, 1), (60000,), (5000, 5, 1), (5000,), (5086, 5, 1), (5086,))"
            ]
          },
          "metadata": {},
          "execution_count": 10
        }
      ]
    },
    {
      "cell_type": "code",
      "metadata": {
        "colab": {
          "base_uri": "https://localhost:8080/"
        },
        "id": "4jZz4ZjpW217",
        "outputId": "cef3cb31-104f-4f07-9e4c-0a2a909f4249"
      },
      "source": [
        "from tensorflow.keras.models import Sequential\n",
        "from tensorflow.keras.layers import *\n",
        "from tensorflow.keras.callbacks import ModelCheckpoint\n",
        "from tensorflow.keras.losses import MeanSquaredError\n",
        "from tensorflow.keras.metrics import RootMeanSquaredError\n",
        "from tensorflow.keras.optimizers import Adam\n",
        "\n",
        "model1 = Sequential()\n",
        "model1.add(InputLayer((5, 1)))\n",
        "model1.add(LSTM(64))\n",
        "model1.add(Dense(8, 'relu'))\n",
        "model1.add(Dense(1, 'linear'))\n",
        "\n",
        "model1.summary()"
      ],
      "execution_count": 11,
      "outputs": [
        {
          "output_type": "stream",
          "name": "stdout",
          "text": [
            "Model: \"sequential\"\n",
            "_________________________________________________________________\n",
            " Layer (type)                Output Shape              Param #   \n",
            "=================================================================\n",
            " lstm (LSTM)                 (None, 64)                16896     \n",
            "                                                                 \n",
            " dense (Dense)               (None, 8)                 520       \n",
            "                                                                 \n",
            " dense_1 (Dense)             (None, 1)                 9         \n",
            "                                                                 \n",
            "=================================================================\n",
            "Total params: 17425 (68.07 KB)\n",
            "Trainable params: 17425 (68.07 KB)\n",
            "Non-trainable params: 0 (0.00 Byte)\n",
            "_________________________________________________________________\n"
          ]
        }
      ]
    },
    {
      "cell_type": "code",
      "metadata": {
        "id": "5jMK7auDXwEr"
      },
      "source": [
        "cp1 = ModelCheckpoint('model1/', save_best_only=True)\n",
        "model1.compile(loss=MeanSquaredError(), optimizer=Adam(learning_rate=0.0001), metrics=[RootMeanSquaredError()])"
      ],
      "execution_count": 12,
      "outputs": []
    },
    {
      "cell_type": "code",
      "metadata": {
        "id": "CWeSakSwYLtr",
        "colab": {
          "base_uri": "https://localhost:8080/"
        },
        "outputId": "65ae453d-1e91-47e8-cd6b-2288e8a5e0d0"
      },
      "source": [
        "model1.fit(X_train1, y_train1, validation_data=(X_val1, y_val1), epochs=10, callbacks=[cp1])"
      ],
      "execution_count": 13,
      "outputs": [
        {
          "output_type": "stream",
          "name": "stdout",
          "text": [
            "Epoch 1/10\n",
            "1875/1875 [==============================] - 16s 7ms/step - loss: 44.9641 - root_mean_squared_error: 6.7055 - val_loss: 1.6076 - val_root_mean_squared_error: 1.2679\n",
            "Epoch 2/10\n",
            "1875/1875 [==============================] - 13s 7ms/step - loss: 3.0130 - root_mean_squared_error: 1.7358 - val_loss: 0.7071 - val_root_mean_squared_error: 0.8409\n",
            "Epoch 3/10\n",
            "1875/1875 [==============================] - 13s 7ms/step - loss: 1.1271 - root_mean_squared_error: 1.0616 - val_loss: 0.5672 - val_root_mean_squared_error: 0.7531\n",
            "Epoch 4/10\n",
            "1875/1875 [==============================] - 13s 7ms/step - loss: 0.7875 - root_mean_squared_error: 0.8874 - val_loss: 0.5258 - val_root_mean_squared_error: 0.7251\n",
            "Epoch 5/10\n",
            "1875/1875 [==============================] - 13s 7ms/step - loss: 0.6976 - root_mean_squared_error: 0.8352 - val_loss: 0.5082 - val_root_mean_squared_error: 0.7129\n",
            "Epoch 6/10\n",
            "1875/1875 [==============================] - 13s 7ms/step - loss: 0.6693 - root_mean_squared_error: 0.8181 - val_loss: 0.5068 - val_root_mean_squared_error: 0.7119\n",
            "Epoch 7/10\n",
            "1875/1875 [==============================] - 13s 7ms/step - loss: 0.6576 - root_mean_squared_error: 0.8109 - val_loss: 0.4957 - val_root_mean_squared_error: 0.7040\n",
            "Epoch 8/10\n",
            "1875/1875 [==============================] - 9s 5ms/step - loss: 0.6514 - root_mean_squared_error: 0.8071 - val_loss: 0.4979 - val_root_mean_squared_error: 0.7056\n",
            "Epoch 9/10\n",
            "1875/1875 [==============================] - 9s 5ms/step - loss: 0.6483 - root_mean_squared_error: 0.8052 - val_loss: 0.5050 - val_root_mean_squared_error: 0.7106\n",
            "Epoch 10/10\n",
            "1875/1875 [==============================] - 12s 7ms/step - loss: 0.6458 - root_mean_squared_error: 0.8036 - val_loss: 0.4931 - val_root_mean_squared_error: 0.7022\n"
          ]
        },
        {
          "output_type": "execute_result",
          "data": {
            "text/plain": [
              "<keras.src.callbacks.History at 0x784e28850fd0>"
            ]
          },
          "metadata": {},
          "execution_count": 13
        }
      ]
    },
    {
      "cell_type": "code",
      "metadata": {
        "id": "vdaqGHG4YZkN"
      },
      "source": [
        "from tensorflow.keras.models import load_model\n",
        "model1 = load_model('model1/')"
      ],
      "execution_count": 14,
      "outputs": []
    },
    {
      "cell_type": "code",
      "metadata": {
        "colab": {
          "base_uri": "https://localhost:8080/",
          "height": 1000
        },
        "id": "byObmr8CZRhp",
        "outputId": "a6547306-3a1c-4a1c-ae0a-36a98be37659"
      },
      "source": [
        "train_predictions = model1.predict(X_train1).flatten()\n",
        "train_results = pd.DataFrame(data={'Train Predictions':train_predictions, 'Actuals':y_train1})\n",
        "train_results"
      ],
      "execution_count": 15,
      "outputs": [
        {
          "output_type": "stream",
          "name": "stdout",
          "text": [
            "1875/1875 [==============================] - 10s 5ms/step\n"
          ]
        },
        {
          "output_type": "execute_result",
          "data": {
            "text/plain": [
              "       Train Predictions  Actuals\n",
              "0              -9.817148    -9.67\n",
              "1              -9.683648    -9.17\n",
              "2              -8.746799    -8.10\n",
              "3              -7.214639    -7.66\n",
              "4              -6.989985    -7.04\n",
              "...                  ...      ...\n",
              "59995           6.096607     6.07\n",
              "59996           7.295394     9.88\n",
              "59997          12.091605    13.53\n",
              "59998          15.954835    15.43\n",
              "59999          16.384481    15.54\n",
              "\n",
              "[60000 rows x 2 columns]"
            ],
            "text/html": [
              "\n",
              "  <div id=\"df-3c258420-68d5-4bf9-b4f7-10e3d9019f83\" class=\"colab-df-container\">\n",
              "    <div>\n",
              "<style scoped>\n",
              "    .dataframe tbody tr th:only-of-type {\n",
              "        vertical-align: middle;\n",
              "    }\n",
              "\n",
              "    .dataframe tbody tr th {\n",
              "        vertical-align: top;\n",
              "    }\n",
              "\n",
              "    .dataframe thead th {\n",
              "        text-align: right;\n",
              "    }\n",
              "</style>\n",
              "<table border=\"1\" class=\"dataframe\">\n",
              "  <thead>\n",
              "    <tr style=\"text-align: right;\">\n",
              "      <th></th>\n",
              "      <th>Train Predictions</th>\n",
              "      <th>Actuals</th>\n",
              "    </tr>\n",
              "  </thead>\n",
              "  <tbody>\n",
              "    <tr>\n",
              "      <th>0</th>\n",
              "      <td>-9.817148</td>\n",
              "      <td>-9.67</td>\n",
              "    </tr>\n",
              "    <tr>\n",
              "      <th>1</th>\n",
              "      <td>-9.683648</td>\n",
              "      <td>-9.17</td>\n",
              "    </tr>\n",
              "    <tr>\n",
              "      <th>2</th>\n",
              "      <td>-8.746799</td>\n",
              "      <td>-8.10</td>\n",
              "    </tr>\n",
              "    <tr>\n",
              "      <th>3</th>\n",
              "      <td>-7.214639</td>\n",
              "      <td>-7.66</td>\n",
              "    </tr>\n",
              "    <tr>\n",
              "      <th>4</th>\n",
              "      <td>-6.989985</td>\n",
              "      <td>-7.04</td>\n",
              "    </tr>\n",
              "    <tr>\n",
              "      <th>...</th>\n",
              "      <td>...</td>\n",
              "      <td>...</td>\n",
              "    </tr>\n",
              "    <tr>\n",
              "      <th>59995</th>\n",
              "      <td>6.096607</td>\n",
              "      <td>6.07</td>\n",
              "    </tr>\n",
              "    <tr>\n",
              "      <th>59996</th>\n",
              "      <td>7.295394</td>\n",
              "      <td>9.88</td>\n",
              "    </tr>\n",
              "    <tr>\n",
              "      <th>59997</th>\n",
              "      <td>12.091605</td>\n",
              "      <td>13.53</td>\n",
              "    </tr>\n",
              "    <tr>\n",
              "      <th>59998</th>\n",
              "      <td>15.954835</td>\n",
              "      <td>15.43</td>\n",
              "    </tr>\n",
              "    <tr>\n",
              "      <th>59999</th>\n",
              "      <td>16.384481</td>\n",
              "      <td>15.54</td>\n",
              "    </tr>\n",
              "  </tbody>\n",
              "</table>\n",
              "<p>60000 rows × 2 columns</p>\n",
              "</div>\n",
              "    <div class=\"colab-df-buttons\">\n",
              "\n",
              "  <div class=\"colab-df-container\">\n",
              "    <button class=\"colab-df-convert\" onclick=\"convertToInteractive('df-3c258420-68d5-4bf9-b4f7-10e3d9019f83')\"\n",
              "            title=\"Convert this dataframe to an interactive table.\"\n",
              "            style=\"display:none;\">\n",
              "\n",
              "  <svg xmlns=\"http://www.w3.org/2000/svg\" height=\"24px\" viewBox=\"0 -960 960 960\">\n",
              "    <path d=\"M120-120v-720h720v720H120Zm60-500h600v-160H180v160Zm220 220h160v-160H400v160Zm0 220h160v-160H400v160ZM180-400h160v-160H180v160Zm440 0h160v-160H620v160ZM180-180h160v-160H180v160Zm440 0h160v-160H620v160Z\"/>\n",
              "  </svg>\n",
              "    </button>\n",
              "\n",
              "  <style>\n",
              "    .colab-df-container {\n",
              "      display:flex;\n",
              "      gap: 12px;\n",
              "    }\n",
              "\n",
              "    .colab-df-convert {\n",
              "      background-color: #E8F0FE;\n",
              "      border: none;\n",
              "      border-radius: 50%;\n",
              "      cursor: pointer;\n",
              "      display: none;\n",
              "      fill: #1967D2;\n",
              "      height: 32px;\n",
              "      padding: 0 0 0 0;\n",
              "      width: 32px;\n",
              "    }\n",
              "\n",
              "    .colab-df-convert:hover {\n",
              "      background-color: #E2EBFA;\n",
              "      box-shadow: 0px 1px 2px rgba(60, 64, 67, 0.3), 0px 1px 3px 1px rgba(60, 64, 67, 0.15);\n",
              "      fill: #174EA6;\n",
              "    }\n",
              "\n",
              "    .colab-df-buttons div {\n",
              "      margin-bottom: 4px;\n",
              "    }\n",
              "\n",
              "    [theme=dark] .colab-df-convert {\n",
              "      background-color: #3B4455;\n",
              "      fill: #D2E3FC;\n",
              "    }\n",
              "\n",
              "    [theme=dark] .colab-df-convert:hover {\n",
              "      background-color: #434B5C;\n",
              "      box-shadow: 0px 1px 3px 1px rgba(0, 0, 0, 0.15);\n",
              "      filter: drop-shadow(0px 1px 2px rgba(0, 0, 0, 0.3));\n",
              "      fill: #FFFFFF;\n",
              "    }\n",
              "  </style>\n",
              "\n",
              "    <script>\n",
              "      const buttonEl =\n",
              "        document.querySelector('#df-3c258420-68d5-4bf9-b4f7-10e3d9019f83 button.colab-df-convert');\n",
              "      buttonEl.style.display =\n",
              "        google.colab.kernel.accessAllowed ? 'block' : 'none';\n",
              "\n",
              "      async function convertToInteractive(key) {\n",
              "        const element = document.querySelector('#df-3c258420-68d5-4bf9-b4f7-10e3d9019f83');\n",
              "        const dataTable =\n",
              "          await google.colab.kernel.invokeFunction('convertToInteractive',\n",
              "                                                    [key], {});\n",
              "        if (!dataTable) return;\n",
              "\n",
              "        const docLinkHtml = 'Like what you see? Visit the ' +\n",
              "          '<a target=\"_blank\" href=https://colab.research.google.com/notebooks/data_table.ipynb>data table notebook</a>'\n",
              "          + ' to learn more about interactive tables.';\n",
              "        element.innerHTML = '';\n",
              "        dataTable['output_type'] = 'display_data';\n",
              "        await google.colab.output.renderOutput(dataTable, element);\n",
              "        const docLink = document.createElement('div');\n",
              "        docLink.innerHTML = docLinkHtml;\n",
              "        element.appendChild(docLink);\n",
              "      }\n",
              "    </script>\n",
              "  </div>\n",
              "\n",
              "\n",
              "<div id=\"df-541d2277-bcd0-4f71-8c7a-190bc43f5885\">\n",
              "  <button class=\"colab-df-quickchart\" onclick=\"quickchart('df-541d2277-bcd0-4f71-8c7a-190bc43f5885')\"\n",
              "            title=\"Suggest charts.\"\n",
              "            style=\"display:none;\">\n",
              "\n",
              "<svg xmlns=\"http://www.w3.org/2000/svg\" height=\"24px\"viewBox=\"0 0 24 24\"\n",
              "     width=\"24px\">\n",
              "    <g>\n",
              "        <path d=\"M19 3H5c-1.1 0-2 .9-2 2v14c0 1.1.9 2 2 2h14c1.1 0 2-.9 2-2V5c0-1.1-.9-2-2-2zM9 17H7v-7h2v7zm4 0h-2V7h2v10zm4 0h-2v-4h2v4z\"/>\n",
              "    </g>\n",
              "</svg>\n",
              "  </button>\n",
              "\n",
              "<style>\n",
              "  .colab-df-quickchart {\n",
              "      --bg-color: #E8F0FE;\n",
              "      --fill-color: #1967D2;\n",
              "      --hover-bg-color: #E2EBFA;\n",
              "      --hover-fill-color: #174EA6;\n",
              "      --disabled-fill-color: #AAA;\n",
              "      --disabled-bg-color: #DDD;\n",
              "  }\n",
              "\n",
              "  [theme=dark] .colab-df-quickchart {\n",
              "      --bg-color: #3B4455;\n",
              "      --fill-color: #D2E3FC;\n",
              "      --hover-bg-color: #434B5C;\n",
              "      --hover-fill-color: #FFFFFF;\n",
              "      --disabled-bg-color: #3B4455;\n",
              "      --disabled-fill-color: #666;\n",
              "  }\n",
              "\n",
              "  .colab-df-quickchart {\n",
              "    background-color: var(--bg-color);\n",
              "    border: none;\n",
              "    border-radius: 50%;\n",
              "    cursor: pointer;\n",
              "    display: none;\n",
              "    fill: var(--fill-color);\n",
              "    height: 32px;\n",
              "    padding: 0;\n",
              "    width: 32px;\n",
              "  }\n",
              "\n",
              "  .colab-df-quickchart:hover {\n",
              "    background-color: var(--hover-bg-color);\n",
              "    box-shadow: 0 1px 2px rgba(60, 64, 67, 0.3), 0 1px 3px 1px rgba(60, 64, 67, 0.15);\n",
              "    fill: var(--button-hover-fill-color);\n",
              "  }\n",
              "\n",
              "  .colab-df-quickchart-complete:disabled,\n",
              "  .colab-df-quickchart-complete:disabled:hover {\n",
              "    background-color: var(--disabled-bg-color);\n",
              "    fill: var(--disabled-fill-color);\n",
              "    box-shadow: none;\n",
              "  }\n",
              "\n",
              "  .colab-df-spinner {\n",
              "    border: 2px solid var(--fill-color);\n",
              "    border-color: transparent;\n",
              "    border-bottom-color: var(--fill-color);\n",
              "    animation:\n",
              "      spin 1s steps(1) infinite;\n",
              "  }\n",
              "\n",
              "  @keyframes spin {\n",
              "    0% {\n",
              "      border-color: transparent;\n",
              "      border-bottom-color: var(--fill-color);\n",
              "      border-left-color: var(--fill-color);\n",
              "    }\n",
              "    20% {\n",
              "      border-color: transparent;\n",
              "      border-left-color: var(--fill-color);\n",
              "      border-top-color: var(--fill-color);\n",
              "    }\n",
              "    30% {\n",
              "      border-color: transparent;\n",
              "      border-left-color: var(--fill-color);\n",
              "      border-top-color: var(--fill-color);\n",
              "      border-right-color: var(--fill-color);\n",
              "    }\n",
              "    40% {\n",
              "      border-color: transparent;\n",
              "      border-right-color: var(--fill-color);\n",
              "      border-top-color: var(--fill-color);\n",
              "    }\n",
              "    60% {\n",
              "      border-color: transparent;\n",
              "      border-right-color: var(--fill-color);\n",
              "    }\n",
              "    80% {\n",
              "      border-color: transparent;\n",
              "      border-right-color: var(--fill-color);\n",
              "      border-bottom-color: var(--fill-color);\n",
              "    }\n",
              "    90% {\n",
              "      border-color: transparent;\n",
              "      border-bottom-color: var(--fill-color);\n",
              "    }\n",
              "  }\n",
              "</style>\n",
              "\n",
              "  <script>\n",
              "    async function quickchart(key) {\n",
              "      const quickchartButtonEl =\n",
              "        document.querySelector('#' + key + ' button');\n",
              "      quickchartButtonEl.disabled = true;  // To prevent multiple clicks.\n",
              "      quickchartButtonEl.classList.add('colab-df-spinner');\n",
              "      try {\n",
              "        const charts = await google.colab.kernel.invokeFunction(\n",
              "            'suggestCharts', [key], {});\n",
              "      } catch (error) {\n",
              "        console.error('Error during call to suggestCharts:', error);\n",
              "      }\n",
              "      quickchartButtonEl.classList.remove('colab-df-spinner');\n",
              "      quickchartButtonEl.classList.add('colab-df-quickchart-complete');\n",
              "    }\n",
              "    (() => {\n",
              "      let quickchartButtonEl =\n",
              "        document.querySelector('#df-541d2277-bcd0-4f71-8c7a-190bc43f5885 button');\n",
              "      quickchartButtonEl.style.display =\n",
              "        google.colab.kernel.accessAllowed ? 'block' : 'none';\n",
              "    })();\n",
              "  </script>\n",
              "</div>\n",
              "    </div>\n",
              "  </div>\n"
            ]
          },
          "metadata": {},
          "execution_count": 15
        },
        {
          "output_type": "display_data",
          "data": {
            "text/plain": [
              "<google.colab._quickchart_helpers.SectionTitle at 0x784e16b907f0>"
            ],
            "text/html": [
              "<h4 class=\"colab-quickchart-section-title\">Values</h4>\n",
              "<style>\n",
              "  .colab-quickchart-section-title {\n",
              "      clear: both;\n",
              "  }\n",
              "</style>"
            ]
          },
          "metadata": {}
        },
        {
          "output_type": "display_data",
          "data": {
            "text/plain": [
              "import numpy as np\n",
              "from google.colab import autoviz\n",
              "\n",
              "def value_plot(df, y, figscale=1):\n",
              "  from matplotlib import pyplot as plt\n",
              "  df[y].plot(kind='line', figsize=(8 * figscale, 4 * figscale), title=y)\n",
              "  plt.gca().spines[['top', 'right']].set_visible(False)\n",
              "  plt.tight_layout()\n",
              "  return autoviz.MplChart.from_current_mpl_state()\n",
              "\n",
              "chart = value_plot(train_results, *['Train Predictions'], **{})\n",
              "chart"
            ],
            "text/html": [
              "      <div class=\"colab-quickchart-chart-with-code\" id=\"chart-e324ad57-886b-408e-9e56-84142d1b17a4\">\n",
              "        <img src=\"data:image/png;base64,iVBORw0KGgoAAAANSUhEUgAAAYoAAADECAYAAACBW2a4AAAAOXRFWHRTb2Z0d2FyZQBNYXRwbG90\n",
              "bGliIHZlcnNpb24zLjcuMSwgaHR0cHM6Ly9tYXRwbG90bGliLm9yZy/bCgiHAAAACXBIWXMAAA9h\n",
              "AAAPYQGoP6dpAAA3JklEQVR4nO2deXxMV//HP5NVEtkkJLKTxJpIhARBRTVq60N5WmopWkVVS7VP\n",
              "VVVRitbSH8/TRZ8WbbVKUR6UomKpBiGR2LMvyEISSYjs5/dHzGRmMnNnu2vmvF+veb1m5t577vfO\n",
              "nXu+55zvJiOEEFAoFAqFogULoQWgUCgUirihioJCoVAojFBFQaFQKBRGqKKgUCgUCiNUUVAoFAqF\n",
              "EaooKBQKhcIIVRQUCoVCYYQqCgqFQqEwQhUFhUKhUBihioLSYpg9ezZmzJghtBg6qaurg0wmw8mT\n",
              "JwEAZ86cQevWrVFfX290m8OHD8eKFStYkpBCUUVGU3hQhKB169aK9zU1Naivr4ednZ3iu8OHD2Pg\n",
              "wIG8ypSdnY0OHTrA3t4eMpkMdnZ2iIyMxNq1a9G9e3fWzlNXVwdra2vExcUhJibGKBnT0tIQFBTE\n",
              "mkwUChN0RkERhIcPHype7733HgYOHKjynbKSqKmp4VW25ORkPHz4EKmpqbCzs8OoUaM07se3XBSK\n",
              "UFBFQREdy5Ytw4ABA7BkyRJ4eXkhPDwcAPDRRx+hU6dOcHR0hK+vL958801UVlYqjps2bRomT56s\n",
              "+BwQEICPP/4YI0aMgKOjIwIDA/Hbb7/pLYerqyumT5+O7OxsFBcXY9u2bfDx8cEXX3yBgIAAuLm5\n",
              "AQDu3LmDiRMnwtvbG+3atcNLL72Ee/fuKdopKirC2LFj4eLigo4dO2Lnzp0q5zl58iRkMhnq6uoU\n",
              "333//fcIDw+Hs7MzPDw8MG/ePABQzGzCwsLQunVrzJ49GwAQExODDz/8UHH8jRs3MHz4cLi7u8PH\n",
              "xwezZs1CWVmZYntMTAzmzZuHiRMnwtnZGb6+vvjqq68U23NzczFixAi0adMGzs7OCAkJwZkzZ/T+\n",
              "7SgtC6ooKKLk3LlzsLa2RmZmJi5evAgACA4OxvHjx1FeXo4jR47g8OHDOtflv/32W6xcuRJlZWV4\n",
              "4403MHXqVJSXl+slQ3FxMbZs2YKOHTsqlEJBQQGSk5Nx9epVFBYWorq6GkOGDIGXlxdSU1ORmZkJ\n",
              "KysrTJw4UdHO5MmTUVlZqbiWHTt26JT53Xffxbp161BcXIz09HSMHTsWAHDt2jUATbOer7/+utnx\n",
              "FRUVeOaZZ9CtWzfk5uYiISEBN2/exNSpU1X227ZtG2bMmIHS0lL83//9H+bOnYv09HQAwKJFi+Dt\n",
              "7Y27d++itLQUe/bsgY+Pj16/G6UFQigUgVm8eDEZNGiQ4vPSpUuJl5cXaWhoYDxuw4YNJCIiQvF5\n",
              "6tSpZNKkSYrP/v7+ZPny5YrPDx8+JADIuXPnNLaXlZVFABBHR0fi4uJCvL29yejRo8n169cJIYRs\n",
              "3bqVWFpakkePHimO2bNnTzNZb9++TQCQvLw8xfuUlBTF9pSUFAKAxMXFEUIIiYuLIwBIbW0tIYSQ\n",
              "7t27k7Vr1zLKmJaWpvL9oEGDyOLFiwkhhPz888/E3d1d0R4hhCQmJhIAJD8/X7H/9OnTVdpwd3cn\n",
              "v/zyCyGEkGnTppFRo0aRq1ev6rwPlJaPlXAqikLRjr+/P2Qymcp3mzdvxubNm5GTk4O6ujrU1tYq\n",
              "Rvra8PLyUrx3cHAA0DjiZiIxMVGrobhdu3awt7dXfE5LS0NhYSFcXV1V9rO1tUVubi4sLS0BAB06\n",
              "dFBsU36viaysLHTu3JlxHyby8vLg7+8PK6umx1t+Pbm5ufD09ASg+tsAjb+P/LdZt24dVq5cibFj\n",
              "x6K0tBQjR47EmjVr4OHhYbRcFOlCl54oosTCQvWvGR8fj7lz52L9+vUoKChAWVkZPvnkExCenfbU\n",
              "5fL09IS/vz8ePHig8qqqqkJ0dLRiuSY7O1txjPJ7TQQEBCA1NVWv82vC19cXubm5KjaPjIwMAICf\n",
              "n5/O4wHAzc0Nn3/+OW7duoWkpCRkZ2djwYIFeh1LaXlQRUGRBGVlZbC0tETbtm1hbW2NxMRE/Oc/\n",
              "/xFaLIwdOxa1tbVYsmSJwlhcVFSkMFh7e3tjyJAheO+991BaWorS0lJ88MEHjG3OmzcPn376KU6c\n",
              "OIH6+npUVFTg1KlTAIC2bdvCwsICt27d0nr8yJEjYWVlhQ8++ACPHz9GQUEB3n77bTz33HOK2YQu\n",
              "fvnlF2RkZKChoQGOjo6wtbVVmaFQzAuqKCiSYOjQoZg9ezZiYmLg7OyMDz74oJlxVggcHR0RHx+P\n",
              "3NxchIaGwsnJCdHR0Th9+rRin+3bt8PGxgYBAQGIiIjA+PHjGducOXMmVq9ejfnz58PV1RXBwcHY\n",
              "t28fAMDOzg6rVq3CjBkz4OLigjlz5jQ73snJCceOHUNycjJ8fHzQq1cvBAUF4fvvv9f7upKTk/H0\n",
              "008rvMVcXFywbt06vY+ntCxowB2FQqFQGKEzCgqFQqEwQhUFhUKhUBihioJCoVAojFBFQaFQKBRG\n",
              "qKKgUCgUCiNUUVAoFAqFEaooKBQKhcKIpBTFxo0bhRaBQqFQzA5JKYqcnByhRaBQKBSzQ1KKgkKh\n",
              "UCj8QxUFhUKhUBihioJCoVAojFBFQaFQKAKQmFuKpNxSocXQC6ooKBSeeVxTj3//mYbyqlqhRaEI\n",
              "xKPqOoz98m88/+XfeFxTDwA4mHIXHx+4joYG8SX0porCTCGE4M6Dx0KLYZZ0/egI1h9LRY9lR4UW\n",
              "hZGq2np891cWMu89FFqUFkfZ46ZBwvEbhQCAuT8nYcvZLPx+NV8osbRCFYWZsvLQDfRfcwI/xGcL\n",
              "LQpFJOy+dBv7L99RfP7PiXSsOHgdT68/hcLyKgEla3kozxmKKqpVSvrer6jmXyAdUEVhpnz3VxYA\n",
              "4KP915BT/EhgaShCU/qoBu/+mox5v1xGdV3jUsjFnBLF9gW7LgskmXb+uFaAtMIKocUwitJHNYr3\n",
              "Kw5ex4qDNxSfiyqqkVtcKaqZHFUUFAxae1JoESgC86imTvG+XsMa+a0C8XRaAJCQXYJZP15C7Oen\n",
              "Vb4veVSDEqVOWKycTb+v8nnL2SzF+z+uFeCptXF4ev0pPKquUz9UEKii4IiDKXexcHcKauoahBal\n",
              "xbPq9xsYsfGMwigoRgghKCiT7vKNTCa0BKpcuV3W7LuaugZErDiGiBXHRP/cMdmrM+41zfDFovSs\n",
              "hBagpTL35yQAQIi3E6b0CxBWmBbON6czAQD7L9/BhCg/gaXRzJgv/0Zy3gMMDHYXWhS9UVo2h8j0\n",
              "BDT1s2czmkbpFVW1cGtty59AHHH3wWP4trEXWgw6o+CaeyI0TLVU6on43ArlJOc9AACcSbvPvKMI\n",
              "0PQzim1GoYnbpU1efOL9JxhGfGax0CIAoIqC0oKQiWzc29BARL0cpouE7CZjdkWVONbK5RA1bZZa\n",
              "WIHrd5svR4mJSzmleO2Hi8gtrtT7GLH8p+nSkxly/yGd5fDBhP+ew4WsElz4YIjQohhEQXkVAtu2\n",
              "VllHrxSZwlPWEw0NBEPVjNpinFyO++pvAMC5jGJM6x8grDAGQmcUHKA82jl4JV90Pui9Vx4XWgTW\n",
              "KKsULrq5oKwKnx252Sxwsb6BYP3RW7iQ1TgiP3y1QGsbNXUNKq6SYiCjSFweTpq4peQWK+YlR01U\n",
              "VNfh3yfS9dpXLEt+VFFwwIGUpsjKzHuP8Mz6UwJKYxhiTB/AxOXbDwQ796vfJ+DLkxmY8t15le/3\n",
              "X76j0hFYWGh/2odsOImeK44hv0w8UfIysfRODEjtfyp1qKLggD+uqY4gK0TgC30q9R5e2ZbA6KKZ\n",
              "nPcAocv+wDYln26hOJB8FxP/e06nM0D2/SZXQr77t2t3ywE0DgaUZ5HKRlWA2WMor6Rx3z2XbrMu\n",
              "nyHoa0shhGDDsVQcu17IsUSmQVqIOVsskyWqKDhAbIY/AJi65QJO3CzCe3tStO7z2g8X8aimHssO\n",
              "XOdRMs28uSMJf2cUY83hm4z7Lf3fNZ4kYib289OKiGZ1EvXIEHroivblKT44dEU1v5C6sVjOnzeK\n",
              "sOnPNLz2w0U+xNKKsnSaRB2wJg57E4VVvmxQ1yCOeBCqKFhi/+U7OJhyFz+dz8Hp1HtCi6MVJtmK\n",
              "ROjKK0+eRgjBlyfTEXerSOu+Qhpc04seovOHR1D6qKbZDGJv4h2NxyjT3rkVN4IZibaRbL5I7G3a\n",
              "FJmcmvoGLNiVzJM03PHjOXGUf6ZeTwZy58FjeDm3UlnHfVBZg3m/XBZOKB1U1YrLY8UQ5Jk1399z\n",
              "BTsv5gEAsteMREJ2Cf53+a7KvisOXkdRRRUWDe/Ku5xyNp/OhIONpcHHebmITFEILQBLfBGXjjcG\n",
              "Bwl2/uq6ely5XYZwXxejjn8goLOGMnRGYQA/n89F/zUnsHjfVcV3eSWV+Ol8roBS6UaMS2GGkFZY\n",
              "oVAScl74Ol7jaGvzqUxcE9Cf/utTGUYdJxZ/eaDRpvKgsrknVtzNIpQ/FrbjKqusxZgvzuKS0nIe\n",
              "kz1i7R+3+BBLKwt2JuOfX8dj/bFUQeUwFTqjMIDlBxrXw38+n4tVz4cCAAZ+FiekSHqhz4xiu0im\n",
              "uJq4q2aA/zudObr5TuljdPdy5lIkRowxqgsdwa/uRHQ+q6TZPtO3JfAkjXbCPm5ew0MsBl9NyG0/\n",
              "350R3kHEFOiMwgCqRZ5oTBvZeqQR/1BpliQ2TtxQ9bD5X/JdLXs2QgA8FIGnmSEcuSasMXvTn2kq\n",
              "nz8WgUODvqQVij/uQ+pQRWEGiCUDpb7klaimOJC7ocr5JUF1GUqd7/7KQsjSP7DrIvN+XPGwWvw2\n",
              "oYYGgviMYlRoKMdK0BidLRXu6hGDUlffoNMATtEOVRR6oulPpilvvzb+zhAuGZwUAqiU2Zek6iV0\n",
              "McewAvTyiOj3dmt3BeYSY+0Uct7ZlYz3GdyY2eCH+Gy89N9zGL/5XLNtQru+Goqu/r+qth7dlv6h\n",
              "8Vop+kEVhZ5o8ue/oGEdVxsT/3te904UAMA3ZzKFFkEwCsursCfxNn5JyGM9tUfczSLM/vESSh7V\n",
              "YM8Tl93r+eU6jpICzJpi96XbqKlrwIXsEhSWV2HSt+dwhCGtCqU5VFHoyebTzTsvsVSfUocQotFr\n",
              "RQp8eyZT8l5aplCnNEv9S4fR3lCmb0vAkWsFeGtHEqvtAsD1u+VYuv+qIAknlQv9aGKn0lLlO7uS\n",
              "cTa9GLO3X+JaLFbSsnTxdGRBEtOhXk8mINYVz7k7knAoJR+/zu6HyIA2klmbTcguwcpDN3Tv2EIp\n",
              "e1zLy71iWwEBwIhNZwA0eqj99+XerLfPhC4X2Nr6JicULq5dG2/8lKh4b2xKkQh/V7bEMQk6ozAS\n",
              "QojB01ddbp1scehJUsLNpxpnQWLNy0MIUXHdvWSgLaKlEbb8KO4/bJoJsmla4itD7Q0RLmXxPU7K\n",
              "vPcQF7JKcCO/KcNtbb1xQvx8Phe/q6VXEQKqKIykw6LfscfAXDITvz2Pcg1eJlxTasQy1JGrBdiV\n",
              "kIcjVws4k/ndX1PQZckRZNxrdG+8fld8nQzfnOVoMFFYwY8Xkxgnr9pG80zpYEzh6fWn8OLmeDxm\n",
              "KSPCHKWZiVBQRaGBvJJKPP/lWU7+SGWV/CwvyLl2twznMvU3usuZvf0S3tuTgtnbL+G177nxgpEr\n",
              "2m+fBCPpio8QEkL4r1bHV7S22OqlAI2/d2JuKSt2wFQtcRbTtybg7Z2XDfJeNFeootDAwM/ikJT7\n",
              "ANO3JiDrvu5gNUNYsv8qBn4Wp9F/nQtGbvrL5AdBU5Qum9x58BifHWHOEmssbCnlaVsT0PWjI7j7\n",
              "gNu6EULUWTDWsMulrLsu5mHsl3/jxc3xnJ0DAH5LuoMTN7mZWbCJ0HZGqih0MHjdSSxk0R//5K17\n",
              "uF36mNX6Ax/tv4oJ38SjvoEYVI9XLJxOvYcvT5oWe6ANtp6vU0+y7q47ym3uoEcCZMBNyn3AWlts\n",
              "dWi7nzwf8mDL+gai+I5t7j+sFrwj1sUr2xIw5ouzgmUcoIpCD9QT0rEBU9UzQ/khPgfnMksQn1GM\n",
              "AylNyzfHb4jTiC1l9EkZbgrKbs0Si5ME0Dwvl7FU1TZ5Kl3KKUXgB7/j3V+5SRu+aO8VvCXi7M8A\n",
              "EHfrHi7nPcD3f2cLcn7WFUVVVRXGjBmDTp06ISwsDLGxsUhPbywLWVRUhGHDhiE4OBghISE4ffq0\n",
              "jtZaLhYc9AJSqx3MB1L7RZRvoRAxCYbA5W975U5TBuBxX/3N4ZkaOSBi+5gy1QKVDOBkRjFz5kzc\n",
              "unULycnJGD16NGbMmAEAeP/999G3b1+kpaVh69atmDhxImprxZFvnW/E3gm0FMS+pKBOg5K832gI\n",
              "8hQTXP225zKLOWmXD2o4Thwq1L+ZdUXRqlUrjBgxQpFfqG/fvsjOzgYA7Nq1C7NnzwYAREZGwsvL\n",
              "C6dOnWJbBEnwf8fTdO+kB8VKCkeo0YaYkZaaaF5vW4pcvWN8PZBzmcWY8I10czJN+la6sjPBuY1i\n",
              "48aNGD16NIqLi1FbWwtPT0/FtoCAAOTmai76U11djfLycpVXfT3tCNVRLv8588dLOMpRcN1xkQbt\n",
              "CUFtfQNnrrLxEhpNa1PCOSY4VMiDRaVKQja3QaOm/LamwKmiWLVqFdLT07F69WqDj129ejWcnZ1V\n",
              "XhcuXOBASmFwasVN9pTkvAectDtDYhlF5XCxOhK8+DC6fnSE/YbVYFN2LmIy2P5t//1nmmhqRIsV\n",
              "oWKNOFMU69atw969e3H48GHY29vDzc0NVlZWKChoSnuRnZ0NPz8/jccvWrQIZWVlKq+oqCiuxOUd\n",
              "x1bWQotgFhibY4fCP1IvF9qS4URRbNiwATt27MCxY8fg4uKi+P6FF17A119/DQBISEjAnTt3MGjQ\n",
              "II1t2NrawsnJSeVlaWl40XqxUiZw7WFjUE6udiO/HGmFFQx7i4Nrd8uxN/E2TnKUrsGcmfNTIn7V\n",
              "4DouRbdeUyGEIL2In+ehoYFg059pvNa4YX394/bt23jnnXfQsWNHDB48GEBjp3/+/Hl8+umnmDJl\n",
              "CoKDg2FjY4Pt27fD2lpcI2u+vGRq6tnxjki5bbzh0FBe2ZaAH1/tg0fVdRi+sTFbaNonw2FtKd5w\n",
              "nLVHbinW/bPXjBRYGuG4xYFSP36jEMdvFCK2m4fK93ynOmGLqtp6tLI2bjD6+bFUbDqRzrJEWs51\n",
              "PBX/fnIuvv7TrCsKHx8frZ2th4cHjh5tXhzdHGFr0JV1n796wWfS7qO2vgErDzXVU66pazBKUSRk\n",
              "c5sWRI6ycfhs+n30D3Ln5bxi4zyHRvIral5Oj2qkWU/kcY3xioIvJQFAoST4RLxDQYGQmNs97/wY\n",
              "n4MdF0yPVBeiwtikb823yiCX/v1TvlN1MjGnZ+ivtPu8BAQKDS1cJBKKyqvQ1tHW4PrW647yawBM\n",
              "U1uHNXY9uo6lpbeWTIMJPe7HB66jrqEBH48OAQD8ylGeJE2YIrfUmPydsIOPB5U1cLG34fw8dEah\n",
              "RiVPQWvKHeyP53IQtepPrOEogyqbqM8mjOkTqmrrkWJCUJa5oPzbGmI7e1Rdhy1ns/BDfA7uVfCf\n",
              "AWDtH7ck6ayhjdTCCnx65CbKKsV3TXkl/ARoUkWhxjUBOrDl/7sGoKkiXUsmKbcUXZYcYTVjaUtF\n",
              "7tobn1GMqFV/4o9rjct16UUPsS/pjlbloZzzS4haC5U19Vhx8LruHSXC0M9P46uTGVh+4JrQoggG\n",
              "VRQCMSFSc/xIS+dTEcyazmcW4/NjqXovfwm1TCbv7yd+ew73Kqox68fGuhHPbDiF+Tsv45AeJTKF\n",
              "iiO5YoA3Xk1dA14TQUDnpG/P42aB9iqLV++a7yyYKgo1+HqslL1vaNZXfhn/zTls/DMNuy7qXrf/\n",
              "Ii4dnT48zINUzZH/K7T9PS6LeFZmiDvuvqQ7oqjrfj2/HJMZHB64yPhsKnwNBKiiEIhj1wsw+dvz\n",
              "KCyvMmqdf8OxVFaLHxmLoaKLqS52drHu6oVr/7gFoSpl6vpfSKmC5438chxIvgtCiGLJ7F5FNUb/\n",
              "5y/894x4llzvP6zR6iEmRkWReY/dCpzaoF5PAiEfzS7dr7ruqY8XQ1JuKTb9yU72Wb4prxLWx145\n",
              "vbvUUpCro827SGzdGSFEEaD55o4kAEDmqhHYcCwVyTwGjOrLJ4euY/kTbzFlLFksNsYWdEbBI2WP\n",
              "a3mrYa3OnzdVp9wH9cieWapUBU1opNbZPlDyXBG/6MwCyn/726WVeOqzOGw9m6VhH04EM4iZPzav\n",
              "yX0g5S4qRRqY9318DpLzHqDPquPYl9RU0ZDNqpRSw+wVRXVdPcKWH0XosqOobyAGGeHYoLZe9UnW\n",
              "p+NtEHkIQmphBV7ffgm3ChrXqQ+l5CNONAXsRdBz6omupSV5He+VB28gt6QSyw80ehqVPhKXG6cm\n",
              "+0M+SyVTuWLOT4koLK/G/J2XFd9xlZnZFPgaCJi9oigqVyr8U1ePXy+xXx/bEJL0+DOKqavTJMv4\n",
              "zfE4fLUA47+Jx438crzxcyKmb0vgXTZNDP28efndSzmluJTDbR0BY9A1aMh+Upugqk419icxV3zX\n",
              "oo7Yg/LYysXWUjB7RaFOaiF/uZM0sTfxjs59xPSQaRKl9MnyzoPKWjz/5VmeJWJGfZT+uKYe4776\n",
              "G+O++rtZMjuhO9zSylo80GOZUT1WQoQ212YQIj5bijJilk0IzFZR1NU3NLNLiKj/ZURUdgE1UdTX\n",
              "natqxTsyIwAeVjfJqy77Gz8l8ixRc8I/PqbyWdO9V1cUYvp7aKNB5C5bUlC2fGK2imLo56cRuuyo\n",
              "iheMptz6YuRhtXjSOKvPbr4909ygKkdUCk4PxNhXqP+EexNvo47DTndKX39O2uVST2ye0ou7xs0U\n",
              "s1UUmfcb/Y//Smsq/rHsgDTSDizckyK0CAqu56vGRZQ8Eo9Hli4IYXYvNDRBIx+oS7tgVzKnS09t\n",
              "HW3Za0wJLoNMXe1t8Ovsfia1wVQ6tr6BYPel28gVqH61EJh9HIUUXd6EyN+jDVceMldyxZazWSr1\n",
              "KtS584CfhGuGoM/SkzKm2rNeG9gRGzgoUUoI4UwRW1rI0Mvf1aQ2mET76XwOPtpvXnmfzHZGIUeE\n",
              "g0ZJ4dhKdazB1LmKceXpRr54IsWNhclGse6PWya1bWdjfPnhonLtLrANhHAy4BncuS16+rqY3E4t\n",
              "g9fT+Ux+im6JCbNUFGzXmn09JhAA4GLPTlnX63fL8fbOy/j+72xW2uMSeUZTOUkMnkIi1BOSQ9Nv\n",
              "qG6jUB787Lt8l1uBGLjGkK5l96Xb+F8y+7JtnR7FyirB/Yfal1Dl8SvmhFkqipO3mm4001qkviwc\n",
              "1gVZq0dg5lMdTW4LAEZsOoPfku5g6f+4n96+OqCDScevPHRD733ZrlEwLsKH1faqOaoCF+bjzFpb\n",
              "JzQELnJVc0I+ADKWc5nFuKwlLqiwnP86GWN7epvcRmVNnYqnnLlglopCGbZMFDKZDH06uLHTGI+8\n",
              "P7wLbKzY+xswjcQiVhzTuk0MRK85gXIOUrnsnzuAtbZmaUiHoey5B6g6aBhLuK8LFg7rAgCYEOmr\n",
              "+H5shP6d7ePaeoz5QjxxNM908zC5DaZZEhtEB7rh7PtPo42DuGx/ZqcoqmrrVdYf2Qyq6uXvil2z\n",
              "+uHMe4NZa5MrJvXxwzdTesHa0gKpK4cje81IoUXSi/eHd+G0/R7LjgJo3vlKCTaWRtyUOqqX+wUo\n",
              "3m94MRz73+ivVxvqAYx889aQYJXPbIwJufZ98XG1g7eLHSL8TDPGs41ZKYra+gaELT+KrWezFd9l\n",
              "sJymN6pDG/i2sUd0oLhnF68O6ICh3T1Vvnu5Hzc+82yi/KASEMSyMEpU515FNSujciFoaGAnn6iT\n",
              "XZO9Td3hI9ijtV5ttHexY0ES4wls66DymR3HFXY1hYONJV7s7YNJfRoLmc0a1Ljc19PPRa/jaa4n\n",
              "Digsr2q2Dp1eZFrKjkVaRrj/mRhhUrtC8LGG1MpiIzKgjeJ9uK8LvprE/u/8oLIGKRwlh2xlzf4j\n",
              "5966afS/O5GdGiXKv7OxdRj4TIW/4cUwXPhgCOM+bLjjsukluef1aCQvHYrP/hmGT54PRerK4Qhs\n",
              "26iEXxvIjr2TLcw+jsJU5CMAdbhaY2QrullbK62sLUSXduPj0d0R280DeSWP0dPPFcfefgrnskrw\n",
              "UqQvrCzZ73gJgB/is01qw9JCht/mRCsC1q4ufxY1dQ3IL3uMJfuuYuGwLtiffBc/n881Wd5qpfu1\n",
              "/mhzd1h9S7n26dAGn/2zBy7llGJ0eJMtIqhda/TwcRZtzMyn40IxVoNjg7piaO/cyuRzsTmCV4/1\n",
              "ULYV6ms35Mu936wUhRgjbQ1ljx5JA7Xham+tSNjXTkvE7cyBHbHpRLrR52Cbyx/FKgo5tXduXMoI\n",
              "9nBEsIcjd+fMe8BKWowePi6K961trQDbxgHE3jmNa/wHUthxD61Q8sLR5E2kb2ZcextL+Ls5wN9N\n",
              "dcnG0kKmt12Cb64sGwrHVprd0j2dmhRDbDcPlfshJAOC3BEdJO6laXXMaunp5/M5gpy3g7uD7p30\n",
              "4Mf4bLz7a7LRx89Qms5qe7jmPdPJ6Pa5oJW17oCvyAB2DX/v7TY9RcqQLu107sOGa7Y+5JToTjVh\n",
              "bSnDQgZHAZlMJsqBlrb/MQCEeDsp3n80qhtLZzR9ALF9Rh/MiQliQRZqo+CEL+IyhBbBYOSJClML\n",
              "K7DEhLQBn44LRZgeIyqxlXvUR1F4OgtrNNWEPss03bycdO5jKN3aN29TH8V34+Nh6OKpnzxirB2t\n",
              "CTtrS/QPckOEnwu8WTKs85ld4KcZfbBxQjh/J2TArBQFGxgSVCcf6Sr7oRvKv5485Ka6a46P9ONs\n",
              "PbO6rh5phRWCZYdtw1JEPN+82Nv4/wXbGGLraWVtiaXPsTVCNx6/NvaM22UyGba/2gd7Xo9mLaeb\n",
              "tgBCLugf5K5iKxISs7JRmIqHky3ClfLIHH37Kcb9v38lCldul6F3QBv8frXApFKKbCxTdOJoXf/l\n",
              "7y7gfFYJFsQKs2z1dmwn5JZUwtXeBnuTjLfh8I08eR2b1fX4UtXT+3dQlF4VgvMfDNHLYYTt5TJD\n",
              "MhG0JOiMwgC+mxqp0l3r6njtbazQp6MbLC1k2Dmzr9HnLSyvYqU0Y1tHW5z+12Bc+vAZk9tS5nxW\n",
              "Y5I0LrKM6oOLvQ22To/ChvHh8HdjHmWKjc9fDGe1vcc1LT+9xPM9veHh1ArWJni8RSm5/1J0QxWF\n",
              "AQR7tEbfjo3eCoauebaytsTf7z9t1Hn7rPoTU7dcMOpYdfzc7OHWmpsaA2KAPaOlaegb9ubHsmLL\n",
              "NoMaCZ+PDze5ja8mR+gd1CY08lQqmuBrBkkVhQHIIIOrgw1Slg3FyX/FGHy8l4sdpkUHsC4X22x4\n",
              "MQxAY3WzNwablhjOWCZE+mKfES6ZQ7p64OS7MewL1IIRi8GUD64ufxYXFg+BW2tbfDc1Umhx9IIp\n",
              "qSRfdkFqozAAuT3MicElTxcje7THNp7Thxvqnjs2wkclgEkIb7E143oYfWwAS+7IxjCsuyeOXCvA\n",
              "tGjTsvLyRYSfi2gMpnzQ2taqMaYF3AXFMnHinUGGH8RgZuHLZZnOKAyADbdAvh0LR4a2x9Zp0hg5\n",
              "scn8Z4J178QBX02OwJVlQw1yfT345gC80p8fxeJgY4nD8wYqPivndKJwQ4DS8mLHtvrlyVLG1kq7\n",
              "izhfMwqqKBjoquaTzoby5jtoad0LYYKOsIVi3hBhFIVMJmMMAtNEiLczPnquG4ZykOBQnTatbdC1\n",
              "vRO+ntwLvf1dsXKM+PN7SZ1Vz4cCMH7wEs5CxT5T4V1RpKWlITo6Gp06dUJkZCSuXRNv7dn9b/TH\n",
              "3MFNEZRsdPJ8x7PVNYgrbxNfCBFFbG9C2VCAO/dlZeR/h2Ehntj9ejR8XKXlJcZFUkWuiQ5yx80V\n",
              "wzDfyKwHTH1GizVmz5o1CzNnzkRqaioWLlyIadOm8S2C3thYWWBod3ZHeXxHteoT2awL3zb8Rj5L\n",
              "zcV1/JPAOVPjSMb09GJDHEZ6s5zuhG/EWHddH9h4DoWEV0VRVFSEixcvYvLkyQCAcePGIS8vD+np\n",
              "4klCpw7bHbu29n54JYrV8wDAuUVDTPI1lxPd0Z0FafTnH2Hcd5hssnpsKP58Z5DJZWWD2nE/o3gn\n",
              "tjNrbSkvWy3jKVJbonrCJMSQY4tXRZGXl4f27dvDyqrR60Amk8HPzw+5uc1TLVdXV6O8vFzlVV9v\n",
              "fMWsOw8eG3Uc237umu752J7erCUOVMaThbTKQiClUWPfjm1gYSFDYNvWrDzQ2WtGYv0LYSxIphkH\n",
              "W/ZGttaWTdc7sgdPyl1C/w1eMPekgKtXr4azs7PK68IF44LOqmrr0X/NCaOOdWpljTPvDdZZFEVf\n",
              "ung2HzW6OtjwllfeGLiW7fC8gdg2vckzSx7UKAVeHcB+gRlTbR1MsJA9XUFQO8M9eEzls38a7zYt\n",
              "ZbQG6/LUb/CqKHx9fZGfn4+6usY0A4QQ5Obmws/Pr9m+ixYtQllZmcorKsq45ZmMe6ZVsfNtY492\n",
              "TuyMzjUlXyMEKHtcy0r7XGCrZxEVY+na3kmlopqUbBRWHHgnPN1Vd4pyY2HTnTLU20Xx3rEVtyFZ\n",
              "kQGuuLJsKMb05Cbmg+1U9XJ+mtGHlXa8tGSCYKMYkz7wqijatWuHiIgIbN++HQCwZ88e+Pj4ICio\n",
              "eW52W1tbODk5qbwsLaVtEGJCzMstc59u7tbXSc+6yS0ddipUq8LkN28qbM4obKwscOpfMTj5bgzn\n",
              "xtoGwlx7wljk9jC26kOo0z+IW/tedy/tUdtswvvS0+bNm7F582Z06tQJa9aswdatWzk/p3qdbLFB\n",
              "QODWWpxlJgEoynnKmTGgA+vRvMpGfjErTanTwPKP6+/moIjT6c5BfQ05XAWWbZwQjoTFz2Bwl3Y4\n",
              "t4id5eWWCO+KonPnzoiPj0dqaiouXryI0NBQzs+5l6WC81yhXjtXjLwU1bQ8GMjB2rSF0j/R2krE\n",
              "BhuREL/IuASTbCsKZbZNj8IMEz2/tOFgy83SlkwmUwyE2Hb++GJiBKvtyYkO5N+GJ1pjNpuUPKox\n",
              "+Bi+1snH9/bFyND2rC03cGVPWDKqK/4R5oUJkb54oZcP6y6stlaWWBDbCa/HBCpqY/NFnAFJBNWz\n",
              "BrficJmICWN/Iy5na20dbfEhC9l7lWcmGyeEo7uXEz4Zw/2Akk3iFz2NkT3ac9K28gyfpvBgEU8n\n",
              "wx+qfXP4KSb/6T97QCaTsZagbNesfojwc8Ge16NZaU+OvY0VNr3UE2vG9YCVpQV8dVQXM4a3hgQz\n",
              "plQ2lLRPhuvcZ2CwOzq4O+hljH22u4dKRltnO2tJeWgB3M4o5GSvGanxe21pvZ/t7oHgdq0xLsIH\n",
              "v87uh3efbYz1mNTHD6PDvXHorYGsu6mzibJCCPF2wu7Z/TgZ7Gye0gvDQzxVUulzYbfRhFlkj9Xn\n",
              "4Vg8ois++b2pepUrh5kl3RxsUKxhlpO0JBY9Vxwzqs3VY0Ph3toWYb4u2MuTkmMDXVUCTUE52NDb\n",
              "xU5jLE3nJ2kzYjq3w4Hku4ztfTCiq8pobuOEcNZKbPIFm8ZsQ/ltTn8EvH+o2febp/Ru9t3lj2Lh\n",
              "LJGEhTGd2uJQSj4AoH+gO3pzVBTp2e6eeLa7JwDgwuJGe4oNxx6JcsxiRqGPopgxkL+00G8/SfWg\n",
              "Poo1RTm9FOWHWB6SyrENH/mNANXgMDmzBnVU3AsNmxUM6+6J+c8Ew99NNSiSjz53Yh8/rBjdnbX2\n",
              "+JhRaGLvnMYZbms9bQ0u9jaCRCSnLBtq8DHKv6i9DT9j73aOrdDOkb+AWrOYUdTrMYySyWTwd7NH\n",
              "TnElJkRyW/R+YpQf2ju3QpgIskIKyVoegqdmDOiAc1nFGNSpbbO6GouGd1W8Z5oZfD2ll8bv3Xio\n",
              "ZxDUtjWm9AvAkv3sJM8UKudQhF+jw4adjSUeVou3XKsxtWb829hj1fOhOHTlLl7lccDJJ1RRKLF7\n",
              "djRO3irCcxznGrKwkGFIV82j/0l9/PDT+eYpTVoaNz4eBjsOI5DlyI2rv1xg/k27tXfCXtxp9v2w\n",
              "J1N9Zb6YGIHckkr08HFhRUa+eG9YZ4NL+LKNtBbqmngpyhc7LuRBJlN1CFg9NhR9OrqhT0c3TOzT\n",
              "PHC4pWAWS0/6Koq2jrZ4obevoJkeozqYR9F3PpSEMrqW5cYpVfRTxkLDEzKyR3u8HsNPiVg2F4q4\n",
              "CirTxfJ/NC2dfTW5F1zspWF7UOaTMaE4vmAQ3lHLEKzsNt6SMQtFIaQBz1ASc0oNPoaLhIItDbfW\n",
              "triybCj+b3y4xu3alp5kAo+B5e6PQhViYoOpSnXie/m7ImlJrOKzGAsndWzb/HmysJAhqB07iR+l\n",
              "iFkoirsavF348hYwFGMCi5SLK1G049jKGs+FeeGFXj74dJyqX76DlhmOUP2C3JV0RGij6+WcwfzM\n",
              "YNhC2+8JiCNtNhO7ZvXD5+PDMDCYOf2GOT134uwtWSY+s1jlc2BbB1z88BmBpGHG0gh3S20JwyjN\n",
              "sbSQYe0LYRgfqbpkYGVpgUSlka7y/kKwe3Y0riwbqri3hs5suIoK1pff3tDPRZuvgDFDcG9ti+d7\n",
              "+mis/qes44Sqyy4EZmHM7uzhiFuFFYrPId7ORnk38IFQHRMFGoMe+a5IKMfSQrX2tiF/i0/HhcLL\n",
              "RdhaJJ08HHF1+bOw12HvE5+aYKanb1O6HU2ZoFsq5qEoPFUVhZixNKJj4iKDKaURoRSFOspyOOpY\n",
              "ntTky/+vZ9mrbKcv+sRMiHBCwUi/QDdsnRap0Y7RkjELlSil/6IlU+SXFoQyuPq4tvwlL7FM8JT1\n",
              "1fgncT5zDPC8shNpzWahAgBNYXCXds2CL1s65qEo1P6MInn2NdLRXTp1Hn6fN9Co4yb3lY5LoVhm\n",
              "FMoGYLkXnzbHB01dr1i744TsEqFF0AofAZVSwSyWntQfErE+NADwVCfDC50IZRA0ZpkMAFZKKBOo\n",
              "SPSEClIchWtDzK7ds2MCkVpYwVkWWClhFjMKdc0g5ufMmBGsUJfDJKtvm6ZlKTF3BroQoyunXFEo\n",
              "i3ZYbXanLrf4rqIRLqv5mUprWyt883Jv1ot0SRGzUBTOapGg9U8etKc6tRVCHNZxtRdmiszUh7rY\n",
              "NcnEV11fLih7bHgtE67RNNDp2t5JaXvzHcSaibUlzY5aMmahKELU6srKHyQxjrKMmVF047AEpbF4\n",
              "ubRSFKyXcpqD2nrxdWSKGYWWf7CTBqUwOpzb/GXGoqzgKOLFLBTFi71V8/iIeRAjwpUOrTDJumJ0\n",
              "CLbP6IOjbz/FeZJFLjHWDsMlcmP2C719YGtlgVFP1tDXjA3FlL7+iFGbKS99rpvofP6PzB+Itf/s\n",
              "gaESTI1vjpiFMVv9IZEXtBFhHyAaLxt9YJK1nVPjchNf9Sa4QtnWIhbkM2L31ra4uvxZWD3x4Z2g\n",
              "NHNTvjMv9uY2bb4xdPF0QhdPOpuQCuIaZvDEgicZIMWYJtoYNSGU15N0VJrxPN1FfCNe5eh9a0sL\n",
              "jQZ35a+MyR9GoShjlv+ggCdeOHNiAtHK2gJPd2knsERNGDOhaCDMFdq4QoweQWwjloA7ZfoFSqtO\n",
              "N0X6mOWMQk4ra0vMiQkS1RTYmM5XqL7MmE5U7B5QU/r6Cy2CToLa6Q7KFDo9OqVlYZYzipbCntej\n",
              "YWtlwVjGk0uMUWpit8G0slYdO4lp1nTwzQEoLK8S1cCGYh5QRSFhevm76t5JZIgxrbQyYlZkId7O\n",
              "CPF21r0jxOmoQZEuZr30JEX6dmwsldo/SJrr1OJWExoimiXa4Xo4iXuJjyIt6IxCYnw1qRcOXsnH\n",
              "cxLNPyPyCUUzxSBRPYG2jrb4+bU+cNCQcpxCMRT6L5IYrg42kjC4qtPDxxkpt8swuqe4g++kqhg0\n",
              "ER1oeIJJCkUTVFGImMGd26KqtqFZKVcp8uOrfXAusxgxncWdX6vZjKIlaQ4KxUiojULElFTWYsfM\n",
              "vvj25d5Ci6IXwU/cNj01rI8721nj2e6eos4WCmhyK6WagkKhMwoRY/3E7dVCxOq8a3sn3Mgvx9Zp\n",
              "kejh44zdl25jbISP7gNFSrCHdApHUSh8QRWFiLmYUwpA3MFTB98cgHsV1fB8Ekg3a5D+5TnFSHcv\n",
              "dfdTkVvfKRQeEPFYlSIFLC1kCiXRElCPXRS7lxaFwgdUUYiYGQM6NL4R74SixSGmSGwKRSyYnaII\n",
              "cLMXWgSdDAhqdGuc/MQNtjst7kKhUASE2ihEyA+vROFRTR0cWzVWKmvn1Aqn/hWj+EzhDjqfoFCa\n",
              "w+qMYtOmTQgJCUFoaCh69OiB7du3q2xfuXIlAgMDERgYiMWLF7N5ar2RwpKzhYWsmVLwd3NAGwdh\n",
              "amObE3TliUJpDqsziu7du+Ps2bNwdnZGXl4eevbsiX79+iEwMBCnT5/Gjh07kJKSAisrK/Tv3x/R\n",
              "0dEYOXIkmyJQKCah7mHW3AuKQjE/WJ1RDBkyBM7OjQ+Wr68vPD09kZeXBwDYuXMnpkyZAgcHB9ja\n",
              "2uKVV17Bjh072Dy9XlAvFgoT6jMKOxtxBwhSKHzAmTH7+PHjKC0tRWRkJAAgNzcX/v5NOYoCAgKQ\n",
              "m5ur9fjq6mqUl5ervOrr67kSl0KhUChaMEhR9OvXD+7u7hpf8pkDAFy5cgXTp0/Hzp074eDgYJRg\n",
              "q1evhrOzs8rrwoULRrVFoeiLcnrul/tJL/kihcIFBtko4uPjde5z/fp1jBo1Clu2bMGAAQMU3/v5\n",
              "+SEnJ0fxOTs7G35+flrbWbRoERYsWKDy3ZIlSwwRVyNEEuZsilDYWFng2NtPYf/lu3hVHsdCoZg5\n",
              "rC493bhxAyNGjMA333yD2NhYlW0vvPACfvzxRzx69AjV1dXYsmULJkyYoLUtW1tbODk5qbwsLU1f\n",
              "LxZzOgyKOAj2cMS7z3aGK/Uyo1AAsKwo3nrrLZSVlWHhwoUIDw9HeHg4/vjjDwBATEwMxo8fj9DQ\n",
              "UHTt2hWxsbEYNWoUm6dnZOWYEDjaWmHTSz15OyeFQqG0BGRE7EWMlViwYAE2bNhg9PENDQQW6sl8\n",
              "KBQKhcKIWaXwoEqCQqFQDMesFAWFQqFQDIcqCgqFQqEwQhUFhUKhUBiRlDF77NixCAgIMOrY+vp6\n",
              "XLhwAVFRUay42QoJvRbx0pKupyVdC9CyroeNa/H398e8efP02ldSisIUysvL4ezsjLKyMjg5Sbu+\n",
              "A70W8dKSrqclXQvQsq6H72uhS08UCoVCYYQqCgqFQqEwQhUFhUKhUBgxG0Vha2uLpUuXwtbWVmhR\n",
              "TIZei3hpSdfTkq4FaFnXw/e1mI0xm0KhUCjGYTYzCgqFQqEYB1UUFAqFQmGEKgoKhUKhMGIWiiIt\n",
              "LQ3R0dHo1KkTIiMjce3aNaFFwltvvYWAgADIZDJcvnxZ8T2TrFxsY4OqqiqMGTMGnTp1QlhYGGJj\n",
              "Y5Geng4AKCoqwrBhwxAcHIyQkBCcPn1acRwX29hg6NCh6NGjB8LDwzFw4EAkJSUBkOa9kbN161bI\n",
              "ZDLs27cPgDTvCwAEBASgc+fOino3O3fuBCDNe1NdXY25c+ciODgYoaGhmDx5snivhZgBgwcPJlu3\n",
              "biWEEPLrr7+S3r17CysQIeTUqVMkLy+P+Pv7k6SkJMX3TLJysY0NHj9+TA4dOkQaGhoIIYT8+9//\n",
              "JoMGDSKEEDJ9+nSydOlSQgghFy5cIN7e3qSmpoazbWxQWlqqeL93717So0cPQog07w0hhGRlZZF+\n",
              "/fqRvn37kt9++40QIs37Qghp9rzIkeK9mT9/Ppk7d67iucnPzxfttbR4RVFYWEgcHR1JbW0tIYSQ\n",
              "hoYG4uHhQdLS0gSWrBHlPz6TrFxs44qEhATi7+9PCCHEwcFB8QAQQkhkZCQ5duwYZ9vYZuvWrSQs\n",
              "LEyy96a+vp4MGTKEXLx4kQwaNEihKKR6XzQpCinem4cPHxJHR0dSVlYmiWuxMm3yJH7y8vLQvn17\n",
              "WFk1XqpMJoOfnx9yc3MRFBQksHSqMMnq7OzM+jaurn/jxo0YPXo0iouLUVtbC09PT8W2gIAA5Obm\n",
              "crKNTV5++WXExcUBAH7//XfJ3psNGzagf//+6NWrl+I7Kd8XoPHeEEIQFRWFNWvWSPLeZGRkoE2b\n",
              "Nli1ahWOHz8OOzs7LFu2DC4uLqK8FrOwUVD4Y9WqVUhPT8fq1auFFsUkfvjhB+Tl5WHlypVYuHCh\n",
              "0OIYxdWrV7Fnzx58+OGHQovCGqdPn0ZKSgoSExPh7u6OqVOnCi2SUdTV1SEnJwfdunXDxYsXsWnT\n",
              "JowfPx51dXVCi6aRFq8ofH19kZ+fr7gBhBDk5ubCz89PYMmawyQrF9vYZt26ddi7dy8OHz4Me3t7\n",
              "uLm5wcrKCgUFBYp9srOz4efnx8k2Lpg6dSri4uLg4+MjuXtz5swZZGdnIzg4GAEBATh37hxmzpyJ\n",
              "Xbt2Sfa+yNuztrbG/PnzcebMGUk+N35+frCwsMCkSZMAAD179kSHDh2Qk5MjzmsxfHVNegwaNEjF\n",
              "kNOrVy9hBVJCfc2VSVYutrHF+vXrSUREBCkpKVH5furUqSoGTi8vL4WBk4ttplJaWkru3Lmj+Pzb\n",
              "b78Rb29v0tDQINl7o3wuuY1CaveFkMZ1fWVHg/Xr15OBAwcqrk1q9yY2NpYcOnSIEEJIZmYmcXNz\n",
              "I7dv3xbltZiForh58ybp27cvCQ4OJr169SIpKSlCi0RmzpxJvL29iaWlJWnXrh0JDAwkhDDLysU2\n",
              "NsjLyyMASMeOHUlYWBgJCwsjUVFRhBBCCgoKSGxsLAkKCiLdunUjJ06cUBzHxTZTyc7OJpGRkSQk\n",
              "JIT06NGDDBkyRKHIpXhvlFFWFFK7L4QQkpGRQcLDw0loaCgJCQkh//jHP0hWVhYhRJr3JiMjg8TE\n",
              "xCj+a7t37xbttdBcTxQKhUJhpMXbKCgUCoViGlRRUCgUCoURqigoFAqFwghVFBQKhUJhhCoKCoVC\n",
              "oTBCFQWFQqFQGKGKgkKhUCiMUEVBoVAoFEaooqBQKBQKI1RRUCgUCoURqigoFAqFwsj/A+i9bdMd\n",
              "bW/EAAAAAElFTkSuQmCC\n",
              "\">\n",
              "        \n",
              "      </div>\n",
              "      <script></script>\n",
              "      <script type=\"text/javascript\">\n",
              "        (() => {\n",
              "          const chartElement = document.getElementById(\"chart-e324ad57-886b-408e-9e56-84142d1b17a4\");\n",
              "          async function getCodeForChartHandler(event) {\n",
              "            const chartCodeResponse =  await google.colab.kernel.invokeFunction(\n",
              "                'getCodeForChart', [\"chart-e324ad57-886b-408e-9e56-84142d1b17a4\"], {});\n",
              "            const responseJson = chartCodeResponse.data['application/json'];\n",
              "            await google.colab.notebook.addCell(responseJson.code, 'code');\n",
              "          }\n",
              "          chartElement.onclick = getCodeForChartHandler;\n",
              "        })();\n",
              "      </script>\n",
              "      <style>\n",
              "        .colab-quickchart-chart-with-code  {\n",
              "            display: block;\n",
              "            float: left;\n",
              "            border: 1px solid transparent;\n",
              "        }\n",
              "\n",
              "        .colab-quickchart-chart-with-code:hover {\n",
              "            cursor: pointer;\n",
              "            border: 1px solid #aaa;\n",
              "        }\n",
              "      </style>"
            ]
          },
          "metadata": {}
        },
        {
          "output_type": "display_data",
          "data": {
            "text/plain": [
              "import numpy as np\n",
              "from google.colab import autoviz\n",
              "\n",
              "def value_plot(df, y, figscale=1):\n",
              "  from matplotlib import pyplot as plt\n",
              "  df[y].plot(kind='line', figsize=(8 * figscale, 4 * figscale), title=y)\n",
              "  plt.gca().spines[['top', 'right']].set_visible(False)\n",
              "  plt.tight_layout()\n",
              "  return autoviz.MplChart.from_current_mpl_state()\n",
              "\n",
              "chart = value_plot(train_results, *['Actuals'], **{})\n",
              "chart"
            ],
            "text/html": [
              "      <div class=\"colab-quickchart-chart-with-code\" id=\"chart-897e4fcb-e5ca-43aa-9dc0-b1090b28ed38\">\n",
              "        <img src=\"data:image/png;base64,iVBORw0KGgoAAAANSUhEUgAAAYoAAADECAYAAACBW2a4AAAAOXRFWHRTb2Z0d2FyZQBNYXRwbG90\n",
              "bGliIHZlcnNpb24zLjcuMSwgaHR0cHM6Ly9tYXRwbG90bGliLm9yZy/bCgiHAAAACXBIWXMAAA9h\n",
              "AAAPYQGoP6dpAAA13UlEQVR4nO2deVxU9frHP8OqICCCCIqIIrgBKgiCGypYZJaWefWappaZltl2\n",
              "71Vbbl01l1t6r1quN2mxTE2tX5kp7riFqIi7qCCggIpsiuzf3x/AODPMPmdlnvfrNa/XzJwz5zxz\n",
              "Zs73+X6fVcEYYyAIgiAIHdiILQBBEAQhbUhREARBEHohRUEQBEHohRQFQRAEoRdSFARBEIReSFEQ\n",
              "BEEQeiFFQRAEQeiFFAVBEAShF1IUBEEQhF5IURCERPj666/h6+srthgE0QhSFIRVk5CQAIVCgTlz\n",
              "5hj9mU8++QQDBgzgUSqCkBakKAirZtWqVfDw8MCGDRtQUVEhtjgEIUlIURBWy8mTJ5GSkoKNGzei\n",
              "uLgYW7duVW67f/8+Xn/9dXTs2BEuLi7o2rUrdu/eje+//x4LFy7E8ePH0aJFC7Ro0QJJSUk4ePAg\n",
              "FAoFqqurlcfQNCVt3boV4eHhcHd3h6enJ5599llkZGTolG/Lli3o0aMHXF1d4enpibi4OH4uBEEY\n",
              "gBQFYbWsWrUKvXr1Qnx8PJ577jmsWrUKAMAYw6hRo5CZmYlDhw6hpKQEv//+O9q3b48XX3wR77//\n",
              "PqKjo/HgwQM8ePAAAwcONOp8Li4u2LBhA+7du4fLly+DMYbx48dr3besrAwTJkzAypUrUVJSgpyc\n",
              "HLz//vucfXeCMAU7sQUgCDEoLCzE5s2bsXTpUgDAtGnTEBsbi7Nnz6KqqgpHjhxBfn4+WrduDQDo\n",
              "1KmTxeeMj49XPvf09MS8efMQFhaG0tJSuLi4NNrf3t4ely5dQmhoKDw9PTF06FCLZSAIc6AVBWGV\n",
              "NDixX3zxRQDAkCFD0LlzZ6xatQoZGRlwd3dXKgmuOHToEGJjY+Hj4wNXV1fExMQAAO7cudNoXycn\n",
              "J/zxxx/Yu3cvunTpgpCQECxfvpxTeQjCWEhREFYHYwxr1qxBZWUlgoKC4O3tDR8fH+Tk5OD777+H\n",
              "l5cXCgsLce/ePa2ft7FpfNs0rAgePnyofO/27dvK55WVlRgxYgTi4+Nx9epVlJSU4NChQ0p5tDFw\n",
              "4EDs2LED9+7dw8qVKzF79mwkJiaa/b0JwlxIURBWR2JiItLT07Fnzx6kpqYqH2lpaQCAtLQ09OvX\n",
              "D1OmTEFOTg4AICMjA5cuXQIAeHt7IysrC+Xl5cpjBgUFwcXFBWvXrkVtbS1SU1Oxbt065fbKyko8\n",
              "evQI7u7ucHFxwe3bt/Hhhx/qlDEvLw9bt25FUVERFAoFWrZsCYVCATs7shYTIsAIwsoYNWoUi4uL\n",
              "07rtrbfeYt26dWP37t1jr776KvP19WUtWrRgXbt2Zbt372aMMVZUVMTi4uKYu7s7c3NzY0lJSYwx\n",
              "xrZv384CAgKYs7Mzi4+PZ59++ilr166d8tgJCQmsQ4cOzNnZmYWGhrKEhAQGgKWnpyu3N+x/+/Zt\n",
              "NnToUObu7s6cnZ1ZQEAAW7p0KZ+XhSB0omCMemYTBEEQuiHTE0EQBKEXUhQEQRCEXkhREARBEHoh\n",
              "RUEQBEHohVdF0ZDU9PPPPwOoSyyKj49HYGAggoODcfjwYT5PTxAEQXAAb4oiMzMT69evR1RUlPK9\n",
              "OXPmICoqCunp6UhISMD48eNRVVXFlwgEQRAEB/CiKGprazF16lSsXLkSjo6Oyve3bNmC6dOnAwAi\n",
              "IiLQtm1bZXYqQRAEIU14URTLli1D//79ER4ernyvoKAAVVVV8Pb2Vr7n7++PrKwsrceoqKhASUmJ\n",
              "2qOhgBtBEAQhHJwrivPnz2Pbtm16yxMYw6JFi+Dm5qb2+OmnnziSkiAIgjAWzhVFUlISMjMzERgY\n",
              "CH9/f5w4cQLTpk3Dli1bYGdnh7y8POW+mZmZ8PPz03qcuXPnori4WO0RGRnJtbgEQRCEAThXFDNm\n",
              "zEBubi4yMzORmZmJqKgorFu3DjNmzMCYMWOwZs0aAHXdxW7duqUstayJo6MjXF1d1R62trZci0sQ\n",
              "BEEYQNBSlEuWLMHEiRMRGBgIBwcHbNy4Efb29kKKQBAEQZgI74ri4MGDyudt2rTBnj17+D4lQRCE\n",
              "5Dl1sxC2Ngr0at9SbFEMQsXtCYIgBOZBRTVGrz4GALi64Ck42Em7SIa0pSMIgmiCFD96nGhcWVMr\n",
              "oiTGQYqCIESA2sAQDTysqAYALNtzBc+tOoryqhqRJWoMKQqCEJivjmSg49zfsSzxqtiiECKhOlE4\n",
              "caMAALBi/zWcySrCz2duiSWWTkhREITAzP/tIgBgxb50kSXRT00tw/7L+bj/sFJsUayKKgmaokhR\n",
              "WCm7L+Rh0L8PIDW7SGxRCIlwq+gR8kvKla+/PZ6Jl79OQdj8RDKVcYzcLicpCivlte9OIet+GUZ9\n",
              "KU2bKCEsZZXV6L94P/ou3Ifa2rpRbNf5x1UU1h2+IZZoTZ6528/h/K1i5es7pRUiSqMdUhQExq47\n",
              "IbYIhMjklzwenGq0THf/dyRDSHEM8qiyBqNXH8MX+6VtvtPFGZWVfFllDUasPKJ8nVdcjlmbzuDV\n",
              "b1Mks5KjPAqeYIyhsqYWjnbSLztyVubmp7LKahQ/qoKPW3OxRWkSSGRs0svmk1k4dbMQp24WYubQ\n",
              "QOX7y/ZcgY2NAm/HBYkonWGy75fp3Lb1VI7y+e3icrRrKf7/mlYUPDHzhzPo8uEfyCsuN7wzYRFR\n",
              "C/chetF+ZBXovvnE5lxOMSI+3Yv0/FKxRdGKQtubzMB2EamobuzwzS8px4r91/DfvekoLZd2QzRj\n",
              "VwpSWVGQouCJnedyAQBbUrJFlqTpU1JeF4d+9Po9kSXRzTNfHMHd0goM+w+1/+WL3Rce+1RqaqUx\n",
              "wFrK8esFYosAgBQF0YSQ2qxX7jxSCXJQyODiSl05lJRXIfFiPiqra40276lGoYkJ+Sh4RiIrRzUo\n",
              "ykkYUrOLkJ5fijF92ostikmwepvTOZVIHFVntxSZsy0NP56U9up98oZknM4qwqsDO8LJQV5Dr7yk\n",
              "JTih60d/iC0CLwg962WMIbe4HD5uzaDQcvJRXx4FAEk4I02hqKwKbVylHYRxJe+xr6eyuraRkpDi\n",
              "BO10VhEA4OtjmWjp5GDUZ7T9r8SATE88oLpcPJNdiAf1tVwI7lG9tgqBjU+rDl5Hv8X7sVwjw/ph\n",
              "RTWe/eJxuOPXxzIFlctSLudJ0+Guym9pucrntVLUCnqoqmG4K8FcCX2QouCBJbsuK58fvHIXI1UG\n",
              "DcI4amqZUfbZk5n3H78QePL12e4rAID/7lVXFD+ezEZazmOzTZ6e77FyXzrGrz+BimpxzYGaQ62+\n",
              "aBspROLIoeJqU4IUBQ+UVarf9NfvPhRJkseUVVbj1M1CZdatNq7klWLI5wfxS6r4Rcle+eYk+i7c\n",
              "h2PXpBvJpMpvabeVzzUH/aIy3aGaSxOv4tj1AvySelvnPkKw//Idtde6dMHDimoM/vwgPthxTgCp\n",
              "jEObrCO/PIrEi/nCC9NEIUVhJQz9/BBGrz6Gz/Zc0bnPqC+PIuPeQ7z1Y6pwgung4JW7AAybbd7Z\n",
              "nKp8LqY1d+YPZ3Apt0Trtiw9yVUNVIgcYKBqCtG3Yvgl9TZuFpTh+z+zhBDLbLLul+HVb1PEFqPJ\n",
              "QIqCB1ijhbz4NJg/Vh+8rnOfRxKMhtpTPyv8JfWW1pWO6mz9n79cwLU7DwSTTZOnlifh/sNKs3wl\n",
              "OUWPeJDIfHT9g6X43773QF72flOo1JJYKAakKDjkZsFDTP3mJHZfkNaSt1DmZaIz61c5b/2YqqzV\n",
              "f/DKHczadEZtv0dVNYhbdgi3RRx0ByzZb9bnSsulFfCg2oFNFSmkKhRrmPL0+YC+O57JszT6KXhQ\n",
              "gR+Ts5TNiUxFKoEQFB5rIfsu5ePXs7cxf1QwYj47KLY4WtFW7qDxPtJbTTSgWk3z7c2pGB7ig8kJ\n",
              "J3Xun5ZThLYihaRq+qeMRWz/sGoUJkPdNdQkauE+tGgm7pCx+uB1LPnjsuEd6/nolwuYGO3Pn0AG\n",
              "mPBVMi7lluDPjPuGd9aCLoUtNKQoTODanVLM3X4Ob8cFoX9nTwDAK9/U2UHTRTR5cEHYvESxRdBJ\n",
              "yk31m2zdYd3mszrEjT2XonnGEI80FJxmyC9QP3PX7oYRDG1K4sZd6d57DX6r38/lGthT2pDpyQSm\n",
              "fXsKJzML8eL//my07cJtke8gC3lo5kxYCDT9DrcMmpbkN1CLjaaJ40x9cpgcuFUoLf+ONiSSN2c2\n",
              "pChMwJKGItUixn3L7U+qGRK7/bS6E/vXs/pnZ5fzSvHmpjPIuCd+WLKUufegQmuE0+Vc6SfcqaKt\n",
              "fwbBLaQojKSiuqZRhrUpg//sbeLFncttwEy5Wah3u6FM9//uTcevZ29j3LrjXIolGKduFvLSovZO\n",
              "STl2nctFTS3Dvkv56LNgL/62Na3Rfqb4AKSAMQ72zSezcODKHcM78oTcdRkpCiOZo2WgN+Vm3nY6\n",
              "x/BOHKI6U5STWazgQQVnzeXFKmS36oAhH4o26n6v0vIqjF59DKO+PMrZdWggdukhzPj+NDaeuKn0\n",
              "QQj9v+QDQyU8ruaXYva2c5hSHwAhhcxyuUGKwkh2nGkcwy+ViARN1h66jr4L90m6kY82su+XIXzB\n",
              "Xqzcf01sUSzCktpeqv8prhVFab1cB0WcWfOCgXFftXnYtTulCJufiPXUA9wkSFFYgKkx5UKFoC7a\n",
              "dRl3Siuw+I9LgpyPK/Zdklb+iZCkZhc3eo/LiS/f/72Mew+xfG86SkToLLfWhEE/btlhFJZV4dPf\n",
              "+bs3GGOoqqnF/suP/8/GhKjrQl/bVKEgRWEmH/183uQSAb3nJXI+S9RHw0Aj1aX2lpPZGL/+hHIW\n",
              "bcnNJHcu5ZY0apN6Vksug7ncUKk3duDKXc4Hnyf/exj/2XsVn/xygdPjcoHQ//6/rj+BsHmJmPoN\n",
              "NyVEnlqexMlxLIEUhQ7yS8r1mpa+O3HT5GOWVdYInjVcW8vMMpHtu5SPbadycLvoEW+K5h/b0nDs\n",
              "egG+PFBnavr2uOnX1BBSVZLa+ON8ntrrggf8ZdQXqmQ3c5GH0FBq4uRN8xLLxGAhT6uKEzfuo7Si\n",
              "mrMsdim0KSBFoYX0/FL0XbgPPf+1R2xRLEKhAF79NsUsm/8r36Tgva1n0W/xfizYya8Jq6F8heH8\n",
              "CNORkZ7A0sSravZ0LkXXdx0maMkL4uM8pnCr6BFGfnGEk0rGupzd68hPYTSkKLQw7D+Hlc9Vy0dz\n",
              "wfqkG3hnc6rect9cwRiw77LljsuvjmRwII1uruaXwn/OTl7PYSmnbt7H/5Ju8L5CSVbpryFU+svt\n",
              "Ymn0ZVbl41/O42xOMSeVjKfoKfcy79eLslp1igWV8DDAzB/OcJqAtPFEXXnmZ3u2xZCuXpwc8/Pd\n",
              "V3A1vxRrJoSjTKUC7C4NU4ZUOWUgb8ISuBoCRq+uy8nwdmuGEaFtOTqqvKmtZbCxUVdnXI25BSqF\n",
              "LBljKHlUDTcne24OrsKGoxkYGOSJIV24uRf5gjGG6loGe1tx5vacK4ry8nKMGzcOFy9eRPPmzeHl\n",
              "5YXVq1ejc+fOuHPnDl566SVcv34djo6OWLVqFQYNGsS1CJzzxQHuwzXNLR6njQb5jt8owLlbjaNn\n",
              "rJm62SJ3c/Or+fzWFVL1S8itxSeXqJYQmf/bJWw4moFWzsb1mTaVw1fvIszPHW7NuVdEXNHQ5z7p\n",
              "H0Pg5dpM8PPzop6mTZuGK1eu4OzZsxg5ciSmTp0KAJgzZw6ioqKQnp6OhIQEjB8/HlVV0sxF4Bs+\n",
              "CsdVVtdKpn69VOD6Kicc5dcMpzqB2CPxDm3ari0XfibNY2yov+b3eSqXn3A0E7FLD/JybK6oqK5F\n",
              "RXUtfkgWp2EU54qiWbNmGD58OBT1BYaioqKQmZkJANiyZQumT58OAIiIiEDbtm1x6NAhrkWQBVyZ\n",
              "W1TtqwxM5LqpTR/++0Y8/j1P82iS4wJdtn1L/G+XckvQf7F5PT0s4R5HEWaZPJfLEWuRybvBa/ny\n",
              "5Rg5ciQKCgpQVVUFb29v5TZ/f39kZWnXkBUVFSgpKVF71NRIt8Kpqfx0ipvSCbkqjkipNb+RAnKz\n",
              "3mxKzlY+l7rpSZd0SRb0Od9oRti5lJjwFXcRZNoQ6x/Bq6JYuHAhrl27hkWLFpn82UWLFsHNzU3t\n",
              "kZyczIOU6ggVAdFGBDujJVy4LU/fBx8mvpxC8TNlTUXICsJlZsb9J17Ml3wvbkPk8FzyfO0hc+qI\n",
              "WQ5viuLzzz/H9u3bsWvXLjg5OcHDwwN2dnbIy3sciZOZmQk/Pz+tn587dy6Ki4vVHpGRkXyJKzhc\n",
              "3beqw+BbP6Zyms2rytMrjvByXDkS89lB2YVU8qEodF0Cc6+MqZUOrBGxqhfwoiiWLVuGTZs2ITEx\n",
              "ES1btlS+P2bMGKxZswYAcPLkSdy6dQsxMTFaj+Ho6AhXV1e1h62tLR/iqiHU/c/XDG/vJWEKvtXW\n",
              "MlkMlimZ3Nv5a2oZIj7dx/lxNZFCf2p9VFTXaC21L4O/hewRshQQwIOiyMnJwXvvvYeioiIMGTIE\n",
              "vXr1Qt++fQEAS5YswbFjxxAYGIjJkydj48aNsLeXbkgan9hwpCnyBEyWaqg6WlPL8NTyJIxadUzy\n",
              "yuKIBfZyfdx7IE4JcykR8skedP5gV6P3pdx/XR/lVebLfaekHP8WqI9Hfkk5evxzN97dnCrI+QAe\n",
              "8ih8fX11Dh5t2rTBnj3SLosh1LCn4EhRaHaD45PJCSeRufhp5BSW4Up9AbuK6lo0szd9pSeUnb/k\n",
              "URXmbk+Dr7sT3hjSWZBzWht3NTo/qtaRkhMVVeb9lwHg1e9O4SwPzaa08f2Jm6isqcX2M7ewbGwv\n",
              "Qc5JmdkiIdcw1nsPKjjxV/wvid98hAZUnaOT+/nD2VE+f3kuF2sKHv9x524Vqb0WojyN1BBKSQDi\n",
              "RD5RrSeRsOHoygtd/3/FvnROqlmK0ce7x8e7hT+pFfDy1+pOaKmH9XLJycz7ePlr3bWk+CApXTgr\n",
              "QgOkKDQoeCiM7TkmqDUnx1kv0My8gYoqbpxoQs7A5At3Ay4XpcSNZdGuyyhoQj6czHsPsergNTzU\n",
              "MkEas+Y49nNQeNMUVFswC7V6I0WhgWqDFz7p0MpZ+fzi7RKM+vKooP4Gc9mckm14Jz3ce1CB178/\n",
              "hdMqtXwI7VgyMV+25wo+331F+XrG96c5kMh4Pvn1oqDn45O4ZYfw7z+u8Na/whIu3C4R5DykKDQQ\n",
              "bNWsYnqZnJCM1OwijOewL4BQmHq9Fvx2Eb+fk0dVW7lSUl6FFfuv4YsD13irj2QIzW59skCHObS6\n",
              "ftZ+MlM+TZm4hhSFBkLZzlXjoMW6mbnA1MxnKfY+kCqqV1Y1kvCrIxl49osjKNYRXVRT83hfbXkO\n",
              "QnA5zzRFcfx6AU+SGM8X+9P1hj1zFdIuR0hRaCDUikL1POb8/27cfdAoLFEMTL1eGTwXTWtKNCiH\n",
              "I+n3EDY/Udkqdf5vF5GWU4w1hw2Xc5CDW/l0ViH+uv6E2GJgfVIGXtHjmOYqpJ1LzGlzbA6kKDTg\n",
              "ozaQNlRrPVXVmHbOvOJyDF16CBGf7uVaLJMx9WpJQbmZwoHLdzCR50JvumjwU0746k8UllVh+sZT\n",
              "attVE8Su5JXiUX2JcgmOZwDqHK9Tv0nBkvrEtKqaWnxzLBOf/XHFwCeF42xOMfZc0G4aleJlFSr4\n",
              "hhSFBtUmDtrmkngxD5M2JONOqbopxpjQ04u50inQJ/XMbE2y75fh2PV7WLbnilFmmSlfnxQlHNEU\n",
              "9l7Mx5P/PYyx646LLYpWamoZ1h++gejF+7D3Uj5WH7yO2lqGhKMZ+Pj/LuD4DfHNTqpM++4U7pZW\n",
              "4J+/nMel3MfOYq5C2uWIfLKPBGLbaW7KfxtiS0rdeSI1agb9fOYWJkR10PtZPpOnuOBhRTUOXb2L\n",
              "mKDWkktwq6qpxfj1dSuEti2bY1yk9qKUUsCQEi6vD1XeVN/MJi2n8QRCCnr8+dXHGoVDX8wtwcLf\n",
              "hSl5YQ7/+OksDly5i2+Py7vsOVdYsY6sgzGGmT+cxuyf0gDIw7EslHnMGLSFcb+35Sxe//40/v7T\n",
              "WeEFMoCqvFn368qI/JJ6C/939rZIEunG0K+840zdZEMzwe1irjAhk8aiLWfmzwxpRxBpu4bnb0nr\n",
              "ugqJ1SuKnMJH+C0tF5tTslFRXYMSgZxDujh2XdpmDk2u3Wkc3fJHvY3393N5uFnwEP5zdmL53nSh\n",
              "RdMBU3tWUl6Ft35MxaxNZ1BWqW72E8pRqAttjahUVxkNKwpNhXJLpSeCpZOKyf38Lfq8LvhMFJsd\n",
              "39XiY0h91S40Vq8oNGdjZ7Us34XEmBwDKf2JDZk2Yj47CAD4z96r/AtjBCdVyo7bKIBylR7Vmv3G\n",
              "P/r5vGBy6WL48iS119qut+Z7XEbnuDbnp7pzDY82sQh/d4zt096iY0g1IEAsrF5RqCJkye6mQksn\n",
              "B7XXXNSB4pO5288pnxtSuH9miO9k1TSBaA6vx67d49UQOW1QJ16OW8PjisKlmT2WvBBq0THkoieE\n",
              "CtklRaFCw+xX6mw9ZVkZDS5poeGsXn/4hs59pRYhZegek9LKrQHNazhxQzKv11Xz9+UKvkxP7w4L\n",
              "QhdvF4uPo28Arqyuxf+SbuCKiUmFckZaISky5YvxvfFL6m1093HF8n382+KlVAJD03Snb0UhMT1R\n",
              "l7+iRxfklUhvhal5CWtqWWPTk+r+ErvmDfBlepoVG8jJcTT9VapsOJqBxbsuA5Be7Se+sNoVRVFZ\n",
              "JW4WPORk1jgitC3Wv9QH9rbSm4EaIqC1s+Gd9CDmOPR0qI9Fnz9/qxgFDx5HuUl1UFVFm4x8lfX+\n",
              "ekqERZ/Xl6ciRs+Kl6L1h52roq/5UgqPNZ/sbBRwtJPesCw9iQSi17xExHx2EDlF3HVaG9bdm5Pj\n",
              "HBWwiuzW6f0s+rzmDX9MT80ergc0ZwfLeqgfuXYPT6k4i8ssaIWpj2NzhnJ2LG1RTI2d2Zafp2/H\n",
              "VhjcxavR+9cXDkcze+OGjT8z7uN0lvae5Yeu3rVIPnMIbuvGyXH47Es/qnc7nP34CaP3F2pqarWK\n",
              "ooEzHJa77uLtgiOzh+DSvHiLjvPi//5E4cPKRlE4XLJgVDD2vDMIrZwdcHl+PC7PN09mzT7DhXry\n",
              "UP6xLc2sc6jyxpAA5XOuJ9Kqjm4uaduyOWfH0hr1pKE8VEtPm6ucHVVagv725gDlc1sbBXa83t+o\n",
              "Y9QyhudXHdO6TYjowllD1VvfNrdwYgEAt4oeGd7JDD57IRThHdzxz2e6o5m9Lbq0Mc7PIlR0llUq\n",
              "CtVZ8BkdMx5z8XV3QnMHW2yY3Mei4/Sen4gBS/ZzJFVjBnT2RFD9n7GZvS2a2dti2V96mnycZ75Q\n",
              "b4uqz66//fQtk4+viZPDY7caA/Dv0ZZFt6hy+Opd7EzLBSDd6C1tVVYz76mvin8+8/g6f7bbvDpK\n",
              "gV4tlM81q6b6e1hmruQLTVNZ+1ZOaq/tbCwfVfOKuVMUT/Zog9diOuGblyMxpk97bJvRD67N6sKR\n",
              "R4e34+w8XGCVikI1C/fcLctmNvvfi9H6/tCubSw6LgDc4bGAnrZ55vNhvibfTOUcdbzTxyCVboBh\n",
              "fu7o6VtnQhgT7ou/RFgWL6/JGz/UNfjRVRjOFNq4OuIvfXwBADOHdMboMF+8NywIADDRQJkWXUzR\n",
              "Ut1UUzmrjuu/pJqWcb50TE8MCmqNWUMfO4U1fW9SyzGICWqN394c0MhUphm5NLRbY1OamKyZEI65\n",
              "T3XT2u1ySv+OIkikG6uLetpXX5SsgfwSywbjTq1bGN5JgrjpSKSS2iCwYXIf9AvwxO2iR7hx9yGi\n",
              "Azzw04x+yC8ph6+7k+EDmEmVhX0c7G0VODE3VjlY/e3JLgDqwlufCvFGJ88WqK6txaZkbkOd03KK\n",
              "zP5sbFcvjA73xehwX7X3O3u1wFPB3nB3dtDxSe00rM745Lc3ByC4nXbfg4eGvI52lpueuERfCK69\n",
              "rXFzeKFCuK1KURSVVeKVb1IM78gxDnY2vPobjCXSvxWS6yM2Wum46T9+pgc+lEBGcgP9AjzRzN4W\n",
              "nVq3UCple1sbNSUR5teS09aqxWVVmL3NMn9FmJ+71oFAoVCgs1eD/Zn7m/yz3VfM9t30at9S6/sK\n",
              "hQKrJ4SbfLwfT/Kf76NLSQBAWAd35XNNf4W5cOEXeyrYG9EBHpYfSECsyvRUpCfkjU98OXRmWtLP\n",
              "4cUow5VSDVWuFZpm9oZngT4cXl8AyCywvLlSR0/Ddnw+Vm/aSqLnFBqO7JsVG4hpMcZlYUtt1amL\n",
              "5ir/nddiAvTsKSyrJ4TjpWh/g/tNiPLDwEBP/gUyAqtSFFzzbM+2erdHdWoFAPirBaWsVbNuz98q\n",
              "NtvBfX3hcLg7mWY6kAtcj1sjvzzK8RG1M4OnwatAI/Ks5JFhx/y7w4KMNs042tlihIU5LELgYGeD\n",
              "394cgP+b2V9y5e6NYcGoEHz3Sl+9+1DUEw98tseyTlqtXRzxzxHdla9X/LW33v0TJkdi24xovDLA\n",
              "fMfU5/Uy3yktx4iVR1BhpgnL1kYBL1dHs+WQMkO0xPuLjTEmivatnODj1szwjhYyfEWS4Z1M5Ivx\n",
              "YZwf0xReiu5gVGRhcDs3hPq25Oy8MsjJ5AWrUhSWOte+mtQHrV2MH2ybO9givEMr2NgozM4i/vJA\n",
              "neM9q8DyxMCu3q6YP7IH1r9kWeiuJndLK/DH+TxU19RanC1tDs/1boevJvVB4juDBD+3Lowt792T\n",
              "w0HMWugX4IF5I4M5iSw0let3Hgh+TilgVYrCUoLauKCdu3n28BXj9K8+DMHVEnNitD+Gdef2Bntq\n",
              "+WFM33gK3x6/CQcjozWMwdfIa21jo0BstzYIbOOCkb30mwOlxsLnQ8QWQXZsNGCOMYYfpvbFp88F\n",
              "m/y5OTwlZUodUhQmEubnjvkje+DblyNN+pytjQIZi4bjBY3QQ2N4ankSluwSpwF9b7+WBve5V18v\n",
              "ad5vFznrEPifsT2NzgBW5YPh3ZS+ITmgK/pMSLZOjxZbBJOwsSBx7sW+fojq1Ap9O3ngxb7CB254\n",
              "tjDd/PuZnpLpQsUVyM/DIyINGaoTjYhY0IZCoUBcNy/8dMq0vtyXLGxtaeqf89K8eGQWPETX+nLN\n",
              "Hef+bvRnuarh81xv0xUqAHi5NsOP06LhP2cnJ3KYSqivG9JyivFCOLeJgHwR3sEdEf7yUayW8ulz\n",
              "4q7g/nw/1uTPtHHl349lCFpRmAAX5h8L87hMJtK/Fb57xbTVT3MHW3TzcYVCoRCsMQrXdPYSJxHy\n",
              "p+n9cGT2EER2NH7w3f32IM7i/I1BtYqqKXIS5jGky+PMa1szVkMtmumezwvlXCdFYQKaNW/Mgc8W\n",
              "kNrYOLUvuvm4CnpOKbBhkmUlss3Fwc7G5IzxLt4uePeJLjxJpE6kfyvMGxmMw38fgk+e6Y63OOrf\n",
              "QOjm3y/0xJhwX+x43bxKzVIIeBBcUaSnp6Nfv34ICgpCREQELly4ILQIRnPqwzi8ExekfM1BTbFG\n",
              "1Vb5prpW/IxwMfDz4K+8hy5c9cz8jEF15skb9f9hPw8nTO7f0aiERinBZbCEULR2ccRnY3qit5+7\n",
              "4Z21IIU1veBX/bXXXsO0adNw9epVzJ49G5MnTxZaBKPxaOGIWJVCYlyYYdq6cZtFbAg7G8t/4oYi\n",
              "fEIhlWxUY1kyOgQOdjZmlblQZUwf/v0a/iIoUC4xx3TTlBHKQCGoorhz5w5SUlIwYcIEAMDo0aOR\n",
              "nZ2Na9euCSmGSXD9Q3i6aI9yeTuOexPAz2/0hwMH3bK6egtruuqto+aQVBkb4YdL8+LRv7NlCi6+\n",
              "BzeNr/QxbZBxZTqMQVVe1URUPjE2P6UpoW9+KtT1EFRRZGdnw8fHB3Z2dUt0hUIBPz8/ZGVlNdq3\n",
              "oqICJSUlao+aGmHNNoDugd1ctJVJaN+qOS9ORV1F3qSIanlzEbpkmk2DY5iLma6NjQJH5wzFYh5z\n",
              "K7isoDow6LFifMZAORuukEO7Wj5o6aS92nOTXFGYwqJFi+Dm5qb2SE5ONvt4+vr36sPHrTnWTAjD\n",
              "91MtT/IBtBeLe7K7t86y31KA78Cn6wuHI+XDOOVrS2fmQvIkx6uAdi2bixaxZSrDuj1O3BSqX/z7\n",
              "w7sJch4poVAokPx+nNZtXiZUirAEQRVF+/btkZubi+rquiJljDFkZWXBz69x0by5c+eiuLhY7REZ\n",
              "aVqYZwOMMXT+YJfZcscH+/A6eNUybnwJfGFOkqAp2NooYKfipDQ2I1sK8DGj8zei8qwU8HJthrdi\n",
              "A/FWbCBa8lxwMsLfHUfnDMWkfv6cHjeuXtlxXdamAa76pesyIXcVKKJR0IQ7Ly8vhIWFYePGjZg8\n",
              "eTK2bdsGX19fdO7cOIbc0dERjo7q2tLW1rxlsxBd2CxFysEcfTQSsjp6OuNuaQWn7ULl6qI0tye1\n",
              "PszJ3hWLd4YFGd6JAxRQoB3H5eQBYO3EcOSXlHPa11wVvo4rNIIPT2vXrsXatWsRFBSExYsXIyEh\n",
              "gfdzPhI4JNVU3Jrbw1bCKwoAcFexkcYHe2Mcxy1IVXNU5GSHFkvUsQJESJlKdCf+mvHw5bS1tVEo\n",
              "B/Of3zC9ZIw++vKUzKjmz2yqPoouXbrg+PHjuHr1KlJSUhASwn9K/Y270q74OH1wJ9hKPAP6lzcG\n",
              "KJ/3aOsKl2bc+lTsVGzczo7CxvaPCPVBp9bmmXuYSFpt8WjpFRNcMzGck+gnbXZ31W51fMFl8Mdr\n",
              "MZ2wfhI/5izVwI8mGfUkFua0ZORjmauNzMVPw9HOljO7fEN9Jq4don4eTvjj7YFYMjoET4f4YFwk\n",
              "tzNae1sbrJkQhuXjesFDYNPLf8f2QidP466Xt0bdHX2tOPnE3JwePvWaW3N7vDygI0aZWMF3zlNd\n",
              "1V6rmt72vxeDD4Z3U0t8lRo92jb2E8yJ7wpXjidTDaj2Lrf6qCcueVRpuulpxxvmpdubi42NAkvH\n",
              "9DT782F+LfF873ZImBKBGYMD8I2J1W2Noau3K8ZG+EGhUHBWqGzBqMelnuODfTCyVztOjgsAVxc8\n",
              "pXzu2UK7s3Vwl9aws7Uxykf07rAg/Prm45XVZy+EysqfIBT/HdcbM4c09jtenPek1uz16TEBuDjv\n",
              "Sbw/vCsO/G0wlv6lJzycHbBgVDA6tW6BVwd1knQG+USV9sEv9++IzMVP81Ij7cvxYYjr5oVPRwWj\n",
              "m48rerR11Rk2yzVWUT22otqwotjzziA88Z/DytdeLvxVbOzbsRX+zLjf6P3R4b54b+tZs465XaUk\n",
              "9+z4rnr2lBZ89uhWjRTRlj/g5eKIT57pAcC4qLOpAzvCyeHxLeMlUFXPCH93nMws5ORYfDjftaE5\n",
              "Tj7Zow2cHOzUottUcXKww7RBj1vDpnwYJ0pByr89EYTP91w16TOq/zMuElx18XSoj7Ix2M76CYtQ\n",
              "18gqVhTGtA8NauMigCR1/O3JugJwfIedSh0PAXsxBLdrbB748/1YZSiqvh4H+9+LQfIHsWpKAgDa\n",
              "teRfUQS3c8XW6dytboXyqGgOYGsn1tnrjR3WxKpa/Ppg86r4dqgvjTI8hP/seqDu/2pJXw5TsY4V\n",
              "hZHhsWsmhOE/ielYOd6ybnSGiPBvhbRPnoCLDBu+c8WbQzurLdn54tDfByO3uBy2NgrsvpCvtk11\n",
              "MHLSYdr45uVIdGqt7r/YPC0K+aUV6OzF/+Siqpq7od3dyV6wHBVdQ9jAQE/8nHpbEBnMQdfg29rF\n",
              "EXdLKxq939HTGcNDfDA8xAd3SipEKUYpBFaxovByNc6OHB/sg93vDBJkdeHazF7rrOlzM/wUkTJs\n",
              "PPPeE10EMd108HBGVCcPRPi30ltmYvrgAK3vaxs3+nbywLMClayo4rD675/vx8FeoIQd1b/2uomP\n",
              "iyXOGxWM94fLxzTawI7X++GduCC1Xh4AcOBvg9HM3hbN7G2brJIArERRtJDRzN1Dh9NVHz4CmECa\n",
              "Aiv/2hu/qTijVXHX4RQ8cJmbjn3mUl3D3YqCT/u5JgqVNcUTKmVOXJvZq/kipMj8kT3QXGOF6evu\n",
              "hLfiAq02eMEqFIWcErgy7j40+TPGhnYSdeGs21/vh+Nz1Usr6IqqEbufx8fP1OUlHPr7YFHlMBVj\n",
              "zedODtKLZpoY7Y/z/3oSPbXkVah+LymH7HKNVSgKbZEeO2dpn1mKzTUzkgMbIiEI4wjzc4ePRl+Q\n",
              "Zva2+HFalEgSNeb0R8OwbUY0YutrEXXwkEf9pwbiutfJrSssuQGpppna2ijQ3aexCdpZxToxU8D2\n",
              "tWIjH5uMBWiWrR7WvQ16tBUnUcoQhQ8rzfiUjJZMEiZKSwkKsQayVs4OaOVsnu/pnbggDAj0xOjV\n",
              "xziWyni6+bji0N8HGzTVyK0n+18j/XDwyl0M6dLaqpooWYWiEKvMgjnoijPXR7WcGjjIDCkOZA1J\n",
              "it18XHEpt6TR9i7eLRrlMbwyoKMQoqlhzCpIgpdXL83sbXlJZpU6VmF60hxGpaw3As0ovcGlw9MU\n",
              "zLXRclV6WQikOJC51vcuGaHH5KgptlAlaUzFmmblcsYqFIVQ2ahcYI6iqBFpRfFkcBvDO2mhqZRe\n",
              "FgtDQ6u2v7tU7wAbKWrieviq1SRHrML0JCfLzIBA0xskCRn2qHZeKTfR4AiFBN2thsZWbX93qZpf\n",
              "Bwe1FlsEnbw+pDPScooxqrcwOTNSpunf6dB9kwyQYMtNc2ZYDRVjhUZf8lZUp8eOWG3VNQnzaVBe\n",
              "qn+VKwvilc8Zk6ZvRRutBWrlaQ5uze2xaVoUxkY07sBpbViFomg8kNYpDiFrpRiLOYpCrEHBTk+f\n",
              "5GCVqDKp2seNQSbjrVrRQ212f6EKGJqKFO9BojFWoSh6aPQMcGsuXDE6U5HLwATod0S+MywIS8f0\n",
              "RHA7V3z8bA8BpeKWwjJzwpWFQbOo4vSYAER38kBsNy+19+1sFBgRIq1cm4Z+Kc+EkllHDliFj2JI\n",
              "F/Ub540h0i0hICdFoa80t7OjHUaH+2K0zCvk8tXO0hIa/iPPh/kiOaMQ/QLq8j80GwA1kDR7iORm\n",
              "7jtnDUDhwyp4u0lzpUOoYxWKQpOO9aWl/VpJzyQiReepLvSZnpoK/hLMiG646va2Nlj6F+1FJFV/\n",
              "Gc0sdCngaGcLbzfple8gtGOViqLBpv/3J7uivKoWz/XmrquapZgz8WOMieKnsJPYLJUP5OIUJgg+\n",
              "sUpF0YBbc3uzynrziakDk1ihsYBxXeHkjhT1hLMR1ZClKDchX6xaUUgRUybpF/71JGxtFKLNes1R\n",
              "Um1lZpOW0nj74dPdcDmvVJJh3UTThhSFxDBl0DdmZik1yJRjPlMHdhJbBMJKafq2A4KwALnqNSo/\n",
              "QXAJKQqZMbZPewDAhCjKFuWDhuv7GHlqCn9PZ8yO74olo0PEFoVoAsjPdmHlzB8VjBf6+KKXlu5b\n",
              "ckDqBRo128rKdUUBADN09AEnCFOhFYWEidFSMM3BzgYR/q301lmSIvNH9oCDnQ2Wj+sttih6kdt1\n",
              "JQghoLtCwni7NsOvMwcgTqMkgxyZGO2PS/PiESnBTGdV7K0giZAgTIUUhYS5nF+KEF83vBCuaTeX\n",
              "Dg1Z7msnhuPDp7sBAD4Y3k3rvnJoUqOZGyJ9iQmCf8hHIWEcZWAG2f9eDMoqa5Shus+H+aKVs3SL\n",
              "LhpCc0UhbY8KQQiD9EciKybrfhkAaTtUFQqFWj6HnJUE0NhHIXHfO0EIAikKCRPewR0AmT+ERFNR\n",
              "SFlJE4RQkKKQMC9FdwBAPaaFxF7E2lkEIVU4vStWrFiB4OBghISEIDQ0FBs3blTbvmDBAgQEBCAg\n",
              "IAAffPABl6duUqR8GIftr/dD3051fQaC27nh3y+E4oepfUWWrOnjoOmjINMTQXDrzO7RoweOHj0K\n",
              "Nzc3ZGdno3fv3oiOjkZAQAAOHz6MTZs2IS0tDXZ2dujfvz/69euHp59+mksRmgSeLRzh2UK9l/Bf\n",
              "GmUME3zQePVGmoIgOF1RxMbGws2tru1o+/bt4e3tjezsbADA5s2bMXHiRDg7O8PR0REvv/wyNm3a\n",
              "xOXpCcJiNMNje/q2FEcQgpAQvBlk9+7di8LCQkRERAAAsrKy0KFDB+V2f39/ZGVl6fx8RUUFSkpK\n",
              "1B41NTV8iUsQABp37bOTQYgyQfCNSXdBdHQ0PD09tT4aVg4AcO7cOUyZMgWbN2+Gs7N5rSQXLVoE\n",
              "Nzc3tUdycrJZxyIIY5FDUiBBCI1JPorjx48b3OfixYsYMWIENmzYgAEDBijf9/Pzw82bN5WvMzMz\n",
              "4eenuwLq3Llz8e6776q999FHH5kiLkGYjLMD5aAShCacrqsvXbqE4cOHY926dRg2bJjatjFjxuC7\n",
              "777Dw4cPUVFRgQ0bNmDcuHE6j+Xo6AhXV1e1h60tNWMn+MVbpQPf82HS6aVOEGLCqaKYNWsWiouL\n",
              "MXv2bPTq1Qu9evXC7t27AQCDBw/G2LFjERISgm7dumHYsGEYMWIEl6cnCE44+88nsHxcLywYFSy2\n",
              "KAQhCRSMySdS/N1338WyZcvM+qz/nJ3K55mLKSSXIAjCWCikgyAIgtCL1SiK1+u7fW15LVpkSQiC\n",
              "IOSF1YR4/CO+K/72RBfYUPgjQRCESVjNigIAKQmCIAgzsCpFQRAEQZgOKQqCIAhCL6QoCIIgCL3I\n",
              "Ko/i+eefh7+/v1mframpQXJyMiIjI2Wf4U3fRbo0pe/TlL4L0LS+DxffpUOHDnjrrbeM2ldWisIS\n",
              "SkpK4ObmhuLiYri6uootjkXQd5EuTen7NKXvAjSt7yP0dyHTE0EQBKEXUhQEQRCEXkhREARBEHqx\n",
              "GkXh6OiIjz/+GI6OjoZ3ljj0XaRLU/o+Tem7AE3r+wj9XazGmU0QBEGYh9WsKAiCIAjzIEVBEARB\n",
              "6IUUBUEQBKEXq1AU6enp6NevH4KCghAREYELFy6ILRJmzZoFf39/KBQKpKamKt/XJysf27igvLwc\n",
              "o0aNQlBQEHr27Ilhw4bh2rVrAIA7d+4gPj4egYGBCA4OxuHDh5Wf42MbFzzxxBMIDQ1Fr169MHDg\n",
              "QJw5cwaAPH+bBhISEqBQKPDzzz8DkOfvAgD+/v7o0qWLstXy5s2bAcjzt6moqMDMmTMRGBiIkJAQ\n",
              "TJgwQbrfhVkBQ4YMYQkJCYwxxrZu3cr69OkjrkCMsUOHDrHs7GzWoUMHdubMGeX7+mTlYxsXPHr0\n",
              "iO3cuZPV1tYyxhhbuXIli4mJYYwxNmXKFPbxxx8zxhhLTk5m7dq1Y5WVlbxt44LCwkLl8+3bt7PQ\n",
              "0FDGmDx/G8YYy8jIYNHR0SwqKort2LGDMSbP34Ux1uh+aUCOv83bb7/NZs6cqbxvcnNzJftdmryi\n",
              "yM/PZy4uLqyqqooxxlhtbS1r06YNS09PF1myOlT/+Ppk5WMbX5w8eZJ16NCBMcaYs7Oz8gZgjLGI\n",
              "iAiWmJjI2zauSUhIYD179pTtb1NTU8NiY2NZSkoKi4mJUSoKuf4u2hSFHH+bBw8eMBcXF1ZcXCyL\n",
              "79LkO9xlZ2fDx8cHdnZ1X1WhUMDPzw9ZWVno3LmzyNKpo09WNzc3zrfx9f2XL1+OkSNHoqCgAFVV\n",
              "VfD29lZu8/f3R1ZWFi/buOSll17CgQMHAAC///67bH+bZcuWoX///ggPD1e+J+ffBaj7bRhjiIyM\n",
              "xOLFi2X521y/fh2tWrXCwoULsXfvXjRv3hyffPIJWrZsKcnvYhU+CkI4Fi5ciGvXrmHRokVii2IR\n",
              "3377LbKzs7FgwQLMnj1bbHHM4vz589i2bRs+/PBDsUXhjMOHDyMtLQ2nT5+Gp6cnJk2aJLZIZlFd\n",
              "XY2bN2+ie/fuSElJwYoVKzB27FhUV1eLLZpWmryiaN++PXJzc5U/AGMMWVlZ8PPzE1myxuiTlY9t\n",
              "XPP5559j+/bt2LVrF5ycnODh4QE7Ozvk5eUp98nMzISfnx8v2/hg0qRJOHDgAHx9fWX32yQlJSEz\n",
              "MxOBgYHw9/fHiRMnMG3aNGzZskW2v0vD8ezt7fH2228jKSlJlveNn58fbGxs8OKLLwIAevfujY4d\n",
              "O+LmzZvS/C6mW9fkR0xMjJojJzw8XFyBVNC0ueqTlY9tXLF06VIWFhbG7t+/r/b+pEmT1Bycbdu2\n",
              "VTo4+dhmKYWFhezWrVvK1zt27GDt2rVjtbW1sv1tVM/V4KOQ2+/CWJ1dXzXQYOnSpWzgwIHK7ya3\n",
              "32bYsGFs586djDHGbty4wTw8PFhOTo4kv4tVKIrLly+zqKgoFhgYyMLDw1laWprYIrFp06axdu3a\n",
              "MVtbW+bl5cUCAgIYY/pl5WMbF2RnZzMArFOnTqxnz56sZ8+eLDIykjHGWF5eHhs2bBjr3Lkz6969\n",
              "O9u/f7/yc3xss5TMzEwWERHBgoODWWhoKIuNjVUqcjn+NqqoKgq5/S6MMXb9+nXWq1cvFhISwoKD\n",
              "g9mzzz7LMjIyGGPy/G2uX7/OBg8erPyv/fTTT5L9LlTriSAIgtBLk/dREARBEJZBioIgCILQCykK\n",
              "giAIQi+kKAiCIAi9kKIgCIIg9EKKgiAIgtALKQqCIAhCL6QoCIIgCL2QoiAIgiD0QoqCIAiC0Asp\n",
              "CoIgCEIv/w9sgvk8u5Ki0gAAAABJRU5ErkJggg==\n",
              "\">\n",
              "        \n",
              "      </div>\n",
              "      <script></script>\n",
              "      <script type=\"text/javascript\">\n",
              "        (() => {\n",
              "          const chartElement = document.getElementById(\"chart-897e4fcb-e5ca-43aa-9dc0-b1090b28ed38\");\n",
              "          async function getCodeForChartHandler(event) {\n",
              "            const chartCodeResponse =  await google.colab.kernel.invokeFunction(\n",
              "                'getCodeForChart', [\"chart-897e4fcb-e5ca-43aa-9dc0-b1090b28ed38\"], {});\n",
              "            const responseJson = chartCodeResponse.data['application/json'];\n",
              "            await google.colab.notebook.addCell(responseJson.code, 'code');\n",
              "          }\n",
              "          chartElement.onclick = getCodeForChartHandler;\n",
              "        })();\n",
              "      </script>\n",
              "      <style>\n",
              "        .colab-quickchart-chart-with-code  {\n",
              "            display: block;\n",
              "            float: left;\n",
              "            border: 1px solid transparent;\n",
              "        }\n",
              "\n",
              "        .colab-quickchart-chart-with-code:hover {\n",
              "            cursor: pointer;\n",
              "            border: 1px solid #aaa;\n",
              "        }\n",
              "      </style>"
            ]
          },
          "metadata": {}
        },
        {
          "output_type": "display_data",
          "data": {
            "text/plain": [
              "<google.colab._quickchart_helpers.SectionTitle at 0x784e240caf80>"
            ],
            "text/html": [
              "<h4 class=\"colab-quickchart-section-title\">Distributions</h4>\n",
              "<style>\n",
              "  .colab-quickchart-section-title {\n",
              "      clear: both;\n",
              "  }\n",
              "</style>"
            ]
          },
          "metadata": {}
        },
        {
          "output_type": "display_data",
          "data": {
            "text/plain": [
              "import numpy as np\n",
              "from google.colab import autoviz\n",
              "\n",
              "def histogram(df, colname, num_bins=20, figscale=1):\n",
              "  from matplotlib import pyplot as plt\n",
              "  df[colname].plot(kind='hist', bins=num_bins, title=colname, figsize=(8*figscale, 4*figscale))\n",
              "  plt.gca().spines[['top', 'right',]].set_visible(False)\n",
              "  plt.tight_layout()\n",
              "  return autoviz.MplChart.from_current_mpl_state()\n",
              "\n",
              "chart = histogram(train_results, *['Train Predictions'], **{})\n",
              "chart"
            ],
            "text/html": [
              "      <div class=\"colab-quickchart-chart-with-code\" id=\"chart-bf33f9b3-496a-4544-a341-554de07d25dd\">\n",
              "        <img src=\"data:image/png;base64,iVBORw0KGgoAAAANSUhEUgAAAYwAAADECAYAAACMRRb/AAAAOXRFWHRTb2Z0d2FyZQBNYXRwbG90\n",
              "bGliIHZlcnNpb24zLjcuMSwgaHR0cHM6Ly9tYXRwbG90bGliLm9yZy/bCgiHAAAACXBIWXMAAA9h\n",
              "AAAPYQGoP6dpAAAZl0lEQVR4nO3deVRU5/0G8GdYnIKyKLiwDSAMpopgpHgI6sHEkKNogyH1pFVT\n",
              "sPUgGqOWtG7EuFb0SKkmJnVpRSunLq3GnBOPNpLgktYFl+AWWZRh1IAkiLjByAzv7w9/uXUi0TvD\n",
              "DLPwfM65JzP3vXfm+zLEh/e+c+9VCCEEiIiInsHF1gUQEZFjYGAQEZEsDAwiIpKFgUFERLIwMIiI\n",
              "SBYGBhERycLAICIiWRgYREQkCwODiIhkYWBQp5KVlYUpU6bYuoxn0uv1UCgUOHToEADg6NGj6Nat\n",
              "GwwGg9mvOXr0aCxbtsxCFVJnpOClQchedevWTXr88OFDGAwGeHh4SOv279+P4cOHd2hNGo0G4eHh\n",
              "8PT0hEKhgIeHB+Lj47F69WoMGDDAYu+j1+vh7u6O4uJijBgxwqwaKyoqEBkZabGaiDjCILt17949\n",
              "aZkzZw6GDx9utO7xsHj48GGH1lZaWop79+6hvLwcHh4eGDt2bJvbdXRdRNbEwCCHtHjxYgwbNgwL\n",
              "Fy5EYGAgBg0aBAB47733EBUVBS8vL4SEhODtt9/GgwcPpP0yMjIwadIk6XlYWBiWLl2KlJQUeHl5\n",
              "ISIiAh9//LHsOrp3747JkydDo9Ggvr4eW7ZsQXBwMD788EOEhYXBz88PAHDjxg1MmDABQUFB6NWr\n",
              "F371q1/h22+/lV6nrq4OaWlp8PX1Rd++fbFz506j9zl06BAUCgX0er20buvWrRg0aBB8fHzQu3dv\n",
              "zJo1CwCkkU5sbCy6deuGrKwsAMCIESPw7rvvSvt//fXXGD16NPz9/REcHIypU6eisbFRah8xYgRm\n",
              "zZqFCRMmwMfHByEhIfjLX/4itWu1WqSkpKBHjx7w8fFBdHQ0jh49KvtnR46HgUEO6/jx43B3d8fV\n",
              "q1dx6tQpAIBarUZRURHu3LmDAwcOYP/+/c88bv/Xv/4Vy5cvR2NjI9566y2kp6fjzp07smqor6/H\n",
              "5s2b0bdvXykcamtrUVpaigsXLuDmzZvQ6XQYOXIkAgMDUV5ejqtXr8LNzQ0TJkyQXmfSpEl48OCB\n",
              "1Jft27c/s+bf//73yMvLQ319PSorK5GWlgYAuHjxIoD/jYLWr1//xP53797Fyy+/jP79+0Or1aKk\n",
              "pASXL19Genq60XZbtmzBlClT0NDQgDVr1mDGjBmorKwEAMyfPx9BQUH45ptv0NDQgN27dyM4OFjW\n",
              "z40clCByADk5OSIpKUl6vmjRIhEYGChaW1uful9+fr4YPHiw9Dw9PV1MnDhReh4aGiqWLFkiPb93\n",
              "754AII4fP97m61VVVQkAwsvLS/j6+oqgoCCRmpoqLl26JIQQoqCgQLi6uor79+9L++zevfuJWq9f\n",
              "vy4AiGvXrkmPz507J7WfO3dOABDFxcVCCCGKi4sFANHS0iKEEGLAgAFi9erVT62xoqLCaH1SUpLI\n",
              "yckRQgjxj3/8Q/j7+0uvJ4QQZ86cEQBETU2NtP3kyZONXsPf31/s2LFDCCFERkaGGDt2rLhw4cIz\n",
              "PwdyDm62iyqi9gkNDYVCoTBat2HDBmzYsAHV1dXQ6/VoaWmR/vL/MYGBgdLjrl27Anj0F/jTnDlz\n",
              "5kcnlHv16gVPT0/peUVFBW7evInu3bsbbadUKqHVauHq6goACA8Pl9oef9yWqqoq9OvX76nbPM21\n",
              "a9cQGhoKN7f//RPwfX+0Wi369OkDwPhnAzz6+Xz/s8nLy8Py5cuRlpaGhoYGjBkzBitXrkTv3r3N\n",
              "rovsGw9JkcNycTH+9T127BhmzJiBP/3pT6itrUVjYyP++Mc/QnTwFwF/WFefPn0QGhqK27dvGy3N\n",
              "zc1ITEyUDuNoNBppn8cftyUsLAzl5eWy3r8tISEh0Gq1RnMiV65cAQCoVKpn7g8Afn5++POf/4yy\n",
              "sjKcPXsWGo0G2dnZsvYlx8TAIKfR2NgIV1dX9OzZE+7u7jhz5gzWrVtn67KQlpaGlpYWLFy4UJpU\n",
              "rqurkya2g4KCMHLkSMyZMwcNDQ1oaGjAggULnvqas2bNwqpVq/DFF1/AYDDg7t27OHz4MACgZ8+e\n",
              "cHFxQVlZ2Y/uP2bMGLi5uWHBggVoampCbW0tfve73+HnP/+5NLp4lh07duDKlStobW2Fl5cXlEql\n",
              "0YiFnA8Dg5zGK6+8gqysLIwYMQI+Pj5YsGDBE5O4tuDl5YVjx45Bq9Vi4MCB8Pb2RmJiIo4cOSJt\n",
              "U1hYiC5duiAsLAyDBw/GG2+88dTXzMzMRG5uLmbPno3u3btDrVZj7969AAAPDw+sWLECU6ZMga+v\n",
              "L6ZPn/7E/t7e3jh48CBKS0sRHByMuLg4REZGYuvWrbL7VVpaipdeekn6dpmvry/y8vJk70+Ohyfu\n",
              "ERGRLBxhEBGRLAwMIiKShYFBRESyMDCIiEgWBgYREcnCwCAiIlkYGEREJEunCoy1a9faugQiIofV\n",
              "qQKjurra1iUQETmsThUYRERkPgYGERHJwsAgIiJZGBhERCQLA4OIiGTh3U6IOpGwefvM3lezcowF\n",
              "KyFHxBEGERHJwsAgIiJZeEiKyEbac3iIyBY4wiAiIlkYGEREJAsDg4iIZGFgEBGRLAwMIiKShYFB\n",
              "RESyMDCIiEgWBgYREcnCE/eI2oEn31FnwhEGERHJwsAgIiJZGBhERCQLA4OIiGThpDcRycKbLxFH\n",
              "GEREJItVA0On02HGjBlQq9UYOHAgJk2aBACoqKhAYmIioqKiEB8fj4sXL0r7mNtGRETWZdXAmDdv\n",
              "HhQKBcrLy3H+/Hnk5eUBAKZOnYrMzEyUl5dj7ty5yMjIkPYxt42IiKxLIYQQ1njh+/fvIyAgANev\n",
              "X4e3t7e0vq6uDpGRkbh16xbc3NwghEBAQAC+/PJLeHt7m9UWGRkpq6bs7Gzk5+dbo7vUSfHEPXk4\n",
              "h+EcrDbpfeXKFfTo0QMrVqxAUVERPDw8sHjxYvj6+iIgIABubo/eWqFQQKVSQavVwsfHx6y2tgJD\n",
              "p9NBp9MZrTMYDNbqLhGR07NaYOj1elRXV6N///5YuXIlzp49i+TkZOzb1zF/keXm5mLJkiVG6xIS\n",
              "EjrkvcmxcJRAJI/V5jBUKhVcXFwwceJEAMDzzz+P8PBwVFdXo6amBnq9HgAghIBWq4VKpUJISIhZ\n",
              "bW2ZP38+GhsbjZYhQ4ZYq7tERE7PaoHh7++PkSNH4t///jcAoKqqClVVVRg6dCgGDx6MwsJCAMDu\n",
              "3bsRHByMyMhI9OrVy6y2tiiVSnh7exstrq6u1uouEZHTs9qkNwBcvXoVv/3tb/Hdd9/BxcUF7733\n",
              "Hl5//XWUlZUhIyMD9fX18Pb2RkFBAQYOHAgAZrfJwUlvagsPSVkfJ72dg1UDw94wMKgtDAzrY2A4\n",
              "B57pTUREsjAwiIhIFgYGERHJwsAgIiJZGBhERCQLA4OIiGRhYBARkSwMDCIiksXkwPj+Uh9ERNS5\n",
              "mBwYS5cuRb9+/bB27VrcuXPHGjUREZEdMjkw/vOf/2DHjh24cOECoqKiMH36dFy6dMkatRERkR0x\n",
              "aw7j+eefx6ZNm3DgwAF8+umniImJQXJyMs6fP2/p+oiIyE6YFRhFRUVITU1FWloa3nrrLdTW1mLq\n",
              "1Kl47bXXLF0fERHZCZPvuPfTn/4U/v7+mDlzJtLS0qR7TPziF7/A3/72N4sXSERE9sHkwCgsLERc\n",
              "XFybbfv37293QUREZJ9MPiR1+vRp3Lp1S3peX1+PTZs2WbQoIiKyPyYHxkcffYQePXpIz/38/PDR\n",
              "Rx9ZtCgiIrI/JgdGWzfoMxgMFimGiIjsl8mBERAQgF27dknPd+7ciYCAAIsWRURE9sfkSe81a9Yg\n",
              "NTUVc+bMAQB4enrik08+sXhhRERkX0wOjOeeew6XLl1CWVkZAKBfv37SV2uJbCVs3j5bl0Dk9EwO\n",
              "DABQKBTw9fWFXq/HjRs3AAAqlcqihRERkX0xOTC2bNmCmTNnwt3dHS4uj6ZAFAoF6urqLF4cERHZ\n",
              "D5MDY9myZSgpKUG/fv2sUQ8REdkpkwPD39+fYUFEJmnPHJNm5RgLVkLtYfLXaseNG4c1a9agrq4O\n",
              "d+7ckRYiInJuJo8wcnJyAADZ2dlQKBQQQkChUPDkPSIiJ2fyCKO1tVVaDAaD9N+nKSgogEKhwN69\n",
              "ewEAdXV1GDVqFNRqNaKjo3HkyBFpW3PbiIjIusy6H8bp06exbds2AMDt27dRU1Pzo9tqNBps2rQJ\n",
              "CQkJ0rp58+YhISEBFRUVKCgowIQJE9DS0tKuNiIisi6zLj74m9/8BosXLwbw6Gq1EyZMaHPb1tZW\n",
              "TJkyBR988AGUSqW0fteuXcjKygIAxMfHIzAwEIcPH25XGxERWZfJcxgbN27E8ePHkZiYCACIiIjA\n",
              "t99+2+a2+fn5GDp0qNH9M+rr69HS0oI+ffpI68LCwqDVas1ua4tOp4NOpzNax3kWIiLzmTzCUCqV\n",
              "8PDwMFrn5vZk7ly4cAG7d+/Gu+++a3517ZCbmwsfHx+j5eTJkzaphYjIGZgcGD179kR5eTkUCgWA\n",
              "R2d+t3VZkKNHj0Kj0UCtViMsLAzHjx9HZmYmdu3aBTc3N9TW1krbajQaqFQq+Pn5mdXWlvnz56Ox\n",
              "sdFoGTJkiKndJSKi/2dyYKxZswYTJ07E5cuXERISgtWrV2Pt2rVPbDdt2jTU1NRAo9FAo9EgISEB\n",
              "GzduxLRp0zB+/HisX78eAFBSUoIbN24gKSkJAMxu+yGlUglvb2+jhRdJJCIyn8lzGJGRkThx4gTK\n",
              "ysoghDDrarWrVq3Cm2++CbVajS5duqCwsBDu7u7taiMiIutSiLZuofcUPzbJ7AhXq83OzkZ+fr6t\n",
              "yyAr4OXNnRcvDWI/TB5hxMXFSWd4Nzc348GDB/Dz8+PVaomInJzJgfHDr9Du2bMHpaWlFiuIiIjs\n",
              "k1lnej8uLS0N+/bxcAARkbMzeYTx+JVpDQYDTpw4wavVEhF1AiYHhq+vrzSH4erqCrVajffff98a\n",
              "tRERkR0xOTBaW1utUQcREdm5ds9hEBFR52DyCMPFxUW6LMjjeCMlIiLnZnJgLF26FE1NTZg2bRoA\n",
              "YP369fDw8MDs2bMtXRsREdkRkwPj448/xunTp6Xny5cvR1xcnHTrViIick4mz2HcvXvX6Kzuuro6\n",
              "3L1716JFERGR/TF5hPHOO+8gNjYWKSkpAIADBw5Id98jIiLnZXJgTJ06FUOHDkVxcTGARxf0GzBg\n",
              "gMULIyIi+2JyYACAn58fBg4ciBEjRkCv1+Phw4fo0qWLpWsjIiI7YvIcxr/+9S8kJCRg8uTJAICL\n",
              "Fy9i3Lhxlq6LiIjsjMmBkZubizNnzsDX1xcAEBsbi+rqakvXRUREdsbkQ1Kurq7w8/MzWsfDUWQJ\n",
              "vAkSkX0zeYTh5eWFmzdvSmd7f/755+jRo4fFCyMiIvti8ghj1apVGD16NK5evYphw4ahqqqK98Mg\n",
              "IuoETAqM1tZWGAwGFBcX47///S+EEEhMTJTmM4iIyHmZFBguLi7IzMxEaWkpRo8eba2aiIgk7Znb\n",
              "0qwcY8FKyOQ5DLVajcrKSmvUQkREdszkOYxbt25h0KBBSExMRLdu3aT1e/bssWhhRERkX2QHRmZm\n",
              "JjZu3Ij09HS8+uqr6N69uzXrIiIiOyM7ME6dOgUASE9Px+DBg3HmzBmrFUVERPbHrFu0CiEsXQcR\n",
              "Edk52SOMpqYmnD9/HkIINDc3S4+/FxMTY5UCiYjIPsgeYTQ1NeHVV19FamoqmpubpcepqaltXnyw\n",
              "ubkZ48aNQ1RUFGJjY5GcnCx9u6qurg6jRo2CWq1GdHQ0jhw5Iu1nbhsREVmX7BGGRqMx+cUzMzMx\n",
              "evRoKBQKrFu3DlOmTMGhQ4cwb948JCQk4MCBAygpKcFrr72GqqoquLu7m91GRETWZdYchhw/+clP\n",
              "kJKSIl1zKiEhQQqdXbt2ISsrCwAQHx+PwMBAHD58uF1tRERkXWbdQMkca9euRWpqKurr69HS0oI+\n",
              "ffpIbWFhYdBqtWa3tUWn00Gn0xmtMxgMFu4VEVHnYbURxuNWrFiByspK5ObmdsTbAXh03w4fHx+j\n",
              "5eTJkx32/kREzsbqgZGXl4c9e/Zg//798PT0hJ+fH9zc3FBbWytto9FooFKpzG5ry/z589HY2Gi0\n",
              "DBkyxHodJSJyclYNjPz8fGzfvh0HDx40uqLt+PHjsX79egBASUkJbty4gaSkpHa1/ZBSqYS3t7fR\n",
              "4urqaq2uEhE5PavNYVy/fh3vvPMO+vbtixdffBHAo3/ET5w4gVWrVuHNN9+EWq1Gly5dUFhYKH3T\n",
              "ydw2IiKyLqsFRnBw8I+eEd67d2989tlnFm0jIiLr6pBJbyIicnwMDCIikoWBQUREsjAwiIhIlg47\n",
              "05s6h/bcf5mI7BsDg4icVnv+gNGsHGPBSpwDD0kREZEsDAwiIpKFgUFERLIwMIiISBYGBhERycLA\n",
              "ICIiWRgYREQkCwODiIhkYWAQEZEsDAwiIpKFgUFERLIwMIiISBYGBhERycKr1RIRtcHcK90681Vu\n",
              "OcIgIiJZGBhERCQLD0lRm3jnPCL6IY4wiIhIFgYGERHJwkNSToyHlYjIkhgYREQW1J4/1Oz9K7kO\n",
              "FxgVFRVIT0/Hd999Bx8fH2zZsgUDBgywdVlWw1ECEdkLh5vDmDp1KjIzM1FeXo65c+ciIyPD1iUR\n",
              "EXUKDjXCqKurw6lTp/DZZ58BAF5//XXMmDEDlZWViIyMtHF1RETtY++HsxwqMK5du4aAgAC4uT0q\n",
              "W6FQQKVSQavVPhEYOp0OOp3OaJ3BYOiwWh/Hw0pE5AwcKjBMkZubiyVLlhite+6555CdnW3x9zIY\n",
              "DDh58iSGDBkCV1fXJ9rTLP6O1vesPjkaZ+sPwD45io7qU3b252bvGxoailmzZj1zO4UQQpj9Lh2s\n",
              "rq4OkZGRuHXrFtzc3CCEQEBAAL788ktZIwylUgmlUmnxuu7cuQMfHx80NjbC29vb4q9vC87WJ2fr\n",
              "D8A+OQpn6pNDTXr36tULgwcPRmFhIQBg9+7dCA4ObnP+QqlUwtvb22ixRlgQEXUWDndIasOGDcjI\n",
              "yMCKFSvg7e2NgoICW5dERNQpOFxg9OvXD8eOHbN1GUREnY5DHZKyV0qlEosWLXKqQ17O1idn6w/A\n",
              "PjkKZ+qTQ016ExGR7XCEQUREsjAwiIhIFgYGERHJwsBoh/fffx/R0dEYOHAgYmJipPNDvrd8+XJE\n",
              "REQgIiICOTk5NqrSNPv27UNcXByUSiVmz55t1Nba2oq3334bERERiIyMxLp162xTpBkqKiqQmJiI\n",
              "qKgoxMfH4+LFi7YuySQzZ85EWFgYFAoFvvrqK2m9I/erubkZ48aNQ1RUFGJjY5GcnIzKykoAj07S\n",
              "HTVqFNRqNaKjo3HkyBEbVyvPK6+8gpiYGAwaNAjDhw/H2bNnATj252REkNmKiorE7du3hRBCaLVa\n",
              "4efnJyorK4UQQhw+fFj0799f3Lt3TzQ3N4u4uDjx6aef2rJcWcrKysRXX30lcnJyxKxZs4zatm7d\n",
              "Kl566SWh1+tFfX29UKlU4sKFC7Yp1EQvvviiKCgoEEII8c9//lP87Gc/s21BJjp8+LC4du2aCA0N\n",
              "FWfPnpXWO3K/mpqaxL59+0Rra6sQQogPPvhAJCUlCSGEmDx5sli0aJEQQoiTJ0+KoKAg8fDhQxtV\n",
              "Kl9DQ4P0eM+ePSImJkYI4dif0+MYGBY0YMAAUVxcLIQQYvr06SI3N1dq+/DDD8XEiRNtVJnpFi1a\n",
              "9ERgpKSkiO3bt0vP//CHP4icnJwOrsx0N2/eFF5eXqKlpUUIIURra6vo3bu3qKiosHFlpns8MJyp\n",
              "X0IIUVJSIkJDQ4UQQnTt2lXU1NRIbfHx8eLgwYM2qsw8BQUFIjY21qk+Jx6SspCioiI0NDQgPj4e\n",
              "AKDVahEaGiq1h4WFQavV2qo8i3DUPj3tKseOzNn6tXbtWqSmpqK+vh4tLS3o06eP1OYov2sA8Otf\n",
              "/xohISFYuHAhtm3b5lSfk8Od6d2RXnjhBVRUVLTZdvbsWYSEhAAAzp8/j8mTJ2Pnzp3o2rVrR5Zo\n",
              "Mrl9IupIK1asQGVlJT7//HM0NTXZupx2+fvf/w4A2Lp1K+bOnYtly5bZuCLLYWA8hZxLkFy6dAlj\n",
              "x47F5s2bMWzYMGm9SqVCdXW19Fyj0UClUlmlTlO057Iq3/fphRdeAGA/fXqWkJAQ1NTUQK/XS1c5\n",
              "1mq1DlH70zhLv/Ly8rBnzx4UFRXB09MTnp6ecHNzQ21trTTKcJTftcelp6cjKysLwcHBTvE5AfyW\n",
              "VLt8/fXXSElJwcaNG5GcnGzUNn78eGzbtg3379+HTqfD5s2b8ctf/tJGlVrG+PHjsWnTJhgMBty6\n",
              "dQs7d+7EG2+8YeuynsmUqxw7EmfoV35+PrZv346DBw/C19dXWj9+/HisX78eAFBSUoIbN24gKSnJ\n",
              "RlXKc/v2bXzzzTfS871798LPz88pPieJjedQHNrLL78sfH19RWxsrLQcOHBAal+yZIkIDw8X4eHh\n",
              "Yt68eTasVL6ioiIRFBQkvLy8RLdu3URQUJD45JNPhBBC6PV6MX36dBEeHi769u0r1qxZY+Nq5bt8\n",
              "+bJISEgQarVaxMXFiXPnztm6JJNkZmaKoKAg4erqKnr16iUiIiKEEI7dr2vXrgkAom/fvtL/P0OG\n",
              "DBFCCFFbWyuSk5NFZGSk6N+/v/jiiy9sXO2zaTQaER8fL6Kjo0VMTIwYOXKk9AUFR/6cHsdrSRER\n",
              "kSw8JEVERLIwMIiISBYGBhERycLAICIiWRgYREQkCwODiIhkYWAQEZEsDAwiIpKFgUFERLIwMIiI\n",
              "SBYGBhERyfJ/WYr2INjkO2EAAAAASUVORK5CYII=\n",
              "\">\n",
              "        \n",
              "      </div>\n",
              "      <script></script>\n",
              "      <script type=\"text/javascript\">\n",
              "        (() => {\n",
              "          const chartElement = document.getElementById(\"chart-bf33f9b3-496a-4544-a341-554de07d25dd\");\n",
              "          async function getCodeForChartHandler(event) {\n",
              "            const chartCodeResponse =  await google.colab.kernel.invokeFunction(\n",
              "                'getCodeForChart', [\"chart-bf33f9b3-496a-4544-a341-554de07d25dd\"], {});\n",
              "            const responseJson = chartCodeResponse.data['application/json'];\n",
              "            await google.colab.notebook.addCell(responseJson.code, 'code');\n",
              "          }\n",
              "          chartElement.onclick = getCodeForChartHandler;\n",
              "        })();\n",
              "      </script>\n",
              "      <style>\n",
              "        .colab-quickchart-chart-with-code  {\n",
              "            display: block;\n",
              "            float: left;\n",
              "            border: 1px solid transparent;\n",
              "        }\n",
              "\n",
              "        .colab-quickchart-chart-with-code:hover {\n",
              "            cursor: pointer;\n",
              "            border: 1px solid #aaa;\n",
              "        }\n",
              "      </style>"
            ]
          },
          "metadata": {}
        },
        {
          "output_type": "display_data",
          "data": {
            "text/plain": [
              "import numpy as np\n",
              "from google.colab import autoviz\n",
              "\n",
              "def histogram(df, colname, num_bins=20, figscale=1):\n",
              "  from matplotlib import pyplot as plt\n",
              "  df[colname].plot(kind='hist', bins=num_bins, title=colname, figsize=(8*figscale, 4*figscale))\n",
              "  plt.gca().spines[['top', 'right',]].set_visible(False)\n",
              "  plt.tight_layout()\n",
              "  return autoviz.MplChart.from_current_mpl_state()\n",
              "\n",
              "chart = histogram(train_results, *['Actuals'], **{})\n",
              "chart"
            ],
            "text/html": [
              "      <div class=\"colab-quickchart-chart-with-code\" id=\"chart-46ad76e1-61b3-4a52-ab5f-a2da37713a27\">\n",
              "        <img src=\"data:image/png;base64,iVBORw0KGgoAAAANSUhEUgAAAYsAAADECAYAAABumQ2GAAAAOXRFWHRTb2Z0d2FyZQBNYXRwbG90\n",
              "bGliIHZlcnNpb24zLjcuMSwgaHR0cHM6Ly9tYXRwbG90bGliLm9yZy/bCgiHAAAACXBIWXMAAA9h\n",
              "AAAPYQGoP6dpAAAY1ElEQVR4nO3de1BU5/0G8GcB3SqwQCAKAgsIC0YRDAiDt1JvHWIygia2Uy9V\n",
              "0wQvbTWD04qxrZdYiTPKeEkZo1M3NmRSUTGZaqIRa1DbRMF4NypE1hUENwKCprpyeX9/+OOMq5jD\n",
              "LnvYXXw+M2eGPe9evq8HfXzPu+c9KiGEABER0Y9wc3QBRETk/BgWREQki2FBRESyGBZERCSLYUFE\n",
              "RLIYFkREJIthQUREshgWREQki2FBRESyGBZETu6DDz5ASEiIo8ugZxzDgqgder0eKpUK2dnZHX7N\n",
              "8uXLMXLkSAWrInIchgVRO/Ly8uDv749t27bBbDY7uhwih2NYED2mpKQEpaWlyM/PR0NDA3bu3Cm1\n",
              "1dXVYf78+YiIiIC3tzcGDBiAAwcO4KOPPsLq1avx1VdfwcvLC15eXjh69Ci+/PJLqFQqNDc3S+/x\n",
              "+GmlnTt3IjExEX5+fggICMDEiRNRUVHx1PoKCgowaNAgaDQaBAQEYNy4ccr8QRA9gmFB9Ji8vDwM\n",
              "GTIEaWlpmDRpEvLy8gAAQghkZGTAYDCguLgYjY2N+OyzzxAaGopp06bh7bffxrBhw3D37l3cvXsX\n",
              "o0aN6tDneXt7Y9u2bbh16xYuXboEIQSmTp3a7nP/97//Yfr06di0aRMaGxtRWVmJt99+2259J3oa\n",
              "D0cXQORM6uvrsWPHDqxbtw4AkJmZibFjx+LMmTNoamrCsWPHcPPmTTz//PMAgP79+3f6M9PS0qSf\n",
              "AwICsHLlSiQkJODOnTvw9vZ+4vk9evTAt99+i7i4OAQEBGDMmDGdroFIDkcWRI9om9ieNm0aAGD0\n",
              "6NGIiopCXl4eKioq4OfnJwWFvRQXF2Ps2LEICgqCRqNBamoqAMBkMj3x3N69e2P//v0oKipCTEwM\n",
              "Bg8ejA0bNti1HqL2MCyI/p8QAps3b8aDBw8QHR2NwMBABAUFobKyEh999BH69OmD+vp63Lp1q93X\n",
              "u7k9+depbWTwww8/SPtu3Lgh/fzgwQO88sorSEtLw5UrV9DY2Iji4mKpnvaMGjUKe/bswa1bt7Bp\n",
              "0yYsXrwYBw8etLnfRB3BsCD6fwcPHkRZWRm++OILnD59WtrOnj0LADh79iyGDx+O2bNno7KyEgBQ\n",
              "UVGBb7/9FgAQGBgIo9GI+/fvS+8ZHR0Nb29vvP/++2htbcXp06exZcsWqf3Bgwe4d+8e/Pz84O3t\n",
              "jRs3buBPf/rTU2usqanBzp07cfv2bahUKvj6+kKlUsHDg2eUSWGCiIQQQmRkZIhx48a127Zw4ULx\n",
              "wgsviFu3bok333xThISECC8vLzFgwABx4MABIYQQt2/fFuPGjRN+fn7Cx8dHHD16VAghRGFhoYiM\n",
              "jBSenp4iLS1N/PWvfxXBwcHSe+v1ehEWFiY8PT1FXFyc0Ov1AoAoKyuT2tuef+PGDTFmzBjh5+cn\n",
              "PD09RWRkpFi3bp2SfyxEQgghVELwHtxERPTjeBqKiIhkMSyIiEgWw4KIiGQxLIiISJaiYfHZZ58h\n",
              "ISEBQ4YMQWxsLLZv3w7g4cVGaWlp0Ol0iI2NxZEjR6TX2NpGRETKUezbUEII+Pv748svv0RcXBwM\n",
              "BgMGDBiA77//HgsXLoRWq8Xy5ctRUlKCSZMmoaKiAj169MDrr79uUxsRESlH0ZGFSqXC7du3AQCN\n",
              "jY3w9/eHWq1GQUEB5s6dCwBISkpCv379pKtWbW0jIiLlKHbZp0qlwo4dOzB58mR4enqivr4ehYWF\n",
              "uHPnDpqamhAYGCg9Nzw8HEajEbW1tTa1tcdsNj9xH4KtW7di0aJFdu4pEVH3p9jIorm5GatWrUJh\n",
              "YSGuXbuGQ4cOYcaMGRbr+ispJycHPj4+FtuuXbu65LOJiLobxcLi9OnTuHHjBn76058CeHjaKCQk\n",
              "BGfPnoWHhwdqamqk5xoMBmi1Wvj7+9vU1p4lS5agoaHBYktOTlaot0RE3ZtiYREaGorq6mppkbXy\n",
              "8nJ89913iImJwZQpU7B582YAD+9KVlVVJS3LbGvb49RqNTQajcXm7u6uVHeJiLo1xeYs+vbtiy1b\n",
              "tuAXv/gF3Nzc0Nraivfeew9arRZr1qzBjBkzoNPp0LNnT+Tn50vfaLK1jYiIlPNMLSSYlZWF3Nxc\n",
              "R5dBRORyeAU3ERHJ4h1TiFxAePY+m19rePdlO1ZCzyqOLIiISBZHFkRdqDMjBCJH4siCiIhkcWRB\n",
              "1M1xvoPsgSMLIiKSxbAgIiJZDAsiIpLFsCAiIlmc4CayEr/+Ss8ijiyIiEgWw4KIiGQxLIiISBbD\n",
              "goiIZDEsiIhIFsOCiIhkMSyIiEgWw4KIiGQxLIiISBbDgoiIZHG5D3pmcdkOoo7jyIKIiGQxLIiI\n",
              "SBbDgoiIZCkaFmazGb/73e+g0+kwePBgTJ8+HQBQVlaG4cOHIzo6GklJSbhw4YL0GlvbiIhIOYqG\n",
              "RXZ2NlQqFa5cuYJz585h7dq1AIA5c+YgMzMTV65cweLFizFr1izpNba2ERGRclRCCKHEG//www8I\n",
              "CgpCZWUlNBqNtN9kMiEqKgp1dXXw8PCAEAJBQUE4duwYNBqNTW1RUVEdqikrKwu5ublKdJdcEL8N\n",
              "Jc/w7suOLoGchGJfnf3uu+/w3HPPYfXq1SgqKkKvXr2wfPly+Pr6IigoCB4eDz9apVJBq9XCaDTC\n",
              "x8fHprb2wsJsNsNsNlvsa2lpUaq7RETdmmKnoZqbm3Ht2jUMHDgQpaWl2LhxI375y1+iublZqY+0\n",
              "kJOTAx8fH4vtxIkTXfLZRETdjWJhodVq4ebmhmnTpgEAXnzxRURERODatWuorq6WQkMIAaPRCK1W\n",
              "i9DQUJva2rNkyRI0NDRYbMnJyUp1l4ioW1MsLAICAjB27FgcOHAAAFBRUYGKigqMGDECCQkJyM/P\n",
              "BwDs3r0bISEhiIqKQp8+fWxqa49arYZGo7HY3N3dleouEVG3ptgENwBcvXoVv/nNb3Dr1i24ubnh\n",
              "L3/5C1599VVcvnwZs2bNQm1tLTQaDfR6PQYPHgwANrd1BCe46VGc4JbHCW5qo2hYOBuGBT2KYSGP\n",
              "YUFtuJAgET2VrYHKkOl+uNwHERHJYlgQEZEsq8Oi7dtNRET07LA6LFauXImYmBhs2LABjY2NStRE\n",
              "REROxuqw+M9//oN//vOfOH/+PKKjozF//nxcvHhRidqIiMhJ2DRn8eKLL2Lr1q3Yv38/9u7di7i4\n",
              "OIwfPx7nzp2zd31EROQEbAqLoqIipKenY/Lkyfjtb3+LmpoazJkzB5MmTbJ3fURE5ASsvs7ihRde\n",
              "QEBAABYsWIDJkydLS2i89tpr+Pvf/273AomIyPGsDov8/HwkJia22/b55593uiAiInI+Vp+GOnny\n",
              "JOrq6qTHtbW12Lp1q12LIiIi52L1yCIvLw+ZmZnSY39/f+Tl5eHNN9+0a2FEHcH1nYi6htUji/bW\n",
              "HeQd6IiIujerwyIoKAgFBQXS4x07diAoKMiuRRERkXOx+jTU+vXrkZ6ejj/+8Y8AgN69e+PTTz+1\n",
              "e2FEROQ8rA6LAQMG4OLFi7h8+TIAICYmhnegIyLq5my6n4VKpYKvry+am5tRVVUFAE+9FzYREbk+\n",
              "q8Pigw8+wIIFC9CjRw+4uT2c8lCpVDCZTHYvjoiInIPVYfHOO++gpKQEMTExStRDREROyOpvQwUE\n",
              "BDAoiIieMVaHRUZGBtavXw+TyYTGxkZpIyKi7svq01BLly4FAGRlZUGlUkEIAZVKxQvziIi6MavD\n",
              "orW1VYk6iIjIidl0P4uTJ0/iww8/BADcvn0b1dXVdi2KiIici9VhkZeXh9dffx3Lly8H8HDV2alT\n",
              "p9q7LiIiciJWh8WWLVvw9ddfQ6PRAAAiIyPx/fff/+hr9Ho9VCoVPvnkEwCAyWRCWloadDodYmNj\n",
              "ceTIEem5trYREZFyrA4LtVqNXr16Wezz8Hj61IfBYMDWrVuRkpIi7cvOzkZKSgrKysqg1+sxdepU\n",
              "NDU1daqNiIiUY3VYPP/887hy5QpUKhWAh1d0P22pj9bWVrzxxhvYtGkT1Gq1tL+goABz584FACQl\n",
              "JaFfv34oLi7uVBsRESnHplVnf/WrX+HSpUsIDQ2FRqPB3r17231ubm4uRowYYXEb1traWjQ1NSEw\n",
              "MFDaFx4eDqPRaHNbe8xmM8xms8U+fr2XiMg2VodFVFQUjh8/jsuXL0MI8dRVZ8+fP4/du3c7bF4h\n",
              "JycHK1assNj36KkwIiLqOKtPQxmNRlRWVsLT0xNeXl6oqqpq93/3R48ehcFggE6nQ3h4OL7++mtk\n",
              "ZmaioKAAHh4eqKmpkZ5rMBig1Wrh7+9vU1t7lixZgoaGBostOTnZ2u4SERFsCIvExEQMHToUiYmJ\n",
              "GDRoECIiIjB06NAnnjdv3jxUV1fDYDDAYDAgJSUFW7Zswbx58zBlyhRs3rwZAFBSUoKqqiqkpqYC\n",
              "gM1tj1Or1dBoNBYb77tBRGQbq09DPf412cLCQpw5c8aq91izZg1mzJgBnU6Hnj17Ij8/Hz169OhU\n",
              "GxERKUclhBCdfZOhQ4eitLTUHvUoKisrC7m5uY4ug+woPHufo0ugdhjefdnRJZCdWT2yeHSF2ZaW\n",
              "Fhw/fpyrzhKRhc6EOIPGOVkdFr6+vtJqs+7u7tDpdNi4caMStRERkZPgqrNERCTLplVniYjo2WL1\n",
              "yMLNzU1a6uNRvAkSEVH3ZXVYrFy5Evfu3cO8efMAAJs3b0avXr3w1ltv2bs2IiJyElaHxZ49e3Dy\n",
              "5Enp8apVq5CYmCjdbpWIiLofq+cs7ty5A5PJJD02mUy4c+eOXYsiIiLnYvXIYtGiRYiPj8eECRMA\n",
              "APv375fumkdERN2T1WExZ84cjBgxAocPHwbw8KroQYMG2b0wIiJyHlaHBQD4+/tj8ODB+NnPfobm\n",
              "5mY8ePAAPXv2tHdtRETkJKyes9i1axdSUlIwe/ZsAMCFCxeQkZFh77qIiMiJWD2yyMnJwTfffINx\n",
              "48YBAOLj43Ht2jW7F0bPDi4GSOT8rB5ZuLu7w9/f32IfT0EREXVvVoeFt7c3bt68KV3FfejQITz3\n",
              "3HN2L4yIiJyH1aeh1qxZg5deeglXr17FyJEjUVFRgX37eBqBiKg7syosWltb0dLSgsOHD+O///0v\n",
              "hBAYPnw4fH19FSqPiIicgVVh4ebmhszMTJw5cwYvvfSSUjUREZGTsXrOQqfToby8XIlaiIjISVk9\n",
              "Z1FXV4chQ4Zg+PDh8PLykvYXFhbatTAiInIeHQ6LzMxMbNmyBTNnzsTEiRPh5+enZF1EROREOhwW\n",
              "paWlAICZM2ciISEB33zzjWJFERGRc7HptqpCCHvXQURETqzDI4t79+7h3LlzEELg/v370s9t4uLi\n",
              "FCmQiIgcz6qwmDhxovT40Z9VKhWuXr1q38qIiMhpdDgsDAaDgmUQEZEzs2nOoiPu37+PjIwMREdH\n",
              "Iz4+HuPHj5euzzCZTEhLS4NOp0NsbCyOHDkivc7WNiIiUo5iYQE8/Lrt5cuXcebMGaSnp+ONN94A\n",
              "AGRnZyMlJQVlZWXQ6/WYOnUqmpqaOtVGRETKUSwsfvKTn2DChAnS6rQpKSnSqayCggLMnTsXAJCU\n",
              "lIR+/fqhuLi4U21ERKQcm26raosNGzYgPT0dtbW1aGpqQmBgoNQWHh4Oo9Foc1t7zGYzzGazxb6W\n",
              "lhY794qI7M3Wm2EZ3n3ZzpXQoxQ9DdVm9erVKC8vR05OTld8HICHd/Tz8fGx2E6cONFln09E1J0o\n",
              "HhZr165FYWEhPv/8c/Tu3Rv+/v7w8PBATU2N9ByDwQCtVmtzW3uWLFmChoYGiy05OVm5jhIRdWOK\n",
              "hkVubi4+/vhjHDx40OKeF1OmTMHmzZsBACUlJaiqqkJqamqn2h6nVquh0WgsNnd3d6W6SkTUrSk2\n",
              "Z1FZWYlFixahf//+GD16NICH/4AfP34ca9aswYwZM6DT6dCzZ0/k5+ejR48eAGBzGxERKUexsAgJ\n",
              "CXnqGlJ9+/bFF198Ydc2IiJSTpdMcBMRkWtjWBARkSyGBRERyeqyi/Ko+7P1Yioicn4cWRARkSyG\n",
              "BRERyWJYEBGRLIYFERHJYlgQEZEshgUREcliWBARkSyGBRERyeJFeUTULXTmolDeZU8eRxZERCSL\n",
              "YUFERLIYFkREJIthQUREshgWREQki2FBRESyGBZERCSL11mQBd7AiIjaw5EFERHJ4siCiJ55to6o\n",
              "n6UrvzmyICIiWRxZdFOceyAie3K5kUVZWRmGDx+O6OhoJCUl4cKFC44uiYio23O5kcWcOXOQmZmJ\n",
              "WbNmYdeuXZg1axZKSkocXZYiODogcm7P0kq3LjWyMJlMKC0txfTp0wEAr776Kq5fv47y8nIHV0ZE\n",
              "1L251Mji+vXrCAoKgofHw7JVKhW0Wi2MRiOioqIsnms2m2E2my32tbS0dFmtbTg6IKLuwKXCwho5\n",
              "OTlYsWKFxb4BAwYgKyurSz6/paUFJ06cQHpyMtzd3bvkM+2trQ/JLtoHV68fYB+cgVL1Z2Udstt7\n",
              "yWnrw2uvvYZFixbZ9B4qIYSwc12KMZlMiIqKQl1dHTw8PCCEQFBQEI4dO9ahkYVarYZare6SWhsb\n",
              "G+Hj44OGhgZoNJou+Ux7c/U+uHr9APvgDFy9fsA+fXCpOYs+ffogISEB+fn5AIDdu3cjJCTkiaAA\n",
              "HgaDRqOx2LoqKIiIuhuXOw31/vvvY9asWVi9ejU0Gg30er2jSyIi6vZcLixiYmLw1VdfOboMIqJn\n",
              "ikudhnIlarUay5Ytc+lTX67eB1evH2AfnIGr1w/Ypw8uNcFNRESOwZEFERHJYlgQEZEshgUREcli\n",
              "WChg48aNiI2NxeDBgxEXFyddF9Jm1apViIyMRGRkJJYuXeqgKp9u3759SExMhFqtxltvvWXR1tra\n",
              "it///veIjIxEVFQU3nvvPccU2QGutkLxggULEB4eDpVKhdOnT0v7XaUf9+/fR0ZGBqKjoxEfH4/x\n",
              "48dL67aZTCakpaVBp9MhNjYWR44ccXC1T/fzn/8ccXFxGDJkCEaNGoVTp04BcJ3j0Eav10OlUuGT\n",
              "Tz4BYIdjIMjuioqKxO3bt4UQQhiNRuHv7y/Ky8uFEEIUFxeLgQMHirt374r79++LxMREsXfvXkeW\n",
              "+4TLly+L06dPi6VLl4qFCxdatG3fvl2MGTNGNDc3i9raWqHVasX58+cdU6iM0aNHC71eL4QQYufO\n",
              "nWLo0KGOLUhGcXGxuH79uggLCxOnTp2S9rtKP+7duyf27dsnWltbhRBCbNq0SaSmpgohhJg9e7ZY\n",
              "tmyZEEKIEydOiODgYPHgwQMHVfrj6uvrpZ8LCwtFXFycEMJ1joMQQlRUVIhhw4aJlJQUsWfPHiFE\n",
              "548Bw6ILDBo0SBw+fFgIIcT8+fNFTk6O1Pa3v/1NTJs2zUGV/bhly5Y9ERYTJkwQH3/8sfT4D3/4\n",
              "g1i6dGkXVybv5s2bwtvbWzQ1NQkhhGhtbRV9+/YVZWVlDq5M3qNh4cr9KCkpEWFhYUIIITw9PUV1\n",
              "dbXUlpSUJA4ePOigyjpOr9eL+Ph4lzoOLS0tYuzYsaK0tFSkpqZKYdHZY8DTUAorKipCfX09kpKS\n",
              "AABGoxFhYWFSe3h4OIxGo6PKs5qr1P9jKxS7Elfux4YNG5Ceno7a2lo0NTUhMDBQanPW35s2v/71\n",
              "rxEaGoo///nP+PDDD13qOOTm5mLEiBFITEyU9tnjGLjcFdzOYNiwYSgrK2u37dSpUwgNDQUAnDt3\n",
              "DrNnz8aOHTvg6enZlSX+qI7WT2Sr1atXo7y8HIcOHcK9e/ccXY7V/vGPfwAAtm/fjsWLF+Odd95x\n",
              "cEUdc/78eezevVuROSGGhQ06stzIxYsX8corr2Dbtm0YOXKktF+r1eLatWvSY4PBAK1Wq0idT9OZ\n",
              "5VLa6h82bBgAx9TfEaGhoaiurkZzc7O0QrHRaHTKWn+MK/Zj7dq1KCwsRFFREXr37o3evXvDw8MD\n",
              "NTU10v9snfX35nEzZ87E3LlzERIS4hLH4ejRozAYDNDpdACAmpoaZGZmYsWKFZ0/BnY9WUZCCCEu\n",
              "XrwowsLCxP79+59oO3z48BMT3P/6178cUKW89uYs9Hr9ExPcZ8+edUyBMlJTUy0mJBMTEx1bUAc9\n",
              "PsHtSv1Yt26dSEhIEHV1dRb7Z86caTG52q9fP6ec4K6vrxdVVVXS4z179ojg4GDR2trqUsehzaNz\n",
              "Fp09BgwLBYwbN074+vqK+Ph4aXs0OFasWCEiIiJERESEyM7OdmCl7SsqKhLBwcHC29tbeHl5ieDg\n",
              "YPHpp58KIYRobm4W8+fPFxEREaJ///5i/fr1Dq726S5duiRSUlKETqcTiYmJThtqbTIzM0VwcLBw\n",
              "d3cXffr0EZGRkUII1+nH9evXBQDRv39/6fc+OTlZCCFETU2NGD9+vIiKihIDBw4U//73vx1cbfsM\n",
              "BoNISkoSsbGxIi4uTowdO1YKblc5Do96NCw6ewy4NhQREcnit6GIiEgWw4KIiGQxLIiISBbDgoiI\n",
              "ZDEsiIhIFsOCiIhkMSyIiEgWw4KIiGQxLIiISBbDgoiIZDEsiIhI1v8B7o/M9mFQGJQAAAAASUVO\n",
              "RK5CYII=\n",
              "\">\n",
              "        \n",
              "      </div>\n",
              "      <script></script>\n",
              "      <script type=\"text/javascript\">\n",
              "        (() => {\n",
              "          const chartElement = document.getElementById(\"chart-46ad76e1-61b3-4a52-ab5f-a2da37713a27\");\n",
              "          async function getCodeForChartHandler(event) {\n",
              "            const chartCodeResponse =  await google.colab.kernel.invokeFunction(\n",
              "                'getCodeForChart', [\"chart-46ad76e1-61b3-4a52-ab5f-a2da37713a27\"], {});\n",
              "            const responseJson = chartCodeResponse.data['application/json'];\n",
              "            await google.colab.notebook.addCell(responseJson.code, 'code');\n",
              "          }\n",
              "          chartElement.onclick = getCodeForChartHandler;\n",
              "        })();\n",
              "      </script>\n",
              "      <style>\n",
              "        .colab-quickchart-chart-with-code  {\n",
              "            display: block;\n",
              "            float: left;\n",
              "            border: 1px solid transparent;\n",
              "        }\n",
              "\n",
              "        .colab-quickchart-chart-with-code:hover {\n",
              "            cursor: pointer;\n",
              "            border: 1px solid #aaa;\n",
              "        }\n",
              "      </style>"
            ]
          },
          "metadata": {}
        },
        {
          "output_type": "display_data",
          "data": {
            "text/plain": [
              "<google.colab._quickchart_helpers.SectionTitle at 0x784e25b34880>"
            ],
            "text/html": [
              "<h4 class=\"colab-quickchart-section-title\">2-d distributions</h4>\n",
              "<style>\n",
              "  .colab-quickchart-section-title {\n",
              "      clear: both;\n",
              "  }\n",
              "</style>"
            ]
          },
          "metadata": {}
        },
        {
          "output_type": "display_data",
          "data": {
            "text/plain": [
              "import numpy as np\n",
              "from google.colab import autoviz\n",
              "\n",
              "def scatter_plots(df, colname_pairs, figscale=1, alpha=.8):\n",
              "  from matplotlib import pyplot as plt\n",
              "  plt.figure(figsize=(len(colname_pairs) * 6 * figscale, 6 * figscale))\n",
              "  for plot_i, (x_colname, y_colname) in enumerate(colname_pairs, start=1):\n",
              "    ax = plt.subplot(1, len(colname_pairs), plot_i)\n",
              "    df.plot(kind='scatter', x=x_colname, y=y_colname, s=(32 * figscale), alpha=alpha, ax=ax)\n",
              "    ax.spines[['top', 'right',]].set_visible(False)\n",
              "  plt.tight_layout()\n",
              "  return autoviz.MplChart.from_current_mpl_state()\n",
              "\n",
              "chart = scatter_plots(train_results, *[[['Train Predictions', 'Actuals']]], **{})\n",
              "chart"
            ],
            "text/html": [
              "      <div class=\"colab-quickchart-chart-with-code\" id=\"chart-cb5f1096-cd00-46f2-a469-57a5898f2d43\">\n",
              "        <img src=\"data:image/png;base64,iVBORw0KGgoAAAANSUhEUgAAASgAAAEnCAYAAAAaUd7MAAAAOXRFWHRTb2Z0d2FyZQBNYXRwbG90\n",
              "bGliIHZlcnNpb24zLjcuMSwgaHR0cHM6Ly9tYXRwbG90bGliLm9yZy/bCgiHAAAACXBIWXMAAA9h\n",
              "AAAPYQGoP6dpAAA0PElEQVR4nO3de3hTVbo/8O/ae+fS9JIC5d6mRVq80NpyKS2MijwKMqNHPTLI\n",
              "eQSh3mB0nEHxPAd4vOLxWJyDjHg7MvwUZywPooiOgyMiHLFzLBYYQUEUW2xJKS0lvaRN09zX74+Q\n",
              "0JSU3pLs3eT9PE9n2qTJXq3wZa2137UW45xzEEKIAglyN4AQQrpDAUUIUSwKKEKIYlFAEUIUiwKK\n",
              "EKJYFFCEEMWigCKEKBYFFCFEsSigCCGKpZiA2rx5Mxhj+OijjwAADQ0NmDt3LrKyspCdnY3S0lJ5\n",
              "G0gIiThFBFR1dTU2bdqEwsJC/2OrVq1CYWEhKioqsHnzZtx1111wOp0ytpIQEmmyB5TH48H999+P\n",
              "V155BRqNxv/4e++9h9/85jcAgPz8fIwZMwZffvllt+9jt9vR2toa8PHiiy+Gvf2EkPCRPaDWr1+P\n",
              "X/ziF5gyZYr/scbGRjidTowaNcr/WEZGBoxGY7fvU1xcDL1eH/Cxffv2sLadEBJesgbUsWPH8MEH\n",
              "H+CJJ54Y8HutXr0aZrM54GPatGkhaCUhRC6SnBf/xz/+gerqamRlZQEA6uvrsXTpUqxZswaSJKG+\n",
              "vt7fi6qurobBYOj2vTQaTcAQEQBEUQxf4wkhYSdrD+rBBx9EXV0dqqurUV1djcLCQvzpT3/Cgw8+\n",
              "iPnz5+ONN94AABw8eBC1tbWYOXOmnM0lhESYrD2oS3nhhRdw9913IysrC2q1GiUlJVCpVHI3ixAS\n",
              "QYoKqH379vk/HzlyJHbv3i1fYwghspP9Lh4hhHRHUT0oQsjgU1ZpQkm5EVUmC8alJGBRgQEzMlNC\n",
              "8t4UUISQfiurNGHVjqOwOlzQqkQcqGrEsVoz1t6RE5KQoiEeIaTfSsqNaLE64HB5YGqzw+HyoMXq\n",
              "wJby7ouq+4J6UISQfjtU3YRWm8v/tc3lgcCAo7UtIXl/6kERQvrl8R3foaHNftHjHg5Y7K4gr+g7\n",
              "CihCSJ9tKj2JLQdqun3e5vCE5DoUUISQPnt938lLPi+KLCTXoTkoQkivlVWasGFvBZqtl96bbeKY\n",
              "pJBcjwKKENIrZZUmPLLtSNB5p84YgN/fkBWSa9IQjxDSK8/uPN5jOAGATi1ixngq1CSEhIlvKHe8\n",
              "rhVutwcuD4fDzXv1Woc7NBPkAPWgCCFd+IZyB6ubYLG5YHV6eh1OAOB0c5RVmkLSFgooQkgAb3W4\n",
              "E/29D8eAkFWSU0ARQgJUmSzg4GCMoff9pk4YcLTWHJK20BwUISRAklYFZx+GdBfhgDNE81DUgyKE\n",
              "+JVVmnBsgL0fQWBQhahQkwKKEOK3/N3DaHe4B/Qe8WoROanJIWkPDfEIiWGdN5trt7lwzuIY0PvF\n",
              "q0Uk69RYWND9CUx9QQFFSIzybTbXaLGjw+mGZwDTTgAwIlGD/IyhWFhooEJNQsjAlJQb0dBqg801\n",
              "8AltUQBeWpAXsq1+fSigCIliXSvCNWoRiRoVssfqcai6KSThBABuj7f2iQKKENIrvopwk8UOzgEO\n",
              "wOr0wNzuhLnDidaOS+9I0BcMwM8mS8jez4fu4hESpTpXhLNOd/09AFo7nP0rwryEy4YnhPgdKaAI\n",
              "iVq+inBBYOBd0ijU4cQBmNrsIVuD50MBRUiUGpeSAAYGl5uHPJC60ogMJ89ZsGrH0ZCGFAUUIVFq\n",
              "UYEBOo0Y9nASGTBmiA6jkrSwOlwhWygM0CQ5IVFlU+lJvPlVNRrb7BBEBs9A1tT10vBELRI03ijR\n",
              "qsSQTpYrogc1Z84cXH311cjLy8O1116Lw4cPAwAqKiowY8YMTJgwAfn5+fj+++9lbikhyrWp9CRe\n",
              "2HUC9WYbnB4Ou9MD50CrL7uhEhiStBIYAKvDe8QU5xw2pzukk+WK6EG99957SE5OBgB8+OGHKCoq\n",
              "wrfffotly5Zh6dKlKCoqwvbt21FUVISDBw/K21hCFMa3XGX39/VwhSmQunJ5OHRqCe0ON9odLjRb\n",
              "HbA53dCppZAtcwEUElC+cAIAs9kMxhgaGhpw6NAh7N69GwAwb948PPzww6isrERmZuZF72G322G3\n",
              "B+6X7HYPbNEjIUrnW65idbgiFk7A+ZoqhwvxahHxGgmJWgm5qckhXeYCKCSgAGDx4sX44osvAAB/\n",
              "//vfUVNTg9GjR0OSvE1kjMFgMMBoNAYNqOLiYqxZsybgscLCwvA3nBAZlZQbYXW4MCpJixarM6Ih\n",
              "1e5wYWyyDmvn5YQ0lDpTxBwUAPzlL39BTU0NnnvuOaxcubLPr1+9ejXMZnPAx7Rp08LQUkKUo8pk\n",
              "gVYlgjGGlARNxK4rMGBEojas4QQoqAfls2TJEvzmN79Bamoq6urq4HK5IEkSOOcwGo0wGIKPbzUa\n",
              "DTSawP9AoihGosmEhF3nbVHGpSRgUYEBMzJTMC4lAQeqGsE5R5w6/H/eNSKDVi1BH6cKezgBCgio\n",
              "lpYWWK1WjBkzBgDw0UcfYdiwYRgxYgQmT56MkpISFBUV4YMPPkBqamrQ4R0h0azzPJNWJeJAVSMO\n",
              "VTchIyUe1SYLmtsdaLQ4wl7vJAkMl41IwGUpCSGfa+r2mmG/Qg/MZjPmz5+Pjo4OCIKA4cOHY+fO\n",
              "nWCMYePGjSgqKsLzzz+PpKQkbN68We7mEhJxneeZGGNoszlhbLKi0WKHh4d+2Up3skYk4NPl10Xo\n",
              "al6yB1R6ejoOHDgQ9LnLL78c+/fvj3CLCFGWzvNMANBkdYJz76LfSEqKU0X4igqaJCeEBDcuJQE2\n",
              "pxucc1jsLrSFYSeCnggMOF7XGvLFwD1eN6JXI4T02aQ0PawON47XtaLa1B7RcGLwhhMA2F2ekC8G\n",
              "7onsQzxCyAW+u3XHas1wuD2wOVxos7kiOtfE4J0Q5wA8nIMBEAUBY/RaWOyusOyc2R0KKEIUovMh\n",
              "BlaHO+LDOAC4OWc0FhYaAA4sK/mnf/nK0Hg1EjQSXB4elp0zu0MBRYhClJQb0WixD/hcuv7SSAJe\n",
              "WzjZ//WVo5NwxNgMm9ONJovDvxg4Ny05Ym2igCJEZr5h3efH6wd25PgAMQb8ckMpxqUkYFKaHtWm\n",
              "9vNLZzicbg/a7E6kJGhCuhi4JxRQhMiocxGmO4Lr6IJxuDw42dCOn8624bNjddBIAgxDdWi2OmFz\n",
              "usDBMG54fEQKNH0ooAiRUeciTLPVCU/XzcMjyMMBh9sDkTG4OUeH0+NdpD9UBwBotjpCehJMb1CZ\n",
              "ASEyOlZrRmuHE8frWsO2udylCAxQiQwsyHMcQKPFu4VRODaj6w3qQREik7JKE8622uCQad5JEhiG\n",
              "6NRwuDwwuy/0jNycQ2AA5wjrZnS9amNEr0ZIjOluFwLAO7xzuSO9YMVLFBimpA/ByXMWaNUCzLbA\n",
              "5z0c0KoEDNGpw7YZXW9QQBESJsF2IThWa8baO3IwIzMFx2rNkOum3YSRCVh+QxZW7TiKenNHwHO+\n",
              "4Z7AGF68MzfiodQZBRQhYdJ1FwLOOYxNVjz2/rdI1qlwpsUqS7sE5l34OyMzBWvvyMGykn+Cww21\n",
              "KHirxz0cjAEpCWpZwwmggCIkbLruQuA9YOD8IQPtDrhkGN2pRIbkOLX/btyMzBRcmzUcB6oaA4K0\n",
              "vtWGnNTkyDewCwooQkLMN+90urkDdqcHksCQqFV592/yeE/5dXsin06SwDA2OQ4WuyvgbtyiAgMO\n",
              "VTfhpwYLOOdgjCE5ThXxCfFgKKAICaHO804aSUC73QVjkxXD4jVos7lkWV8HXLhjZ7G7ur8b56vB\n",
              "8v9/5NrXHQooQkKo67yTKDA0tNphsthl+/ueqJFw1ZgktNqcQbfrLSk3wsM5JoxMDBjiRXLXgu5Q\n",
              "QBESQr55p3aHG6ebrbKurfOxOl2oM9v8dw+76jpXxhgL+RHm/UWV5ISESFmlCc1WJ860dKDK1K6I\n",
              "cAIAjSigvtWGZSX/xENbvrlow7nOO3YC8lWNB0M9KEIGaFPpSbz+5Uk0t0d2nVpvMAAON4eHc3DO\n",
              "L6rFAryT5MdqzahvtUGrEmWrGg+GelCEDMCm0pN4YdcJRYYT4N1CxXdnTqeWMCpJC6vDuyumj68e\n",
              "qmDcMCRqJRSMGxaRM+96g3pQhAzAm19Vy75NSjAi8y5X4RwAAyTGMDRe3e380ozMFNknxIOhgCKk\n",
              "H3y1TmfNNiXcjQ8QrxEhMgaXmwMMcLk9GJOsRYJGkmVXzIGggCKkFzaVnsSbX1Wjud0BnUaEw+WB\n",
              "3elRXDgB3o3nJhuGYPmNWQAHVu04CovdBZeHK2p+qTcooAjpgW+eyX2+CtwuxxqVPohTiUhJ0Pjn\n",
              "kNbekYMt5Ub8bLLItitBf1FAEdID3zyTEntLwTjdnoA5JqXOL/UG3cUjpAfN7Y5BE06Ad9teJdQw\n",
              "hYLsAWWz2XD77bdjwoQJyM3NxezZs1FZWQkAaGhowNy5c5GVlYXs7GyUlpbK3FoSi4bEq+VuQq8x\n",
              "ABpRHDRzTD2RPaAAYOnSpThx4gS+/fZb3Hbbbbj//vsBAKtWrUJhYSEqKiqwefNm3HXXXXA6lVlv\n",
              "QqLXfb/ICLpnt5II8O7zFKcW8eicrEEzx9QT2eegtFotfvWrX/m/LiwsxLp16wAA7733nr83lZ+f\n",
              "jzFjxuDLL7/EjTfeeNH72O122O32gMfcbnkOQCTRZeIYPYYnqNFgccjdlItoJAF5acndLgQe7GQP\n",
              "qK42bNiA2267DY2NjXA6nRg1apT/uYyMDBiNxqCvKy4uxpo1awIeKywsDGtbSfTbVHoS63b/pMg7\n",
              "dwzAyCQNti2b7n+srNKEh7Z8E3QP9MFIEUM8n+effx6VlZUoLi7u82tXr14Ns9kc8DFt2rQwtJLE\n",
              "grJKE+7cuB/Pf/qjIsMJ8G7XFK+50Mfw7UV1oKoRbTYXDlQ1YtWOoxctDh5MFNODWrduHXbs2IE9\n",
              "e/ZAp9NBp9NBkiTU19f7e1HV1dUwGIJP/mk0Gmg0moDHRFEMe7tJ9PH9Ra9ttkLGczR75XTzhX3N\n",
              "g+2BrpR9nfpLET2o9evXY+vWrfj888+RnJzsf3z+/Pl44403AAAHDx5EbW0tZs6cKVMrSawoKTfC\n",
              "1GaT7cSVvmizuf09JCXv69RfsgfU6dOn8dhjj6GlpQWzZs1CXl4eCgoKAAAvvPACysrKkJWVhaKi\n",
              "IpSUlEClUsncYhLNyipN+EfFOVidyhzWBfPItiMoqzQpel+n/pJ9iJeamur/hXY1cuRI7N69O8It\n",
              "IrHGt/D3WG0L6sw2xWw011stHU5sKTcqel+n/pI9oAiRk2++qcXqkPVQg4Fwujw4Wmv27+s0WNfd\n",
              "BUMBRWJaSbkRLVYHOpxuxYaTSmSX7NVxAKY2O8oqTYN63V0wss9BESKnKpMFTrdHkZvO+bh6MeSU\n",
              "RBawS2a0oIAiMY1zoMPpgVLzKV4t9tizY/AeZT6Y79Z1hwKKxKxNpSdxor5N7mZ0yzA0DoZhOozW\n",
              "a6ESul8NyBgG/d267lBAkZj15lfVipx3UokMSVoJOWOT8eny6/Di/FzEa7ufLhbPH4gwmO/WdYcm\n",
              "yUnM8JUT+NapnWuzyd2ki4gMSB2iC9h0bkZmCiaMTMQ/q5suKh5lACane7f3Hcx367pDAUWiUtcw\n",
              "mpSmxztfe5eCaFUivjzRALcCazHdHEEPNmizOTE6OQ4qUUBTuwN2pxuMAcMTAxcLRxsKKBJ1fLVN\n",
              "vjA6UNWIfT82gDFAEBharE64lDorDuBMSwdG6eMChmzjUhJwoKoRyXEqJGh0/nV2OanJ8jU0Aiig\n",
              "SNQJtmj2+zOtipxv6kxg3glvjUq86ODMaKwS7w2aJCdRp+uiWZNF+XuKCwwwDNVhiE6N6yYMv2g+\n",
              "Scmn/4YT9aBI1PENhzjnaHe4Ud+qvMnwrjSSCIvddcleUbRVifcGBRSJOpPS9Nh3ogE/1LcqtgCz\n",
              "q0SthPyMoYN+7VyoUUCRqFJWacI7XxsBzuHxQPFDO43IoFV7w+m1hZPlbo7iUECRqOJb/GtzKfNY\n",
              "csA735Q+LB4J57frbbY6onKZSijQJDmJKsdqW9BqcylyaKcSGOJUIhjzrrEDomNTuXCiHhSJGmWV\n",
              "Jpxttff8jTIZmqCGzekBA2KuXKC/KKDIoNG1OnzR+b/UvsfOmm2KPYFFJTC4PRz6OBXuLjTgSI0Z\n",
              "R2vNUIkCAI6Sr40AR8zdpesJBRQZFIJVhx+qbgIAeDiH081h7lD2qdMF44b579L5fh6n2wNR8P48\n",
              "x2rNWHtHDoVUJzQHRQaFztXhQ3RqjErSosXqQIvVCfcgCCeVJGBhwYUSgmA/j9XhispN5waCAooM\n",
              "CsGOVOIAXG4PmhUeTgyAShQCwicaj4gKBwooMigEO1IJHFDmjFMgUWBwnD/YwCcaj4gKBwooMigs\n",
              "KjBAp5ZQ32pDs9WBKlM7nAqrJei66SWDdzM5wBs+voMNgIt/nvpWG93NC6Lfk+Rmsxk1NTXIzs4O\n",
              "ZXsI8et61+7uQgP2/NCA7063oENhB2syAIlaFRK1Elo7nGizuQAAggBwziCJFw428K2pi7YjosKh\n",
              "TwE1d+5cvPvuu5AkCbm5uQCAxYsX49lnnw1L40js6nzXjoGh8mw9Pj1ap9jqcI1KQNqQODDGkByn\n",
              "wvG6VgDeHpRGLWJovDpgl0wgNhf/9lWfhnhnz55FcnIy/v73v+O2225DRUUFPvzww3C1jcQw312u\n",
              "BI2EZqsDTg9XZDjpVIJ3HyewgAlvjeStGM8ckQDDUB3i1SLNMfVDn3pQTqf3bklpaSnmzp0LlUoF\n",
              "SaJSKhJ6vrtc59rsit79UiV5j4VyuL0T3r4N8tSSQBXjIdCndMnOzsYvf/lL/PDDD/jDH/4Aq9Ua\n",
              "rnaRGDcuJQFfVZrQ7nDL3ZRuCeePe9JIAhhjAWHUuWKc5pj6r08B9fbbb2PXrl3Izc2FTqdDbW0t\n",
              "iouLB9SA3//+9/j4449x6tQpHD58GHl5eQCAiooKLFmyBCaTCXq9Hm+//TYmTpw4oGuRwWNRgQH7\n",
              "TjTI3Ywecc6RrFNTGIVJnwJKq9Xi9ttv9389duxYjB07dkAN+PWvf43/+I//wDXXXBPw+LJly7B0\n",
              "6VIUFRVh+/btKCoqwsGDBwd0LTJ4zMhMQfdHVUaeyBjc/MJQkzFvfdMkQ89HPgVbQ0iT473Tq4Aa\n",
              "MmSIfwKwM9+Yu6mpqd8NuO666y56rKGhAYcOHcLu3bsBAPPmzcPDDz+MyspKZGZmBn0fu90Ouz1w\n",
              "JbvbrdzhAeleWaUJG/ZWKGp45+HcX+fEGKBTS9h495Qee0nB1hDSmrve61VAHTlyJMzNCFRTU4PR\n",
              "o0f7J+AZYzAYDDAajd0GVHFxMdasWRPwWGFhYdjbSgaucw8jSatClakdpjZlbZvCz//PiCQN3B6O\n",
              "gsuG9WoIF+yEmfpWm78eilxarwIqPT093O0YsNWrV2PFihUBjz355JMytYb0xBdKx2rNMLXZIYne\n",
              "W/M/1rUprpxALQpwe7w7dDa3Oy46s+5SaM3dwPRpDqqhoQFPP/00vv32W9hsF07K+Oabb0LaqLS0\n",
              "NNTV1cHlckGSJHDOYTQaYTB0/4dCo9FAo9EEPCaKYkjbRUKj87Cn3e6GzemG6Gaw2F2KCycAiNeI\n",
              "8HARVocLkihgtF6L/9x5vFfzSZ1PmPH1oLqeGky616dCzfvuuw8ZGRkwmUxYs2YNxowZg5tvvjnk\n",
              "jRoxYgQmT56MkpISAMAHH3yA1NTUbod3ZHApKTfC3OGE3eXxLpgF4PJwRW7TCwAWmwtpQ+KgU0sA\n",
              "B06es6DN5sKBqkas2nHUv74uGFpzNzB9CqiamhqsXLkSGo0G//Iv/4IdO3Zgz549A2rAsmXLkJqa\n",
              "itOnT+Omm27yh9DGjRuxceNGTJgwAWvXrsXmzZsHdB2iHMdqzbDYXOhwuBXZYwK8E+E+To933sjp\n",
              "9kASWZ/2cIrVAzdDpU9DPLVaDcBbbtDY2IghQ4bAZOr+X4/e2LhxY9DHL7/8cuzfv39A702UyeH2\n",
              "wMM5uELTiQHQSiJcbg+cHg5JYCgYNwxHa1vg4ejzfBKtueu/PvWgJkyYgMbGRixatAgFBQWYOnUq\n",
              "pkyZEq62kSjlUei6us6FNA6XG67z4bTyl5fjtYWTkT02mfZwirA+9aB8c0LLly/HlClT0NLSgrlz\n",
              "54alYSR6tdmUuQPm5aMSMcWQjP89cQ5N7Q4MjVfj3msy8MC14wF455OO1ZppfV0E9Xulb9fKb0Iu\n",
              "pXNZgdL2cvLRx6nwX3dc3e3ztIdT5PUpoARBCFpRThXb5FJ8ZQWNFruiqsO78u3hdCk0nxRZfQqo\n",
              "trY2/+cdHR34y1/+QuFEelRSblR8OAHeAxiIsvRpkjw+Pt7/kZKSghUrVmD79u3hahuJElUmi+LD\n",
              "CQDi1FTYqzQDOjThxx9/HHCZAYl+iVqV3E3oFUmgM0SUpk9DvM67GrjP7yD48ssvh6VhJHq0Kvjc\n",
              "uvOHrgDwbp9ClKVPAdV5VwNJkjBq1Cha70a6VVZpwkt7K/BjfVvP3xwhakmAw3VhrkkSGDgHOPce\n",
              "rkmUpU//Rd555x2kp6cjPT0dY8eOhSiKeO6558LVNjKIlVWa8Mi2IzhU3f+9wkJNLQkQGQs4v04U\n",
              "GHRqEQlaCTmpevkaR4LqU0Dt2LGjV4+R2FRWacJDW77BtP/6HIveLEdDm11RC4D5+caI5wNKYEBK\n",
              "ggZqSYA+TkUFlwrUqyHeZ599hl27dqG2tjZgzyWz2XyJV5FY0HVfJ6fbDYXWYcLp4fBwNzzcG06X\n",
              "j0oEACq4VLBeBZRWq0VycjIEQYBef6EbnJaWRpvCxbBg+zopqMPkp1EJ0Ioi2h0uiAK7aAkLUa5e\n",
              "BdTMmTMxc+ZM3H777f4ThQnx7evkcLkVu3xFEhhGJ2lhsbtw04RReO2uyXI3ifRBn+agXnnlFTQ2\n",
              "Nvq/NplMWLZsWcgbRQaHY7VmtHU4FRdOvklwlcCQrFPBYnfRot5Bqk9lBv/85z8xbNgw/9cpKSl0\n",
              "FFQMc7g9UFY0ARpJQF5aMswdTtS2dMDu8uCq0Uk9Hg1FlKlPPSiXyxXwNeccDocjpA0iyldWacKd\n",
              "G/fjrNnW8zdHUIJGxL/PmYA6sw0mix36OBU0koA6sw2KnBwjPepTQBUWFuLhhx/GqVOnUF1djYcf\n",
              "fhjTp08PV9uIAvnqmw5WNSnm77zIgCtHJ+JPi6ficI3Zf8xTb7flJcrVpyHeiy++iOXLlyM/Px+M\n",
              "Mdx6662YOXNmuNpGFMi3M4Hc4cQADE/U4MDjNwY8/p87j9MxT1GkTz2opKQkbN68GaWlpVi8eDH+\n",
              "9re/4aWXXgpT04gSVZkscMucTgK8I7amdgce2vJNwKkq41ISaFveKNLrHpTVasW2bdvw5ptv4uef\n",
              "f0ZHRwf279+PK664IpztIwpSVmlCs1X+hb++iXnO+UVHidO2vNGlVz2oBx54AGlpafj444+xcuVK\n",
              "GI1GJCcnUzjFAN/ylev+8L+4/y+H0KaQnQkYgASt6qI5JjrmKbr0qgf17rvvYurUqVi2bBluuukm\n",
              "MMaCbv1LoktgpbgLNqcHStmRRCUKGBqvDjrHRNvyRo9e9aDq6uqwaNEiPPvss0hPT8cTTzwBp1MZ\n",
              "/5KS8CkpN/rviHEOSCKTff4J8FaHj0nWIkEj0RxTlOtVQCUkJOC+++5DWVkZdu3aBZvNBofDgRkz\n",
              "ZuD1118PdxuJTKpMFv8dMY0kwiVzOqkEhitGJ2JMchwsdhcdJR4DGOf9O9/V5XLhr3/9K9566y18\n",
              "8sknoW5XSKxYsQLr16+XuxmDSlmlCRv2VuB4XSs6zu8jPixejaZ2B5wy7J3CAAiMIUErQR+nwtp5\n",
              "OQCH/+iny1ISaCeCKNbvc/EkScK8efMwb968ULaHyMhXhGmy2L27TJ5//GybPeJtSdRKiFOJEAUG\n",
              "lSggZ6w+IIhojik29DugIqWiogJLliyByWSCXq/H22+/jYkTJ8rdrKhUUm5Ec7tD9k3mRIFh46Ip\n",
              "FEJE+QG1bNkyLF26FEVFRdi+fTuKiopogXKYHKs1yzKM64oBeOz9b5GsU2FcSgIWnZ9fKik3ospk\n",
              "8T9GARb9+j0HFQkNDQ3IzMxEU1MTJMl7x2b06NH4v//7P2RmZvb4epqD6pvJz+5Gk8yFmAIAMO9p\n",
              "K6P1cbA53RDOl7R4OA8ovvQVZ5LopehjLGpqajB69GhIkrejxxiDwWCA0Xjxwk+73Y7W1taADzr1\n",
              "uPeUUCUuMECrEsA5EK+W/It9WzqcaLE6aAFwDFL8EK+3iouLsWbNmoDHCgsLZWqNMvn2Dw82THp2\n",
              "5/GILwD2FX369ggfGq9Gs9UBgTEMS9AA8P6j5Ovk0wLg2KPoHlRaWhrq6ur8+1BxzmE0GmEwXFzz\n",
              "snr1apjN5oCPadOmRbrJiuWrCj9Q1Yg2mwsHqhqxasdR/0Lbn85G9uy6IToVEjQSGAOG6lTIzxiK\n",
              "4YkajEjUIkErIf78MeScc+/KhfOf+x6j4szYoOge1IgRIzB58mSUlJSgqKgIH3zwAVJTU4POP2k0\n",
              "Gmg0moDH6FDRCzpXhft6JfWtNmwpN2JGZkpE79ypBIZ4jQSb041knS5grZwvSDsv9k2O8x6dTguA\n",
              "Y4+iAwoANm7ciKKiIjz//PP+7V5I33WuCgcCh0mbSk9GrB2T0vQYk6zDzyZL0OOefIt9fYWYvu/p\n",
              "XJxJx0TFDsUH1OWXX479+/fL3YxBb1xKAg5UNfqHTL5hUm5aMjbsrYhIGwxD4/Dhb6/p8fu6W+xL\n",
              "d+xij6LnoEjoLCowQKeWUN9q869hExjDVz+dg8Ue/rudAgPWzrs67Nch0YUCKkb4hk7jhyfA3OGE\n",
              "1eFGY7sdLTZXzy8OAVFgNCQjfab4IR4JrSpTO+xOD5xuT0TLClISND1/EyFdUEDFkA17K2Cy2CO+\n",
              "1o4BuPeajMhelEQFCqgYsan0JMqrmiJ+XZEB/zYtDQ9cOz7i1yaDHwVUDHh8x3fYcqAmItcSGJB8\n",
              "vggzZyyVA5CBoYCKcmWVJmyNUDhpVQIemz0BD1xHvSUSGhRQUci35u5YrRln22z+Y5rCSQCgkUS8\n",
              "87URE8foqWaJhAQFVJTxLRVptNjR7ojMbg4CA9KHxSNeLQYsnyFkoCigokxJuRHmDmdEwkktMrg9\n",
              "HCpRQILG+0eJdhkgoUSFmlHmWK0Zbbbw7+vEAGhUIjwcUEveP0a0ywAJNepBRZGyShNMbZGpcxIF\n",
              "BoExiOc3dWq2OmiXARJyFFBRpKTcCE+EdnBWiQzXZKYgL02PIzVm2mWAhAUFVJQoqzRh348NsLnC\n",
              "c89OoxLAuHdYpxIZhidq8NrCyWG5FiE+FFCDXFmlCS/trcBhYzOcYTr5lwHIGp4QsNEdzTORSKCA\n",
              "GsQ2lZ7EH/dUwBrGO3YqkWGITk27WRJZUEANMp2LME83W8M6Ic4A/PneabSbJZENBdQgUVZpwoa9\n",
              "FfjG2AwG7xlx4b5bJzAAvPsdLgkJN6qDGgR81eGHjS1wezjcHAjTXHgAjSTQ2XNEVtSDUqCu59c1\n",
              "WuywOlzg3LvJnCcChU4aScDQBA1VhRNZUUApjK+3ZHW4oFWJOFDVCHOHEzq1BDcHOPfODYUrohgA\n",
              "lShgtF4Li92F3LTkMF2JkJ5RQClMsPPrWjucaLM54avBDEc4iQzwVSkkxUmw2F10t47IjgJKYYKd\n",
              "X5cUp4LJ4gjbNbUqAVkjElFvtsHmcmN4ogaXpSTQ3ToiOwoohQl2fh3gvaMWrqknu9Pj7aGB47oJ\n",
              "w/HaXVQhTpSB7uIpTHfn14U6nFQCAzv/OQdwxmyjIR1RHAoohel6fp3d5UFHiCvF2fn/Ycz7uSgw\n",
              "aCQBa+fl0JCOKAoN8RSga1nBpDQ9qkztsDnccHl4SCfFEzUi7C4Oxjh0WhWG6FSw2F0ouGwYhRNR\n",
              "HAoomQUrK9j7w1nYw1SJeWvuGPyjstF/PbpbR5RM1iHeJ598gilTpkCj0eCRRx4JeM7j8eB3v/sd\n",
              "xo8fj8zMTLz66qvyNDLMOpcVDNGpMSpJG7ZwEhnQ0uHC2jtyUDBuGBK1EgrGDaOhHVEsWXtQWVlZ\n",
              "eOutt/D+++/DYgmsWC4pKcHx48fx008/wWw2Y9KkSZg1axYmTpwoU2vDw1dW0O5wo7HdAavdFZbr\n",
              "CAwYGu+tDKe1dWSwkLUHNWHCBOTm5kKSLs7Jbdu24YEHHoAoihg6dCgWLFiArVu3dvtedrsdra2t\n",
              "AR9ud2RONemvskoTmq1OnGnpQLWpHRabE64w1BIIDDAM1YGD0z5OZFBR7F08o9GI9PR0/9cZGRkw\n",
              "GrtfuFpcXAy9Xh/wceDAgUg0tV/8c092Fzj33uoPZTapBAaV6C0l0Eg010QGp7AO8aZPn46Kioqg\n",
              "zx0+fBhpaWkhu9bq1auxYsWKgMeefPLJkL1/KHS+W1ffakOr1QmO8CxdSdapYXe54RI4UhI1yBmr\n",
              "p8pwMuiENaD279/f79caDAacOnUK06dPBwBUV1fDYOj+X3+NRgONRhPwmCiK/b5+qHW+WwcAze2h\n",
              "PxpKZMDUjKEAA1o7nLRchQx6ii0zmD9/PjZt2oT58+fDbDZj27Zt2Llzp9zN6rfOd+t+NrWH5Rqr\n",
              "fnUFHrh2fFjemxA5yBpQe/fuxZIlS9Da2grOObZv347XX38dt956K+6++24cPHgQWVlZYIxhxYoV\n",
              "yMnJkbO5A9L5bl049hBfWJBG4USijqwBdcMNN+D06dNBnxNFEa+99lqEWxQ+vkXAZ80dIX/vJK2E\n",
              "f1Q0oqzSROUDJKoo9i5etJmUpkebzQVniGswvfVNalgdLtqel0Qdxc5BRYtInFvXbHUiUSvR9rwk\n",
              "6lBAhZHvzl1dSwecYdrMiXPA5nRDJTLanpdEHRrihVFJuRGNFnvYwgnw1lBxzqkIk0Ql6kGF0bHa\n",
              "lrDcsWPwzj25zx+gMMkwBMtvzKJ6JxJ1KKDCwFcxfqbFFtIqcUlgcPt6YwzQqUQ8OjuLygtI1KKA\n",
              "CrHOFeOhDCeVyDA2OQ5nWjqgUYm4Lms4VYmTqEcBNUBdd8P8+ZwF9WYbGOMXejshIAkCLHYXRunj\n",
              "aP8mEjMooAag626YX1WaYO5w+g8jCBWdSqQFvyQmUUANgG99XYJGQpPVibYO7wLgUM87/b+iqRRK\n",
              "JCZRQA1AlckCBoYzLTZ4eOhiicF74goATMkYQuFEYhYFVC90nWdaVGDAjMwUjEtJwMmGs3B7PFBJ\n",
              "woB3w9RKAjzce4oLg3dPp+U3ZIXkZyBkMKKA6kGwU1eO1Zqx9o4cLCowYPf39XBzwB2CRXaPzZmA\n",
              "IzVm/Gyy0F5OhIACqked93HyHUVe32rDlnIjFhYYIDKGUBQUaESGIzVmvLaQjh0nxIeWuvTAt48T\n",
              "Oz8pxBiDViXiZ5MFL+2tgN098J6TAGB4kpYW+xLSBQVUD8alJMDmdKPN5sSpJit+OtuKhjY7AOBQ\n",
              "dVNIrmEYpoPN6aYTVwjpggKqB4sKDBAYg7HJCovNCaebw+X2oPKsJSSnsOi1KjpxhZBu0BxUD2Zk\n",
              "piAjJR5N7XZ/IKlEISSn/2okAWOGaGlCnJBuUED1Qr25Ax4O//l1Aw0ngQGJWhWuyUrBa3fRpDgh\n",
              "3aGA6oU2mytkh2qKjCFBK0Efp6IhHSE9oIDqhVDt6aQSGUbr42hNHSG9RAHVg7JKExwhKCUYkajB\n",
              "S/+WR6FESB/QXbwebNhbgYEus9NIAoUTIf1APaguNpWexJtfVaO53QGdRkTLAI8oj1eLuP6KERRO\n",
              "hPQDBVQnm0pP4oVdJ+D2cAgMaG4f2NBOJTAMS9DQZDgh/UQB1cmbX1XDdT6cQnGE3eSMIVh+Ax1m\n",
              "QEh/UUB10nh+CctASwo0IsNIfRy2LZ0eglYRErsooDoRRDbgdBqZpIHbw5GTqg9RqwiJXbLexXv5\n",
              "5ZeRnZ2NnJwcXH311SgpKQl4/rnnnsP48eMxfvx4PP7442Fvj16rGtjr41Rwe+gQTUJCRdYe1MSJ\n",
              "E/HVV19Br9ejpqYGkyZNwvTp0zF+/HiUlpZi69at+O677yBJEn7xi19gxowZuPnmm0PeDt+OmR1O\n",
              "N0QB6EvZk0pgUIkMep0ayToVrasjJIRkDagbbrjB/3laWhpGjRqFmpoajB8/Htu2bcPdd9+N+Ph4\n",
              "AMC9996LrVu3dhtQdrsddrs94DG3u+cK8M47Zrrdnj6FEwNwxegkNFsdSNRK+HT5db1/MSGkR4op\n",
              "1NyzZw+am5uRn58PADAajUhPT/c/n5GRAaPR2O3ri4uLodfrAz4OHDjQ43V9O2a6PRzWPm7bOzJJ\n",
              "C8457eVESJiENaCmT5+OlJSUoB81NTX+7zt69CjuuecebNu2zd9j6qvVq1fDbDYHfEybNq3H1x2r\n",
              "NaOtw4lma98LMiWRob7VRnNOhIRJWId4+/fv7/F7jh8/jltuuQVvvfUWrrnmGv/jBoMBp06d8n9d\n",
              "XV0Ng6H7ENBoNNBoNAGPiaJ4yWuXVZpwttUGez+Knq4YlQjGgNzUZJpzIiRMZJ2D+uGHH/CrX/0K\n",
              "f/rTnzB79uyA5+bPn4/f/va3+N3vfgdJkvDWW2/hmWeeCen1N+ytgKOPezsxAMMT1dj1CM03ERJu\n",
              "ss5B/f73v4fZbMbKlSuRl5eHvLw8fPbZZwCA66+/HgsWLEBOTg6uvPJKzJ49G7fccktIr3+8rhWM\n",
              "oddHlWcM02FYghr544aFtB2EkOBk7UF9/vnnl3z+qaeewlNPPRW267vdvNd1mWqR0d7hhERYzFaS\n",
              "l1Wa4OxlTYFGEjAySYOcsTTfREgkxWxAbdhbAWcP3SdvnVMinrzlKgolQmQQswF1vK71ks+LDFj1\n",
              "yyvwwHXjI9QiQkhXiinUVBwGHKkxy90KQmJazAbUlaOTun2OAVCLAh1FTojMYjagHrkhC8lxwXcv\n",
              "EAUGlSjQ8hVCZBazATUjMwWvL5yMgnFDoZEu/BrUIoNOLSJZp6ZyAkJkFrOT5IA3pGZkeu/OlVWa\n",
              "sKXciJ9NFtoyhRCFiOmA6qxzWBFClCFmh3iEEOWjgCKEKBYFFCFEsSigCCGKRQFFCFEsCihCiGIx\n",
              "znkIDvlWpjvuuAMZGRn9eq3b7caBAwcwbdq0HrcOjmX0e+o9+l1dkJ6ejuXLl/f4fVEdUAPR2toK\n",
              "vV4Ps9mMpKTu1+3FOvo99R79rvqOhniEEMWigCKEKBYFFCFEsSiguqHRaPD0009fdNYeCUS/p96j\n",
              "31Xf0SQ5IUSxqAdFCFEsCihCiGJRQBFCFIsCihCiWBRQXbz88svIzs5GTk4Orr76apSUlAQ8/9xz\n",
              "z2H8+PEYP348Hn/8cZlaqRwVFRWYMWMGJkyYgPz8fHz//fdyN0kRbDYbbr/9dkyYMAG5ubmYPXs2\n",
              "KisrAQANDQ2YO3cusrKykJ2djdLSUplbq2CcBNizZw9vaWnhnHNuNBr5sGHDeGVlJeec8y+//JJf\n",
              "ddVV3GKxcJvNxqdMmcJ37twpZ3NlN2vWLL5582bOOefvv/8+nzp1qrwNUoiOjg7+ySefcI/Hwznn\n",
              "/JVXXuEzZ87knHN+zz338KeffppzzvmBAwf42LFjucPhkKmlykYB1YOJEyfyL774gnPO+UMPPcSL\n",
              "i4v9z7322mt84cKFMrVMfmfPnuWJiYnc6XRyzjn3eDx85MiRvKKiQuaWKc/Bgwd5eno655zz+Ph4\n",
              "XldX538uPz+ff/755zK1TNloiHcJe/bsQXNzM/Lz8wEARqMR6enp/uczMjJgNBrlap7sampqMHr0\n",
              "aEiS9+wNxhgMBkNM/066s2HDBtx2221obGyE0+nEqFGj/M/F+p+jS4m5U12mT5+OioqKoM8dPnwY\n",
              "aWlpAICjR4/innvuwbZt2xAfHx/JJpIo8/zzz6OyshJ79+5FR0eH3M0ZVGIuoPbv39/j9xw/fhy3\n",
              "3HIL3nrrLVxzzTX+xw0GA06dOuX/urq6GgZD7B7umZaWhrq6OrhcLkiSBM45jEZjTP9Oulq3bh12\n",
              "7NiBPXv2QKfTQafTQZIk1NfX+3tRsf7n6JLkHmMqzfHjx3l6ejrftWvXRc998cUXF02S/+1vf5Oh\n",
              "lcoxc+bMgEnyKVOmyNsgBXnxxRf55MmTeVNTU8DjS5YsCZgkHzNmDE2Sd4PW4nUxe/ZsHDp0KGCu\n",
              "6YUXXsBNN90EAHj22Wfx9ttvAwAWLFiA4uJiOZqpGCdOnEBRUREaGxuRlJSEzZs3IycnR+5mye70\n",
              "6dNIS0vDZZddhsTERADexcLl5eU4e/Ys7r77blRVVUGtVuPVV1/FrFmzZG6xMlFAEUIUi+7iEUIU\n",
              "iwKKEKJYFFAxJi8vD3l5ebjqqqsgiqL/6wULFvT6PT7++GM8+uijfb72M888g+HDhyMvLw9XXnkl\n",
              "FixYgObm5j6/T1dTp07Fvn37AAD3338/vvjii0t+/759+7Br1y7/12fOnMG111474HaQ0KM5qBhV\n",
              "XV2NvLw8tLS0XPScr2wg1J555hm0tLTgpZdegtvtxvz58zFu3Di8+OKLA7r+1KlTsW7dOlx//fV9\n",
              "bgdRNupBEQDeauaVK1di2rRpWLJkCerr6zFr1ixMmTIFEydOxMMPPwyPxwMAePvtt3H77bcD8PZG\n",
              "srOz8dBDDyE3NxcTJ07EoUOHeryeKIq48cYbceLECVRXVyM5ORkrV67E5MmT8eqrr6K+vh533nkn\n",
              "pk2bhpycHDzxxBP+15aVlSEvLw/Z2dm455574HK5/M9df/31+OijjwAAZrMZ999/P7Kzs5Gbm4t7\n",
              "770XR44cwRtvvIEtW7YgLy8Pzz77rP/6Pp999hkmT56Mq6++GjNnzsTx48d7/FnPnTuHOXPm+BeZ\n",
              "33PPPQP5z0F85KxxIPKpqqrier3e/3V6ejq/7777/ItbOzo6eFtbG+ecc5fLxW+++Wa+detWzjnn\n",
              "mzdv5rfddhvn3FsbJooi//rrrznnnP/P//wPnzNnTtBrPv3003z58uWcc86tViufPXs2f+qpp3hV\n",
              "VRUHwP/85z/7v3fOnDl83759nHPOnU4nv+mmm/h7773H7XY7T01N9a9d++yzzzgA/3rJmTNn8g8/\n",
              "/JBzznlRURF/8MEHudvt5pxz3tDQcFE7uv4uzp49y4cOHcq/++47zjnnJSUl/Morr+Qej+eSP+v6\n",
              "9ev50qVL/e/Z2Nh4qV8/6SXqQRG/oqIiMMYAAB6PBytXrkRubi4mTZqEQ4cO4ciRI0Ffl5mZiYKC\n",
              "AgDepUQnT57s9hpbtmzBpEmTMGPGDFx11VVYtWoVAEClUmHRokUAgPb2duzduxfLly9HXl4epk6d\n",
              "isrKSpw4cQI//vgjJEnCjTfeCACYM2cOLrvssqDX2rlzJ/793/8dguD9Yz58+PAefwfl5eXIycnx\n",
              "13ItXLgQZ86cQW1t7SV/1sLCQnz66ad47LHH8Ne//pWWR4VIzC11Id1LSEjwf75+/Xo0NDSgvLwc\n",
              "Wq0WK1asgM1mC/o6rVbr/1wUxYAhV1cLFy4MOvej0+n8QcLPT4t+/fXXAe8NAN99991Fr/WFaiR0\n",
              "97NOnz4dR44cwZ49e7Bjxw48+eSTOHz4cMwfcT5Q1IMiQTU3N2PUqFHQarWor6/H+++/H7FrJyQk\n",
              "YNasWVi7dq3/sTNnzuD06dO44oor4HK5/Hfq9uzZ022P7dZbb8W6dev8c2fnzp0DACQlJcFsNgd9\n",
              "TWFhIY4ePYpjx44BAN59912MHTsWY8eOvWSbq6qqkJCQgDvvvBOvvPIKfvrpJ1gslr794OQi1IMi\n",
              "QS1fvhy//vWvMXHiRIwZM8Y/pIqULVu2YMWKFcjOzgZjDPHx8di4cSNSU1Oxbds2PPTQQ3C73cjP\n",
              "z0dubm7Q9/jjH/+IRx99FDk5OVCpVMjPz8emTZvwr//6r3jnnXeQl5eHO+64A4sXL/a/Zvjw4diy\n",
              "ZQsWL14Ml8uFIUOG4P333++xl7Zv3z6sX7/e36v67//+b+j1+pD+TmIRlRkQQhSLhniEEMWigCKE\n",
              "KBYFFCFEsSigCCGKRQFFCFEsCihCiGJRQBFCFIsCihCiWBRQhBDFooAihCjW/wdzcYCaNbuWDAAA\n",
              "AABJRU5ErkJggg==\n",
              "\">\n",
              "        \n",
              "      </div>\n",
              "      <script></script>\n",
              "      <script type=\"text/javascript\">\n",
              "        (() => {\n",
              "          const chartElement = document.getElementById(\"chart-cb5f1096-cd00-46f2-a469-57a5898f2d43\");\n",
              "          async function getCodeForChartHandler(event) {\n",
              "            const chartCodeResponse =  await google.colab.kernel.invokeFunction(\n",
              "                'getCodeForChart', [\"chart-cb5f1096-cd00-46f2-a469-57a5898f2d43\"], {});\n",
              "            const responseJson = chartCodeResponse.data['application/json'];\n",
              "            await google.colab.notebook.addCell(responseJson.code, 'code');\n",
              "          }\n",
              "          chartElement.onclick = getCodeForChartHandler;\n",
              "        })();\n",
              "      </script>\n",
              "      <style>\n",
              "        .colab-quickchart-chart-with-code  {\n",
              "            display: block;\n",
              "            float: left;\n",
              "            border: 1px solid transparent;\n",
              "        }\n",
              "\n",
              "        .colab-quickchart-chart-with-code:hover {\n",
              "            cursor: pointer;\n",
              "            border: 1px solid #aaa;\n",
              "        }\n",
              "      </style>"
            ]
          },
          "metadata": {}
        }
      ]
    },
    {
      "cell_type": "code",
      "metadata": {
        "colab": {
          "base_uri": "https://localhost:8080/",
          "height": 447
        },
        "id": "KTqY8r6_Zpev",
        "outputId": "9123331e-05b2-4911-ca86-d81fbd6b94f9"
      },
      "source": [
        "import matplotlib.pyplot as plt\n",
        "plt.plot(train_results['Train Predictions'][50:100])\n",
        "plt.plot(train_results['Actuals'][50:100])"
      ],
      "execution_count": 16,
      "outputs": [
        {
          "output_type": "execute_result",
          "data": {
            "text/plain": [
              "[<matplotlib.lines.Line2D at 0x784e25a44c40>]"
            ]
          },
          "metadata": {},
          "execution_count": 16
        },
        {
          "output_type": "display_data",
          "data": {
            "text/plain": [
              "<Figure size 640x480 with 1 Axes>"
            ],
            "image/png": "[encoded data removed]"
          },
          "metadata": {}
        }
      ]
    },
    {
      "cell_type": "code",
      "metadata": {
        "colab": {
          "base_uri": "https://localhost:8080/",
          "height": 436
        },
        "id": "vuY5nmGYZ8ix",
        "outputId": "5a98b1b2-e2b3-45c8-927e-65ce633b31db"
      },
      "source": [
        "val_predictions = model1.predict(X_val1).flatten()\n",
        "val_results = pd.DataFrame(data={'Val Predictions':val_predictions, 'Actuals':y_val1})\n",
        "val_results"
      ],
      "execution_count": 17,
      "outputs": [
        {
          "output_type": "stream",
          "name": "stdout",
          "text": [
            "157/157 [==============================] - 1s 2ms/step\n"
          ]
        },
        {
          "output_type": "execute_result",
          "data": {
            "text/plain": [
              "      Val Predictions  Actuals\n",
              "0           15.552532    14.02\n",
              "1           13.238343    13.67\n",
              "2           13.053605    12.27\n",
              "3           11.564567    11.19\n",
              "4           10.460790    10.85\n",
              "...               ...      ...\n",
              "4995        17.362749    18.27\n",
              "4996        17.372742    17.85\n",
              "4997        17.221148    16.65\n",
              "4998        15.891528    15.85\n",
              "4999        15.082992    15.09\n",
              "\n",
              "[5000 rows x 2 columns]"
            ],
            "text/html": [
              "\n",
              "  <div id=\"df-2f06dce3-5db8-4c24-81ba-7e084968e4fa\" class=\"colab-df-container\">\n",
              "    <div>\n",
              "<style scoped>\n",
              "    .dataframe tbody tr th:only-of-type {\n",
              "        vertical-align: middle;\n",
              "    }\n",
              "\n",
              "    .dataframe tbody tr th {\n",
              "        vertical-align: top;\n",
              "    }\n",
              "\n",
              "    .dataframe thead th {\n",
              "        text-align: right;\n",
              "    }\n",
              "</style>\n",
              "<table border=\"1\" class=\"dataframe\">\n",
              "  <thead>\n",
              "    <tr style=\"text-align: right;\">\n",
              "      <th></th>\n",
              "      <th>Val Predictions</th>\n",
              "      <th>Actuals</th>\n",
              "    </tr>\n",
              "  </thead>\n",
              "  <tbody>\n",
              "    <tr>\n",
              "      <th>0</th>\n",
              "      <td>15.552532</td>\n",
              "      <td>14.02</td>\n",
              "    </tr>\n",
              "    <tr>\n",
              "      <th>1</th>\n",
              "      <td>13.238343</td>\n",
              "      <td>13.67</td>\n",
              "    </tr>\n",
              "    <tr>\n",
              "      <th>2</th>\n",
              "      <td>13.053605</td>\n",
              "      <td>12.27</td>\n",
              "    </tr>\n",
              "    <tr>\n",
              "      <th>3</th>\n",
              "      <td>11.564567</td>\n",
              "      <td>11.19</td>\n",
              "    </tr>\n",
              "    <tr>\n",
              "      <th>4</th>\n",
              "      <td>10.460790</td>\n",
              "      <td>10.85</td>\n",
              "    </tr>\n",
              "    <tr>\n",
              "      <th>...</th>\n",
              "      <td>...</td>\n",
              "      <td>...</td>\n",
              "    </tr>\n",
              "    <tr>\n",
              "      <th>4995</th>\n",
              "      <td>17.362749</td>\n",
              "      <td>18.27</td>\n",
              "    </tr>\n",
              "    <tr>\n",
              "      <th>4996</th>\n",
              "      <td>17.372742</td>\n",
              "      <td>17.85</td>\n",
              "    </tr>\n",
              "    <tr>\n",
              "      <th>4997</th>\n",
              "      <td>17.221148</td>\n",
              "      <td>16.65</td>\n",
              "    </tr>\n",
              "    <tr>\n",
              "      <th>4998</th>\n",
              "      <td>15.891528</td>\n",
              "      <td>15.85</td>\n",
              "    </tr>\n",
              "    <tr>\n",
              "      <th>4999</th>\n",
              "      <td>15.082992</td>\n",
              "      <td>15.09</td>\n",
              "    </tr>\n",
              "  </tbody>\n",
              "</table>\n",
              "<p>5000 rows × 2 columns</p>\n",
              "</div>\n",
              "    <div class=\"colab-df-buttons\">\n",
              "\n",
              "  <div class=\"colab-df-container\">\n",
              "    <button class=\"colab-df-convert\" onclick=\"convertToInteractive('df-2f06dce3-5db8-4c24-81ba-7e084968e4fa')\"\n",
              "            title=\"Convert this dataframe to an interactive table.\"\n",
              "            style=\"display:none;\">\n",
              "\n",
              "  <svg xmlns=\"http://www.w3.org/2000/svg\" height=\"24px\" viewBox=\"0 -960 960 960\">\n",
              "    <path d=\"M120-120v-720h720v720H120Zm60-500h600v-160H180v160Zm220 220h160v-160H400v160Zm0 220h160v-160H400v160ZM180-400h160v-160H180v160Zm440 0h160v-160H620v160ZM180-180h160v-160H180v160Zm440 0h160v-160H620v160Z\"/>\n",
              "  </svg>\n",
              "    </button>\n",
              "\n",
              "  <style>\n",
              "    .colab-df-container {\n",
              "      display:flex;\n",
              "      gap: 12px;\n",
              "    }\n",
              "\n",
              "    .colab-df-convert {\n",
              "      background-color: #E8F0FE;\n",
              "      border: none;\n",
              "      border-radius: 50%;\n",
              "      cursor: pointer;\n",
              "      display: none;\n",
              "      fill: #1967D2;\n",
              "      height: 32px;\n",
              "      padding: 0 0 0 0;\n",
              "      width: 32px;\n",
              "    }\n",
              "\n",
              "    .colab-df-convert:hover {\n",
              "      background-color: #E2EBFA;\n",
              "      box-shadow: 0px 1px 2px rgba(60, 64, 67, 0.3), 0px 1px 3px 1px rgba(60, 64, 67, 0.15);\n",
              "      fill: #174EA6;\n",
              "    }\n",
              "\n",
              "    .colab-df-buttons div {\n",
              "      margin-bottom: 4px;\n",
              "    }\n",
              "\n",
              "    [theme=dark] .colab-df-convert {\n",
              "      background-color: #3B4455;\n",
              "      fill: #D2E3FC;\n",
              "    }\n",
              "\n",
              "    [theme=dark] .colab-df-convert:hover {\n",
              "      background-color: #434B5C;\n",
              "      box-shadow: 0px 1px 3px 1px rgba(0, 0, 0, 0.15);\n",
              "      filter: drop-shadow(0px 1px 2px rgba(0, 0, 0, 0.3));\n",
              "      fill: #FFFFFF;\n",
              "    }\n",
              "  </style>\n",
              "\n",
              "    <script>\n",
              "      const buttonEl =\n",
              "        document.querySelector('#df-2f06dce3-5db8-4c24-81ba-7e084968e4fa button.colab-df-convert');\n",
              "      buttonEl.style.display =\n",
              "        google.colab.kernel.accessAllowed ? 'block' : 'none';\n",
              "\n",
              "      async function convertToInteractive(key) {\n",
              "        const element = document.querySelector('#df-2f06dce3-5db8-4c24-81ba-7e084968e4fa');\n",
              "        const dataTable =\n",
              "          await google.colab.kernel.invokeFunction('convertToInteractive',\n",
              "                                                    [key], {});\n",
              "        if (!dataTable) return;\n",
              "\n",
              "        const docLinkHtml = 'Like what you see? Visit the ' +\n",
              "          '<a target=\"_blank\" href=https://colab.research.google.com/notebooks/data_table.ipynb>data table notebook</a>'\n",
              "          + ' to learn more about interactive tables.';\n",
              "        element.innerHTML = '';\n",
              "        dataTable['output_type'] = 'display_data';\n",
              "        await google.colab.output.renderOutput(dataTable, element);\n",
              "        const docLink = document.createElement('div');\n",
              "        docLink.innerHTML = docLinkHtml;\n",
              "        element.appendChild(docLink);\n",
              "      }\n",
              "    </script>\n",
              "  </div>\n",
              "\n",
              "\n",
              "<div id=\"df-f6cd4b98-6dfe-45f4-8726-1515508bc1d2\">\n",
              "  <button class=\"colab-df-quickchart\" onclick=\"quickchart('df-f6cd4b98-6dfe-45f4-8726-1515508bc1d2')\"\n",
              "            title=\"Suggest charts.\"\n",
              "            style=\"display:none;\">\n",
              "\n",
              "<svg xmlns=\"http://www.w3.org/2000/svg\" height=\"24px\"viewBox=\"0 0 24 24\"\n",
              "     width=\"24px\">\n",
              "    <g>\n",
              "        <path d=\"M19 3H5c-1.1 0-2 .9-2 2v14c0 1.1.9 2 2 2h14c1.1 0 2-.9 2-2V5c0-1.1-.9-2-2-2zM9 17H7v-7h2v7zm4 0h-2V7h2v10zm4 0h-2v-4h2v4z\"/>\n",
              "    </g>\n",
              "</svg>\n",
              "  </button>\n",
              "\n",
              "<style>\n",
              "  .colab-df-quickchart {\n",
              "      --bg-color: #E8F0FE;\n",
              "      --fill-color: #1967D2;\n",
              "      --hover-bg-color: #E2EBFA;\n",
              "      --hover-fill-color: #174EA6;\n",
              "      --disabled-fill-color: #AAA;\n",
              "      --disabled-bg-color: #DDD;\n",
              "  }\n",
              "\n",
              "  [theme=dark] .colab-df-quickchart {\n",
              "      --bg-color: #3B4455;\n",
              "      --fill-color: #D2E3FC;\n",
              "      --hover-bg-color: #434B5C;\n",
              "      --hover-fill-color: #FFFFFF;\n",
              "      --disabled-bg-color: #3B4455;\n",
              "      --disabled-fill-color: #666;\n",
              "  }\n",
              "\n",
              "  .colab-df-quickchart {\n",
              "    background-color: var(--bg-color);\n",
              "    border: none;\n",
              "    border-radius: 50%;\n",
              "    cursor: pointer;\n",
              "    display: none;\n",
              "    fill: var(--fill-color);\n",
              "    height: 32px;\n",
              "    padding: 0;\n",
              "    width: 32px;\n",
              "  }\n",
              "\n",
              "  .colab-df-quickchart:hover {\n",
              "    background-color: var(--hover-bg-color);\n",
              "    box-shadow: 0 1px 2px rgba(60, 64, 67, 0.3), 0 1px 3px 1px rgba(60, 64, 67, 0.15);\n",
              "    fill: var(--button-hover-fill-color);\n",
              "  }\n",
              "\n",
              "  .colab-df-quickchart-complete:disabled,\n",
              "  .colab-df-quickchart-complete:disabled:hover {\n",
              "    background-color: var(--disabled-bg-color);\n",
              "    fill: var(--disabled-fill-color);\n",
              "    box-shadow: none;\n",
              "  }\n",
              "\n",
              "  .colab-df-spinner {\n",
              "    border: 2px solid var(--fill-color);\n",
              "    border-color: transparent;\n",
              "    border-bottom-color: var(--fill-color);\n",
              "    animation:\n",
              "      spin 1s steps(1) infinite;\n",
              "  }\n",
              "\n",
              "  @keyframes spin {\n",
              "    0% {\n",
              "      border-color: transparent;\n",
              "      border-bottom-color: var(--fill-color);\n",
              "      border-left-color: var(--fill-color);\n",
              "    }\n",
              "    20% {\n",
              "      border-color: transparent;\n",
              "      border-left-color: var(--fill-color);\n",
              "      border-top-color: var(--fill-color);\n",
              "    }\n",
              "    30% {\n",
              "      border-color: transparent;\n",
              "      border-left-color: var(--fill-color);\n",
              "      border-top-color: var(--fill-color);\n",
              "      border-right-color: var(--fill-color);\n",
              "    }\n",
              "    40% {\n",
              "      border-color: transparent;\n",
              "      border-right-color: var(--fill-color);\n",
              "      border-top-color: var(--fill-color);\n",
              "    }\n",
              "    60% {\n",
              "      border-color: transparent;\n",
              "      border-right-color: var(--fill-color);\n",
              "    }\n",
              "    80% {\n",
              "      border-color: transparent;\n",
              "      border-right-color: var(--fill-color);\n",
              "      border-bottom-color: var(--fill-color);\n",
              "    }\n",
              "    90% {\n",
              "      border-color: transparent;\n",
              "      border-bottom-color: var(--fill-color);\n",
              "    }\n",
              "  }\n",
              "</style>\n",
              "\n",
              "  <script>\n",
              "    async function quickchart(key) {\n",
              "      const quickchartButtonEl =\n",
              "        document.querySelector('#' + key + ' button');\n",
              "      quickchartButtonEl.disabled = true;  // To prevent multiple clicks.\n",
              "      quickchartButtonEl.classList.add('colab-df-spinner');\n",
              "      try {\n",
              "        const charts = await google.colab.kernel.invokeFunction(\n",
              "            'suggestCharts', [key], {});\n",
              "      } catch (error) {\n",
              "        console.error('Error during call to suggestCharts:', error);\n",
              "      }\n",
              "      quickchartButtonEl.classList.remove('colab-df-spinner');\n",
              "      quickchartButtonEl.classList.add('colab-df-quickchart-complete');\n",
              "    }\n",
              "    (() => {\n",
              "      let quickchartButtonEl =\n",
              "        document.querySelector('#df-f6cd4b98-6dfe-45f4-8726-1515508bc1d2 button');\n",
              "      quickchartButtonEl.style.display =\n",
              "        google.colab.kernel.accessAllowed ? 'block' : 'none';\n",
              "    })();\n",
              "  </script>\n",
              "</div>\n",
              "    </div>\n",
              "  </div>\n"
            ]
          },
          "metadata": {},
          "execution_count": 17
        }
      ]
    },
    {
      "cell_type": "code",
      "metadata": {
        "colab": {
          "base_uri": "https://localhost:8080/",
          "height": 282
        },
        "id": "6MlctzuuaQww",
        "outputId": "7147a4ca-90a3-4c2d-ae2b-76fe40a2ff0b"
      },
      "source": [
        "plt.plot(val_results['Val Predictions'][:100])\n",
        "plt.plot(val_results['Actuals'][:100])"
      ],
      "execution_count": null,
      "outputs": [
        {
          "output_type": "execute_result",
          "data": {
            "text/plain": [
              "[<matplotlib.lines.Line2D at 0x7ff177eff6d0>]"
            ]
          },
          "metadata": {},
          "execution_count": 17
        },
        {
          "output_type": "display_data",
          "data": {
            "image/png": "[encoded data removed]",
            "text/plain": [
              "<Figure size 432x288 with 1 Axes>"
            ]
          },
          "metadata": {
            "needs_background": "light"
          }
        }
      ]
    },
    {
      "cell_type": "code",
      "metadata": {
        "colab": {
          "base_uri": "https://localhost:8080/",
          "height": 420
        },
        "id": "5O59Q8MTaRN7",
        "outputId": "4e55d8f6-c9ad-4349-9da7-e937b5ade6ae"
      },
      "source": [
        "test_predictions = model1.predict(X_test1).flatten()\n",
        "test_results = pd.DataFrame(data={'Test Predictions':test_predictions, 'Actuals':y_test1})\n",
        "test_results"
      ],
      "execution_count": null,
      "outputs": [
        {
          "output_type": "execute_result",
          "data": {
            "text/html": [
              "<div>\n",
              "<style scoped>\n",
              "    .dataframe tbody tr th:only-of-type {\n",
              "        vertical-align: middle;\n",
              "    }\n",
              "\n",
              "    .dataframe tbody tr th {\n",
              "        vertical-align: top;\n",
              "    }\n",
              "\n",
              "    .dataframe thead th {\n",
              "        text-align: right;\n",
              "    }\n",
              "</style>\n",
              "<table border=\"1\" class=\"dataframe\">\n",
              "  <thead>\n",
              "    <tr style=\"text-align: right;\">\n",
              "      <th></th>\n",
              "      <th>Test Predictions</th>\n",
              "      <th>Actuals</th>\n",
              "    </tr>\n",
              "  </thead>\n",
              "  <tbody>\n",
              "    <tr>\n",
              "      <th>0</th>\n",
              "      <td>14.376885</td>\n",
              "      <td>13.99</td>\n",
              "    </tr>\n",
              "    <tr>\n",
              "      <th>1</th>\n",
              "      <td>13.217015</td>\n",
              "      <td>13.46</td>\n",
              "    </tr>\n",
              "    <tr>\n",
              "      <th>2</th>\n",
              "      <td>12.846068</td>\n",
              "      <td>12.93</td>\n",
              "    </tr>\n",
              "    <tr>\n",
              "      <th>3</th>\n",
              "      <td>12.453094</td>\n",
              "      <td>12.43</td>\n",
              "    </tr>\n",
              "    <tr>\n",
              "      <th>4</th>\n",
              "      <td>12.011730</td>\n",
              "      <td>12.17</td>\n",
              "    </tr>\n",
              "    <tr>\n",
              "      <th>...</th>\n",
              "      <td>...</td>\n",
              "      <td>...</td>\n",
              "    </tr>\n",
              "    <tr>\n",
              "      <th>5081</th>\n",
              "      <td>-1.111033</td>\n",
              "      <td>-0.98</td>\n",
              "    </tr>\n",
              "    <tr>\n",
              "      <th>5082</th>\n",
              "      <td>-1.488785</td>\n",
              "      <td>-1.40</td>\n",
              "    </tr>\n",
              "    <tr>\n",
              "      <th>5083</th>\n",
              "      <td>-1.536503</td>\n",
              "      <td>-2.75</td>\n",
              "    </tr>\n",
              "    <tr>\n",
              "      <th>5084</th>\n",
              "      <td>-3.049625</td>\n",
              "      <td>-2.89</td>\n",
              "    </tr>\n",
              "    <tr>\n",
              "      <th>5085</th>\n",
              "      <td>-3.074169</td>\n",
              "      <td>-3.93</td>\n",
              "    </tr>\n",
              "  </tbody>\n",
              "</table>\n",
              "<p>5086 rows × 2 columns</p>\n",
              "</div>"
            ],
            "text/plain": [
              "      Test Predictions  Actuals\n",
              "0            14.376885    13.99\n",
              "1            13.217015    13.46\n",
              "2            12.846068    12.93\n",
              "3            12.453094    12.43\n",
              "4            12.011730    12.17\n",
              "...                ...      ...\n",
              "5081         -1.111033    -0.98\n",
              "5082         -1.488785    -1.40\n",
              "5083         -1.536503    -2.75\n",
              "5084         -3.049625    -2.89\n",
              "5085         -3.074169    -3.93\n",
              "\n",
              "[5086 rows x 2 columns]"
            ]
          },
          "metadata": {},
          "execution_count": 18
        }
      ]
    },
    {
      "cell_type": "code",
      "metadata": {
        "id": "m8UzGIfEaW-P",
        "colab": {
          "base_uri": "https://localhost:8080/",
          "height": 282
        },
        "outputId": "85be190b-81ac-4223-be21-cdc0f67e592f"
      },
      "source": [
        "plt.plot(test_results['Test Predictions'][:100])\n",
        "plt.plot(test_results['Actuals'][:100])"
      ],
      "execution_count": null,
      "outputs": [
        {
          "output_type": "execute_result",
          "data": {
            "text/plain": [
              "[<matplotlib.lines.Line2D at 0x7ff172e8d310>]"
            ]
          },
          "metadata": {},
          "execution_count": 19
        },
        {
          "output_type": "display_data",
          "data": {
            "image/png": "[encoded data removed]",
            "text/plain": [
              "<Figure size 432x288 with 1 Axes>"
            ]
          },
          "metadata": {
            "needs_background": "light"
          }
        }
      ]
    },
    {
      "cell_type": "code",
      "metadata": {
        "id": "nWdZkoPo-MZM"
      },
      "source": [
        "# Part 2"
      ],
      "execution_count": null,
      "outputs": []
    },
    {
      "cell_type": "code",
      "metadata": {
        "id": "XFf7bCFlctu8"
      },
      "source": [
        "from sklearn.metrics import mean_squared_error as mse\n",
        "\n",
        "def plot_predictions1(model, X, y, start=0, end=100):\n",
        "  predictions = model.predict(X).flatten()\n",
        "  df = pd.DataFrame(data={'Predictions':predictions, 'Actuals':y})\n",
        "  plt.plot(df['Predictions'][start:end])\n",
        "  plt.plot(df['Actuals'][start:end])\n",
        "  return df, mse(y, predictions)"
      ],
      "execution_count": null,
      "outputs": []
    },
    {
      "cell_type": "code",
      "metadata": {
        "colab": {
          "base_uri": "https://localhost:8080/",
          "height": 511
        },
        "id": "pdabyyStdavq",
        "outputId": "e07aa785-101b-462b-81e8-35581ce0812f"
      },
      "source": [
        "plot_predictions1(model1, X_test1, y_test1)"
      ],
      "execution_count": null,
      "outputs": [
        {
          "output_type": "execute_result",
          "data": {
            "text/plain": [
              "(      Predictions  Actuals\n",
              " 0       14.376885    13.99\n",
              " 1       13.217015    13.46\n",
              " 2       12.846068    12.93\n",
              " 3       12.453094    12.43\n",
              " 4       12.011730    12.17\n",
              " ...           ...      ...\n",
              " 5081    -1.111033    -0.98\n",
              " 5082    -1.488785    -1.40\n",
              " 5083    -1.536503    -2.75\n",
              " 5084    -3.049625    -2.89\n",
              " 5085    -3.074169    -3.93\n",
              " \n",
              " [5086 rows x 2 columns], 0.6282388974616357)"
            ]
          },
          "metadata": {},
          "execution_count": 22
        },
        {
          "output_type": "display_data",
          "data": {
            "image/png": "[encoded data removed]",
            "text/plain": [
              "<Figure size 432x288 with 1 Axes>"
            ]
          },
          "metadata": {
            "needs_background": "light"
          }
        }
      ]
    },
    {
      "cell_type": "code",
      "metadata": {
        "colab": {
          "base_uri": "https://localhost:8080/"
        },
        "id": "K6KDLXc3dg3x",
        "outputId": "eaddf43a-5f36-46ef-8e95-6a0870ae8b4f"
      },
      "source": [
        "model2 = Sequential()\n",
        "model2.add(InputLayer((5, 1)))\n",
        "model2.add(Conv1D(64, kernel_size=2))\n",
        "model2.add(Flatten())\n",
        "model2.add(Dense(8, 'relu'))\n",
        "model2.add(Dense(1, 'linear'))\n",
        "\n",
        "model2.summary()"
      ],
      "execution_count": null,
      "outputs": [
        {
          "output_type": "stream",
          "name": "stdout",
          "text": [
            "Model: \"sequential_1\"\n",
            "_________________________________________________________________\n",
            "Layer (type)                 Output Shape              Param #   \n",
            "=================================================================\n",
            "conv1d (Conv1D)              (None, 4, 64)             192       \n",
            "_________________________________________________________________\n",
            "flatten (Flatten)            (None, 256)               0         \n",
            "_________________________________________________________________\n",
            "dense_2 (Dense)              (None, 8)                 2056      \n",
            "_________________________________________________________________\n",
            "dense_3 (Dense)              (None, 1)                 9         \n",
            "=================================================================\n",
            "Total params: 2,257\n",
            "Trainable params: 2,257\n",
            "Non-trainable params: 0\n",
            "_________________________________________________________________\n"
          ]
        }
      ]
    },
    {
      "cell_type": "code",
      "metadata": {
        "id": "YoGw3DQeeTES"
      },
      "source": [
        "cp2 = ModelCheckpoint('model2/', save_best_only=True)\n",
        "model2.compile(loss=MeanSquaredError(), optimizer=Adam(learning_rate=0.0001), metrics=[RootMeanSquaredError()])"
      ],
      "execution_count": null,
      "outputs": []
    },
    {
      "cell_type": "code",
      "metadata": {
        "colab": {
          "base_uri": "https://localhost:8080/"
        },
        "id": "fUe56iajetZe",
        "outputId": "db7d44ec-e162-4e66-a3ba-1162c04fde63"
      },
      "source": [
        "model2.fit(X_train1, y_train1, validation_data=(X_val1, y_val1), epochs=10, callbacks=[cp2])"
      ],
      "execution_count": null,
      "outputs": [
        {
          "output_type": "stream",
          "name": "stdout",
          "text": [
            "Epoch 1/10\n",
            "1875/1875 [==============================] - 4s 2ms/step - loss: 11.6791 - root_mean_squared_error: 3.4175 - val_loss: 0.9528 - val_root_mean_squared_error: 0.9761\n",
            "INFO:tensorflow:Assets written to: model2/assets\n"
          ]
        },
        {
          "output_type": "stream",
          "name": "stderr",
          "text": [
            "INFO:tensorflow:Assets written to: model2/assets\n"
          ]
        },
        {
          "output_type": "stream",
          "name": "stdout",
          "text": [
            "Epoch 2/10\n",
            "1875/1875 [==============================] - 3s 2ms/step - loss: 1.0297 - root_mean_squared_error: 1.0147 - val_loss: 0.6463 - val_root_mean_squared_error: 0.8040\n",
            "INFO:tensorflow:Assets written to: model2/assets\n"
          ]
        },
        {
          "output_type": "stream",
          "name": "stderr",
          "text": [
            "INFO:tensorflow:Assets written to: model2/assets\n"
          ]
        },
        {
          "output_type": "stream",
          "name": "stdout",
          "text": [
            "Epoch 3/10\n",
            "1875/1875 [==============================] - 4s 2ms/step - loss: 0.7723 - root_mean_squared_error: 0.8788 - val_loss: 0.5337 - val_root_mean_squared_error: 0.7305\n",
            "INFO:tensorflow:Assets written to: model2/assets\n"
          ]
        },
        {
          "output_type": "stream",
          "name": "stderr",
          "text": [
            "INFO:tensorflow:Assets written to: model2/assets\n"
          ]
        },
        {
          "output_type": "stream",
          "name": "stdout",
          "text": [
            "Epoch 4/10\n",
            "1875/1875 [==============================] - 3s 2ms/step - loss: 0.6927 - root_mean_squared_error: 0.8323 - val_loss: 0.5110 - val_root_mean_squared_error: 0.7148\n",
            "INFO:tensorflow:Assets written to: model2/assets\n"
          ]
        },
        {
          "output_type": "stream",
          "name": "stderr",
          "text": [
            "INFO:tensorflow:Assets written to: model2/assets\n"
          ]
        },
        {
          "output_type": "stream",
          "name": "stdout",
          "text": [
            "Epoch 5/10\n",
            "1875/1875 [==============================] - 3s 2ms/step - loss: 0.6732 - root_mean_squared_error: 0.8205 - val_loss: 0.5029 - val_root_mean_squared_error: 0.7092\n",
            "INFO:tensorflow:Assets written to: model2/assets\n"
          ]
        },
        {
          "output_type": "stream",
          "name": "stderr",
          "text": [
            "INFO:tensorflow:Assets written to: model2/assets\n"
          ]
        },
        {
          "output_type": "stream",
          "name": "stdout",
          "text": [
            "Epoch 6/10\n",
            "1875/1875 [==============================] - 4s 2ms/step - loss: 0.6670 - root_mean_squared_error: 0.8167 - val_loss: 0.4948 - val_root_mean_squared_error: 0.7034\n",
            "INFO:tensorflow:Assets written to: model2/assets\n"
          ]
        },
        {
          "output_type": "stream",
          "name": "stderr",
          "text": [
            "INFO:tensorflow:Assets written to: model2/assets\n"
          ]
        },
        {
          "output_type": "stream",
          "name": "stdout",
          "text": [
            "Epoch 7/10\n",
            "1875/1875 [==============================] - 3s 2ms/step - loss: 0.6625 - root_mean_squared_error: 0.8140 - val_loss: 0.5035 - val_root_mean_squared_error: 0.7096\n",
            "Epoch 8/10\n",
            "1875/1875 [==============================] - 3s 2ms/step - loss: 0.6615 - root_mean_squared_error: 0.8133 - val_loss: 0.5108 - val_root_mean_squared_error: 0.7147\n",
            "Epoch 9/10\n",
            "1875/1875 [==============================] - 3s 2ms/step - loss: 0.6588 - root_mean_squared_error: 0.8117 - val_loss: 0.4906 - val_root_mean_squared_error: 0.7004\n",
            "INFO:tensorflow:Assets written to: model2/assets\n"
          ]
        },
        {
          "output_type": "stream",
          "name": "stderr",
          "text": [
            "INFO:tensorflow:Assets written to: model2/assets\n"
          ]
        },
        {
          "output_type": "stream",
          "name": "stdout",
          "text": [
            "Epoch 10/10\n",
            "1875/1875 [==============================] - 3s 2ms/step - loss: 0.6579 - root_mean_squared_error: 0.8111 - val_loss: 0.4976 - val_root_mean_squared_error: 0.7054\n"
          ]
        },
        {
          "output_type": "execute_result",
          "data": {
            "text/plain": [
              "<keras.callbacks.History at 0x7ff175ee2b90>"
            ]
          },
          "metadata": {},
          "execution_count": 25
        }
      ]
    },
    {
      "cell_type": "code",
      "metadata": {
        "colab": {
          "base_uri": "https://localhost:8080/"
        },
        "id": "_0mmRGP8exPo",
        "outputId": "6851ddb2-a5b5-405b-c3fe-68c4233c7df2"
      },
      "source": [
        "model3 = Sequential()\n",
        "model3.add(InputLayer((5, 1)))\n",
        "model3.add(GRU(64))\n",
        "model3.add(Dense(8, 'relu'))\n",
        "model3.add(Dense(1, 'linear'))\n",
        "model3.summary()"
      ],
      "execution_count": null,
      "outputs": [
        {
          "output_type": "stream",
          "name": "stdout",
          "text": [
            "Model: \"sequential_2\"\n",
            "_________________________________________________________________\n",
            "Layer (type)                 Output Shape              Param #   \n",
            "=================================================================\n",
            "gru (GRU)                    (None, 64)                12864     \n",
            "_________________________________________________________________\n",
            "dense_4 (Dense)              (None, 8)                 520       \n",
            "_________________________________________________________________\n",
            "dense_5 (Dense)              (None, 1)                 9         \n",
            "=================================================================\n",
            "Total params: 13,393\n",
            "Trainable params: 13,393\n",
            "Non-trainable params: 0\n",
            "_________________________________________________________________\n"
          ]
        }
      ]
    },
    {
      "cell_type": "code",
      "metadata": {
        "id": "WbQzFWjXfa2i"
      },
      "source": [
        "cp3 = ModelCheckpoint('model3/', save_best_only=True)\n",
        "model3.compile(loss=MeanSquaredError(), optimizer=Adam(learning_rate=0.0001), metrics=[RootMeanSquaredError()])"
      ],
      "execution_count": null,
      "outputs": []
    },
    {
      "cell_type": "code",
      "metadata": {
        "colab": {
          "base_uri": "https://localhost:8080/"
        },
        "id": "BzB6BUOQfivn",
        "outputId": "1f282be0-2d44-46a9-be3f-c448b98daf81"
      },
      "source": [
        "model3.fit(X_train1, y_train1, validation_data=(X_val1, y_val1), epochs=10, callbacks=[cp3])"
      ],
      "execution_count": null,
      "outputs": [
        {
          "output_type": "stream",
          "name": "stdout",
          "text": [
            "Epoch 1/10\n",
            "1875/1875 [==============================] - 10s 4ms/step - loss: 20.5538 - root_mean_squared_error: 4.5336 - val_loss: 0.7900 - val_root_mean_squared_error: 0.8888\n"
          ]
        },
        {
          "output_type": "stream",
          "name": "stderr",
          "text": [
            "WARNING:absl:Found untraced functions such as gru_cell_layer_call_and_return_conditional_losses, gru_cell_layer_call_fn, gru_cell_layer_call_fn, gru_cell_layer_call_and_return_conditional_losses, gru_cell_layer_call_and_return_conditional_losses while saving (showing 5 of 5). These functions will not be directly callable after loading.\n"
          ]
        },
        {
          "output_type": "stream",
          "name": "stdout",
          "text": [
            "INFO:tensorflow:Assets written to: model3/assets\n"
          ]
        },
        {
          "output_type": "stream",
          "name": "stderr",
          "text": [
            "INFO:tensorflow:Assets written to: model3/assets\n"
          ]
        },
        {
          "output_type": "stream",
          "name": "stdout",
          "text": [
            "Epoch 2/10\n",
            "1875/1875 [==============================] - 8s 4ms/step - loss: 1.1742 - root_mean_squared_error: 1.0836 - val_loss: 0.5594 - val_root_mean_squared_error: 0.7479\n"
          ]
        },
        {
          "output_type": "stream",
          "name": "stderr",
          "text": [
            "WARNING:absl:Found untraced functions such as gru_cell_layer_call_and_return_conditional_losses, gru_cell_layer_call_fn, gru_cell_layer_call_fn, gru_cell_layer_call_and_return_conditional_losses, gru_cell_layer_call_and_return_conditional_losses while saving (showing 5 of 5). These functions will not be directly callable after loading.\n"
          ]
        },
        {
          "output_type": "stream",
          "name": "stdout",
          "text": [
            "INFO:tensorflow:Assets written to: model3/assets\n"
          ]
        },
        {
          "output_type": "stream",
          "name": "stderr",
          "text": [
            "INFO:tensorflow:Assets written to: model3/assets\n"
          ]
        },
        {
          "output_type": "stream",
          "name": "stdout",
          "text": [
            "Epoch 3/10\n",
            "1875/1875 [==============================] - 8s 4ms/step - loss: 0.7570 - root_mean_squared_error: 0.8701 - val_loss: 0.5203 - val_root_mean_squared_error: 0.7213\n"
          ]
        },
        {
          "output_type": "stream",
          "name": "stderr",
          "text": [
            "WARNING:absl:Found untraced functions such as gru_cell_layer_call_and_return_conditional_losses, gru_cell_layer_call_fn, gru_cell_layer_call_fn, gru_cell_layer_call_and_return_conditional_losses, gru_cell_layer_call_and_return_conditional_losses while saving (showing 5 of 5). These functions will not be directly callable after loading.\n"
          ]
        },
        {
          "output_type": "stream",
          "name": "stdout",
          "text": [
            "INFO:tensorflow:Assets written to: model3/assets\n"
          ]
        },
        {
          "output_type": "stream",
          "name": "stderr",
          "text": [
            "INFO:tensorflow:Assets written to: model3/assets\n"
          ]
        },
        {
          "output_type": "stream",
          "name": "stdout",
          "text": [
            "Epoch 4/10\n",
            "1875/1875 [==============================] - 8s 4ms/step - loss: 0.6795 - root_mean_squared_error: 0.8243 - val_loss: 0.5073 - val_root_mean_squared_error: 0.7123\n"
          ]
        },
        {
          "output_type": "stream",
          "name": "stderr",
          "text": [
            "WARNING:absl:Found untraced functions such as gru_cell_layer_call_and_return_conditional_losses, gru_cell_layer_call_fn, gru_cell_layer_call_fn, gru_cell_layer_call_and_return_conditional_losses, gru_cell_layer_call_and_return_conditional_losses while saving (showing 5 of 5). These functions will not be directly callable after loading.\n"
          ]
        },
        {
          "output_type": "stream",
          "name": "stdout",
          "text": [
            "INFO:tensorflow:Assets written to: model3/assets\n"
          ]
        },
        {
          "output_type": "stream",
          "name": "stderr",
          "text": [
            "INFO:tensorflow:Assets written to: model3/assets\n"
          ]
        },
        {
          "output_type": "stream",
          "name": "stdout",
          "text": [
            "Epoch 5/10\n",
            "1875/1875 [==============================] - 8s 4ms/step - loss: 0.6579 - root_mean_squared_error: 0.8111 - val_loss: 0.5002 - val_root_mean_squared_error: 0.7072\n"
          ]
        },
        {
          "output_type": "stream",
          "name": "stderr",
          "text": [
            "WARNING:absl:Found untraced functions such as gru_cell_layer_call_and_return_conditional_losses, gru_cell_layer_call_fn, gru_cell_layer_call_fn, gru_cell_layer_call_and_return_conditional_losses, gru_cell_layer_call_and_return_conditional_losses while saving (showing 5 of 5). These functions will not be directly callable after loading.\n"
          ]
        },
        {
          "output_type": "stream",
          "name": "stdout",
          "text": [
            "INFO:tensorflow:Assets written to: model3/assets\n"
          ]
        },
        {
          "output_type": "stream",
          "name": "stderr",
          "text": [
            "INFO:tensorflow:Assets written to: model3/assets\n"
          ]
        },
        {
          "output_type": "stream",
          "name": "stdout",
          "text": [
            "Epoch 6/10\n",
            "1875/1875 [==============================] - 8s 4ms/step - loss: 0.6491 - root_mean_squared_error: 0.8057 - val_loss: 0.5219 - val_root_mean_squared_error: 0.7225\n",
            "Epoch 7/10\n",
            "1875/1875 [==============================] - 8s 4ms/step - loss: 0.6451 - root_mean_squared_error: 0.8032 - val_loss: 0.4931 - val_root_mean_squared_error: 0.7022\n"
          ]
        },
        {
          "output_type": "stream",
          "name": "stderr",
          "text": [
            "WARNING:absl:Found untraced functions such as gru_cell_layer_call_and_return_conditional_losses, gru_cell_layer_call_fn, gru_cell_layer_call_fn, gru_cell_layer_call_and_return_conditional_losses, gru_cell_layer_call_and_return_conditional_losses while saving (showing 5 of 5). These functions will not be directly callable after loading.\n"
          ]
        },
        {
          "output_type": "stream",
          "name": "stdout",
          "text": [
            "INFO:tensorflow:Assets written to: model3/assets\n"
          ]
        },
        {
          "output_type": "stream",
          "name": "stderr",
          "text": [
            "INFO:tensorflow:Assets written to: model3/assets\n"
          ]
        },
        {
          "output_type": "stream",
          "name": "stdout",
          "text": [
            "Epoch 8/10\n",
            "1875/1875 [==============================] - 8s 4ms/step - loss: 0.6427 - root_mean_squared_error: 0.8017 - val_loss: 0.4984 - val_root_mean_squared_error: 0.7060\n",
            "Epoch 9/10\n",
            "1875/1875 [==============================] - 8s 4ms/step - loss: 0.6412 - root_mean_squared_error: 0.8007 - val_loss: 0.5031 - val_root_mean_squared_error: 0.7093\n",
            "Epoch 10/10\n",
            "1875/1875 [==============================] - 8s 4ms/step - loss: 0.6397 - root_mean_squared_error: 0.7998 - val_loss: 0.4881 - val_root_mean_squared_error: 0.6986\n"
          ]
        },
        {
          "output_type": "stream",
          "name": "stderr",
          "text": [
            "WARNING:absl:Found untraced functions such as gru_cell_layer_call_and_return_conditional_losses, gru_cell_layer_call_fn, gru_cell_layer_call_fn, gru_cell_layer_call_and_return_conditional_losses, gru_cell_layer_call_and_return_conditional_losses while saving (showing 5 of 5). These functions will not be directly callable after loading.\n"
          ]
        },
        {
          "output_type": "stream",
          "name": "stdout",
          "text": [
            "INFO:tensorflow:Assets written to: model3/assets\n"
          ]
        },
        {
          "output_type": "stream",
          "name": "stderr",
          "text": [
            "INFO:tensorflow:Assets written to: model3/assets\n"
          ]
        },
        {
          "output_type": "execute_result",
          "data": {
            "text/plain": [
              "<keras.callbacks.History at 0x7ff179ab49d0>"
            ]
          },
          "metadata": {},
          "execution_count": 28
        }
      ]
    },
    {
      "cell_type": "code",
      "metadata": {
        "colab": {
          "base_uri": "https://localhost:8080/",
          "height": 450
        },
        "id": "hGpenRH8hcvR",
        "outputId": "e427a7b2-465b-472e-f3dc-9fea9b6a9e01"
      },
      "source": [
        "temp_df = pd.DataFrame({'Temperature':temp})\n",
        "temp_df['Seconds'] = temp_df.index.map(pd.Timestamp.timestamp)\n",
        "temp_df"
      ],
      "execution_count": 21,
      "outputs": [
        {
          "output_type": "execute_result",
          "data": {
            "text/plain": [
              "                     Temperature       Seconds\n",
              "Date Time                                     \n",
              "2009-01-01 01:00:00        -8.05  1.230772e+09\n",
              "2009-01-01 02:00:00        -8.88  1.230775e+09\n",
              "2009-01-01 03:00:00        -8.81  1.230779e+09\n",
              "2009-01-01 04:00:00        -9.05  1.230782e+09\n",
              "2009-01-01 05:00:00        -9.63  1.230786e+09\n",
              "...                          ...           ...\n",
              "2016-12-31 19:10:00        -0.98  1.483211e+09\n",
              "2016-12-31 20:10:00        -1.40  1.483215e+09\n",
              "2016-12-31 21:10:00        -2.75  1.483219e+09\n",
              "2016-12-31 22:10:00        -2.89  1.483222e+09\n",
              "2016-12-31 23:10:00        -3.93  1.483226e+09\n",
              "\n",
              "[70091 rows x 2 columns]"
            ],
            "text/html": [
              "\n",
              "  <div id=\"df-875fafb5-bb2e-4850-b258-e3677966d3b4\" class=\"colab-df-container\">\n",
              "    <div>\n",
              "<style scoped>\n",
              "    .dataframe tbody tr th:only-of-type {\n",
              "        vertical-align: middle;\n",
              "    }\n",
              "\n",
              "    .dataframe tbody tr th {\n",
              "        vertical-align: top;\n",
              "    }\n",
              "\n",
              "    .dataframe thead th {\n",
              "        text-align: right;\n",
              "    }\n",
              "</style>\n",
              "<table border=\"1\" class=\"dataframe\">\n",
              "  <thead>\n",
              "    <tr style=\"text-align: right;\">\n",
              "      <th></th>\n",
              "      <th>Temperature</th>\n",
              "      <th>Seconds</th>\n",
              "    </tr>\n",
              "    <tr>\n",
              "      <th>Date Time</th>\n",
              "      <th></th>\n",
              "      <th></th>\n",
              "    </tr>\n",
              "  </thead>\n",
              "  <tbody>\n",
              "    <tr>\n",
              "      <th>2009-01-01 01:00:00</th>\n",
              "      <td>-8.05</td>\n",
              "      <td>1.230772e+09</td>\n",
              "    </tr>\n",
              "    <tr>\n",
              "      <th>2009-01-01 02:00:00</th>\n",
              "      <td>-8.88</td>\n",
              "      <td>1.230775e+09</td>\n",
              "    </tr>\n",
              "    <tr>\n",
              "      <th>2009-01-01 03:00:00</th>\n",
              "      <td>-8.81</td>\n",
              "      <td>1.230779e+09</td>\n",
              "    </tr>\n",
              "    <tr>\n",
              "      <th>2009-01-01 04:00:00</th>\n",
              "      <td>-9.05</td>\n",
              "      <td>1.230782e+09</td>\n",
              "    </tr>\n",
              "    <tr>\n",
              "      <th>2009-01-01 05:00:00</th>\n",
              "      <td>-9.63</td>\n",
              "      <td>1.230786e+09</td>\n",
              "    </tr>\n",
              "    <tr>\n",
              "      <th>...</th>\n",
              "      <td>...</td>\n",
              "      <td>...</td>\n",
              "    </tr>\n",
              "    <tr>\n",
              "      <th>2016-12-31 19:10:00</th>\n",
              "      <td>-0.98</td>\n",
              "      <td>1.483211e+09</td>\n",
              "    </tr>\n",
              "    <tr>\n",
              "      <th>2016-12-31 20:10:00</th>\n",
              "      <td>-1.40</td>\n",
              "      <td>1.483215e+09</td>\n",
              "    </tr>\n",
              "    <tr>\n",
              "      <th>2016-12-31 21:10:00</th>\n",
              "      <td>-2.75</td>\n",
              "      <td>1.483219e+09</td>\n",
              "    </tr>\n",
              "    <tr>\n",
              "      <th>2016-12-31 22:10:00</th>\n",
              "      <td>-2.89</td>\n",
              "      <td>1.483222e+09</td>\n",
              "    </tr>\n",
              "    <tr>\n",
              "      <th>2016-12-31 23:10:00</th>\n",
              "      <td>-3.93</td>\n",
              "      <td>1.483226e+09</td>\n",
              "    </tr>\n",
              "  </tbody>\n",
              "</table>\n",
              "<p>70091 rows × 2 columns</p>\n",
              "</div>\n",
              "    <div class=\"colab-df-buttons\">\n",
              "\n",
              "  <div class=\"colab-df-container\">\n",
              "    <button class=\"colab-df-convert\" onclick=\"convertToInteractive('df-875fafb5-bb2e-4850-b258-e3677966d3b4')\"\n",
              "            title=\"Convert this dataframe to an interactive table.\"\n",
              "            style=\"display:none;\">\n",
              "\n",
              "  <svg xmlns=\"http://www.w3.org/2000/svg\" height=\"24px\" viewBox=\"0 -960 960 960\">\n",
              "    <path d=\"M120-120v-720h720v720H120Zm60-500h600v-160H180v160Zm220 220h160v-160H400v160Zm0 220h160v-160H400v160ZM180-400h160v-160H180v160Zm440 0h160v-160H620v160ZM180-180h160v-160H180v160Zm440 0h160v-160H620v160Z\"/>\n",
              "  </svg>\n",
              "    </button>\n",
              "\n",
              "  <style>\n",
              "    .colab-df-container {\n",
              "      display:flex;\n",
              "      gap: 12px;\n",
              "    }\n",
              "\n",
              "    .colab-df-convert {\n",
              "      background-color: #E8F0FE;\n",
              "      border: none;\n",
              "      border-radius: 50%;\n",
              "      cursor: pointer;\n",
              "      display: none;\n",
              "      fill: #1967D2;\n",
              "      height: 32px;\n",
              "      padding: 0 0 0 0;\n",
              "      width: 32px;\n",
              "    }\n",
              "\n",
              "    .colab-df-convert:hover {\n",
              "      background-color: #E2EBFA;\n",
              "      box-shadow: 0px 1px 2px rgba(60, 64, 67, 0.3), 0px 1px 3px 1px rgba(60, 64, 67, 0.15);\n",
              "      fill: #174EA6;\n",
              "    }\n",
              "\n",
              "    .colab-df-buttons div {\n",
              "      margin-bottom: 4px;\n",
              "    }\n",
              "\n",
              "    [theme=dark] .colab-df-convert {\n",
              "      background-color: #3B4455;\n",
              "      fill: #D2E3FC;\n",
              "    }\n",
              "\n",
              "    [theme=dark] .colab-df-convert:hover {\n",
              "      background-color: #434B5C;\n",
              "      box-shadow: 0px 1px 3px 1px rgba(0, 0, 0, 0.15);\n",
              "      filter: drop-shadow(0px 1px 2px rgba(0, 0, 0, 0.3));\n",
              "      fill: #FFFFFF;\n",
              "    }\n",
              "  </style>\n",
              "\n",
              "    <script>\n",
              "      const buttonEl =\n",
              "        document.querySelector('#df-875fafb5-bb2e-4850-b258-e3677966d3b4 button.colab-df-convert');\n",
              "      buttonEl.style.display =\n",
              "        google.colab.kernel.accessAllowed ? 'block' : 'none';\n",
              "\n",
              "      async function convertToInteractive(key) {\n",
              "        const element = document.querySelector('#df-875fafb5-bb2e-4850-b258-e3677966d3b4');\n",
              "        const dataTable =\n",
              "          await google.colab.kernel.invokeFunction('convertToInteractive',\n",
              "                                                    [key], {});\n",
              "        if (!dataTable) return;\n",
              "\n",
              "        const docLinkHtml = 'Like what you see? Visit the ' +\n",
              "          '<a target=\"_blank\" href=https://colab.research.google.com/notebooks/data_table.ipynb>data table notebook</a>'\n",
              "          + ' to learn more about interactive tables.';\n",
              "        element.innerHTML = '';\n",
              "        dataTable['output_type'] = 'display_data';\n",
              "        await google.colab.output.renderOutput(dataTable, element);\n",
              "        const docLink = document.createElement('div');\n",
              "        docLink.innerHTML = docLinkHtml;\n",
              "        element.appendChild(docLink);\n",
              "      }\n",
              "    </script>\n",
              "  </div>\n",
              "\n",
              "\n",
              "<div id=\"df-3f3567b3-0b30-4ca2-9057-e7c2ce40f205\">\n",
              "  <button class=\"colab-df-quickchart\" onclick=\"quickchart('df-3f3567b3-0b30-4ca2-9057-e7c2ce40f205')\"\n",
              "            title=\"Suggest charts.\"\n",
              "            style=\"display:none;\">\n",
              "\n",
              "<svg xmlns=\"http://www.w3.org/2000/svg\" height=\"24px\"viewBox=\"0 0 24 24\"\n",
              "     width=\"24px\">\n",
              "    <g>\n",
              "        <path d=\"M19 3H5c-1.1 0-2 .9-2 2v14c0 1.1.9 2 2 2h14c1.1 0 2-.9 2-2V5c0-1.1-.9-2-2-2zM9 17H7v-7h2v7zm4 0h-2V7h2v10zm4 0h-2v-4h2v4z\"/>\n",
              "    </g>\n",
              "</svg>\n",
              "  </button>\n",
              "\n",
              "<style>\n",
              "  .colab-df-quickchart {\n",
              "      --bg-color: #E8F0FE;\n",
              "      --fill-color: #1967D2;\n",
              "      --hover-bg-color: #E2EBFA;\n",
              "      --hover-fill-color: #174EA6;\n",
              "      --disabled-fill-color: #AAA;\n",
              "      --disabled-bg-color: #DDD;\n",
              "  }\n",
              "\n",
              "  [theme=dark] .colab-df-quickchart {\n",
              "      --bg-color: #3B4455;\n",
              "      --fill-color: #D2E3FC;\n",
              "      --hover-bg-color: #434B5C;\n",
              "      --hover-fill-color: #FFFFFF;\n",
              "      --disabled-bg-color: #3B4455;\n",
              "      --disabled-fill-color: #666;\n",
              "  }\n",
              "\n",
              "  .colab-df-quickchart {\n",
              "    background-color: var(--bg-color);\n",
              "    border: none;\n",
              "    border-radius: 50%;\n",
              "    cursor: pointer;\n",
              "    display: none;\n",
              "    fill: var(--fill-color);\n",
              "    height: 32px;\n",
              "    padding: 0;\n",
              "    width: 32px;\n",
              "  }\n",
              "\n",
              "  .colab-df-quickchart:hover {\n",
              "    background-color: var(--hover-bg-color);\n",
              "    box-shadow: 0 1px 2px rgba(60, 64, 67, 0.3), 0 1px 3px 1px rgba(60, 64, 67, 0.15);\n",
              "    fill: var(--button-hover-fill-color);\n",
              "  }\n",
              "\n",
              "  .colab-df-quickchart-complete:disabled,\n",
              "  .colab-df-quickchart-complete:disabled:hover {\n",
              "    background-color: var(--disabled-bg-color);\n",
              "    fill: var(--disabled-fill-color);\n",
              "    box-shadow: none;\n",
              "  }\n",
              "\n",
              "  .colab-df-spinner {\n",
              "    border: 2px solid var(--fill-color);\n",
              "    border-color: transparent;\n",
              "    border-bottom-color: var(--fill-color);\n",
              "    animation:\n",
              "      spin 1s steps(1) infinite;\n",
              "  }\n",
              "\n",
              "  @keyframes spin {\n",
              "    0% {\n",
              "      border-color: transparent;\n",
              "      border-bottom-color: var(--fill-color);\n",
              "      border-left-color: var(--fill-color);\n",
              "    }\n",
              "    20% {\n",
              "      border-color: transparent;\n",
              "      border-left-color: var(--fill-color);\n",
              "      border-top-color: var(--fill-color);\n",
              "    }\n",
              "    30% {\n",
              "      border-color: transparent;\n",
              "      border-left-color: var(--fill-color);\n",
              "      border-top-color: var(--fill-color);\n",
              "      border-right-color: var(--fill-color);\n",
              "    }\n",
              "    40% {\n",
              "      border-color: transparent;\n",
              "      border-right-color: var(--fill-color);\n",
              "      border-top-color: var(--fill-color);\n",
              "    }\n",
              "    60% {\n",
              "      border-color: transparent;\n",
              "      border-right-color: var(--fill-color);\n",
              "    }\n",
              "    80% {\n",
              "      border-color: transparent;\n",
              "      border-right-color: var(--fill-color);\n",
              "      border-bottom-color: var(--fill-color);\n",
              "    }\n",
              "    90% {\n",
              "      border-color: transparent;\n",
              "      border-bottom-color: var(--fill-color);\n",
              "    }\n",
              "  }\n",
              "</style>\n",
              "\n",
              "  <script>\n",
              "    async function quickchart(key) {\n",
              "      const quickchartButtonEl =\n",
              "        document.querySelector('#' + key + ' button');\n",
              "      quickchartButtonEl.disabled = true;  // To prevent multiple clicks.\n",
              "      quickchartButtonEl.classList.add('colab-df-spinner');\n",
              "      try {\n",
              "        const charts = await google.colab.kernel.invokeFunction(\n",
              "            'suggestCharts', [key], {});\n",
              "      } catch (error) {\n",
              "        console.error('Error during call to suggestCharts:', error);\n",
              "      }\n",
              "      quickchartButtonEl.classList.remove('colab-df-spinner');\n",
              "      quickchartButtonEl.classList.add('colab-df-quickchart-complete');\n",
              "    }\n",
              "    (() => {\n",
              "      let quickchartButtonEl =\n",
              "        document.querySelector('#df-3f3567b3-0b30-4ca2-9057-e7c2ce40f205 button');\n",
              "      quickchartButtonEl.style.display =\n",
              "        google.colab.kernel.accessAllowed ? 'block' : 'none';\n",
              "    })();\n",
              "  </script>\n",
              "</div>\n",
              "    </div>\n",
              "  </div>\n"
            ]
          },
          "metadata": {},
          "execution_count": 21
        }
      ]
    },
    {
      "cell_type": "code",
      "metadata": {
        "colab": {
          "base_uri": "https://localhost:8080/",
          "height": 235
        },
        "id": "J-YOd8tLhpE0",
        "outputId": "42fbf402-72d7-4e77-fd29-429fe2351482"
      },
      "source": [
        "day = 60*60*24\n",
        "year = 365.2425*day\n",
        "\n",
        "temp_df['Day sin'] = np.sin(temp_df['Seconds'] * (2* np.pi / day))\n",
        "temp_df['Day cos'] = np.cos(temp_df['Seconds'] * (2 * np.pi / day))\n",
        "temp_df['Year sin'] = np.sin(temp_df['Seconds'] * (2 * np.pi / year))\n",
        "temp_df['Year cos'] = np.cos(temp_df['Seconds'] * (2 * np.pi / year))\n",
        "temp_df.head()"
      ],
      "execution_count": 22,
      "outputs": [
        {
          "output_type": "execute_result",
          "data": {
            "text/plain": [
              "                     Temperature       Seconds   Day sin   Day cos  Year sin  \\\n",
              "Date Time                                                                      \n",
              "2009-01-01 01:00:00        -8.05  1.230772e+09  0.258819  0.965926  0.010049   \n",
              "2009-01-01 02:00:00        -8.88  1.230775e+09  0.500000  0.866025  0.010766   \n",
              "2009-01-01 03:00:00        -8.81  1.230779e+09  0.707107  0.707107  0.011483   \n",
              "2009-01-01 04:00:00        -9.05  1.230782e+09  0.866025  0.500000  0.012199   \n",
              "2009-01-01 05:00:00        -9.63  1.230786e+09  0.965926  0.258819  0.012916   \n",
              "\n",
              "                     Year cos  \n",
              "Date Time                      \n",
              "2009-01-01 01:00:00  0.999950  \n",
              "2009-01-01 02:00:00  0.999942  \n",
              "2009-01-01 03:00:00  0.999934  \n",
              "2009-01-01 04:00:00  0.999926  \n",
              "2009-01-01 05:00:00  0.999917  "
            ],
            "text/html": [
              "\n",
              "  <div id=\"df-241c5a59-4e3e-4dda-be6f-c80caee06e78\" class=\"colab-df-container\">\n",
              "    <div>\n",
              "<style scoped>\n",
              "    .dataframe tbody tr th:only-of-type {\n",
              "        vertical-align: middle;\n",
              "    }\n",
              "\n",
              "    .dataframe tbody tr th {\n",
              "        vertical-align: top;\n",
              "    }\n",
              "\n",
              "    .dataframe thead th {\n",
              "        text-align: right;\n",
              "    }\n",
              "</style>\n",
              "<table border=\"1\" class=\"dataframe\">\n",
              "  <thead>\n",
              "    <tr style=\"text-align: right;\">\n",
              "      <th></th>\n",
              "      <th>Temperature</th>\n",
              "      <th>Seconds</th>\n",
              "      <th>Day sin</th>\n",
              "      <th>Day cos</th>\n",
              "      <th>Year sin</th>\n",
              "      <th>Year cos</th>\n",
              "    </tr>\n",
              "    <tr>\n",
              "      <th>Date Time</th>\n",
              "      <th></th>\n",
              "      <th></th>\n",
              "      <th></th>\n",
              "      <th></th>\n",
              "      <th></th>\n",
              "      <th></th>\n",
              "    </tr>\n",
              "  </thead>\n",
              "  <tbody>\n",
              "    <tr>\n",
              "      <th>2009-01-01 01:00:00</th>\n",
              "      <td>-8.05</td>\n",
              "      <td>1.230772e+09</td>\n",
              "      <td>0.258819</td>\n",
              "      <td>0.965926</td>\n",
              "      <td>0.010049</td>\n",
              "      <td>0.999950</td>\n",
              "    </tr>\n",
              "    <tr>\n",
              "      <th>2009-01-01 02:00:00</th>\n",
              "      <td>-8.88</td>\n",
              "      <td>1.230775e+09</td>\n",
              "      <td>0.500000</td>\n",
              "      <td>0.866025</td>\n",
              "      <td>0.010766</td>\n",
              "      <td>0.999942</td>\n",
              "    </tr>\n",
              "    <tr>\n",
              "      <th>2009-01-01 03:00:00</th>\n",
              "      <td>-8.81</td>\n",
              "      <td>1.230779e+09</td>\n",
              "      <td>0.707107</td>\n",
              "      <td>0.707107</td>\n",
              "      <td>0.011483</td>\n",
              "      <td>0.999934</td>\n",
              "    </tr>\n",
              "    <tr>\n",
              "      <th>2009-01-01 04:00:00</th>\n",
              "      <td>-9.05</td>\n",
              "      <td>1.230782e+09</td>\n",
              "      <td>0.866025</td>\n",
              "      <td>0.500000</td>\n",
              "      <td>0.012199</td>\n",
              "      <td>0.999926</td>\n",
              "    </tr>\n",
              "    <tr>\n",
              "      <th>2009-01-01 05:00:00</th>\n",
              "      <td>-9.63</td>\n",
              "      <td>1.230786e+09</td>\n",
              "      <td>0.965926</td>\n",
              "      <td>0.258819</td>\n",
              "      <td>0.012916</td>\n",
              "      <td>0.999917</td>\n",
              "    </tr>\n",
              "  </tbody>\n",
              "</table>\n",
              "</div>\n",
              "    <div class=\"colab-df-buttons\">\n",
              "\n",
              "  <div class=\"colab-df-container\">\n",
              "    <button class=\"colab-df-convert\" onclick=\"convertToInteractive('df-241c5a59-4e3e-4dda-be6f-c80caee06e78')\"\n",
              "            title=\"Convert this dataframe to an interactive table.\"\n",
              "            style=\"display:none;\">\n",
              "\n",
              "  <svg xmlns=\"http://www.w3.org/2000/svg\" height=\"24px\" viewBox=\"0 -960 960 960\">\n",
              "    <path d=\"M120-120v-720h720v720H120Zm60-500h600v-160H180v160Zm220 220h160v-160H400v160Zm0 220h160v-160H400v160ZM180-400h160v-160H180v160Zm440 0h160v-160H620v160ZM180-180h160v-160H180v160Zm440 0h160v-160H620v160Z\"/>\n",
              "  </svg>\n",
              "    </button>\n",
              "\n",
              "  <style>\n",
              "    .colab-df-container {\n",
              "      display:flex;\n",
              "      gap: 12px;\n",
              "    }\n",
              "\n",
              "    .colab-df-convert {\n",
              "      background-color: #E8F0FE;\n",
              "      border: none;\n",
              "      border-radius: 50%;\n",
              "      cursor: pointer;\n",
              "      display: none;\n",
              "      fill: #1967D2;\n",
              "      height: 32px;\n",
              "      padding: 0 0 0 0;\n",
              "      width: 32px;\n",
              "    }\n",
              "\n",
              "    .colab-df-convert:hover {\n",
              "      background-color: #E2EBFA;\n",
              "      box-shadow: 0px 1px 2px rgba(60, 64, 67, 0.3), 0px 1px 3px 1px rgba(60, 64, 67, 0.15);\n",
              "      fill: #174EA6;\n",
              "    }\n",
              "\n",
              "    .colab-df-buttons div {\n",
              "      margin-bottom: 4px;\n",
              "    }\n",
              "\n",
              "    [theme=dark] .colab-df-convert {\n",
              "      background-color: #3B4455;\n",
              "      fill: #D2E3FC;\n",
              "    }\n",
              "\n",
              "    [theme=dark] .colab-df-convert:hover {\n",
              "      background-color: #434B5C;\n",
              "      box-shadow: 0px 1px 3px 1px rgba(0, 0, 0, 0.15);\n",
              "      filter: drop-shadow(0px 1px 2px rgba(0, 0, 0, 0.3));\n",
              "      fill: #FFFFFF;\n",
              "    }\n",
              "  </style>\n",
              "\n",
              "    <script>\n",
              "      const buttonEl =\n",
              "        document.querySelector('#df-241c5a59-4e3e-4dda-be6f-c80caee06e78 button.colab-df-convert');\n",
              "      buttonEl.style.display =\n",
              "        google.colab.kernel.accessAllowed ? 'block' : 'none';\n",
              "\n",
              "      async function convertToInteractive(key) {\n",
              "        const element = document.querySelector('#df-241c5a59-4e3e-4dda-be6f-c80caee06e78');\n",
              "        const dataTable =\n",
              "          await google.colab.kernel.invokeFunction('convertToInteractive',\n",
              "                                                    [key], {});\n",
              "        if (!dataTable) return;\n",
              "\n",
              "        const docLinkHtml = 'Like what you see? Visit the ' +\n",
              "          '<a target=\"_blank\" href=https://colab.research.google.com/notebooks/data_table.ipynb>data table notebook</a>'\n",
              "          + ' to learn more about interactive tables.';\n",
              "        element.innerHTML = '';\n",
              "        dataTable['output_type'] = 'display_data';\n",
              "        await google.colab.output.renderOutput(dataTable, element);\n",
              "        const docLink = document.createElement('div');\n",
              "        docLink.innerHTML = docLinkHtml;\n",
              "        element.appendChild(docLink);\n",
              "      }\n",
              "    </script>\n",
              "  </div>\n",
              "\n",
              "\n",
              "<div id=\"df-717f5bba-73ac-4e4f-a5b2-09071f4407cf\">\n",
              "  <button class=\"colab-df-quickchart\" onclick=\"quickchart('df-717f5bba-73ac-4e4f-a5b2-09071f4407cf')\"\n",
              "            title=\"Suggest charts.\"\n",
              "            style=\"display:none;\">\n",
              "\n",
              "<svg xmlns=\"http://www.w3.org/2000/svg\" height=\"24px\"viewBox=\"0 0 24 24\"\n",
              "     width=\"24px\">\n",
              "    <g>\n",
              "        <path d=\"M19 3H5c-1.1 0-2 .9-2 2v14c0 1.1.9 2 2 2h14c1.1 0 2-.9 2-2V5c0-1.1-.9-2-2-2zM9 17H7v-7h2v7zm4 0h-2V7h2v10zm4 0h-2v-4h2v4z\"/>\n",
              "    </g>\n",
              "</svg>\n",
              "  </button>\n",
              "\n",
              "<style>\n",
              "  .colab-df-quickchart {\n",
              "      --bg-color: #E8F0FE;\n",
              "      --fill-color: #1967D2;\n",
              "      --hover-bg-color: #E2EBFA;\n",
              "      --hover-fill-color: #174EA6;\n",
              "      --disabled-fill-color: #AAA;\n",
              "      --disabled-bg-color: #DDD;\n",
              "  }\n",
              "\n",
              "  [theme=dark] .colab-df-quickchart {\n",
              "      --bg-color: #3B4455;\n",
              "      --fill-color: #D2E3FC;\n",
              "      --hover-bg-color: #434B5C;\n",
              "      --hover-fill-color: #FFFFFF;\n",
              "      --disabled-bg-color: #3B4455;\n",
              "      --disabled-fill-color: #666;\n",
              "  }\n",
              "\n",
              "  .colab-df-quickchart {\n",
              "    background-color: var(--bg-color);\n",
              "    border: none;\n",
              "    border-radius: 50%;\n",
              "    cursor: pointer;\n",
              "    display: none;\n",
              "    fill: var(--fill-color);\n",
              "    height: 32px;\n",
              "    padding: 0;\n",
              "    width: 32px;\n",
              "  }\n",
              "\n",
              "  .colab-df-quickchart:hover {\n",
              "    background-color: var(--hover-bg-color);\n",
              "    box-shadow: 0 1px 2px rgba(60, 64, 67, 0.3), 0 1px 3px 1px rgba(60, 64, 67, 0.15);\n",
              "    fill: var(--button-hover-fill-color);\n",
              "  }\n",
              "\n",
              "  .colab-df-quickchart-complete:disabled,\n",
              "  .colab-df-quickchart-complete:disabled:hover {\n",
              "    background-color: var(--disabled-bg-color);\n",
              "    fill: var(--disabled-fill-color);\n",
              "    box-shadow: none;\n",
              "  }\n",
              "\n",
              "  .colab-df-spinner {\n",
              "    border: 2px solid var(--fill-color);\n",
              "    border-color: transparent;\n",
              "    border-bottom-color: var(--fill-color);\n",
              "    animation:\n",
              "      spin 1s steps(1) infinite;\n",
              "  }\n",
              "\n",
              "  @keyframes spin {\n",
              "    0% {\n",
              "      border-color: transparent;\n",
              "      border-bottom-color: var(--fill-color);\n",
              "      border-left-color: var(--fill-color);\n",
              "    }\n",
              "    20% {\n",
              "      border-color: transparent;\n",
              "      border-left-color: var(--fill-color);\n",
              "      border-top-color: var(--fill-color);\n",
              "    }\n",
              "    30% {\n",
              "      border-color: transparent;\n",
              "      border-left-color: var(--fill-color);\n",
              "      border-top-color: var(--fill-color);\n",
              "      border-right-color: var(--fill-color);\n",
              "    }\n",
              "    40% {\n",
              "      border-color: transparent;\n",
              "      border-right-color: var(--fill-color);\n",
              "      border-top-color: var(--fill-color);\n",
              "    }\n",
              "    60% {\n",
              "      border-color: transparent;\n",
              "      border-right-color: var(--fill-color);\n",
              "    }\n",
              "    80% {\n",
              "      border-color: transparent;\n",
              "      border-right-color: var(--fill-color);\n",
              "      border-bottom-color: var(--fill-color);\n",
              "    }\n",
              "    90% {\n",
              "      border-color: transparent;\n",
              "      border-bottom-color: var(--fill-color);\n",
              "    }\n",
              "  }\n",
              "</style>\n",
              "\n",
              "  <script>\n",
              "    async function quickchart(key) {\n",
              "      const quickchartButtonEl =\n",
              "        document.querySelector('#' + key + ' button');\n",
              "      quickchartButtonEl.disabled = true;  // To prevent multiple clicks.\n",
              "      quickchartButtonEl.classList.add('colab-df-spinner');\n",
              "      try {\n",
              "        const charts = await google.colab.kernel.invokeFunction(\n",
              "            'suggestCharts', [key], {});\n",
              "      } catch (error) {\n",
              "        console.error('Error during call to suggestCharts:', error);\n",
              "      }\n",
              "      quickchartButtonEl.classList.remove('colab-df-spinner');\n",
              "      quickchartButtonEl.classList.add('colab-df-quickchart-complete');\n",
              "    }\n",
              "    (() => {\n",
              "      let quickchartButtonEl =\n",
              "        document.querySelector('#df-717f5bba-73ac-4e4f-a5b2-09071f4407cf button');\n",
              "      quickchartButtonEl.style.display =\n",
              "        google.colab.kernel.accessAllowed ? 'block' : 'none';\n",
              "    })();\n",
              "  </script>\n",
              "</div>\n",
              "    </div>\n",
              "  </div>\n"
            ]
          },
          "metadata": {},
          "execution_count": 22
        }
      ]
    },
    {
      "cell_type": "code",
      "metadata": {
        "colab": {
          "base_uri": "https://localhost:8080/",
          "height": 235
        },
        "id": "KKF-LfUVjDpi",
        "outputId": "fa107261-d159-4a7d-9404-28b840643185"
      },
      "source": [
        "temp_df = temp_df.drop('Seconds', axis=1)\n",
        "temp_df.head()"
      ],
      "execution_count": 23,
      "outputs": [
        {
          "output_type": "execute_result",
          "data": {
            "text/plain": [
              "                     Temperature   Day sin   Day cos  Year sin  Year cos\n",
              "Date Time                                                               \n",
              "2009-01-01 01:00:00        -8.05  0.258819  0.965926  0.010049  0.999950\n",
              "2009-01-01 02:00:00        -8.88  0.500000  0.866025  0.010766  0.999942\n",
              "2009-01-01 03:00:00        -8.81  0.707107  0.707107  0.011483  0.999934\n",
              "2009-01-01 04:00:00        -9.05  0.866025  0.500000  0.012199  0.999926\n",
              "2009-01-01 05:00:00        -9.63  0.965926  0.258819  0.012916  0.999917"
            ],
            "text/html": [
              "\n",
              "  <div id=\"df-a073be4b-9dd7-4b95-828a-0b92b34be47a\" class=\"colab-df-container\">\n",
              "    <div>\n",
              "<style scoped>\n",
              "    .dataframe tbody tr th:only-of-type {\n",
              "        vertical-align: middle;\n",
              "    }\n",
              "\n",
              "    .dataframe tbody tr th {\n",
              "        vertical-align: top;\n",
              "    }\n",
              "\n",
              "    .dataframe thead th {\n",
              "        text-align: right;\n",
              "    }\n",
              "</style>\n",
              "<table border=\"1\" class=\"dataframe\">\n",
              "  <thead>\n",
              "    <tr style=\"text-align: right;\">\n",
              "      <th></th>\n",
              "      <th>Temperature</th>\n",
              "      <th>Day sin</th>\n",
              "      <th>Day cos</th>\n",
              "      <th>Year sin</th>\n",
              "      <th>Year cos</th>\n",
              "    </tr>\n",
              "    <tr>\n",
              "      <th>Date Time</th>\n",
              "      <th></th>\n",
              "      <th></th>\n",
              "      <th></th>\n",
              "      <th></th>\n",
              "      <th></th>\n",
              "    </tr>\n",
              "  </thead>\n",
              "  <tbody>\n",
              "    <tr>\n",
              "      <th>2009-01-01 01:00:00</th>\n",
              "      <td>-8.05</td>\n",
              "      <td>0.258819</td>\n",
              "      <td>0.965926</td>\n",
              "      <td>0.010049</td>\n",
              "      <td>0.999950</td>\n",
              "    </tr>\n",
              "    <tr>\n",
              "      <th>2009-01-01 02:00:00</th>\n",
              "      <td>-8.88</td>\n",
              "      <td>0.500000</td>\n",
              "      <td>0.866025</td>\n",
              "      <td>0.010766</td>\n",
              "      <td>0.999942</td>\n",
              "    </tr>\n",
              "    <tr>\n",
              "      <th>2009-01-01 03:00:00</th>\n",
              "      <td>-8.81</td>\n",
              "      <td>0.707107</td>\n",
              "      <td>0.707107</td>\n",
              "      <td>0.011483</td>\n",
              "      <td>0.999934</td>\n",
              "    </tr>\n",
              "    <tr>\n",
              "      <th>2009-01-01 04:00:00</th>\n",
              "      <td>-9.05</td>\n",
              "      <td>0.866025</td>\n",
              "      <td>0.500000</td>\n",
              "      <td>0.012199</td>\n",
              "      <td>0.999926</td>\n",
              "    </tr>\n",
              "    <tr>\n",
              "      <th>2009-01-01 05:00:00</th>\n",
              "      <td>-9.63</td>\n",
              "      <td>0.965926</td>\n",
              "      <td>0.258819</td>\n",
              "      <td>0.012916</td>\n",
              "      <td>0.999917</td>\n",
              "    </tr>\n",
              "  </tbody>\n",
              "</table>\n",
              "</div>\n",
              "    <div class=\"colab-df-buttons\">\n",
              "\n",
              "  <div class=\"colab-df-container\">\n",
              "    <button class=\"colab-df-convert\" onclick=\"convertToInteractive('df-a073be4b-9dd7-4b95-828a-0b92b34be47a')\"\n",
              "            title=\"Convert this dataframe to an interactive table.\"\n",
              "            style=\"display:none;\">\n",
              "\n",
              "  <svg xmlns=\"http://www.w3.org/2000/svg\" height=\"24px\" viewBox=\"0 -960 960 960\">\n",
              "    <path d=\"M120-120v-720h720v720H120Zm60-500h600v-160H180v160Zm220 220h160v-160H400v160Zm0 220h160v-160H400v160ZM180-400h160v-160H180v160Zm440 0h160v-160H620v160ZM180-180h160v-160H180v160Zm440 0h160v-160H620v160Z\"/>\n",
              "  </svg>\n",
              "    </button>\n",
              "\n",
              "  <style>\n",
              "    .colab-df-container {\n",
              "      display:flex;\n",
              "      gap: 12px;\n",
              "    }\n",
              "\n",
              "    .colab-df-convert {\n",
              "      background-color: #E8F0FE;\n",
              "      border: none;\n",
              "      border-radius: 50%;\n",
              "      cursor: pointer;\n",
              "      display: none;\n",
              "      fill: #1967D2;\n",
              "      height: 32px;\n",
              "      padding: 0 0 0 0;\n",
              "      width: 32px;\n",
              "    }\n",
              "\n",
              "    .colab-df-convert:hover {\n",
              "      background-color: #E2EBFA;\n",
              "      box-shadow: 0px 1px 2px rgba(60, 64, 67, 0.3), 0px 1px 3px 1px rgba(60, 64, 67, 0.15);\n",
              "      fill: #174EA6;\n",
              "    }\n",
              "\n",
              "    .colab-df-buttons div {\n",
              "      margin-bottom: 4px;\n",
              "    }\n",
              "\n",
              "    [theme=dark] .colab-df-convert {\n",
              "      background-color: #3B4455;\n",
              "      fill: #D2E3FC;\n",
              "    }\n",
              "\n",
              "    [theme=dark] .colab-df-convert:hover {\n",
              "      background-color: #434B5C;\n",
              "      box-shadow: 0px 1px 3px 1px rgba(0, 0, 0, 0.15);\n",
              "      filter: drop-shadow(0px 1px 2px rgba(0, 0, 0, 0.3));\n",
              "      fill: #FFFFFF;\n",
              "    }\n",
              "  </style>\n",
              "\n",
              "    <script>\n",
              "      const buttonEl =\n",
              "        document.querySelector('#df-a073be4b-9dd7-4b95-828a-0b92b34be47a button.colab-df-convert');\n",
              "      buttonEl.style.display =\n",
              "        google.colab.kernel.accessAllowed ? 'block' : 'none';\n",
              "\n",
              "      async function convertToInteractive(key) {\n",
              "        const element = document.querySelector('#df-a073be4b-9dd7-4b95-828a-0b92b34be47a');\n",
              "        const dataTable =\n",
              "          await google.colab.kernel.invokeFunction('convertToInteractive',\n",
              "                                                    [key], {});\n",
              "        if (!dataTable) return;\n",
              "\n",
              "        const docLinkHtml = 'Like what you see? Visit the ' +\n",
              "          '<a target=\"_blank\" href=https://colab.research.google.com/notebooks/data_table.ipynb>data table notebook</a>'\n",
              "          + ' to learn more about interactive tables.';\n",
              "        element.innerHTML = '';\n",
              "        dataTable['output_type'] = 'display_data';\n",
              "        await google.colab.output.renderOutput(dataTable, element);\n",
              "        const docLink = document.createElement('div');\n",
              "        docLink.innerHTML = docLinkHtml;\n",
              "        element.appendChild(docLink);\n",
              "      }\n",
              "    </script>\n",
              "  </div>\n",
              "\n",
              "\n",
              "<div id=\"df-f6256121-7321-415d-afce-ba69fba9c07d\">\n",
              "  <button class=\"colab-df-quickchart\" onclick=\"quickchart('df-f6256121-7321-415d-afce-ba69fba9c07d')\"\n",
              "            title=\"Suggest charts.\"\n",
              "            style=\"display:none;\">\n",
              "\n",
              "<svg xmlns=\"http://www.w3.org/2000/svg\" height=\"24px\"viewBox=\"0 0 24 24\"\n",
              "     width=\"24px\">\n",
              "    <g>\n",
              "        <path d=\"M19 3H5c-1.1 0-2 .9-2 2v14c0 1.1.9 2 2 2h14c1.1 0 2-.9 2-2V5c0-1.1-.9-2-2-2zM9 17H7v-7h2v7zm4 0h-2V7h2v10zm4 0h-2v-4h2v4z\"/>\n",
              "    </g>\n",
              "</svg>\n",
              "  </button>\n",
              "\n",
              "<style>\n",
              "  .colab-df-quickchart {\n",
              "      --bg-color: #E8F0FE;\n",
              "      --fill-color: #1967D2;\n",
              "      --hover-bg-color: #E2EBFA;\n",
              "      --hover-fill-color: #174EA6;\n",
              "      --disabled-fill-color: #AAA;\n",
              "      --disabled-bg-color: #DDD;\n",
              "  }\n",
              "\n",
              "  [theme=dark] .colab-df-quickchart {\n",
              "      --bg-color: #3B4455;\n",
              "      --fill-color: #D2E3FC;\n",
              "      --hover-bg-color: #434B5C;\n",
              "      --hover-fill-color: #FFFFFF;\n",
              "      --disabled-bg-color: #3B4455;\n",
              "      --disabled-fill-color: #666;\n",
              "  }\n",
              "\n",
              "  .colab-df-quickchart {\n",
              "    background-color: var(--bg-color);\n",
              "    border: none;\n",
              "    border-radius: 50%;\n",
              "    cursor: pointer;\n",
              "    display: none;\n",
              "    fill: var(--fill-color);\n",
              "    height: 32px;\n",
              "    padding: 0;\n",
              "    width: 32px;\n",
              "  }\n",
              "\n",
              "  .colab-df-quickchart:hover {\n",
              "    background-color: var(--hover-bg-color);\n",
              "    box-shadow: 0 1px 2px rgba(60, 64, 67, 0.3), 0 1px 3px 1px rgba(60, 64, 67, 0.15);\n",
              "    fill: var(--button-hover-fill-color);\n",
              "  }\n",
              "\n",
              "  .colab-df-quickchart-complete:disabled,\n",
              "  .colab-df-quickchart-complete:disabled:hover {\n",
              "    background-color: var(--disabled-bg-color);\n",
              "    fill: var(--disabled-fill-color);\n",
              "    box-shadow: none;\n",
              "  }\n",
              "\n",
              "  .colab-df-spinner {\n",
              "    border: 2px solid var(--fill-color);\n",
              "    border-color: transparent;\n",
              "    border-bottom-color: var(--fill-color);\n",
              "    animation:\n",
              "      spin 1s steps(1) infinite;\n",
              "  }\n",
              "\n",
              "  @keyframes spin {\n",
              "    0% {\n",
              "      border-color: transparent;\n",
              "      border-bottom-color: var(--fill-color);\n",
              "      border-left-color: var(--fill-color);\n",
              "    }\n",
              "    20% {\n",
              "      border-color: transparent;\n",
              "      border-left-color: var(--fill-color);\n",
              "      border-top-color: var(--fill-color);\n",
              "    }\n",
              "    30% {\n",
              "      border-color: transparent;\n",
              "      border-left-color: var(--fill-color);\n",
              "      border-top-color: var(--fill-color);\n",
              "      border-right-color: var(--fill-color);\n",
              "    }\n",
              "    40% {\n",
              "      border-color: transparent;\n",
              "      border-right-color: var(--fill-color);\n",
              "      border-top-color: var(--fill-color);\n",
              "    }\n",
              "    60% {\n",
              "      border-color: transparent;\n",
              "      border-right-color: var(--fill-color);\n",
              "    }\n",
              "    80% {\n",
              "      border-color: transparent;\n",
              "      border-right-color: var(--fill-color);\n",
              "      border-bottom-color: var(--fill-color);\n",
              "    }\n",
              "    90% {\n",
              "      border-color: transparent;\n",
              "      border-bottom-color: var(--fill-color);\n",
              "    }\n",
              "  }\n",
              "</style>\n",
              "\n",
              "  <script>\n",
              "    async function quickchart(key) {\n",
              "      const quickchartButtonEl =\n",
              "        document.querySelector('#' + key + ' button');\n",
              "      quickchartButtonEl.disabled = true;  // To prevent multiple clicks.\n",
              "      quickchartButtonEl.classList.add('colab-df-spinner');\n",
              "      try {\n",
              "        const charts = await google.colab.kernel.invokeFunction(\n",
              "            'suggestCharts', [key], {});\n",
              "      } catch (error) {\n",
              "        console.error('Error during call to suggestCharts:', error);\n",
              "      }\n",
              "      quickchartButtonEl.classList.remove('colab-df-spinner');\n",
              "      quickchartButtonEl.classList.add('colab-df-quickchart-complete');\n",
              "    }\n",
              "    (() => {\n",
              "      let quickchartButtonEl =\n",
              "        document.querySelector('#df-f6256121-7321-415d-afce-ba69fba9c07d button');\n",
              "      quickchartButtonEl.style.display =\n",
              "        google.colab.kernel.accessAllowed ? 'block' : 'none';\n",
              "    })();\n",
              "  </script>\n",
              "</div>\n",
              "    </div>\n",
              "  </div>\n"
            ]
          },
          "metadata": {},
          "execution_count": 23
        }
      ]
    },
    {
      "cell_type": "code",
      "metadata": {
        "id": "Db8BJQONjbAT"
      },
      "source": [
        "def df_to_X_y2(df, window_size=6):\n",
        "  df_as_np = df.to_numpy()\n",
        "  X = []\n",
        "  y = []\n",
        "  for i in range(len(df_as_np)-window_size):\n",
        "    row = [r for r in df_as_np[i:i+window_size]]\n",
        "    X.append(row)\n",
        "    label = df_as_np[i+window_size][0]\n",
        "    y.append(label)\n",
        "  return np.array(X), np.array(y)"
      ],
      "execution_count": 24,
      "outputs": []
    },
    {
      "cell_type": "code",
      "metadata": {
        "colab": {
          "base_uri": "https://localhost:8080/"
        },
        "id": "eJhF1cIDleQ1",
        "outputId": "0021b50b-0eb0-49e2-c736-747906828e24"
      },
      "source": [
        "X2, y2 = df_to_X_y2(temp_df)\n",
        "X2.shape, y2.shape"
      ],
      "execution_count": 25,
      "outputs": [
        {
          "output_type": "execute_result",
          "data": {
            "text/plain": [
              "((70085, 6, 5), (70085,))"
            ]
          },
          "metadata": {},
          "execution_count": 25
        }
      ]
    },
    {
      "cell_type": "code",
      "metadata": {
        "colab": {
          "base_uri": "https://localhost:8080/"
        },
        "id": "FMOArQgyoTnq",
        "outputId": "3f9dcb71-9096-408d-92dd-5c18f4c03648"
      },
      "source": [
        "X2_train, y2_train = X2[:60000], y2[:60000]\n",
        "X2_val, y2_val = X2[60000:65000], y2[60000:65000]\n",
        "X2_test, y2_test = X2[65000:], y2[65000:]\n",
        "X2_train.shape, y2_train.shape, X2_val.shape, y2_val.shape, X2_test.shape, y2_test.shape"
      ],
      "execution_count": 26,
      "outputs": [
        {
          "output_type": "execute_result",
          "data": {
            "text/plain": [
              "((60000, 6, 5), (60000,), (5000, 6, 5), (5000,), (5085, 6, 5), (5085,))"
            ]
          },
          "metadata": {},
          "execution_count": 26
        }
      ]
    },
    {
      "cell_type": "code",
      "source": [
        "X2_train[0]"
      ],
      "metadata": {
        "colab": {
          "base_uri": "https://localhost:8080/"
        },
        "id": "te4rEfecVxTn",
        "outputId": "781bbdc3-24ad-4550-a904-1b91c6e34e23"
      },
      "execution_count": 29,
      "outputs": [
        {
          "output_type": "execute_result",
          "data": {
            "text/plain": [
              "array([[-8.05000000e+00,  2.58819045e-01,  9.65925826e-01,\n",
              "         1.00491198e-02,  9.99949506e-01],\n",
              "       [-8.88000000e+00,  5.00000000e-01,  8.66025404e-01,\n",
              "         1.07658633e-02,  9.99942046e-01],\n",
              "       [-8.81000000e+00,  7.07106781e-01,  7.07106781e-01,\n",
              "         1.14826014e-02,  9.99934073e-01],\n",
              "       [-9.05000000e+00,  8.66025404e-01,  5.00000000e-01,\n",
              "         1.21993335e-02,  9.99925585e-01],\n",
              "       [-9.63000000e+00,  9.65925826e-01,  2.58819045e-01,\n",
              "         1.29160593e-02,  9.99916584e-01],\n",
              "       [-9.67000000e+00,  1.00000000e+00,  4.33995489e-12,\n",
              "         1.36327785e-02,  9.99907069e-01]])"
            ]
          },
          "metadata": {},
          "execution_count": 29
        }
      ]
    },
    {
      "cell_type": "code",
      "metadata": {
        "id": "887KpvYwpkZq"
      },
      "source": [
        "temp_training_mean = np.mean(X2_train[:, :, 0])\n",
        "temp_training_std = np.std(X2_train[:, :, 0])\n",
        "\n",
        "def preprocess(X):\n",
        "  X[:, :, 0] = (X[:, :, 0] - temp_training_mean) / temp_training_std\n",
        "  return X"
      ],
      "execution_count": null,
      "outputs": []
    },
    {
      "cell_type": "code",
      "metadata": {
        "id": "z-Kaf4KTqSEV"
      },
      "source": [
        "preprocess(X2_train)\n",
        "preprocess(X2_val)\n",
        "preprocess(X2_test)"
      ],
      "execution_count": null,
      "outputs": []
    },
    {
      "cell_type": "code",
      "metadata": {
        "colab": {
          "base_uri": "https://localhost:8080/"
        },
        "id": "NpFVgXYJqbt8",
        "outputId": "4696c3ab-a8cb-45e1-c691-faed44ba0086"
      },
      "source": [
        "model4 = Sequential()\n",
        "model4.add(InputLayer((6, 5)))\n",
        "model4.add(LSTM(64))\n",
        "model4.add(Dense(8, 'relu'))\n",
        "model4.add(Dense(1, 'linear'))\n",
        "\n",
        "model4.summary()"
      ],
      "execution_count": null,
      "outputs": [
        {
          "output_type": "stream",
          "name": "stdout",
          "text": [
            "Model: \"sequential_3\"\n",
            "_________________________________________________________________\n",
            "Layer (type)                 Output Shape              Param #   \n",
            "=================================================================\n",
            "lstm_1 (LSTM)                (None, 64)                17920     \n",
            "_________________________________________________________________\n",
            "dense_6 (Dense)              (None, 8)                 520       \n",
            "_________________________________________________________________\n",
            "dense_7 (Dense)              (None, 1)                 9         \n",
            "=================================================================\n",
            "Total params: 18,449\n",
            "Trainable params: 18,449\n",
            "Non-trainable params: 0\n",
            "_________________________________________________________________\n"
          ]
        }
      ]
    },
    {
      "cell_type": "code",
      "metadata": {
        "id": "3RD8D_SXqkk8"
      },
      "source": [
        "cp4 = ModelCheckpoint('model4/', save_best_only=True)\n",
        "model4.compile(loss=MeanSquaredError(), optimizer=Adam(learning_rate=0.0001), metrics=[RootMeanSquaredError()])"
      ],
      "execution_count": null,
      "outputs": []
    },
    {
      "cell_type": "code",
      "metadata": {
        "colab": {
          "base_uri": "https://localhost:8080/"
        },
        "id": "GB5aik6bqogC",
        "outputId": "cfabcd42-c96b-4336-a89e-e51352dd6d8b"
      },
      "source": [
        "model4.fit(X2_train, y2_train, validation_data=(X2_val, y2_val), epochs=10, callbacks=[cp4])"
      ],
      "execution_count": null,
      "outputs": [
        {
          "output_type": "stream",
          "name": "stdout",
          "text": [
            "Epoch 1/10\n",
            "1875/1875 [==============================] - 11s 5ms/step - loss: 57.9544 - root_mean_squared_error: 7.6128 - val_loss: 4.4826 - val_root_mean_squared_error: 2.1172\n"
          ]
        },
        {
          "output_type": "stream",
          "name": "stderr",
          "text": [
            "WARNING:absl:Found untraced functions such as lstm_cell_2_layer_call_and_return_conditional_losses, lstm_cell_2_layer_call_fn, lstm_cell_2_layer_call_fn, lstm_cell_2_layer_call_and_return_conditional_losses, lstm_cell_2_layer_call_and_return_conditional_losses while saving (showing 5 of 5). These functions will not be directly callable after loading.\n"
          ]
        },
        {
          "output_type": "stream",
          "name": "stdout",
          "text": [
            "INFO:tensorflow:Assets written to: model4/assets\n"
          ]
        },
        {
          "output_type": "stream",
          "name": "stderr",
          "text": [
            "INFO:tensorflow:Assets written to: model4/assets\n"
          ]
        },
        {
          "output_type": "stream",
          "name": "stdout",
          "text": [
            "Epoch 2/10\n",
            "1875/1875 [==============================] - 10s 5ms/step - loss: 5.7919 - root_mean_squared_error: 2.4066 - val_loss: 2.2091 - val_root_mean_squared_error: 1.4863\n"
          ]
        },
        {
          "output_type": "stream",
          "name": "stderr",
          "text": [
            "WARNING:absl:Found untraced functions such as lstm_cell_2_layer_call_and_return_conditional_losses, lstm_cell_2_layer_call_fn, lstm_cell_2_layer_call_fn, lstm_cell_2_layer_call_and_return_conditional_losses, lstm_cell_2_layer_call_and_return_conditional_losses while saving (showing 5 of 5). These functions will not be directly callable after loading.\n"
          ]
        },
        {
          "output_type": "stream",
          "name": "stdout",
          "text": [
            "INFO:tensorflow:Assets written to: model4/assets\n"
          ]
        },
        {
          "output_type": "stream",
          "name": "stderr",
          "text": [
            "INFO:tensorflow:Assets written to: model4/assets\n"
          ]
        },
        {
          "output_type": "stream",
          "name": "stdout",
          "text": [
            "Epoch 3/10\n",
            "1875/1875 [==============================] - 9s 5ms/step - loss: 2.2420 - root_mean_squared_error: 1.4973 - val_loss: 1.0731 - val_root_mean_squared_error: 1.0359\n"
          ]
        },
        {
          "output_type": "stream",
          "name": "stderr",
          "text": [
            "WARNING:absl:Found untraced functions such as lstm_cell_2_layer_call_and_return_conditional_losses, lstm_cell_2_layer_call_fn, lstm_cell_2_layer_call_fn, lstm_cell_2_layer_call_and_return_conditional_losses, lstm_cell_2_layer_call_and_return_conditional_losses while saving (showing 5 of 5). These functions will not be directly callable after loading.\n"
          ]
        },
        {
          "output_type": "stream",
          "name": "stdout",
          "text": [
            "INFO:tensorflow:Assets written to: model4/assets\n"
          ]
        },
        {
          "output_type": "stream",
          "name": "stderr",
          "text": [
            "INFO:tensorflow:Assets written to: model4/assets\n"
          ]
        },
        {
          "output_type": "stream",
          "name": "stdout",
          "text": [
            "Epoch 4/10\n",
            "1875/1875 [==============================] - 9s 5ms/step - loss: 1.2148 - root_mean_squared_error: 1.1022 - val_loss: 0.7891 - val_root_mean_squared_error: 0.8883\n"
          ]
        },
        {
          "output_type": "stream",
          "name": "stderr",
          "text": [
            "WARNING:absl:Found untraced functions such as lstm_cell_2_layer_call_and_return_conditional_losses, lstm_cell_2_layer_call_fn, lstm_cell_2_layer_call_fn, lstm_cell_2_layer_call_and_return_conditional_losses, lstm_cell_2_layer_call_and_return_conditional_losses while saving (showing 5 of 5). These functions will not be directly callable after loading.\n"
          ]
        },
        {
          "output_type": "stream",
          "name": "stdout",
          "text": [
            "INFO:tensorflow:Assets written to: model4/assets\n"
          ]
        },
        {
          "output_type": "stream",
          "name": "stderr",
          "text": [
            "INFO:tensorflow:Assets written to: model4/assets\n"
          ]
        },
        {
          "output_type": "stream",
          "name": "stdout",
          "text": [
            "Epoch 5/10\n",
            "1875/1875 [==============================] - 10s 5ms/step - loss: 0.9053 - root_mean_squared_error: 0.9514 - val_loss: 0.6323 - val_root_mean_squared_error: 0.7951\n"
          ]
        },
        {
          "output_type": "stream",
          "name": "stderr",
          "text": [
            "WARNING:absl:Found untraced functions such as lstm_cell_2_layer_call_and_return_conditional_losses, lstm_cell_2_layer_call_fn, lstm_cell_2_layer_call_fn, lstm_cell_2_layer_call_and_return_conditional_losses, lstm_cell_2_layer_call_and_return_conditional_losses while saving (showing 5 of 5). These functions will not be directly callable after loading.\n"
          ]
        },
        {
          "output_type": "stream",
          "name": "stdout",
          "text": [
            "INFO:tensorflow:Assets written to: model4/assets\n"
          ]
        },
        {
          "output_type": "stream",
          "name": "stderr",
          "text": [
            "INFO:tensorflow:Assets written to: model4/assets\n"
          ]
        },
        {
          "output_type": "stream",
          "name": "stdout",
          "text": [
            "Epoch 6/10\n",
            "1875/1875 [==============================] - 10s 5ms/step - loss: 0.7240 - root_mean_squared_error: 0.8509 - val_loss: 0.5215 - val_root_mean_squared_error: 0.7221\n"
          ]
        },
        {
          "output_type": "stream",
          "name": "stderr",
          "text": [
            "WARNING:absl:Found untraced functions such as lstm_cell_2_layer_call_and_return_conditional_losses, lstm_cell_2_layer_call_fn, lstm_cell_2_layer_call_fn, lstm_cell_2_layer_call_and_return_conditional_losses, lstm_cell_2_layer_call_and_return_conditional_losses while saving (showing 5 of 5). These functions will not be directly callable after loading.\n"
          ]
        },
        {
          "output_type": "stream",
          "name": "stdout",
          "text": [
            "INFO:tensorflow:Assets written to: model4/assets\n"
          ]
        },
        {
          "output_type": "stream",
          "name": "stderr",
          "text": [
            "INFO:tensorflow:Assets written to: model4/assets\n"
          ]
        },
        {
          "output_type": "stream",
          "name": "stdout",
          "text": [
            "Epoch 7/10\n",
            "1875/1875 [==============================] - 10s 5ms/step - loss: 0.6155 - root_mean_squared_error: 0.7845 - val_loss: 0.4566 - val_root_mean_squared_error: 0.6758\n"
          ]
        },
        {
          "output_type": "stream",
          "name": "stderr",
          "text": [
            "WARNING:absl:Found untraced functions such as lstm_cell_2_layer_call_and_return_conditional_losses, lstm_cell_2_layer_call_fn, lstm_cell_2_layer_call_fn, lstm_cell_2_layer_call_and_return_conditional_losses, lstm_cell_2_layer_call_and_return_conditional_losses while saving (showing 5 of 5). These functions will not be directly callable after loading.\n"
          ]
        },
        {
          "output_type": "stream",
          "name": "stdout",
          "text": [
            "INFO:tensorflow:Assets written to: model4/assets\n"
          ]
        },
        {
          "output_type": "stream",
          "name": "stderr",
          "text": [
            "INFO:tensorflow:Assets written to: model4/assets\n"
          ]
        },
        {
          "output_type": "stream",
          "name": "stdout",
          "text": [
            "Epoch 8/10\n",
            "1875/1875 [==============================] - 9s 5ms/step - loss: 0.5659 - root_mean_squared_error: 0.7522 - val_loss: 0.4307 - val_root_mean_squared_error: 0.6563\n"
          ]
        },
        {
          "output_type": "stream",
          "name": "stderr",
          "text": [
            "WARNING:absl:Found untraced functions such as lstm_cell_2_layer_call_and_return_conditional_losses, lstm_cell_2_layer_call_fn, lstm_cell_2_layer_call_fn, lstm_cell_2_layer_call_and_return_conditional_losses, lstm_cell_2_layer_call_and_return_conditional_losses while saving (showing 5 of 5). These functions will not be directly callable after loading.\n"
          ]
        },
        {
          "output_type": "stream",
          "name": "stdout",
          "text": [
            "INFO:tensorflow:Assets written to: model4/assets\n"
          ]
        },
        {
          "output_type": "stream",
          "name": "stderr",
          "text": [
            "INFO:tensorflow:Assets written to: model4/assets\n"
          ]
        },
        {
          "output_type": "stream",
          "name": "stdout",
          "text": [
            "Epoch 9/10\n",
            "1875/1875 [==============================] - 10s 5ms/step - loss: 0.5450 - root_mean_squared_error: 0.7383 - val_loss: 0.4210 - val_root_mean_squared_error: 0.6488\n"
          ]
        },
        {
          "output_type": "stream",
          "name": "stderr",
          "text": [
            "WARNING:absl:Found untraced functions such as lstm_cell_2_layer_call_and_return_conditional_losses, lstm_cell_2_layer_call_fn, lstm_cell_2_layer_call_fn, lstm_cell_2_layer_call_and_return_conditional_losses, lstm_cell_2_layer_call_and_return_conditional_losses while saving (showing 5 of 5). These functions will not be directly callable after loading.\n"
          ]
        },
        {
          "output_type": "stream",
          "name": "stdout",
          "text": [
            "INFO:tensorflow:Assets written to: model4/assets\n"
          ]
        },
        {
          "output_type": "stream",
          "name": "stderr",
          "text": [
            "INFO:tensorflow:Assets written to: model4/assets\n"
          ]
        },
        {
          "output_type": "stream",
          "name": "stdout",
          "text": [
            "Epoch 10/10\n",
            "1875/1875 [==============================] - 9s 5ms/step - loss: 0.5365 - root_mean_squared_error: 0.7325 - val_loss: 0.4118 - val_root_mean_squared_error: 0.6417\n"
          ]
        },
        {
          "output_type": "stream",
          "name": "stderr",
          "text": [
            "WARNING:absl:Found untraced functions such as lstm_cell_2_layer_call_and_return_conditional_losses, lstm_cell_2_layer_call_fn, lstm_cell_2_layer_call_fn, lstm_cell_2_layer_call_and_return_conditional_losses, lstm_cell_2_layer_call_and_return_conditional_losses while saving (showing 5 of 5). These functions will not be directly callable after loading.\n"
          ]
        },
        {
          "output_type": "stream",
          "name": "stdout",
          "text": [
            "INFO:tensorflow:Assets written to: model4/assets\n"
          ]
        },
        {
          "output_type": "stream",
          "name": "stderr",
          "text": [
            "INFO:tensorflow:Assets written to: model4/assets\n"
          ]
        },
        {
          "output_type": "execute_result",
          "data": {
            "text/plain": [
              "<keras.callbacks.History at 0x7ff162463ad0>"
            ]
          },
          "metadata": {},
          "execution_count": 56
        }
      ]
    },
    {
      "cell_type": "code",
      "metadata": {
        "colab": {
          "base_uri": "https://localhost:8080/",
          "height": 511
        },
        "id": "FmwshpETs-jE",
        "outputId": "f9ea03ff-6d06-4ed5-cd59-5199bfdecc15"
      },
      "source": [
        "plot_predictions1(model4, X2_test, y2_test)"
      ],
      "execution_count": null,
      "outputs": [
        {
          "output_type": "execute_result",
          "data": {
            "text/plain": [
              "(      Predictions  Actuals\n",
              " 0       13.182363    13.46\n",
              " 1       12.734554    12.93\n",
              " 2       12.357198    12.43\n",
              " 3       12.092401    12.17\n",
              " 4       12.223644    11.55\n",
              " ...           ...      ...\n",
              " 5080    -0.943503    -0.98\n",
              " 5081    -1.315242    -1.40\n",
              " 5082    -1.586476    -2.75\n",
              " 5083    -2.875845    -2.89\n",
              " 5084    -2.927449    -3.93\n",
              " \n",
              " [5085 rows x 2 columns], 0.4970791490704158)"
            ]
          },
          "metadata": {},
          "execution_count": 57
        },
        {
          "output_type": "display_data",
          "data": {
            "image/png": "[encoded data removed]",
            "text/plain": [
              "<Figure size 432x288 with 1 Axes>"
            ]
          },
          "metadata": {
            "needs_background": "light"
          }
        }
      ]
    },
    {
      "cell_type": "code",
      "metadata": {
        "colab": {
          "base_uri": "https://localhost:8080/",
          "height": 236
        },
        "id": "FpOwEbBttY8C",
        "outputId": "04c3daf4-fbc8-41ac-a69f-cc7ee32ed5df"
      },
      "source": [
        "p_temp_df = pd.concat([df['p (mbar)'], temp_df], axis=1)\n",
        "p_temp_df.head()"
      ],
      "execution_count": null,
      "outputs": [
        {
          "output_type": "execute_result",
          "data": {
            "text/html": [
              "<div>\n",
              "<style scoped>\n",
              "    .dataframe tbody tr th:only-of-type {\n",
              "        vertical-align: middle;\n",
              "    }\n",
              "\n",
              "    .dataframe tbody tr th {\n",
              "        vertical-align: top;\n",
              "    }\n",
              "\n",
              "    .dataframe thead th {\n",
              "        text-align: right;\n",
              "    }\n",
              "</style>\n",
              "<table border=\"1\" class=\"dataframe\">\n",
              "  <thead>\n",
              "    <tr style=\"text-align: right;\">\n",
              "      <th></th>\n",
              "      <th>p (mbar)</th>\n",
              "      <th>Temperature</th>\n",
              "      <th>Day sin</th>\n",
              "      <th>Day cos</th>\n",
              "      <th>Year sin</th>\n",
              "      <th>Year cos</th>\n",
              "    </tr>\n",
              "    <tr>\n",
              "      <th>Date Time</th>\n",
              "      <th></th>\n",
              "      <th></th>\n",
              "      <th></th>\n",
              "      <th></th>\n",
              "      <th></th>\n",
              "      <th></th>\n",
              "    </tr>\n",
              "  </thead>\n",
              "  <tbody>\n",
              "    <tr>\n",
              "      <th>2009-01-01 01:00:00</th>\n",
              "      <td>996.50</td>\n",
              "      <td>-8.05</td>\n",
              "      <td>0.258819</td>\n",
              "      <td>0.965926</td>\n",
              "      <td>0.010049</td>\n",
              "      <td>0.999950</td>\n",
              "    </tr>\n",
              "    <tr>\n",
              "      <th>2009-01-01 02:00:00</th>\n",
              "      <td>996.62</td>\n",
              "      <td>-8.88</td>\n",
              "      <td>0.500000</td>\n",
              "      <td>0.866025</td>\n",
              "      <td>0.010766</td>\n",
              "      <td>0.999942</td>\n",
              "    </tr>\n",
              "    <tr>\n",
              "      <th>2009-01-01 03:00:00</th>\n",
              "      <td>996.84</td>\n",
              "      <td>-8.81</td>\n",
              "      <td>0.707107</td>\n",
              "      <td>0.707107</td>\n",
              "      <td>0.011483</td>\n",
              "      <td>0.999934</td>\n",
              "    </tr>\n",
              "    <tr>\n",
              "      <th>2009-01-01 04:00:00</th>\n",
              "      <td>996.99</td>\n",
              "      <td>-9.05</td>\n",
              "      <td>0.866025</td>\n",
              "      <td>0.500000</td>\n",
              "      <td>0.012199</td>\n",
              "      <td>0.999926</td>\n",
              "    </tr>\n",
              "    <tr>\n",
              "      <th>2009-01-01 05:00:00</th>\n",
              "      <td>997.46</td>\n",
              "      <td>-9.63</td>\n",
              "      <td>0.965926</td>\n",
              "      <td>0.258819</td>\n",
              "      <td>0.012916</td>\n",
              "      <td>0.999917</td>\n",
              "    </tr>\n",
              "  </tbody>\n",
              "</table>\n",
              "</div>"
            ],
            "text/plain": [
              "                     p (mbar)  Temperature  ...  Year sin  Year cos\n",
              "Date Time                                   ...                    \n",
              "2009-01-01 01:00:00    996.50        -8.05  ...  0.010049  0.999950\n",
              "2009-01-01 02:00:00    996.62        -8.88  ...  0.010766  0.999942\n",
              "2009-01-01 03:00:00    996.84        -8.81  ...  0.011483  0.999934\n",
              "2009-01-01 04:00:00    996.99        -9.05  ...  0.012199  0.999926\n",
              "2009-01-01 05:00:00    997.46        -9.63  ...  0.012916  0.999917\n",
              "\n",
              "[5 rows x 6 columns]"
            ]
          },
          "metadata": {},
          "execution_count": 71
        }
      ]
    },
    {
      "cell_type": "code",
      "metadata": {
        "id": "7EViSFyntz9j"
      },
      "source": [
        "def df_to_X_y3(df, window_size=7):\n",
        "  df_as_np = df.to_numpy()\n",
        "  X = []\n",
        "  y = []\n",
        "  for i in range(len(df_as_np)-window_size):\n",
        "    row = [r for r in df_as_np[i:i+window_size]]\n",
        "    X.append(row)\n",
        "    label = [df_as_np[i+window_size][0], df_as_np[i+window_size][1]]\n",
        "    y.append(label)\n",
        "  return np.array(X), np.array(y)"
      ],
      "execution_count": null,
      "outputs": []
    },
    {
      "cell_type": "code",
      "metadata": {
        "colab": {
          "base_uri": "https://localhost:8080/"
        },
        "id": "M6iv-AUQuJdX",
        "outputId": "c5d6aafb-a91e-4d2e-fd07-90734fcad509"
      },
      "source": [
        "X3, y3 = df_to_X_y3(p_temp_df)\n",
        "X3.shape, y3.shape"
      ],
      "execution_count": null,
      "outputs": [
        {
          "output_type": "execute_result",
          "data": {
            "text/plain": [
              "((70084, 7, 6), (70084, 2))"
            ]
          },
          "metadata": {},
          "execution_count": 73
        }
      ]
    },
    {
      "cell_type": "code",
      "metadata": {
        "colab": {
          "base_uri": "https://localhost:8080/"
        },
        "id": "JAaiWt0buKa4",
        "outputId": "9e431fbf-f8b8-4dc4-932b-d3242d2ab266"
      },
      "source": [
        "X3_train, y3_train = X3[:60000], y3[:60000]\n",
        "X3_val, y3_val = X3[60000:65000], y3[60000:65000]\n",
        "X3_test, y3_test = X3[65000:], y3[65000:]\n",
        "X3_train.shape, y3_train.shape, X3_val.shape, y3_val.shape, X3_test.shape, y3_test.shape"
      ],
      "execution_count": null,
      "outputs": [
        {
          "output_type": "execute_result",
          "data": {
            "text/plain": [
              "((60000, 7, 6), (60000, 2), (5000, 7, 6), (5000, 2), (5084, 7, 6), (5084, 2))"
            ]
          },
          "metadata": {},
          "execution_count": 74
        }
      ]
    },
    {
      "cell_type": "code",
      "metadata": {
        "id": "Y-1iWv_AuKSk"
      },
      "source": [
        "p_training_mean3 = np.mean(X3_train[:, :, 0])\n",
        "p_training_std3 = np.std(X3_train[:, :, 0])\n",
        "\n",
        "temp_training_mean3 = np.mean(X3_train[:, :, 1])\n",
        "temp_training_std3 = np.std(X3_train[:, :, 1])\n",
        "\n",
        "def preprocess3(X):\n",
        "  X[:, :, 0] = (X[:, :, 0] - p_training_mean3) / p_training_std3\n",
        "  X[:, :, 1] = (X[:, :, 1] - temp_training_mean3) / temp_training_std3\n",
        "\n",
        "def preprocess_output3(y):\n",
        "  y[:, 0] = (y[:, 0] - p_training_mean3) / p_training_std3\n",
        "  y[:, 1] = (y[:, 1] - temp_training_mean3) / temp_training_std3\n",
        "  return y"
      ],
      "execution_count": null,
      "outputs": []
    },
    {
      "cell_type": "code",
      "metadata": {
        "id": "tA3BDAuluKHO"
      },
      "source": [
        "preprocess3(X3_train)\n",
        "preprocess3(X3_val)\n",
        "preprocess3(X3_test)"
      ],
      "execution_count": null,
      "outputs": []
    },
    {
      "cell_type": "code",
      "metadata": {
        "colab": {
          "base_uri": "https://localhost:8080/"
        },
        "id": "nyxUc20CuJ4p",
        "outputId": "5803e53d-5ae0-4c72-ca26-9adf51b577b7"
      },
      "source": [
        "preprocess_output3(y3_train)\n",
        "preprocess_output3(y3_val)\n",
        "preprocess_output3(y3_test)"
      ],
      "execution_count": null,
      "outputs": [
        {
          "output_type": "execute_result",
          "data": {
            "text/plain": [
              "array([[-0.7934386 ,  0.41245076],\n",
              "       [-0.76312281,  0.35368268],\n",
              "       [-0.72189335,  0.32312327],\n",
              "       ...,\n",
              "       [ 1.48145784, -1.43051636],\n",
              "       [ 1.41597574, -1.44697142],\n",
              "       [ 1.35049365, -1.56920903]])"
            ]
          },
          "metadata": {},
          "execution_count": 77
        }
      ]
    },
    {
      "cell_type": "code",
      "metadata": {
        "colab": {
          "base_uri": "https://localhost:8080/"
        },
        "id": "czHWSE2Uv4Br",
        "outputId": "7b192759-b752-4f24-9f24-cf3a089ce7df"
      },
      "source": [
        "model5 = Sequential()\n",
        "model5.add(InputLayer((7, 6)))\n",
        "model5.add(LSTM(64))\n",
        "model5.add(Dense(8, 'relu'))\n",
        "model5.add(Dense(2, 'linear'))\n",
        "\n",
        "model5.summary()"
      ],
      "execution_count": null,
      "outputs": [
        {
          "output_type": "stream",
          "name": "stdout",
          "text": [
            "Model: \"sequential_5\"\n",
            "_________________________________________________________________\n",
            "Layer (type)                 Output Shape              Param #   \n",
            "=================================================================\n",
            "lstm_3 (LSTM)                (None, 64)                18176     \n",
            "_________________________________________________________________\n",
            "dense_10 (Dense)             (None, 8)                 520       \n",
            "_________________________________________________________________\n",
            "dense_11 (Dense)             (None, 2)                 18        \n",
            "=================================================================\n",
            "Total params: 18,714\n",
            "Trainable params: 18,714\n",
            "Non-trainable params: 0\n",
            "_________________________________________________________________\n"
          ]
        }
      ]
    },
    {
      "cell_type": "code",
      "metadata": {
        "id": "HY4LnQYxwDI2"
      },
      "source": [
        "cp5 = ModelCheckpoint('model5/', save_best_only=True)\n",
        "model5.compile(loss=MeanSquaredError(), optimizer=Adam(learning_rate=0.0001), metrics=[RootMeanSquaredError()])"
      ],
      "execution_count": null,
      "outputs": []
    },
    {
      "cell_type": "code",
      "metadata": {
        "colab": {
          "base_uri": "https://localhost:8080/"
        },
        "id": "pR6NEXeSwF6J",
        "outputId": "63d8ef64-7125-40e9-d3ba-6e0895617e86"
      },
      "source": [
        "model5.fit(X3_train, y3_train, validation_data=(X3_val, y3_val), epochs=10, callbacks=[cp5])"
      ],
      "execution_count": null,
      "outputs": [
        {
          "output_type": "stream",
          "name": "stdout",
          "text": [
            "Epoch 1/10\n",
            "1875/1875 [==============================] - 12s 6ms/step - loss: 0.2782 - root_mean_squared_error: 0.5275 - val_loss: 0.0442 - val_root_mean_squared_error: 0.2102\n"
          ]
        },
        {
          "output_type": "stream",
          "name": "stderr",
          "text": [
            "WARNING:absl:Found untraced functions such as lstm_cell_4_layer_call_and_return_conditional_losses, lstm_cell_4_layer_call_fn, lstm_cell_4_layer_call_fn, lstm_cell_4_layer_call_and_return_conditional_losses, lstm_cell_4_layer_call_and_return_conditional_losses while saving (showing 5 of 5). These functions will not be directly callable after loading.\n"
          ]
        },
        {
          "output_type": "stream",
          "name": "stdout",
          "text": [
            "INFO:tensorflow:Assets written to: model5/assets\n"
          ]
        },
        {
          "output_type": "stream",
          "name": "stderr",
          "text": [
            "INFO:tensorflow:Assets written to: model5/assets\n"
          ]
        },
        {
          "output_type": "stream",
          "name": "stdout",
          "text": [
            "Epoch 2/10\n",
            "1875/1875 [==============================] - 11s 6ms/step - loss: 0.0260 - root_mean_squared_error: 0.1612 - val_loss: 0.0140 - val_root_mean_squared_error: 0.1182\n"
          ]
        },
        {
          "output_type": "stream",
          "name": "stderr",
          "text": [
            "WARNING:absl:Found untraced functions such as lstm_cell_4_layer_call_and_return_conditional_losses, lstm_cell_4_layer_call_fn, lstm_cell_4_layer_call_fn, lstm_cell_4_layer_call_and_return_conditional_losses, lstm_cell_4_layer_call_and_return_conditional_losses while saving (showing 5 of 5). These functions will not be directly callable after loading.\n"
          ]
        },
        {
          "output_type": "stream",
          "name": "stdout",
          "text": [
            "INFO:tensorflow:Assets written to: model5/assets\n"
          ]
        },
        {
          "output_type": "stream",
          "name": "stderr",
          "text": [
            "INFO:tensorflow:Assets written to: model5/assets\n"
          ]
        },
        {
          "output_type": "stream",
          "name": "stdout",
          "text": [
            "Epoch 3/10\n",
            "1875/1875 [==============================] - 10s 5ms/step - loss: 0.0113 - root_mean_squared_error: 0.1063 - val_loss: 0.0081 - val_root_mean_squared_error: 0.0903\n"
          ]
        },
        {
          "output_type": "stream",
          "name": "stderr",
          "text": [
            "WARNING:absl:Found untraced functions such as lstm_cell_4_layer_call_and_return_conditional_losses, lstm_cell_4_layer_call_fn, lstm_cell_4_layer_call_fn, lstm_cell_4_layer_call_and_return_conditional_losses, lstm_cell_4_layer_call_and_return_conditional_losses while saving (showing 5 of 5). These functions will not be directly callable after loading.\n"
          ]
        },
        {
          "output_type": "stream",
          "name": "stdout",
          "text": [
            "INFO:tensorflow:Assets written to: model5/assets\n"
          ]
        },
        {
          "output_type": "stream",
          "name": "stderr",
          "text": [
            "INFO:tensorflow:Assets written to: model5/assets\n"
          ]
        },
        {
          "output_type": "stream",
          "name": "stdout",
          "text": [
            "Epoch 4/10\n",
            "1875/1875 [==============================] - 10s 5ms/step - loss: 0.0081 - root_mean_squared_error: 0.0899 - val_loss: 0.0060 - val_root_mean_squared_error: 0.0776\n"
          ]
        },
        {
          "output_type": "stream",
          "name": "stderr",
          "text": [
            "WARNING:absl:Found untraced functions such as lstm_cell_4_layer_call_and_return_conditional_losses, lstm_cell_4_layer_call_fn, lstm_cell_4_layer_call_fn, lstm_cell_4_layer_call_and_return_conditional_losses, lstm_cell_4_layer_call_and_return_conditional_losses while saving (showing 5 of 5). These functions will not be directly callable after loading.\n"
          ]
        },
        {
          "output_type": "stream",
          "name": "stdout",
          "text": [
            "INFO:tensorflow:Assets written to: model5/assets\n"
          ]
        },
        {
          "output_type": "stream",
          "name": "stderr",
          "text": [
            "INFO:tensorflow:Assets written to: model5/assets\n"
          ]
        },
        {
          "output_type": "stream",
          "name": "stdout",
          "text": [
            "Epoch 5/10\n",
            "1875/1875 [==============================] - 10s 5ms/step - loss: 0.0065 - root_mean_squared_error: 0.0808 - val_loss: 0.0046 - val_root_mean_squared_error: 0.0680\n"
          ]
        },
        {
          "output_type": "stream",
          "name": "stderr",
          "text": [
            "WARNING:absl:Found untraced functions such as lstm_cell_4_layer_call_and_return_conditional_losses, lstm_cell_4_layer_call_fn, lstm_cell_4_layer_call_fn, lstm_cell_4_layer_call_and_return_conditional_losses, lstm_cell_4_layer_call_and_return_conditional_losses while saving (showing 5 of 5). These functions will not be directly callable after loading.\n"
          ]
        },
        {
          "output_type": "stream",
          "name": "stdout",
          "text": [
            "INFO:tensorflow:Assets written to: model5/assets\n"
          ]
        },
        {
          "output_type": "stream",
          "name": "stderr",
          "text": [
            "INFO:tensorflow:Assets written to: model5/assets\n"
          ]
        },
        {
          "output_type": "stream",
          "name": "stdout",
          "text": [
            "Epoch 6/10\n",
            "1875/1875 [==============================] - 10s 5ms/step - loss: 0.0057 - root_mean_squared_error: 0.0752 - val_loss: 0.0041 - val_root_mean_squared_error: 0.0642\n"
          ]
        },
        {
          "output_type": "stream",
          "name": "stderr",
          "text": [
            "WARNING:absl:Found untraced functions such as lstm_cell_4_layer_call_and_return_conditional_losses, lstm_cell_4_layer_call_fn, lstm_cell_4_layer_call_fn, lstm_cell_4_layer_call_and_return_conditional_losses, lstm_cell_4_layer_call_and_return_conditional_losses while saving (showing 5 of 5). These functions will not be directly callable after loading.\n"
          ]
        },
        {
          "output_type": "stream",
          "name": "stdout",
          "text": [
            "INFO:tensorflow:Assets written to: model5/assets\n"
          ]
        },
        {
          "output_type": "stream",
          "name": "stderr",
          "text": [
            "INFO:tensorflow:Assets written to: model5/assets\n"
          ]
        },
        {
          "output_type": "stream",
          "name": "stdout",
          "text": [
            "Epoch 7/10\n",
            "1875/1875 [==============================] - 10s 5ms/step - loss: 0.0052 - root_mean_squared_error: 0.0724 - val_loss: 0.0040 - val_root_mean_squared_error: 0.0634\n"
          ]
        },
        {
          "output_type": "stream",
          "name": "stderr",
          "text": [
            "WARNING:absl:Found untraced functions such as lstm_cell_4_layer_call_and_return_conditional_losses, lstm_cell_4_layer_call_fn, lstm_cell_4_layer_call_fn, lstm_cell_4_layer_call_and_return_conditional_losses, lstm_cell_4_layer_call_and_return_conditional_losses while saving (showing 5 of 5). These functions will not be directly callable after loading.\n"
          ]
        },
        {
          "output_type": "stream",
          "name": "stdout",
          "text": [
            "INFO:tensorflow:Assets written to: model5/assets\n"
          ]
        },
        {
          "output_type": "stream",
          "name": "stderr",
          "text": [
            "INFO:tensorflow:Assets written to: model5/assets\n"
          ]
        },
        {
          "output_type": "stream",
          "name": "stdout",
          "text": [
            "Epoch 8/10\n",
            "1875/1875 [==============================] - 10s 5ms/step - loss: 0.0051 - root_mean_squared_error: 0.0711 - val_loss: 0.0039 - val_root_mean_squared_error: 0.0624\n"
          ]
        },
        {
          "output_type": "stream",
          "name": "stderr",
          "text": [
            "WARNING:absl:Found untraced functions such as lstm_cell_4_layer_call_and_return_conditional_losses, lstm_cell_4_layer_call_fn, lstm_cell_4_layer_call_fn, lstm_cell_4_layer_call_and_return_conditional_losses, lstm_cell_4_layer_call_and_return_conditional_losses while saving (showing 5 of 5). These functions will not be directly callable after loading.\n"
          ]
        },
        {
          "output_type": "stream",
          "name": "stdout",
          "text": [
            "INFO:tensorflow:Assets written to: model5/assets\n"
          ]
        },
        {
          "output_type": "stream",
          "name": "stderr",
          "text": [
            "INFO:tensorflow:Assets written to: model5/assets\n"
          ]
        },
        {
          "output_type": "stream",
          "name": "stdout",
          "text": [
            "Epoch 9/10\n",
            "1875/1875 [==============================] - 10s 6ms/step - loss: 0.0049 - root_mean_squared_error: 0.0703 - val_loss: 0.0036 - val_root_mean_squared_error: 0.0603\n"
          ]
        },
        {
          "output_type": "stream",
          "name": "stderr",
          "text": [
            "WARNING:absl:Found untraced functions such as lstm_cell_4_layer_call_and_return_conditional_losses, lstm_cell_4_layer_call_fn, lstm_cell_4_layer_call_fn, lstm_cell_4_layer_call_and_return_conditional_losses, lstm_cell_4_layer_call_and_return_conditional_losses while saving (showing 5 of 5). These functions will not be directly callable after loading.\n"
          ]
        },
        {
          "output_type": "stream",
          "name": "stdout",
          "text": [
            "INFO:tensorflow:Assets written to: model5/assets\n"
          ]
        },
        {
          "output_type": "stream",
          "name": "stderr",
          "text": [
            "INFO:tensorflow:Assets written to: model5/assets\n"
          ]
        },
        {
          "output_type": "stream",
          "name": "stdout",
          "text": [
            "Epoch 10/10\n",
            "1875/1875 [==============================] - 10s 5ms/step - loss: 0.0049 - root_mean_squared_error: 0.0699 - val_loss: 0.0037 - val_root_mean_squared_error: 0.0608\n"
          ]
        },
        {
          "output_type": "execute_result",
          "data": {
            "text/plain": [
              "<keras.callbacks.History at 0x7ff16425ddd0>"
            ]
          },
          "metadata": {},
          "execution_count": 81
        }
      ]
    },
    {
      "cell_type": "code",
      "metadata": {
        "id": "AzIN93E2xRjE"
      },
      "source": [
        "def plot_predictions2(model, X, y, start=0, end=100):\n",
        "  predictions = model.predict(X)\n",
        "  p_preds, temp_preds = predictions[:, 0], predictions[:, 1]\n",
        "  p_actuals, temp_actuals = y[:, 0], y[:, 1]\n",
        "  df = pd.DataFrame(data={'Temperature Predictions': temp_preds,\n",
        "                          'Temperature Actuals':temp_actuals,\n",
        "                          'Pressure Predictions': p_preds,\n",
        "                          'Pressure Actuals': p_actuals\n",
        "                          })\n",
        "  plt.plot(df['Temperature Predictions'][start:end])\n",
        "  plt.plot(df['Temperature Actuals'][start:end])\n",
        "  plt.plot(df['Pressure Predictions'][start:end])\n",
        "  plt.plot(df['Pressure Actuals'][start:end])\n",
        "  return df[start:end]"
      ],
      "execution_count": null,
      "outputs": []
    },
    {
      "cell_type": "code",
      "metadata": {
        "colab": {
          "base_uri": "https://localhost:8080/",
          "height": 668
        },
        "id": "QzXcewu_zy2k",
        "outputId": "0f520f7f-6aa3-4079-edf5-4c5ff4626258"
      },
      "source": [
        "plot_predictions2(model5, X3_test, y3_test)"
      ],
      "execution_count": null,
      "outputs": [
        {
          "output_type": "execute_result",
          "data": {
            "text/html": [
              "<div>\n",
              "<style scoped>\n",
              "    .dataframe tbody tr th:only-of-type {\n",
              "        vertical-align: middle;\n",
              "    }\n",
              "\n",
              "    .dataframe tbody tr th {\n",
              "        vertical-align: top;\n",
              "    }\n",
              "\n",
              "    .dataframe thead th {\n",
              "        text-align: right;\n",
              "    }\n",
              "</style>\n",
              "<table border=\"1\" class=\"dataframe\">\n",
              "  <thead>\n",
              "    <tr style=\"text-align: right;\">\n",
              "      <th></th>\n",
              "      <th>Temperature Predictions</th>\n",
              "      <th>Temperature Actuals</th>\n",
              "      <th>Pressure Predictions</th>\n",
              "      <th>Pressure Actuals</th>\n",
              "    </tr>\n",
              "  </thead>\n",
              "  <tbody>\n",
              "    <tr>\n",
              "      <th>0</th>\n",
              "      <td>0.394121</td>\n",
              "      <td>0.412451</td>\n",
              "      <td>-0.776145</td>\n",
              "      <td>-0.793439</td>\n",
              "    </tr>\n",
              "    <tr>\n",
              "      <th>1</th>\n",
              "      <td>0.347964</td>\n",
              "      <td>0.353683</td>\n",
              "      <td>-0.762666</td>\n",
              "      <td>-0.763123</td>\n",
              "    </tr>\n",
              "    <tr>\n",
              "      <th>2</th>\n",
              "      <td>0.307241</td>\n",
              "      <td>0.323123</td>\n",
              "      <td>-0.728525</td>\n",
              "      <td>-0.721893</td>\n",
              "    </tr>\n",
              "    <tr>\n",
              "      <th>3</th>\n",
              "      <td>0.316720</td>\n",
              "      <td>0.250251</td>\n",
              "      <td>-0.681431</td>\n",
              "      <td>-0.652773</td>\n",
              "    </tr>\n",
              "    <tr>\n",
              "      <th>4</th>\n",
              "      <td>0.281889</td>\n",
              "      <td>0.254952</td>\n",
              "      <td>-0.605863</td>\n",
              "      <td>-0.652773</td>\n",
              "    </tr>\n",
              "    <tr>\n",
              "      <th>...</th>\n",
              "      <td>...</td>\n",
              "      <td>...</td>\n",
              "      <td>...</td>\n",
              "      <td>...</td>\n",
              "    </tr>\n",
              "    <tr>\n",
              "      <th>95</th>\n",
              "      <td>0.681327</td>\n",
              "      <td>0.716869</td>\n",
              "      <td>-0.411423</td>\n",
              "      <td>-0.416310</td>\n",
              "    </tr>\n",
              "    <tr>\n",
              "      <th>96</th>\n",
              "      <td>0.640466</td>\n",
              "      <td>0.687485</td>\n",
              "      <td>-0.409070</td>\n",
              "      <td>-0.399333</td>\n",
              "    </tr>\n",
              "    <tr>\n",
              "      <th>97</th>\n",
              "      <td>0.621976</td>\n",
              "      <td>0.663978</td>\n",
              "      <td>-0.388561</td>\n",
              "      <td>-0.399333</td>\n",
              "    </tr>\n",
              "    <tr>\n",
              "      <th>98</th>\n",
              "      <td>0.623650</td>\n",
              "      <td>0.641646</td>\n",
              "      <td>-0.378126</td>\n",
              "      <td>-0.400546</td>\n",
              "    </tr>\n",
              "    <tr>\n",
              "      <th>99</th>\n",
              "      <td>0.642017</td>\n",
              "      <td>0.653400</td>\n",
              "      <td>-0.374558</td>\n",
              "      <td>-0.369018</td>\n",
              "    </tr>\n",
              "  </tbody>\n",
              "</table>\n",
              "<p>100 rows × 4 columns</p>\n",
              "</div>"
            ],
            "text/plain": [
              "    Temperature Predictions  ...  Pressure Actuals\n",
              "0                  0.394121  ...         -0.793439\n",
              "1                  0.347964  ...         -0.763123\n",
              "2                  0.307241  ...         -0.721893\n",
              "3                  0.316720  ...         -0.652773\n",
              "4                  0.281889  ...         -0.652773\n",
              "..                      ...  ...               ...\n",
              "95                 0.681327  ...         -0.416310\n",
              "96                 0.640466  ...         -0.399333\n",
              "97                 0.621976  ...         -0.399333\n",
              "98                 0.623650  ...         -0.400546\n",
              "99                 0.642017  ...         -0.369018\n",
              "\n",
              "[100 rows x 4 columns]"
            ]
          },
          "metadata": {},
          "execution_count": 89
        },
        {
          "output_type": "display_data",
          "data": {
            "image/png": "[encoded data removed]",
            "text/plain": [
              "<Figure size 432x288 with 1 Axes>"
            ]
          },
          "metadata": {
            "needs_background": "light"
          }
        }
      ]
    },
    {
      "cell_type": "code",
      "metadata": {
        "id": "hplJkJvI0fTf"
      },
      "source": [
        "def postprocess_temp(arr):\n",
        "  arr = (arr*temp_training_std3) + temp_training_mean3\n",
        "  return arr\n",
        "\n",
        "def postprocess_p(arr):\n",
        "  arr = (arr*p_training_std3) + p_training_mean3\n",
        "  return arr"
      ],
      "execution_count": null,
      "outputs": []
    },
    {
      "cell_type": "code",
      "metadata": {
        "id": "Jcmk5ZB21PDe"
      },
      "source": [
        "def plot_predictions2(model, X, y, start=0, end=100):\n",
        "  predictions = model.predict(X)\n",
        "  p_preds, temp_preds = postprocess_p(predictions[:, 0]), postprocess_temp(predictions[:, 1])\n",
        "  p_actuals, temp_actuals = postprocess_p(y[:, 0]), postprocess_temp(y[:, 1])\n",
        "  df = pd.DataFrame(data={'Temperature Predictions': temp_preds,\n",
        "                          'Temperature Actuals':temp_actuals,\n",
        "                          'Pressure Predictions': p_preds,\n",
        "                          'Pressure Actuals': p_actuals\n",
        "                          })\n",
        "  plt.plot(df['Temperature Predictions'][start:end])\n",
        "  plt.plot(df['Temperature Actuals'][start:end])\n",
        "  plt.plot(df['Pressure Predictions'][start:end])\n",
        "  plt.plot(df['Pressure Actuals'][start:end])\n",
        "  return df[start:end]"
      ],
      "execution_count": null,
      "outputs": []
    },
    {
      "cell_type": "code",
      "metadata": {
        "colab": {
          "base_uri": "https://localhost:8080/",
          "height": 668
        },
        "id": "WdYOQkIN1gAK",
        "outputId": "fd51ff85-2f41-4ca2-ed7c-583bc1a318f7"
      },
      "source": [
        "post_processed_df = plot_predictions2(model5, X3_test, y3_test)\n",
        "post_processed_df"
      ],
      "execution_count": null,
      "outputs": [
        {
          "output_type": "execute_result",
          "data": {
            "text/html": [
              "<div>\n",
              "<style scoped>\n",
              "    .dataframe tbody tr th:only-of-type {\n",
              "        vertical-align: middle;\n",
              "    }\n",
              "\n",
              "    .dataframe tbody tr th {\n",
              "        vertical-align: top;\n",
              "    }\n",
              "\n",
              "    .dataframe thead th {\n",
              "        text-align: right;\n",
              "    }\n",
              "</style>\n",
              "<table border=\"1\" class=\"dataframe\">\n",
              "  <thead>\n",
              "    <tr style=\"text-align: right;\">\n",
              "      <th></th>\n",
              "      <th>Temperature Predictions</th>\n",
              "      <th>Temperature Actuals</th>\n",
              "      <th>Pressure Predictions</th>\n",
              "      <th>Pressure Actuals</th>\n",
              "    </tr>\n",
              "  </thead>\n",
              "  <tbody>\n",
              "    <tr>\n",
              "      <th>0</th>\n",
              "      <td>12.774050</td>\n",
              "      <td>12.93</td>\n",
              "      <td>982.572632</td>\n",
              "      <td>982.43</td>\n",
              "    </tr>\n",
              "    <tr>\n",
              "      <th>1</th>\n",
              "      <td>12.381343</td>\n",
              "      <td>12.43</td>\n",
              "      <td>982.683777</td>\n",
              "      <td>982.68</td>\n",
              "    </tr>\n",
              "    <tr>\n",
              "      <th>2</th>\n",
              "      <td>12.034872</td>\n",
              "      <td>12.17</td>\n",
              "      <td>982.965332</td>\n",
              "      <td>983.02</td>\n",
              "    </tr>\n",
              "    <tr>\n",
              "      <th>3</th>\n",
              "      <td>12.115519</td>\n",
              "      <td>11.55</td>\n",
              "      <td>983.353699</td>\n",
              "      <td>983.59</td>\n",
              "    </tr>\n",
              "    <tr>\n",
              "      <th>4</th>\n",
              "      <td>11.819181</td>\n",
              "      <td>11.59</td>\n",
              "      <td>983.976868</td>\n",
              "      <td>983.59</td>\n",
              "    </tr>\n",
              "    <tr>\n",
              "      <th>...</th>\n",
              "      <td>...</td>\n",
              "      <td>...</td>\n",
              "      <td>...</td>\n",
              "      <td>...</td>\n",
              "    </tr>\n",
              "    <tr>\n",
              "      <th>95</th>\n",
              "      <td>15.217607</td>\n",
              "      <td>15.52</td>\n",
              "      <td>985.580322</td>\n",
              "      <td>985.54</td>\n",
              "    </tr>\n",
              "    <tr>\n",
              "      <th>96</th>\n",
              "      <td>14.869963</td>\n",
              "      <td>15.27</td>\n",
              "      <td>985.599731</td>\n",
              "      <td>985.68</td>\n",
              "    </tr>\n",
              "    <tr>\n",
              "      <th>97</th>\n",
              "      <td>14.712648</td>\n",
              "      <td>15.07</td>\n",
              "      <td>985.768860</td>\n",
              "      <td>985.68</td>\n",
              "    </tr>\n",
              "    <tr>\n",
              "      <th>98</th>\n",
              "      <td>14.726889</td>\n",
              "      <td>14.88</td>\n",
              "      <td>985.854919</td>\n",
              "      <td>985.67</td>\n",
              "    </tr>\n",
              "    <tr>\n",
              "      <th>99</th>\n",
              "      <td>14.883152</td>\n",
              "      <td>14.98</td>\n",
              "      <td>985.884338</td>\n",
              "      <td>985.93</td>\n",
              "    </tr>\n",
              "  </tbody>\n",
              "</table>\n",
              "<p>100 rows × 4 columns</p>\n",
              "</div>"
            ],
            "text/plain": [
              "    Temperature Predictions  ...  Pressure Actuals\n",
              "0                 12.774050  ...            982.43\n",
              "1                 12.381343  ...            982.68\n",
              "2                 12.034872  ...            983.02\n",
              "3                 12.115519  ...            983.59\n",
              "4                 11.819181  ...            983.59\n",
              "..                      ...  ...               ...\n",
              "95                15.217607  ...            985.54\n",
              "96                14.869963  ...            985.68\n",
              "97                14.712648  ...            985.68\n",
              "98                14.726889  ...            985.67\n",
              "99                14.883152  ...            985.93\n",
              "\n",
              "[100 rows x 4 columns]"
            ]
          },
          "metadata": {},
          "execution_count": 92
        },
        {
          "output_type": "display_data",
          "data": {
            "image/png": "[encoded data removed]",
            "text/plain": [
              "<Figure size 432x288 with 1 Axes>"
            ]
          },
          "metadata": {
            "needs_background": "light"
          }
        }
      ]
    },
    {
      "cell_type": "code",
      "metadata": {
        "colab": {
          "base_uri": "https://localhost:8080/",
          "height": 282
        },
        "id": "9m_fSfOq1ohj",
        "outputId": "7e6d97f7-49fd-4996-8c18-54cffff1d65d"
      },
      "source": [
        "start, end = 0, 100\n",
        "plt.plot(post_processed_df['Temperature Predictions'][start:end])\n",
        "plt.plot(post_processed_df['Temperature Actuals'][start:end])"
      ],
      "execution_count": null,
      "outputs": [
        {
          "output_type": "execute_result",
          "data": {
            "text/plain": [
              "[<matplotlib.lines.Line2D at 0x7ff15f7a9090>]"
            ]
          },
          "metadata": {},
          "execution_count": 93
        },
        {
          "output_type": "display_data",
          "data": {
            "image/png": "[encoded data removed]",
            "text/plain": [
              "<Figure size 432x288 with 1 Axes>"
            ]
          },
          "metadata": {
            "needs_background": "light"
          }
        }
      ]
    },
    {
      "cell_type": "code",
      "metadata": {
        "colab": {
          "base_uri": "https://localhost:8080/",
          "height": 282
        },
        "id": "ORffwf-e125j",
        "outputId": "91467aa7-ff80-498a-b713-98e3762a988d"
      },
      "source": [
        "plt.plot(post_processed_df['Pressure Predictions'][start:end])\n",
        "plt.plot(post_processed_df['Pressure Actuals'][start:end])"
      ],
      "execution_count": null,
      "outputs": [
        {
          "output_type": "execute_result",
          "data": {
            "text/plain": [
              "[<matplotlib.lines.Line2D at 0x7ff1619c2d50>]"
            ]
          },
          "metadata": {},
          "execution_count": 94
        },
        {
          "output_type": "display_data",
          "data": {
            "image/png": "[encoded data removed]",
            "text/plain": [
              "<Figure size 432x288 with 1 Axes>"
            ]
          },
          "metadata": {
            "needs_background": "light"
          }
        }
      ]
    },
    {
      "cell_type": "code",
      "metadata": {
        "colab": {
          "base_uri": "https://localhost:8080/"
        },
        "id": "GmwCnsUj2B8A",
        "outputId": "475af39f-a4f9-40cd-bcfe-ce080d8539f1"
      },
      "source": [
        "model6 = Sequential()\n",
        "model6.add(InputLayer((7, 6)))\n",
        "model6.add(LSTM(32, return_sequences=True))\n",
        "model6.add(LSTM(64))\n",
        "model6.add(Dense(8, 'relu'))\n",
        "model6.add(Dense(2, 'linear'))\n",
        "\n",
        "model6.summary()"
      ],
      "execution_count": null,
      "outputs": [
        {
          "output_type": "stream",
          "name": "stdout",
          "text": [
            "Model: \"sequential_6\"\n",
            "_________________________________________________________________\n",
            "Layer (type)                 Output Shape              Param #   \n",
            "=================================================================\n",
            "lstm_4 (LSTM)                (None, 7, 32)             4992      \n",
            "_________________________________________________________________\n",
            "lstm_5 (LSTM)                (None, 64)                24832     \n",
            "_________________________________________________________________\n",
            "dense_12 (Dense)             (None, 8)                 520       \n",
            "_________________________________________________________________\n",
            "dense_13 (Dense)             (None, 2)                 18        \n",
            "=================================================================\n",
            "Total params: 30,362\n",
            "Trainable params: 30,362\n",
            "Non-trainable params: 0\n",
            "_________________________________________________________________\n"
          ]
        }
      ]
    },
    {
      "cell_type": "code",
      "metadata": {
        "id": "cWepnsFE2Tnl"
      },
      "source": [
        "cp6 = ModelCheckpoint('model6/', save_best_only=True)\n",
        "model6.compile(loss=MeanSquaredError(), optimizer=Adam(learning_rate=0.0001), metrics=[RootMeanSquaredError()])"
      ],
      "execution_count": null,
      "outputs": []
    },
    {
      "cell_type": "code",
      "metadata": {
        "colab": {
          "base_uri": "https://localhost:8080/",
          "height": 367
        },
        "id": "7XnlR3om2aiA",
        "outputId": "404ce81e-7255-4c09-9e43-12057dc4d980"
      },
      "source": [
        "model6.fit(X3_train, y3_train, validation_data=(X3_val, y3_val), epochs=10, callbacks=[cp6])"
      ],
      "execution_count": null,
      "outputs": [
        {
          "output_type": "stream",
          "name": "stdout",
          "text": [
            "Epoch 1/10\n",
            " 729/1875 [==========>...................] - ETA: 9s - loss: 0.2839 - root_mean_squared_error: 0.5328"
          ]
        },
        {
          "output_type": "error",
          "ename": "KeyboardInterrupt",
          "evalue": "ignored",
          "traceback": [
            "\u001b[0;31m---------------------------------------------------------------------------\u001b[0m",
            "\u001b[0;31mKeyboardInterrupt\u001b[0m                         Traceback (most recent call last)",
            "\u001b[0;32m<ipython-input-98-011f732ffe4c>\u001b[0m in \u001b[0;36m<module>\u001b[0;34m()\u001b[0m\n\u001b[0;32m----> 1\u001b[0;31m \u001b[0mmodel6\u001b[0m\u001b[0;34m.\u001b[0m\u001b[0mfit\u001b[0m\u001b[0;34m(\u001b[0m\u001b[0mX3_train\u001b[0m\u001b[0;34m,\u001b[0m \u001b[0my3_train\u001b[0m\u001b[0;34m,\u001b[0m \u001b[0mvalidation_data\u001b[0m\u001b[0;34m=\u001b[0m\u001b[0;34m(\u001b[0m\u001b[0mX3_val\u001b[0m\u001b[0;34m,\u001b[0m \u001b[0my3_val\u001b[0m\u001b[0;34m)\u001b[0m\u001b[0;34m,\u001b[0m \u001b[0mepochs\u001b[0m\u001b[0;34m=\u001b[0m\u001b[0;36m10\u001b[0m\u001b[0;34m,\u001b[0m \u001b[0mcallbacks\u001b[0m\u001b[0;34m=\u001b[0m\u001b[0;34m[\u001b[0m\u001b[0mcp6\u001b[0m\u001b[0;34m]\u001b[0m\u001b[0;34m)\u001b[0m\u001b[0;34m\u001b[0m\u001b[0;34m\u001b[0m\u001b[0m\n\u001b[0m",
            "\u001b[0;32m/usr/local/lib/python3.7/dist-packages/keras/engine/training.py\u001b[0m in \u001b[0;36mfit\u001b[0;34m(self, x, y, batch_size, epochs, verbose, callbacks, validation_split, validation_data, shuffle, class_weight, sample_weight, initial_epoch, steps_per_epoch, validation_steps, validation_batch_size, validation_freq, max_queue_size, workers, use_multiprocessing)\u001b[0m\n\u001b[1;32m   1187\u001b[0m               \u001b[0mlogs\u001b[0m \u001b[0;34m=\u001b[0m \u001b[0mtmp_logs\u001b[0m  \u001b[0;31m# No error, now safe to assign to logs.\u001b[0m\u001b[0;34m\u001b[0m\u001b[0;34m\u001b[0m\u001b[0m\n\u001b[1;32m   1188\u001b[0m               \u001b[0mend_step\u001b[0m \u001b[0;34m=\u001b[0m \u001b[0mstep\u001b[0m \u001b[0;34m+\u001b[0m \u001b[0mdata_handler\u001b[0m\u001b[0;34m.\u001b[0m\u001b[0mstep_increment\u001b[0m\u001b[0;34m\u001b[0m\u001b[0;34m\u001b[0m\u001b[0m\n\u001b[0;32m-> 1189\u001b[0;31m               \u001b[0mcallbacks\u001b[0m\u001b[0;34m.\u001b[0m\u001b[0mon_train_batch_end\u001b[0m\u001b[0;34m(\u001b[0m\u001b[0mend_step\u001b[0m\u001b[0;34m,\u001b[0m \u001b[0mlogs\u001b[0m\u001b[0;34m)\u001b[0m\u001b[0;34m\u001b[0m\u001b[0;34m\u001b[0m\u001b[0m\n\u001b[0m\u001b[1;32m   1190\u001b[0m               \u001b[0;32mif\u001b[0m \u001b[0mself\u001b[0m\u001b[0;34m.\u001b[0m\u001b[0mstop_training\u001b[0m\u001b[0;34m:\u001b[0m\u001b[0;34m\u001b[0m\u001b[0;34m\u001b[0m\u001b[0m\n\u001b[1;32m   1191\u001b[0m                 \u001b[0;32mbreak\u001b[0m\u001b[0;34m\u001b[0m\u001b[0;34m\u001b[0m\u001b[0m\n",
            "\u001b[0;32m/usr/local/lib/python3.7/dist-packages/keras/callbacks.py\u001b[0m in \u001b[0;36mon_train_batch_end\u001b[0;34m(self, batch, logs)\u001b[0m\n\u001b[1;32m    433\u001b[0m     \"\"\"\n\u001b[1;32m    434\u001b[0m     \u001b[0;32mif\u001b[0m \u001b[0mself\u001b[0m\u001b[0;34m.\u001b[0m\u001b[0m_should_call_train_batch_hooks\u001b[0m\u001b[0;34m:\u001b[0m\u001b[0;34m\u001b[0m\u001b[0;34m\u001b[0m\u001b[0m\n\u001b[0;32m--> 435\u001b[0;31m       \u001b[0mself\u001b[0m\u001b[0;34m.\u001b[0m\u001b[0m_call_batch_hook\u001b[0m\u001b[0;34m(\u001b[0m\u001b[0mModeKeys\u001b[0m\u001b[0;34m.\u001b[0m\u001b[0mTRAIN\u001b[0m\u001b[0;34m,\u001b[0m \u001b[0;34m'end'\u001b[0m\u001b[0;34m,\u001b[0m \u001b[0mbatch\u001b[0m\u001b[0;34m,\u001b[0m \u001b[0mlogs\u001b[0m\u001b[0;34m=\u001b[0m\u001b[0mlogs\u001b[0m\u001b[0;34m)\u001b[0m\u001b[0;34m\u001b[0m\u001b[0;34m\u001b[0m\u001b[0m\n\u001b[0m\u001b[1;32m    436\u001b[0m \u001b[0;34m\u001b[0m\u001b[0m\n\u001b[1;32m    437\u001b[0m   \u001b[0;32mdef\u001b[0m \u001b[0mon_test_batch_begin\u001b[0m\u001b[0;34m(\u001b[0m\u001b[0mself\u001b[0m\u001b[0;34m,\u001b[0m \u001b[0mbatch\u001b[0m\u001b[0;34m,\u001b[0m \u001b[0mlogs\u001b[0m\u001b[0;34m=\u001b[0m\u001b[0;32mNone\u001b[0m\u001b[0;34m)\u001b[0m\u001b[0;34m:\u001b[0m\u001b[0;34m\u001b[0m\u001b[0;34m\u001b[0m\u001b[0m\n",
            "\u001b[0;32m/usr/local/lib/python3.7/dist-packages/keras/callbacks.py\u001b[0m in \u001b[0;36m_call_batch_hook\u001b[0;34m(self, mode, hook, batch, logs)\u001b[0m\n\u001b[1;32m    293\u001b[0m       \u001b[0mself\u001b[0m\u001b[0;34m.\u001b[0m\u001b[0m_call_batch_begin_hook\u001b[0m\u001b[0;34m(\u001b[0m\u001b[0mmode\u001b[0m\u001b[0;34m,\u001b[0m \u001b[0mbatch\u001b[0m\u001b[0;34m,\u001b[0m \u001b[0mlogs\u001b[0m\u001b[0;34m)\u001b[0m\u001b[0;34m\u001b[0m\u001b[0;34m\u001b[0m\u001b[0m\n\u001b[1;32m    294\u001b[0m     \u001b[0;32melif\u001b[0m \u001b[0mhook\u001b[0m \u001b[0;34m==\u001b[0m \u001b[0;34m'end'\u001b[0m\u001b[0;34m:\u001b[0m\u001b[0;34m\u001b[0m\u001b[0;34m\u001b[0m\u001b[0m\n\u001b[0;32m--> 295\u001b[0;31m       \u001b[0mself\u001b[0m\u001b[0;34m.\u001b[0m\u001b[0m_call_batch_end_hook\u001b[0m\u001b[0;34m(\u001b[0m\u001b[0mmode\u001b[0m\u001b[0;34m,\u001b[0m \u001b[0mbatch\u001b[0m\u001b[0;34m,\u001b[0m \u001b[0mlogs\u001b[0m\u001b[0;34m)\u001b[0m\u001b[0;34m\u001b[0m\u001b[0;34m\u001b[0m\u001b[0m\n\u001b[0m\u001b[1;32m    296\u001b[0m     \u001b[0;32melse\u001b[0m\u001b[0;34m:\u001b[0m\u001b[0;34m\u001b[0m\u001b[0;34m\u001b[0m\u001b[0m\n\u001b[1;32m    297\u001b[0m       \u001b[0;32mraise\u001b[0m \u001b[0mValueError\u001b[0m\u001b[0;34m(\u001b[0m\u001b[0;34m'Unrecognized hook: {}'\u001b[0m\u001b[0;34m.\u001b[0m\u001b[0mformat\u001b[0m\u001b[0;34m(\u001b[0m\u001b[0mhook\u001b[0m\u001b[0;34m)\u001b[0m\u001b[0;34m)\u001b[0m\u001b[0;34m\u001b[0m\u001b[0;34m\u001b[0m\u001b[0m\n",
            "\u001b[0;32m/usr/local/lib/python3.7/dist-packages/keras/callbacks.py\u001b[0m in \u001b[0;36m_call_batch_end_hook\u001b[0;34m(self, mode, batch, logs)\u001b[0m\n\u001b[1;32m    313\u001b[0m       \u001b[0mself\u001b[0m\u001b[0;34m.\u001b[0m\u001b[0m_batch_times\u001b[0m\u001b[0;34m.\u001b[0m\u001b[0mappend\u001b[0m\u001b[0;34m(\u001b[0m\u001b[0mbatch_time\u001b[0m\u001b[0;34m)\u001b[0m\u001b[0;34m\u001b[0m\u001b[0;34m\u001b[0m\u001b[0m\n\u001b[1;32m    314\u001b[0m \u001b[0;34m\u001b[0m\u001b[0m\n\u001b[0;32m--> 315\u001b[0;31m     \u001b[0mself\u001b[0m\u001b[0;34m.\u001b[0m\u001b[0m_call_batch_hook_helper\u001b[0m\u001b[0;34m(\u001b[0m\u001b[0mhook_name\u001b[0m\u001b[0;34m,\u001b[0m \u001b[0mbatch\u001b[0m\u001b[0;34m,\u001b[0m \u001b[0mlogs\u001b[0m\u001b[0;34m)\u001b[0m\u001b[0;34m\u001b[0m\u001b[0;34m\u001b[0m\u001b[0m\n\u001b[0m\u001b[1;32m    316\u001b[0m \u001b[0;34m\u001b[0m\u001b[0m\n\u001b[1;32m    317\u001b[0m     \u001b[0;32mif\u001b[0m \u001b[0mlen\u001b[0m\u001b[0;34m(\u001b[0m\u001b[0mself\u001b[0m\u001b[0;34m.\u001b[0m\u001b[0m_batch_times\u001b[0m\u001b[0;34m)\u001b[0m \u001b[0;34m>=\u001b[0m \u001b[0mself\u001b[0m\u001b[0;34m.\u001b[0m\u001b[0m_num_batches_for_timing_check\u001b[0m\u001b[0;34m:\u001b[0m\u001b[0;34m\u001b[0m\u001b[0;34m\u001b[0m\u001b[0m\n",
            "\u001b[0;32m/usr/local/lib/python3.7/dist-packages/keras/callbacks.py\u001b[0m in \u001b[0;36m_call_batch_hook_helper\u001b[0;34m(self, hook_name, batch, logs)\u001b[0m\n\u001b[1;32m    351\u001b[0m     \u001b[0;32mfor\u001b[0m \u001b[0mcallback\u001b[0m \u001b[0;32min\u001b[0m \u001b[0mself\u001b[0m\u001b[0;34m.\u001b[0m\u001b[0mcallbacks\u001b[0m\u001b[0;34m:\u001b[0m\u001b[0;34m\u001b[0m\u001b[0;34m\u001b[0m\u001b[0m\n\u001b[1;32m    352\u001b[0m       \u001b[0mhook\u001b[0m \u001b[0;34m=\u001b[0m \u001b[0mgetattr\u001b[0m\u001b[0;34m(\u001b[0m\u001b[0mcallback\u001b[0m\u001b[0;34m,\u001b[0m \u001b[0mhook_name\u001b[0m\u001b[0;34m)\u001b[0m\u001b[0;34m\u001b[0m\u001b[0;34m\u001b[0m\u001b[0m\n\u001b[0;32m--> 353\u001b[0;31m       \u001b[0mhook\u001b[0m\u001b[0;34m(\u001b[0m\u001b[0mbatch\u001b[0m\u001b[0;34m,\u001b[0m \u001b[0mlogs\u001b[0m\u001b[0;34m)\u001b[0m\u001b[0;34m\u001b[0m\u001b[0;34m\u001b[0m\u001b[0m\n\u001b[0m\u001b[1;32m    354\u001b[0m \u001b[0;34m\u001b[0m\u001b[0m\n\u001b[1;32m    355\u001b[0m     \u001b[0;32mif\u001b[0m \u001b[0mself\u001b[0m\u001b[0;34m.\u001b[0m\u001b[0m_check_timing\u001b[0m\u001b[0;34m:\u001b[0m\u001b[0;34m\u001b[0m\u001b[0;34m\u001b[0m\u001b[0m\n",
            "\u001b[0;32m/usr/local/lib/python3.7/dist-packages/keras/callbacks.py\u001b[0m in \u001b[0;36mon_train_batch_end\u001b[0;34m(self, batch, logs)\u001b[0m\n\u001b[1;32m   1026\u001b[0m \u001b[0;34m\u001b[0m\u001b[0m\n\u001b[1;32m   1027\u001b[0m   \u001b[0;32mdef\u001b[0m \u001b[0mon_train_batch_end\u001b[0m\u001b[0;34m(\u001b[0m\u001b[0mself\u001b[0m\u001b[0;34m,\u001b[0m \u001b[0mbatch\u001b[0m\u001b[0;34m,\u001b[0m \u001b[0mlogs\u001b[0m\u001b[0;34m=\u001b[0m\u001b[0;32mNone\u001b[0m\u001b[0;34m)\u001b[0m\u001b[0;34m:\u001b[0m\u001b[0;34m\u001b[0m\u001b[0;34m\u001b[0m\u001b[0m\n\u001b[0;32m-> 1028\u001b[0;31m     \u001b[0mself\u001b[0m\u001b[0;34m.\u001b[0m\u001b[0m_batch_update_progbar\u001b[0m\u001b[0;34m(\u001b[0m\u001b[0mbatch\u001b[0m\u001b[0;34m,\u001b[0m \u001b[0mlogs\u001b[0m\u001b[0;34m)\u001b[0m\u001b[0;34m\u001b[0m\u001b[0;34m\u001b[0m\u001b[0m\n\u001b[0m\u001b[1;32m   1029\u001b[0m \u001b[0;34m\u001b[0m\u001b[0m\n\u001b[1;32m   1030\u001b[0m   \u001b[0;32mdef\u001b[0m \u001b[0mon_test_batch_end\u001b[0m\u001b[0;34m(\u001b[0m\u001b[0mself\u001b[0m\u001b[0;34m,\u001b[0m \u001b[0mbatch\u001b[0m\u001b[0;34m,\u001b[0m \u001b[0mlogs\u001b[0m\u001b[0;34m=\u001b[0m\u001b[0;32mNone\u001b[0m\u001b[0;34m)\u001b[0m\u001b[0;34m:\u001b[0m\u001b[0;34m\u001b[0m\u001b[0;34m\u001b[0m\u001b[0m\n",
            "\u001b[0;32m/usr/local/lib/python3.7/dist-packages/keras/callbacks.py\u001b[0m in \u001b[0;36m_batch_update_progbar\u001b[0;34m(self, batch, logs)\u001b[0m\n\u001b[1;32m   1099\u001b[0m       \u001b[0;31m# Only block async when verbose = 1.\u001b[0m\u001b[0;34m\u001b[0m\u001b[0;34m\u001b[0m\u001b[0;34m\u001b[0m\u001b[0m\n\u001b[1;32m   1100\u001b[0m       \u001b[0mlogs\u001b[0m \u001b[0;34m=\u001b[0m \u001b[0mtf_utils\u001b[0m\u001b[0;34m.\u001b[0m\u001b[0msync_to_numpy_or_python_type\u001b[0m\u001b[0;34m(\u001b[0m\u001b[0mlogs\u001b[0m\u001b[0;34m)\u001b[0m\u001b[0;34m\u001b[0m\u001b[0;34m\u001b[0m\u001b[0m\n\u001b[0;32m-> 1101\u001b[0;31m       \u001b[0mself\u001b[0m\u001b[0;34m.\u001b[0m\u001b[0mprogbar\u001b[0m\u001b[0;34m.\u001b[0m\u001b[0mupdate\u001b[0m\u001b[0;34m(\u001b[0m\u001b[0mself\u001b[0m\u001b[0;34m.\u001b[0m\u001b[0mseen\u001b[0m\u001b[0;34m,\u001b[0m \u001b[0mlist\u001b[0m\u001b[0;34m(\u001b[0m\u001b[0mlogs\u001b[0m\u001b[0;34m.\u001b[0m\u001b[0mitems\u001b[0m\u001b[0;34m(\u001b[0m\u001b[0;34m)\u001b[0m\u001b[0;34m)\u001b[0m\u001b[0;34m,\u001b[0m \u001b[0mfinalize\u001b[0m\u001b[0;34m=\u001b[0m\u001b[0;32mFalse\u001b[0m\u001b[0;34m)\u001b[0m\u001b[0;34m\u001b[0m\u001b[0;34m\u001b[0m\u001b[0m\n\u001b[0m\u001b[1;32m   1102\u001b[0m \u001b[0;34m\u001b[0m\u001b[0m\n\u001b[1;32m   1103\u001b[0m   \u001b[0;32mdef\u001b[0m \u001b[0m_finalize_progbar\u001b[0m\u001b[0;34m(\u001b[0m\u001b[0mself\u001b[0m\u001b[0;34m,\u001b[0m \u001b[0mlogs\u001b[0m\u001b[0;34m,\u001b[0m \u001b[0mcounter\u001b[0m\u001b[0;34m)\u001b[0m\u001b[0;34m:\u001b[0m\u001b[0;34m\u001b[0m\u001b[0;34m\u001b[0m\u001b[0m\n",
            "\u001b[0;32m/usr/local/lib/python3.7/dist-packages/keras/utils/generic_utils.py\u001b[0m in \u001b[0;36mupdate\u001b[0;34m(self, current, values, finalize)\u001b[0m\n\u001b[1;32m    971\u001b[0m \u001b[0;34m\u001b[0m\u001b[0m\n\u001b[1;32m    972\u001b[0m       \u001b[0msys\u001b[0m\u001b[0;34m.\u001b[0m\u001b[0mstdout\u001b[0m\u001b[0;34m.\u001b[0m\u001b[0mwrite\u001b[0m\u001b[0;34m(\u001b[0m\u001b[0minfo\u001b[0m\u001b[0;34m)\u001b[0m\u001b[0;34m\u001b[0m\u001b[0;34m\u001b[0m\u001b[0m\n\u001b[0;32m--> 973\u001b[0;31m       \u001b[0msys\u001b[0m\u001b[0;34m.\u001b[0m\u001b[0mstdout\u001b[0m\u001b[0;34m.\u001b[0m\u001b[0mflush\u001b[0m\u001b[0;34m(\u001b[0m\u001b[0;34m)\u001b[0m\u001b[0;34m\u001b[0m\u001b[0;34m\u001b[0m\u001b[0m\n\u001b[0m\u001b[1;32m    974\u001b[0m \u001b[0;34m\u001b[0m\u001b[0m\n\u001b[1;32m    975\u001b[0m     \u001b[0;32melif\u001b[0m \u001b[0mself\u001b[0m\u001b[0;34m.\u001b[0m\u001b[0mverbose\u001b[0m \u001b[0;34m==\u001b[0m \u001b[0;36m2\u001b[0m\u001b[0;34m:\u001b[0m\u001b[0;34m\u001b[0m\u001b[0;34m\u001b[0m\u001b[0m\n",
            "\u001b[0;32m/usr/local/lib/python3.7/dist-packages/ipykernel/iostream.py\u001b[0m in \u001b[0;36mflush\u001b[0;34m(self)\u001b[0m\n\u001b[1;32m    339\u001b[0m         \u001b[0;32mif\u001b[0m \u001b[0mself\u001b[0m\u001b[0;34m.\u001b[0m\u001b[0mpub_thread\u001b[0m\u001b[0;34m.\u001b[0m\u001b[0mthread\u001b[0m\u001b[0;34m.\u001b[0m\u001b[0mis_alive\u001b[0m\u001b[0;34m(\u001b[0m\u001b[0;34m)\u001b[0m\u001b[0;34m:\u001b[0m\u001b[0;34m\u001b[0m\u001b[0;34m\u001b[0m\u001b[0m\n\u001b[1;32m    340\u001b[0m             \u001b[0;31m# request flush on the background thread\u001b[0m\u001b[0;34m\u001b[0m\u001b[0;34m\u001b[0m\u001b[0;34m\u001b[0m\u001b[0m\n\u001b[0;32m--> 341\u001b[0;31m             \u001b[0mself\u001b[0m\u001b[0;34m.\u001b[0m\u001b[0mpub_thread\u001b[0m\u001b[0;34m.\u001b[0m\u001b[0mschedule\u001b[0m\u001b[0;34m(\u001b[0m\u001b[0mself\u001b[0m\u001b[0;34m.\u001b[0m\u001b[0m_flush\u001b[0m\u001b[0;34m)\u001b[0m\u001b[0;34m\u001b[0m\u001b[0;34m\u001b[0m\u001b[0m\n\u001b[0m\u001b[1;32m    342\u001b[0m             \u001b[0;31m# wait for flush to actually get through, if we can.\u001b[0m\u001b[0;34m\u001b[0m\u001b[0;34m\u001b[0m\u001b[0;34m\u001b[0m\u001b[0m\n\u001b[1;32m    343\u001b[0m             \u001b[0;31m# waiting across threads during import can cause deadlocks\u001b[0m\u001b[0;34m\u001b[0m\u001b[0;34m\u001b[0m\u001b[0;34m\u001b[0m\u001b[0m\n",
            "\u001b[0;32m/usr/local/lib/python3.7/dist-packages/ipykernel/iostream.py\u001b[0m in \u001b[0;36mschedule\u001b[0;34m(self, f)\u001b[0m\n\u001b[1;32m    201\u001b[0m             \u001b[0mself\u001b[0m\u001b[0;34m.\u001b[0m\u001b[0m_events\u001b[0m\u001b[0;34m.\u001b[0m\u001b[0mappend\u001b[0m\u001b[0;34m(\u001b[0m\u001b[0mf\u001b[0m\u001b[0;34m)\u001b[0m\u001b[0;34m\u001b[0m\u001b[0;34m\u001b[0m\u001b[0m\n\u001b[1;32m    202\u001b[0m             \u001b[0;31m# wake event thread (message content is ignored)\u001b[0m\u001b[0;34m\u001b[0m\u001b[0;34m\u001b[0m\u001b[0;34m\u001b[0m\u001b[0m\n\u001b[0;32m--> 203\u001b[0;31m             \u001b[0mself\u001b[0m\u001b[0;34m.\u001b[0m\u001b[0m_event_pipe\u001b[0m\u001b[0;34m.\u001b[0m\u001b[0msend\u001b[0m\u001b[0;34m(\u001b[0m\u001b[0;34mb''\u001b[0m\u001b[0;34m)\u001b[0m\u001b[0;34m\u001b[0m\u001b[0;34m\u001b[0m\u001b[0m\n\u001b[0m\u001b[1;32m    204\u001b[0m         \u001b[0;32melse\u001b[0m\u001b[0;34m:\u001b[0m\u001b[0;34m\u001b[0m\u001b[0;34m\u001b[0m\u001b[0m\n\u001b[1;32m    205\u001b[0m             \u001b[0mf\u001b[0m\u001b[0;34m(\u001b[0m\u001b[0;34m)\u001b[0m\u001b[0;34m\u001b[0m\u001b[0;34m\u001b[0m\u001b[0m\n",
            "\u001b[0;32m/usr/local/lib/python3.7/dist-packages/zmq/sugar/socket.py\u001b[0m in \u001b[0;36msend\u001b[0;34m(self, data, flags, copy, track, routing_id, group)\u001b[0m\n\u001b[1;32m    545\u001b[0m                 )\n\u001b[1;32m    546\u001b[0m             \u001b[0mdata\u001b[0m\u001b[0;34m.\u001b[0m\u001b[0mgroup\u001b[0m \u001b[0;34m=\u001b[0m \u001b[0mgroup\u001b[0m\u001b[0;34m\u001b[0m\u001b[0;34m\u001b[0m\u001b[0m\n\u001b[0;32m--> 547\u001b[0;31m         \u001b[0;32mreturn\u001b[0m \u001b[0msuper\u001b[0m\u001b[0;34m(\u001b[0m\u001b[0mSocket\u001b[0m\u001b[0;34m,\u001b[0m \u001b[0mself\u001b[0m\u001b[0;34m)\u001b[0m\u001b[0;34m.\u001b[0m\u001b[0msend\u001b[0m\u001b[0;34m(\u001b[0m\u001b[0mdata\u001b[0m\u001b[0;34m,\u001b[0m \u001b[0mflags\u001b[0m\u001b[0;34m=\u001b[0m\u001b[0mflags\u001b[0m\u001b[0;34m,\u001b[0m \u001b[0mcopy\u001b[0m\u001b[0;34m=\u001b[0m\u001b[0mcopy\u001b[0m\u001b[0;34m,\u001b[0m \u001b[0mtrack\u001b[0m\u001b[0;34m=\u001b[0m\u001b[0mtrack\u001b[0m\u001b[0;34m)\u001b[0m\u001b[0;34m\u001b[0m\u001b[0;34m\u001b[0m\u001b[0m\n\u001b[0m\u001b[1;32m    548\u001b[0m \u001b[0;34m\u001b[0m\u001b[0m\n\u001b[1;32m    549\u001b[0m     \u001b[0;32mdef\u001b[0m \u001b[0msend_multipart\u001b[0m\u001b[0;34m(\u001b[0m\u001b[0mself\u001b[0m\u001b[0;34m,\u001b[0m \u001b[0mmsg_parts\u001b[0m\u001b[0;34m,\u001b[0m \u001b[0mflags\u001b[0m\u001b[0;34m=\u001b[0m\u001b[0;36m0\u001b[0m\u001b[0;34m,\u001b[0m \u001b[0mcopy\u001b[0m\u001b[0;34m=\u001b[0m\u001b[0;32mTrue\u001b[0m\u001b[0;34m,\u001b[0m \u001b[0mtrack\u001b[0m\u001b[0;34m=\u001b[0m\u001b[0;32mFalse\u001b[0m\u001b[0;34m,\u001b[0m \u001b[0;34m**\u001b[0m\u001b[0mkwargs\u001b[0m\u001b[0;34m)\u001b[0m\u001b[0;34m:\u001b[0m\u001b[0;34m\u001b[0m\u001b[0;34m\u001b[0m\u001b[0m\n",
            "\u001b[0;32mzmq/backend/cython/socket.pyx\u001b[0m in \u001b[0;36mzmq.backend.cython.socket.Socket.send\u001b[0;34m()\u001b[0m\n",
            "\u001b[0;32mzmq/backend/cython/socket.pyx\u001b[0m in \u001b[0;36mzmq.backend.cython.socket.Socket.send\u001b[0;34m()\u001b[0m\n",
            "\u001b[0;32mzmq/backend/cython/socket.pyx\u001b[0m in \u001b[0;36mzmq.backend.cython.socket._send_copy\u001b[0;34m()\u001b[0m\n",
            "\u001b[0;32m/usr/local/lib/python3.7/dist-packages/zmq/backend/cython/checkrc.pxd\u001b[0m in \u001b[0;36mzmq.backend.cython.checkrc._check_rc\u001b[0;34m()\u001b[0m\n",
            "\u001b[0;31mKeyboardInterrupt\u001b[0m: "
          ]
        }
      ]
    },
    {
      "cell_type": "code",
      "metadata": {
        "colab": {
          "base_uri": "https://localhost:8080/"
        },
        "id": "Fy6pKacl2bOW",
        "outputId": "fb3aad92-2323-421e-bc68-956bc39107f3"
      },
      "source": [
        "model7 = Sequential()\n",
        "model7.add(InputLayer((7, 6)))\n",
        "model7.add(Conv1D(64, kernel_size=2, activation='relu'))\n",
        "model7.add(Flatten())\n",
        "model7.add(Dense(8, 'relu'))\n",
        "model7.add(Dense(2, 'linear'))\n",
        "model7.summary()\n",
        "\n",
        "cp7 = ModelCheckpoint('model6/', save_best_only=True)\n",
        "model7.compile(loss=MeanSquaredError(), optimizer=Adam(learning_rate=0.0001), metrics=[RootMeanSquaredError()])"
      ],
      "execution_count": null,
      "outputs": [
        {
          "output_type": "stream",
          "name": "stdout",
          "text": [
            "Model: \"sequential_8\"\n",
            "_________________________________________________________________\n",
            "Layer (type)                 Output Shape              Param #   \n",
            "=================================================================\n",
            "conv1d_2 (Conv1D)            (None, 6, 64)             832       \n",
            "_________________________________________________________________\n",
            "flatten_2 (Flatten)          (None, 384)               0         \n",
            "_________________________________________________________________\n",
            "dense_16 (Dense)             (None, 8)                 3080      \n",
            "_________________________________________________________________\n",
            "dense_17 (Dense)             (None, 2)                 18        \n",
            "=================================================================\n",
            "Total params: 3,930\n",
            "Trainable params: 3,930\n",
            "Non-trainable params: 0\n",
            "_________________________________________________________________\n"
          ]
        }
      ]
    },
    {
      "cell_type": "code",
      "metadata": {
        "colab": {
          "base_uri": "https://localhost:8080/"
        },
        "id": "xMRDXuFY27JA",
        "outputId": "54fa8a3f-ae81-4567-a40a-7652a7ec274f"
      },
      "source": [
        "model7.fit(X3_train, y3_train, validation_data=(X3_val, y3_val), epochs=10, callbacks=[cp7])"
      ],
      "execution_count": null,
      "outputs": [
        {
          "output_type": "stream",
          "name": "stdout",
          "text": [
            "Epoch 1/10\n",
            "1875/1875 [==============================] - 4s 2ms/step - loss: 0.1150 - root_mean_squared_error: 0.3390 - val_loss: 0.0223 - val_root_mean_squared_error: 0.1493\n",
            "INFO:tensorflow:Assets written to: model6/assets\n"
          ]
        },
        {
          "output_type": "stream",
          "name": "stderr",
          "text": [
            "INFO:tensorflow:Assets written to: model6/assets\n"
          ]
        },
        {
          "output_type": "stream",
          "name": "stdout",
          "text": [
            "Epoch 2/10\n",
            "1875/1875 [==============================] - 4s 2ms/step - loss: 0.0160 - root_mean_squared_error: 0.1263 - val_loss: 0.0112 - val_root_mean_squared_error: 0.1057\n",
            "INFO:tensorflow:Assets written to: model6/assets\n"
          ]
        },
        {
          "output_type": "stream",
          "name": "stderr",
          "text": [
            "INFO:tensorflow:Assets written to: model6/assets\n"
          ]
        },
        {
          "output_type": "stream",
          "name": "stdout",
          "text": [
            "Epoch 3/10\n",
            "1875/1875 [==============================] - 4s 2ms/step - loss: 0.0099 - root_mean_squared_error: 0.0993 - val_loss: 0.0075 - val_root_mean_squared_error: 0.0869\n",
            "INFO:tensorflow:Assets written to: model6/assets\n"
          ]
        },
        {
          "output_type": "stream",
          "name": "stderr",
          "text": [
            "INFO:tensorflow:Assets written to: model6/assets\n"
          ]
        },
        {
          "output_type": "stream",
          "name": "stdout",
          "text": [
            "Epoch 4/10\n",
            "1875/1875 [==============================] - 4s 2ms/step - loss: 0.0078 - root_mean_squared_error: 0.0886 - val_loss: 0.0061 - val_root_mean_squared_error: 0.0780\n",
            "INFO:tensorflow:Assets written to: model6/assets\n"
          ]
        },
        {
          "output_type": "stream",
          "name": "stderr",
          "text": [
            "INFO:tensorflow:Assets written to: model6/assets\n"
          ]
        },
        {
          "output_type": "stream",
          "name": "stdout",
          "text": [
            "Epoch 5/10\n",
            "1875/1875 [==============================] - 4s 2ms/step - loss: 0.0069 - root_mean_squared_error: 0.0834 - val_loss: 0.0057 - val_root_mean_squared_error: 0.0752\n",
            "INFO:tensorflow:Assets written to: model6/assets\n"
          ]
        },
        {
          "output_type": "stream",
          "name": "stderr",
          "text": [
            "INFO:tensorflow:Assets written to: model6/assets\n"
          ]
        },
        {
          "output_type": "stream",
          "name": "stdout",
          "text": [
            "Epoch 6/10\n",
            "1875/1875 [==============================] - 4s 2ms/step - loss: 0.0064 - root_mean_squared_error: 0.0803 - val_loss: 0.0052 - val_root_mean_squared_error: 0.0721\n",
            "INFO:tensorflow:Assets written to: model6/assets\n"
          ]
        },
        {
          "output_type": "stream",
          "name": "stderr",
          "text": [
            "INFO:tensorflow:Assets written to: model6/assets\n"
          ]
        },
        {
          "output_type": "stream",
          "name": "stdout",
          "text": [
            "Epoch 7/10\n",
            "1875/1875 [==============================] - 4s 2ms/step - loss: 0.0061 - root_mean_squared_error: 0.0783 - val_loss: 0.0048 - val_root_mean_squared_error: 0.0693\n",
            "INFO:tensorflow:Assets written to: model6/assets\n"
          ]
        },
        {
          "output_type": "stream",
          "name": "stderr",
          "text": [
            "INFO:tensorflow:Assets written to: model6/assets\n"
          ]
        },
        {
          "output_type": "stream",
          "name": "stdout",
          "text": [
            "Epoch 8/10\n",
            "1875/1875 [==============================] - 4s 2ms/step - loss: 0.0059 - root_mean_squared_error: 0.0767 - val_loss: 0.0046 - val_root_mean_squared_error: 0.0676\n",
            "INFO:tensorflow:Assets written to: model6/assets\n"
          ]
        },
        {
          "output_type": "stream",
          "name": "stderr",
          "text": [
            "INFO:tensorflow:Assets written to: model6/assets\n"
          ]
        },
        {
          "output_type": "stream",
          "name": "stdout",
          "text": [
            "Epoch 9/10\n",
            "1875/1875 [==============================] - 4s 2ms/step - loss: 0.0057 - root_mean_squared_error: 0.0757 - val_loss: 0.0045 - val_root_mean_squared_error: 0.0669\n",
            "INFO:tensorflow:Assets written to: model6/assets\n"
          ]
        },
        {
          "output_type": "stream",
          "name": "stderr",
          "text": [
            "INFO:tensorflow:Assets written to: model6/assets\n"
          ]
        },
        {
          "output_type": "stream",
          "name": "stdout",
          "text": [
            "Epoch 10/10\n",
            "1875/1875 [==============================] - 4s 2ms/step - loss: 0.0056 - root_mean_squared_error: 0.0749 - val_loss: 0.0044 - val_root_mean_squared_error: 0.0660\n",
            "INFO:tensorflow:Assets written to: model6/assets\n"
          ]
        },
        {
          "output_type": "stream",
          "name": "stderr",
          "text": [
            "INFO:tensorflow:Assets written to: model6/assets\n"
          ]
        },
        {
          "output_type": "execute_result",
          "data": {
            "text/plain": [
              "<keras.callbacks.History at 0x7ff15f60a350>"
            ]
          },
          "metadata": {},
          "execution_count": 101
        }
      ]
    }
  ]
}